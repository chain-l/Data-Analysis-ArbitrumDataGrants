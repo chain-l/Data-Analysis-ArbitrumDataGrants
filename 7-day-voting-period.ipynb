{
 "cells": [
  {
   "cell_type": "code",
   "execution_count": 1,
   "metadata": {},
   "outputs": [],
   "source": [
    "import pandas as pd\n",
    "import numpy as np\n",
    "import matplotlib.pyplot as plt\n",
    "import seaborn as sns\n",
    "import plotly.express as px\n",
    "from datetime import datetime\n",
    "from datetime import timedelta\n",
    "import plotly.graph_objects as go\n",
    "from plotly.subplots import make_subplots\n",
    "import altair as alt\n",
    "from IPython.display import display"
   ]
  },
  {
   "cell_type": "code",
   "execution_count": 2,
   "metadata": {},
   "outputs": [],
   "source": [
    "votes_data = pd.read_csv(r'Votes-count-percentage.csv')"
   ]
  },
  {
   "cell_type": "code",
   "execution_count": 3,
   "metadata": {},
   "outputs": [
    {
     "data": {
      "text/plain": [
       "Index(['proposal_title', 'day1', 'day2', 'day3', 'day4', 'day5', 'day6',\n",
       "       'day7', 'total_votes', 'day1_%', 'day2_%', 'day3_%', 'day4_%', 'day5_%',\n",
       "       'day6_%', 'day7_%'],\n",
       "      dtype='object')"
      ]
     },
     "execution_count": 3,
     "metadata": {},
     "output_type": "execute_result"
    }
   ],
   "source": [
    "votes_data.columns"
   ]
  },
  {
   "cell_type": "markdown",
   "metadata": {},
   "source": [
    "**Dataset Description:**\n",
    "1. **'proposal_title':** Title of the proposal.\n",
    "2. **'day1' through 'day7':** Number of votes received on each of the seven days.\n",
    "3. **'total_votes':** Total number of votes received across all days.\n",
    "4. **'day1_%' through 'day7_%':** Percentage of total votes received on each day."
   ]
  },
  {
   "cell_type": "code",
   "execution_count": 4,
   "metadata": {},
   "outputs": [
    {
     "data": {
      "text/html": [
       "<div>\n",
       "<style scoped>\n",
       "    .dataframe tbody tr th:only-of-type {\n",
       "        vertical-align: middle;\n",
       "    }\n",
       "\n",
       "    .dataframe tbody tr th {\n",
       "        vertical-align: top;\n",
       "    }\n",
       "\n",
       "    .dataframe thead th {\n",
       "        text-align: right;\n",
       "    }\n",
       "</style>\n",
       "<table border=\"1\" class=\"dataframe\">\n",
       "  <thead>\n",
       "    <tr style=\"text-align: right;\">\n",
       "      <th></th>\n",
       "      <th>proposal_title</th>\n",
       "      <th>day1</th>\n",
       "      <th>day2</th>\n",
       "      <th>day3</th>\n",
       "      <th>day4</th>\n",
       "      <th>day5</th>\n",
       "      <th>day6</th>\n",
       "      <th>day7</th>\n",
       "      <th>total_votes</th>\n",
       "      <th>day1_%</th>\n",
       "      <th>day2_%</th>\n",
       "      <th>day3_%</th>\n",
       "      <th>day4_%</th>\n",
       "      <th>day5_%</th>\n",
       "      <th>day6_%</th>\n",
       "      <th>day7_%</th>\n",
       "    </tr>\n",
       "  </thead>\n",
       "  <tbody>\n",
       "    <tr>\n",
       "      <th>0</th>\n",
       "      <td>[Non-Constitutional]: Arbitrum Stable Treasury...</td>\n",
       "      <td>7836</td>\n",
       "      <td>5875</td>\n",
       "      <td>4003</td>\n",
       "      <td>2534</td>\n",
       "      <td>3591</td>\n",
       "      <td>1450</td>\n",
       "      <td>2784</td>\n",
       "      <td>28073</td>\n",
       "      <td>27.91</td>\n",
       "      <td>20.93</td>\n",
       "      <td>14.26</td>\n",
       "      <td>9.03</td>\n",
       "      <td>12.79</td>\n",
       "      <td>5.17</td>\n",
       "      <td>9.92</td>\n",
       "    </tr>\n",
       "    <tr>\n",
       "      <th>1</th>\n",
       "      <td>Procurement Framework | Security : Non-Constit...</td>\n",
       "      <td>12251</td>\n",
       "      <td>9964</td>\n",
       "      <td>7240</td>\n",
       "      <td>8350</td>\n",
       "      <td>7124</td>\n",
       "      <td>3234</td>\n",
       "      <td>2346</td>\n",
       "      <td>50509</td>\n",
       "      <td>24.26</td>\n",
       "      <td>19.73</td>\n",
       "      <td>14.33</td>\n",
       "      <td>16.53</td>\n",
       "      <td>14.10</td>\n",
       "      <td>6.40</td>\n",
       "      <td>4.64</td>\n",
       "    </tr>\n",
       "    <tr>\n",
       "      <th>2</th>\n",
       "      <td>Proposal to Backfund Successful STIP Proposals</td>\n",
       "      <td>16712</td>\n",
       "      <td>8531</td>\n",
       "      <td>5042</td>\n",
       "      <td>4857</td>\n",
       "      <td>3335</td>\n",
       "      <td>4154</td>\n",
       "      <td>2706</td>\n",
       "      <td>45337</td>\n",
       "      <td>36.86</td>\n",
       "      <td>18.82</td>\n",
       "      <td>11.12</td>\n",
       "      <td>10.71</td>\n",
       "      <td>7.36</td>\n",
       "      <td>9.16</td>\n",
       "      <td>5.97</td>\n",
       "    </tr>\n",
       "    <tr>\n",
       "      <th>3</th>\n",
       "      <td>Consolidate Security Proposals into a RFP Process</td>\n",
       "      <td>10848</td>\n",
       "      <td>8725</td>\n",
       "      <td>10083</td>\n",
       "      <td>9104</td>\n",
       "      <td>5558</td>\n",
       "      <td>3424</td>\n",
       "      <td>2274</td>\n",
       "      <td>50016</td>\n",
       "      <td>21.69</td>\n",
       "      <td>17.44</td>\n",
       "      <td>20.16</td>\n",
       "      <td>18.20</td>\n",
       "      <td>11.11</td>\n",
       "      <td>6.85</td>\n",
       "      <td>4.55</td>\n",
       "    </tr>\n",
       "    <tr>\n",
       "      <th>4</th>\n",
       "      <td>UniDex STIP Proposal - Round 1</td>\n",
       "      <td>9902</td>\n",
       "      <td>4992</td>\n",
       "      <td>5396</td>\n",
       "      <td>3432</td>\n",
       "      <td>2810</td>\n",
       "      <td>2333</td>\n",
       "      <td>3637</td>\n",
       "      <td>32502</td>\n",
       "      <td>30.47</td>\n",
       "      <td>15.36</td>\n",
       "      <td>16.60</td>\n",
       "      <td>10.56</td>\n",
       "      <td>8.65</td>\n",
       "      <td>7.18</td>\n",
       "      <td>11.19</td>\n",
       "    </tr>\n",
       "    <tr>\n",
       "      <th>...</th>\n",
       "      <td>...</td>\n",
       "      <td>...</td>\n",
       "      <td>...</td>\n",
       "      <td>...</td>\n",
       "      <td>...</td>\n",
       "      <td>...</td>\n",
       "      <td>...</td>\n",
       "      <td>...</td>\n",
       "      <td>...</td>\n",
       "      <td>...</td>\n",
       "      <td>...</td>\n",
       "      <td>...</td>\n",
       "      <td>...</td>\n",
       "      <td>...</td>\n",
       "      <td>...</td>\n",
       "      <td>...</td>\n",
       "    </tr>\n",
       "    <tr>\n",
       "      <th>109</th>\n",
       "      <td>Proposal: Activate support for account abstrac...</td>\n",
       "      <td>12098</td>\n",
       "      <td>8268</td>\n",
       "      <td>7468</td>\n",
       "      <td>5993</td>\n",
       "      <td>5064</td>\n",
       "      <td>3770</td>\n",
       "      <td>3332</td>\n",
       "      <td>45993</td>\n",
       "      <td>26.30</td>\n",
       "      <td>17.98</td>\n",
       "      <td>16.24</td>\n",
       "      <td>13.03</td>\n",
       "      <td>11.01</td>\n",
       "      <td>8.20</td>\n",
       "      <td>7.24</td>\n",
       "    </tr>\n",
       "    <tr>\n",
       "      <th>110</th>\n",
       "      <td>AIP-1.2 - Foundation and DAO Governance</td>\n",
       "      <td>22617</td>\n",
       "      <td>7762</td>\n",
       "      <td>5298</td>\n",
       "      <td>4026</td>\n",
       "      <td>2817</td>\n",
       "      <td>1976</td>\n",
       "      <td>1748</td>\n",
       "      <td>46244</td>\n",
       "      <td>48.91</td>\n",
       "      <td>16.78</td>\n",
       "      <td>11.46</td>\n",
       "      <td>8.71</td>\n",
       "      <td>6.09</td>\n",
       "      <td>4.27</td>\n",
       "      <td>3.78</td>\n",
       "    </tr>\n",
       "    <tr>\n",
       "      <th>111</th>\n",
       "      <td>AIP-1.1 - Lockup, Budget, Transparency</td>\n",
       "      <td>22456</td>\n",
       "      <td>7760</td>\n",
       "      <td>5579</td>\n",
       "      <td>3477</td>\n",
       "      <td>2700</td>\n",
       "      <td>1549</td>\n",
       "      <td>1702</td>\n",
       "      <td>45223</td>\n",
       "      <td>49.66</td>\n",
       "      <td>17.16</td>\n",
       "      <td>12.34</td>\n",
       "      <td>7.69</td>\n",
       "      <td>5.97</td>\n",
       "      <td>3.43</td>\n",
       "      <td>3.76</td>\n",
       "    </tr>\n",
       "    <tr>\n",
       "      <th>112</th>\n",
       "      <td>AIP 1.05: Return 700M $ARB to the DAO Treasury...</td>\n",
       "      <td>14913</td>\n",
       "      <td>6778</td>\n",
       "      <td>7991</td>\n",
       "      <td>6890</td>\n",
       "      <td>2187</td>\n",
       "      <td>2143</td>\n",
       "      <td>2487</td>\n",
       "      <td>43389</td>\n",
       "      <td>34.37</td>\n",
       "      <td>15.62</td>\n",
       "      <td>18.42</td>\n",
       "      <td>15.88</td>\n",
       "      <td>5.04</td>\n",
       "      <td>4.94</td>\n",
       "      <td>5.73</td>\n",
       "    </tr>\n",
       "    <tr>\n",
       "      <th>113</th>\n",
       "      <td>AIP-1: Arbitrum Improvement Proposal Framework</td>\n",
       "      <td>0</td>\n",
       "      <td>8</td>\n",
       "      <td>13110</td>\n",
       "      <td>3984</td>\n",
       "      <td>2766</td>\n",
       "      <td>4122</td>\n",
       "      <td>2144</td>\n",
       "      <td>26134</td>\n",
       "      <td>0.00</td>\n",
       "      <td>0.03</td>\n",
       "      <td>50.16</td>\n",
       "      <td>15.24</td>\n",
       "      <td>10.58</td>\n",
       "      <td>15.77</td>\n",
       "      <td>8.20</td>\n",
       "    </tr>\n",
       "  </tbody>\n",
       "</table>\n",
       "<p>114 rows × 16 columns</p>\n",
       "</div>"
      ],
      "text/plain": [
       "                                        proposal_title   day1  day2   day3  \\\n",
       "0    [Non-Constitutional]: Arbitrum Stable Treasury...   7836  5875   4003   \n",
       "1    Procurement Framework | Security : Non-Constit...  12251  9964   7240   \n",
       "2       Proposal to Backfund Successful STIP Proposals  16712  8531   5042   \n",
       "3    Consolidate Security Proposals into a RFP Process  10848  8725  10083   \n",
       "4                       UniDex STIP Proposal - Round 1   9902  4992   5396   \n",
       "..                                                 ...    ...   ...    ...   \n",
       "109  Proposal: Activate support for account abstrac...  12098  8268   7468   \n",
       "110            AIP-1.2 - Foundation and DAO Governance  22617  7762   5298   \n",
       "111             AIP-1.1 - Lockup, Budget, Transparency  22456  7760   5579   \n",
       "112  AIP 1.05: Return 700M $ARB to the DAO Treasury...  14913  6778   7991   \n",
       "113     AIP-1: Arbitrum Improvement Proposal Framework      0     8  13110   \n",
       "\n",
       "     day4  day5  day6  day7  total_votes  day1_%  day2_%  day3_%  day4_%  \\\n",
       "0    2534  3591  1450  2784        28073   27.91   20.93   14.26    9.03   \n",
       "1    8350  7124  3234  2346        50509   24.26   19.73   14.33   16.53   \n",
       "2    4857  3335  4154  2706        45337   36.86   18.82   11.12   10.71   \n",
       "3    9104  5558  3424  2274        50016   21.69   17.44   20.16   18.20   \n",
       "4    3432  2810  2333  3637        32502   30.47   15.36   16.60   10.56   \n",
       "..    ...   ...   ...   ...          ...     ...     ...     ...     ...   \n",
       "109  5993  5064  3770  3332        45993   26.30   17.98   16.24   13.03   \n",
       "110  4026  2817  1976  1748        46244   48.91   16.78   11.46    8.71   \n",
       "111  3477  2700  1549  1702        45223   49.66   17.16   12.34    7.69   \n",
       "112  6890  2187  2143  2487        43389   34.37   15.62   18.42   15.88   \n",
       "113  3984  2766  4122  2144        26134    0.00    0.03   50.16   15.24   \n",
       "\n",
       "     day5_%  day6_%  day7_%  \n",
       "0     12.79    5.17    9.92  \n",
       "1     14.10    6.40    4.64  \n",
       "2      7.36    9.16    5.97  \n",
       "3     11.11    6.85    4.55  \n",
       "4      8.65    7.18   11.19  \n",
       "..      ...     ...     ...  \n",
       "109   11.01    8.20    7.24  \n",
       "110    6.09    4.27    3.78  \n",
       "111    5.97    3.43    3.76  \n",
       "112    5.04    4.94    5.73  \n",
       "113   10.58   15.77    8.20  \n",
       "\n",
       "[114 rows x 16 columns]"
      ]
     },
     "execution_count": 4,
     "metadata": {},
     "output_type": "execute_result"
    }
   ],
   "source": [
    "votes_data"
   ]
  },
  {
   "cell_type": "code",
   "execution_count": 5,
   "metadata": {},
   "outputs": [
    {
     "data": {
      "text/html": [
       "<div>\n",
       "<style scoped>\n",
       "    .dataframe tbody tr th:only-of-type {\n",
       "        vertical-align: middle;\n",
       "    }\n",
       "\n",
       "    .dataframe tbody tr th {\n",
       "        vertical-align: top;\n",
       "    }\n",
       "\n",
       "    .dataframe thead th {\n",
       "        text-align: right;\n",
       "    }\n",
       "</style>\n",
       "<table border=\"1\" class=\"dataframe\">\n",
       "  <thead>\n",
       "    <tr style=\"text-align: right;\">\n",
       "      <th></th>\n",
       "      <th>count</th>\n",
       "      <th>mean</th>\n",
       "      <th>std</th>\n",
       "      <th>min</th>\n",
       "      <th>25%</th>\n",
       "      <th>50%</th>\n",
       "      <th>75%</th>\n",
       "      <th>max</th>\n",
       "    </tr>\n",
       "  </thead>\n",
       "  <tbody>\n",
       "    <tr>\n",
       "      <th>day1</th>\n",
       "      <td>114.0</td>\n",
       "      <td>5228.885965</td>\n",
       "      <td>4378.857557</td>\n",
       "      <td>0.00</td>\n",
       "      <td>2596.0000</td>\n",
       "      <td>3189.500</td>\n",
       "      <td>5898.2500</td>\n",
       "      <td>22617.00</td>\n",
       "    </tr>\n",
       "    <tr>\n",
       "      <th>day2</th>\n",
       "      <td>114.0</td>\n",
       "      <td>4041.868421</td>\n",
       "      <td>2098.945515</td>\n",
       "      <td>8.00</td>\n",
       "      <td>3005.5000</td>\n",
       "      <td>3391.000</td>\n",
       "      <td>3745.2500</td>\n",
       "      <td>11468.00</td>\n",
       "    </tr>\n",
       "    <tr>\n",
       "      <th>day3</th>\n",
       "      <td>114.0</td>\n",
       "      <td>3936.228070</td>\n",
       "      <td>1990.944851</td>\n",
       "      <td>2487.00</td>\n",
       "      <td>2654.5000</td>\n",
       "      <td>3273.000</td>\n",
       "      <td>4114.2500</td>\n",
       "      <td>13110.00</td>\n",
       "    </tr>\n",
       "    <tr>\n",
       "      <th>day4</th>\n",
       "      <td>114.0</td>\n",
       "      <td>2792.017544</td>\n",
       "      <td>1392.503806</td>\n",
       "      <td>1930.00</td>\n",
       "      <td>2074.5000</td>\n",
       "      <td>2227.500</td>\n",
       "      <td>2732.5000</td>\n",
       "      <td>9104.00</td>\n",
       "    </tr>\n",
       "    <tr>\n",
       "      <th>day5</th>\n",
       "      <td>114.0</td>\n",
       "      <td>2362.649123</td>\n",
       "      <td>953.602977</td>\n",
       "      <td>1662.00</td>\n",
       "      <td>1856.5000</td>\n",
       "      <td>2055.500</td>\n",
       "      <td>2480.5000</td>\n",
       "      <td>7124.00</td>\n",
       "    </tr>\n",
       "    <tr>\n",
       "      <th>day6</th>\n",
       "      <td>114.0</td>\n",
       "      <td>1886.964912</td>\n",
       "      <td>809.458619</td>\n",
       "      <td>1281.00</td>\n",
       "      <td>1521.2500</td>\n",
       "      <td>1636.500</td>\n",
       "      <td>1924.5000</td>\n",
       "      <td>7582.00</td>\n",
       "    </tr>\n",
       "    <tr>\n",
       "      <th>day7</th>\n",
       "      <td>114.0</td>\n",
       "      <td>2883.087719</td>\n",
       "      <td>792.678830</td>\n",
       "      <td>1702.00</td>\n",
       "      <td>2550.5000</td>\n",
       "      <td>2781.500</td>\n",
       "      <td>3055.0000</td>\n",
       "      <td>8340.00</td>\n",
       "    </tr>\n",
       "    <tr>\n",
       "      <th>total_votes</th>\n",
       "      <td>114.0</td>\n",
       "      <td>23131.701754</td>\n",
       "      <td>10619.548134</td>\n",
       "      <td>15645.00</td>\n",
       "      <td>17021.0000</td>\n",
       "      <td>18067.500</td>\n",
       "      <td>24111.5000</td>\n",
       "      <td>53506.00</td>\n",
       "    </tr>\n",
       "    <tr>\n",
       "      <th>day1_%</th>\n",
       "      <td>114.0</td>\n",
       "      <td>20.392105</td>\n",
       "      <td>7.237902</td>\n",
       "      <td>0.00</td>\n",
       "      <td>15.2950</td>\n",
       "      <td>17.775</td>\n",
       "      <td>24.5075</td>\n",
       "      <td>49.66</td>\n",
       "    </tr>\n",
       "    <tr>\n",
       "      <th>day2_%</th>\n",
       "      <td>114.0</td>\n",
       "      <td>17.600877</td>\n",
       "      <td>3.498727</td>\n",
       "      <td>0.03</td>\n",
       "      <td>15.4575</td>\n",
       "      <td>17.735</td>\n",
       "      <td>20.8900</td>\n",
       "      <td>23.63</td>\n",
       "    </tr>\n",
       "    <tr>\n",
       "      <th>day3_%</th>\n",
       "      <td>114.0</td>\n",
       "      <td>17.083333</td>\n",
       "      <td>3.563986</td>\n",
       "      <td>11.12</td>\n",
       "      <td>15.5350</td>\n",
       "      <td>16.900</td>\n",
       "      <td>18.0650</td>\n",
       "      <td>50.16</td>\n",
       "    </tr>\n",
       "    <tr>\n",
       "      <th>day4_%</th>\n",
       "      <td>114.0</td>\n",
       "      <td>12.114825</td>\n",
       "      <td>1.333338</td>\n",
       "      <td>7.69</td>\n",
       "      <td>11.5875</td>\n",
       "      <td>12.025</td>\n",
       "      <td>12.6850</td>\n",
       "      <td>18.20</td>\n",
       "    </tr>\n",
       "    <tr>\n",
       "      <th>day5_%</th>\n",
       "      <td>114.0</td>\n",
       "      <td>10.589298</td>\n",
       "      <td>1.520664</td>\n",
       "      <td>5.04</td>\n",
       "      <td>10.2150</td>\n",
       "      <td>10.880</td>\n",
       "      <td>11.3900</td>\n",
       "      <td>14.10</td>\n",
       "    </tr>\n",
       "    <tr>\n",
       "      <th>day6_%</th>\n",
       "      <td>114.0</td>\n",
       "      <td>8.475789</td>\n",
       "      <td>1.544058</td>\n",
       "      <td>3.43</td>\n",
       "      <td>7.8750</td>\n",
       "      <td>8.470</td>\n",
       "      <td>9.1500</td>\n",
       "      <td>15.77</td>\n",
       "    </tr>\n",
       "    <tr>\n",
       "      <th>day7_%</th>\n",
       "      <td>114.0</td>\n",
       "      <td>13.743772</td>\n",
       "      <td>3.435119</td>\n",
       "      <td>3.76</td>\n",
       "      <td>13.0850</td>\n",
       "      <td>14.360</td>\n",
       "      <td>16.1925</td>\n",
       "      <td>18.87</td>\n",
       "    </tr>\n",
       "  </tbody>\n",
       "</table>\n",
       "</div>"
      ],
      "text/plain": [
       "             count          mean           std       min         25%  \\\n",
       "day1         114.0   5228.885965   4378.857557      0.00   2596.0000   \n",
       "day2         114.0   4041.868421   2098.945515      8.00   3005.5000   \n",
       "day3         114.0   3936.228070   1990.944851   2487.00   2654.5000   \n",
       "day4         114.0   2792.017544   1392.503806   1930.00   2074.5000   \n",
       "day5         114.0   2362.649123    953.602977   1662.00   1856.5000   \n",
       "day6         114.0   1886.964912    809.458619   1281.00   1521.2500   \n",
       "day7         114.0   2883.087719    792.678830   1702.00   2550.5000   \n",
       "total_votes  114.0  23131.701754  10619.548134  15645.00  17021.0000   \n",
       "day1_%       114.0     20.392105      7.237902      0.00     15.2950   \n",
       "day2_%       114.0     17.600877      3.498727      0.03     15.4575   \n",
       "day3_%       114.0     17.083333      3.563986     11.12     15.5350   \n",
       "day4_%       114.0     12.114825      1.333338      7.69     11.5875   \n",
       "day5_%       114.0     10.589298      1.520664      5.04     10.2150   \n",
       "day6_%       114.0      8.475789      1.544058      3.43      7.8750   \n",
       "day7_%       114.0     13.743772      3.435119      3.76     13.0850   \n",
       "\n",
       "                   50%         75%       max  \n",
       "day1          3189.500   5898.2500  22617.00  \n",
       "day2          3391.000   3745.2500  11468.00  \n",
       "day3          3273.000   4114.2500  13110.00  \n",
       "day4          2227.500   2732.5000   9104.00  \n",
       "day5          2055.500   2480.5000   7124.00  \n",
       "day6          1636.500   1924.5000   7582.00  \n",
       "day7          2781.500   3055.0000   8340.00  \n",
       "total_votes  18067.500  24111.5000  53506.00  \n",
       "day1_%          17.775     24.5075     49.66  \n",
       "day2_%          17.735     20.8900     23.63  \n",
       "day3_%          16.900     18.0650     50.16  \n",
       "day4_%          12.025     12.6850     18.20  \n",
       "day5_%          10.880     11.3900     14.10  \n",
       "day6_%           8.470      9.1500     15.77  \n",
       "day7_%          14.360     16.1925     18.87  "
      ]
     },
     "execution_count": 5,
     "metadata": {},
     "output_type": "execute_result"
    }
   ],
   "source": [
    "votes_data.describe().T"
   ]
  },
  {
   "cell_type": "markdown",
   "metadata": {},
   "source": [
    "## Proposal with Highest Votes on Last Day:"
   ]
  },
  {
   "cell_type": "code",
   "execution_count": 6,
   "metadata": {},
   "outputs": [
    {
     "name": "stdout",
     "output_type": "stream",
     "text": [
      "Proposals with the highest votes on day7:\n"
     ]
    },
    {
     "data": {
      "text/plain": [
       "['Guru Network STIP Proposal - Round 1', 'unshETH STIP Proposal - Round 1']"
      ]
     },
     "execution_count": 6,
     "metadata": {},
     "output_type": "execute_result"
    }
   ],
   "source": [
    "# Check if the votes on day 7 are the highest compared to all other days\n",
    "highest_votes_day7 = votes_data[votes_data['day7'] > votes_data[['day1', 'day2', 'day3', 'day4', 'day5', 'day6']].max(axis=1)]['proposal_title'].tolist()\n",
    "\n",
    "print(\"Proposals with the highest votes on day7:\")\n",
    "highest_votes_day7"
   ]
  },
  {
   "cell_type": "code",
   "execution_count": 7,
   "metadata": {},
   "outputs": [
    {
     "data": {
      "application/vnd.plotly.v1+json": {
       "config": {
        "plotlyServerURL": "https://plot.ly"
       },
       "data": [
        {
         "hovertemplate": "proposal_title=Guru Network STIP Proposal - Round 1<br>day=%{x}<br>counts=%{y}<extra></extra>",
         "legendgroup": "Guru Network STIP Proposal - Round 1",
         "line": {
          "color": "#636efa",
          "dash": "solid"
         },
         "marker": {
          "symbol": "circle"
         },
         "mode": "lines+markers",
         "name": "Guru Network STIP Proposal - Round 1",
         "orientation": "v",
         "showlegend": true,
         "type": "scatter",
         "x": [
          "day1",
          "day2",
          "day3",
          "day4",
          "day5",
          "day6",
          "day7"
         ],
         "xaxis": "x",
         "y": [
          2429,
          3027,
          2771,
          2013,
          1795,
          1355,
          3095
         ],
         "yaxis": "y"
        },
        {
         "hovertemplate": "proposal_title=unshETH STIP Proposal - Round 1<br>day=%{x}<br>counts=%{y}<extra></extra>",
         "legendgroup": "unshETH STIP Proposal - Round 1",
         "line": {
          "color": "#EF553B",
          "dash": "solid"
         },
         "marker": {
          "symbol": "circle"
         },
         "mode": "lines+markers",
         "name": "unshETH STIP Proposal - Round 1",
         "orientation": "v",
         "showlegend": true,
         "type": "scatter",
         "x": [
          "day1",
          "day2",
          "day3",
          "day4",
          "day5",
          "day6",
          "day7"
         ],
         "xaxis": "x",
         "y": [
          2418,
          2982,
          2791,
          1969,
          1826,
          1362,
          3104
         ],
         "yaxis": "y"
        }
       ],
       "layout": {
        "legend": {
         "title": {
          "text": "proposal_title"
         },
         "tracegroupgap": 0
        },
        "template": {
         "data": {
          "bar": [
           {
            "error_x": {
             "color": "#2a3f5f"
            },
            "error_y": {
             "color": "#2a3f5f"
            },
            "marker": {
             "line": {
              "color": "#E5ECF6",
              "width": 0.5
             },
             "pattern": {
              "fillmode": "overlay",
              "size": 10,
              "solidity": 0.2
             }
            },
            "type": "bar"
           }
          ],
          "barpolar": [
           {
            "marker": {
             "line": {
              "color": "#E5ECF6",
              "width": 0.5
             },
             "pattern": {
              "fillmode": "overlay",
              "size": 10,
              "solidity": 0.2
             }
            },
            "type": "barpolar"
           }
          ],
          "carpet": [
           {
            "aaxis": {
             "endlinecolor": "#2a3f5f",
             "gridcolor": "white",
             "linecolor": "white",
             "minorgridcolor": "white",
             "startlinecolor": "#2a3f5f"
            },
            "baxis": {
             "endlinecolor": "#2a3f5f",
             "gridcolor": "white",
             "linecolor": "white",
             "minorgridcolor": "white",
             "startlinecolor": "#2a3f5f"
            },
            "type": "carpet"
           }
          ],
          "choropleth": [
           {
            "colorbar": {
             "outlinewidth": 0,
             "ticks": ""
            },
            "type": "choropleth"
           }
          ],
          "contour": [
           {
            "colorbar": {
             "outlinewidth": 0,
             "ticks": ""
            },
            "colorscale": [
             [
              0,
              "#0d0887"
             ],
             [
              0.1111111111111111,
              "#46039f"
             ],
             [
              0.2222222222222222,
              "#7201a8"
             ],
             [
              0.3333333333333333,
              "#9c179e"
             ],
             [
              0.4444444444444444,
              "#bd3786"
             ],
             [
              0.5555555555555556,
              "#d8576b"
             ],
             [
              0.6666666666666666,
              "#ed7953"
             ],
             [
              0.7777777777777778,
              "#fb9f3a"
             ],
             [
              0.8888888888888888,
              "#fdca26"
             ],
             [
              1,
              "#f0f921"
             ]
            ],
            "type": "contour"
           }
          ],
          "contourcarpet": [
           {
            "colorbar": {
             "outlinewidth": 0,
             "ticks": ""
            },
            "type": "contourcarpet"
           }
          ],
          "heatmap": [
           {
            "colorbar": {
             "outlinewidth": 0,
             "ticks": ""
            },
            "colorscale": [
             [
              0,
              "#0d0887"
             ],
             [
              0.1111111111111111,
              "#46039f"
             ],
             [
              0.2222222222222222,
              "#7201a8"
             ],
             [
              0.3333333333333333,
              "#9c179e"
             ],
             [
              0.4444444444444444,
              "#bd3786"
             ],
             [
              0.5555555555555556,
              "#d8576b"
             ],
             [
              0.6666666666666666,
              "#ed7953"
             ],
             [
              0.7777777777777778,
              "#fb9f3a"
             ],
             [
              0.8888888888888888,
              "#fdca26"
             ],
             [
              1,
              "#f0f921"
             ]
            ],
            "type": "heatmap"
           }
          ],
          "heatmapgl": [
           {
            "colorbar": {
             "outlinewidth": 0,
             "ticks": ""
            },
            "colorscale": [
             [
              0,
              "#0d0887"
             ],
             [
              0.1111111111111111,
              "#46039f"
             ],
             [
              0.2222222222222222,
              "#7201a8"
             ],
             [
              0.3333333333333333,
              "#9c179e"
             ],
             [
              0.4444444444444444,
              "#bd3786"
             ],
             [
              0.5555555555555556,
              "#d8576b"
             ],
             [
              0.6666666666666666,
              "#ed7953"
             ],
             [
              0.7777777777777778,
              "#fb9f3a"
             ],
             [
              0.8888888888888888,
              "#fdca26"
             ],
             [
              1,
              "#f0f921"
             ]
            ],
            "type": "heatmapgl"
           }
          ],
          "histogram": [
           {
            "marker": {
             "pattern": {
              "fillmode": "overlay",
              "size": 10,
              "solidity": 0.2
             }
            },
            "type": "histogram"
           }
          ],
          "histogram2d": [
           {
            "colorbar": {
             "outlinewidth": 0,
             "ticks": ""
            },
            "colorscale": [
             [
              0,
              "#0d0887"
             ],
             [
              0.1111111111111111,
              "#46039f"
             ],
             [
              0.2222222222222222,
              "#7201a8"
             ],
             [
              0.3333333333333333,
              "#9c179e"
             ],
             [
              0.4444444444444444,
              "#bd3786"
             ],
             [
              0.5555555555555556,
              "#d8576b"
             ],
             [
              0.6666666666666666,
              "#ed7953"
             ],
             [
              0.7777777777777778,
              "#fb9f3a"
             ],
             [
              0.8888888888888888,
              "#fdca26"
             ],
             [
              1,
              "#f0f921"
             ]
            ],
            "type": "histogram2d"
           }
          ],
          "histogram2dcontour": [
           {
            "colorbar": {
             "outlinewidth": 0,
             "ticks": ""
            },
            "colorscale": [
             [
              0,
              "#0d0887"
             ],
             [
              0.1111111111111111,
              "#46039f"
             ],
             [
              0.2222222222222222,
              "#7201a8"
             ],
             [
              0.3333333333333333,
              "#9c179e"
             ],
             [
              0.4444444444444444,
              "#bd3786"
             ],
             [
              0.5555555555555556,
              "#d8576b"
             ],
             [
              0.6666666666666666,
              "#ed7953"
             ],
             [
              0.7777777777777778,
              "#fb9f3a"
             ],
             [
              0.8888888888888888,
              "#fdca26"
             ],
             [
              1,
              "#f0f921"
             ]
            ],
            "type": "histogram2dcontour"
           }
          ],
          "mesh3d": [
           {
            "colorbar": {
             "outlinewidth": 0,
             "ticks": ""
            },
            "type": "mesh3d"
           }
          ],
          "parcoords": [
           {
            "line": {
             "colorbar": {
              "outlinewidth": 0,
              "ticks": ""
             }
            },
            "type": "parcoords"
           }
          ],
          "pie": [
           {
            "automargin": true,
            "type": "pie"
           }
          ],
          "scatter": [
           {
            "fillpattern": {
             "fillmode": "overlay",
             "size": 10,
             "solidity": 0.2
            },
            "type": "scatter"
           }
          ],
          "scatter3d": [
           {
            "line": {
             "colorbar": {
              "outlinewidth": 0,
              "ticks": ""
             }
            },
            "marker": {
             "colorbar": {
              "outlinewidth": 0,
              "ticks": ""
             }
            },
            "type": "scatter3d"
           }
          ],
          "scattercarpet": [
           {
            "marker": {
             "colorbar": {
              "outlinewidth": 0,
              "ticks": ""
             }
            },
            "type": "scattercarpet"
           }
          ],
          "scattergeo": [
           {
            "marker": {
             "colorbar": {
              "outlinewidth": 0,
              "ticks": ""
             }
            },
            "type": "scattergeo"
           }
          ],
          "scattergl": [
           {
            "marker": {
             "colorbar": {
              "outlinewidth": 0,
              "ticks": ""
             }
            },
            "type": "scattergl"
           }
          ],
          "scattermapbox": [
           {
            "marker": {
             "colorbar": {
              "outlinewidth": 0,
              "ticks": ""
             }
            },
            "type": "scattermapbox"
           }
          ],
          "scatterpolar": [
           {
            "marker": {
             "colorbar": {
              "outlinewidth": 0,
              "ticks": ""
             }
            },
            "type": "scatterpolar"
           }
          ],
          "scatterpolargl": [
           {
            "marker": {
             "colorbar": {
              "outlinewidth": 0,
              "ticks": ""
             }
            },
            "type": "scatterpolargl"
           }
          ],
          "scatterternary": [
           {
            "marker": {
             "colorbar": {
              "outlinewidth": 0,
              "ticks": ""
             }
            },
            "type": "scatterternary"
           }
          ],
          "surface": [
           {
            "colorbar": {
             "outlinewidth": 0,
             "ticks": ""
            },
            "colorscale": [
             [
              0,
              "#0d0887"
             ],
             [
              0.1111111111111111,
              "#46039f"
             ],
             [
              0.2222222222222222,
              "#7201a8"
             ],
             [
              0.3333333333333333,
              "#9c179e"
             ],
             [
              0.4444444444444444,
              "#bd3786"
             ],
             [
              0.5555555555555556,
              "#d8576b"
             ],
             [
              0.6666666666666666,
              "#ed7953"
             ],
             [
              0.7777777777777778,
              "#fb9f3a"
             ],
             [
              0.8888888888888888,
              "#fdca26"
             ],
             [
              1,
              "#f0f921"
             ]
            ],
            "type": "surface"
           }
          ],
          "table": [
           {
            "cells": {
             "fill": {
              "color": "#EBF0F8"
             },
             "line": {
              "color": "white"
             }
            },
            "header": {
             "fill": {
              "color": "#C8D4E3"
             },
             "line": {
              "color": "white"
             }
            },
            "type": "table"
           }
          ]
         },
         "layout": {
          "annotationdefaults": {
           "arrowcolor": "#2a3f5f",
           "arrowhead": 0,
           "arrowwidth": 1
          },
          "autotypenumbers": "strict",
          "coloraxis": {
           "colorbar": {
            "outlinewidth": 0,
            "ticks": ""
           }
          },
          "colorscale": {
           "diverging": [
            [
             0,
             "#8e0152"
            ],
            [
             0.1,
             "#c51b7d"
            ],
            [
             0.2,
             "#de77ae"
            ],
            [
             0.3,
             "#f1b6da"
            ],
            [
             0.4,
             "#fde0ef"
            ],
            [
             0.5,
             "#f7f7f7"
            ],
            [
             0.6,
             "#e6f5d0"
            ],
            [
             0.7,
             "#b8e186"
            ],
            [
             0.8,
             "#7fbc41"
            ],
            [
             0.9,
             "#4d9221"
            ],
            [
             1,
             "#276419"
            ]
           ],
           "sequential": [
            [
             0,
             "#0d0887"
            ],
            [
             0.1111111111111111,
             "#46039f"
            ],
            [
             0.2222222222222222,
             "#7201a8"
            ],
            [
             0.3333333333333333,
             "#9c179e"
            ],
            [
             0.4444444444444444,
             "#bd3786"
            ],
            [
             0.5555555555555556,
             "#d8576b"
            ],
            [
             0.6666666666666666,
             "#ed7953"
            ],
            [
             0.7777777777777778,
             "#fb9f3a"
            ],
            [
             0.8888888888888888,
             "#fdca26"
            ],
            [
             1,
             "#f0f921"
            ]
           ],
           "sequentialminus": [
            [
             0,
             "#0d0887"
            ],
            [
             0.1111111111111111,
             "#46039f"
            ],
            [
             0.2222222222222222,
             "#7201a8"
            ],
            [
             0.3333333333333333,
             "#9c179e"
            ],
            [
             0.4444444444444444,
             "#bd3786"
            ],
            [
             0.5555555555555556,
             "#d8576b"
            ],
            [
             0.6666666666666666,
             "#ed7953"
            ],
            [
             0.7777777777777778,
             "#fb9f3a"
            ],
            [
             0.8888888888888888,
             "#fdca26"
            ],
            [
             1,
             "#f0f921"
            ]
           ]
          },
          "colorway": [
           "#636efa",
           "#EF553B",
           "#00cc96",
           "#ab63fa",
           "#FFA15A",
           "#19d3f3",
           "#FF6692",
           "#B6E880",
           "#FF97FF",
           "#FECB52"
          ],
          "font": {
           "color": "#2a3f5f"
          },
          "geo": {
           "bgcolor": "white",
           "lakecolor": "white",
           "landcolor": "#E5ECF6",
           "showlakes": true,
           "showland": true,
           "subunitcolor": "white"
          },
          "hoverlabel": {
           "align": "left"
          },
          "hovermode": "closest",
          "mapbox": {
           "style": "light"
          },
          "paper_bgcolor": "white",
          "plot_bgcolor": "#E5ECF6",
          "polar": {
           "angularaxis": {
            "gridcolor": "white",
            "linecolor": "white",
            "ticks": ""
           },
           "bgcolor": "#E5ECF6",
           "radialaxis": {
            "gridcolor": "white",
            "linecolor": "white",
            "ticks": ""
           }
          },
          "scene": {
           "xaxis": {
            "backgroundcolor": "#E5ECF6",
            "gridcolor": "white",
            "gridwidth": 2,
            "linecolor": "white",
            "showbackground": true,
            "ticks": "",
            "zerolinecolor": "white"
           },
           "yaxis": {
            "backgroundcolor": "#E5ECF6",
            "gridcolor": "white",
            "gridwidth": 2,
            "linecolor": "white",
            "showbackground": true,
            "ticks": "",
            "zerolinecolor": "white"
           },
           "zaxis": {
            "backgroundcolor": "#E5ECF6",
            "gridcolor": "white",
            "gridwidth": 2,
            "linecolor": "white",
            "showbackground": true,
            "ticks": "",
            "zerolinecolor": "white"
           }
          },
          "shapedefaults": {
           "line": {
            "color": "#2a3f5f"
           }
          },
          "ternary": {
           "aaxis": {
            "gridcolor": "white",
            "linecolor": "white",
            "ticks": ""
           },
           "baxis": {
            "gridcolor": "white",
            "linecolor": "white",
            "ticks": ""
           },
           "bgcolor": "#E5ECF6",
           "caxis": {
            "gridcolor": "white",
            "linecolor": "white",
            "ticks": ""
           }
          },
          "title": {
           "x": 0.05
          },
          "xaxis": {
           "automargin": true,
           "gridcolor": "white",
           "linecolor": "white",
           "ticks": "",
           "title": {
            "standoff": 15
           },
           "zerolinecolor": "white",
           "zerolinewidth": 2
          },
          "yaxis": {
           "automargin": true,
           "gridcolor": "white",
           "linecolor": "white",
           "ticks": "",
           "title": {
            "standoff": 15
           },
           "zerolinecolor": "white",
           "zerolinewidth": 2
          }
         }
        },
        "title": {
         "text": "Proposals with Highest Votes on Day7"
        },
        "xaxis": {
         "anchor": "y",
         "domain": [
          0,
          1
         ],
         "title": {
          "text": "Days"
         }
        },
        "yaxis": {
         "anchor": "x",
         "domain": [
          0,
          1
         ],
         "title": {
          "text": "Counts"
         }
        }
       }
      }
     },
     "metadata": {},
     "output_type": "display_data"
    }
   ],
   "source": [
    "data = votes_data[['proposal_title', 'day1', 'day2', 'day3', 'day4', 'day5', 'day6', 'day7']]\n",
    "\n",
    "# Filter DataFrame to include only proposals with highest votes on day7\n",
    "filtered_df = data[data['proposal_title'].isin(highest_votes_day7)]\n",
    "\n",
    "# Melt the DataFrame to long format\n",
    "melted_df = filtered_df.melt(id_vars='proposal_title', var_name='day', value_name='counts')\n",
    "\n",
    "# Plot interactive line chart\n",
    "fig = px.line(melted_df, x='day', y='counts', color='proposal_title', markers='o', title='Proposals with Highest Votes on Day7')\n",
    "fig.update_layout(xaxis_title='Days', yaxis_title='Counts')\n",
    "fig.show()\n",
    "fig.write_html(r'Graphs\\max-votes-day7.html')"
   ]
  },
  {
   "cell_type": "markdown",
   "metadata": {},
   "source": [
    "Verifying the above results."
   ]
  },
  {
   "cell_type": "code",
   "execution_count": 8,
   "metadata": {},
   "outputs": [
    {
     "data": {
      "text/html": [
       "<div>\n",
       "<style scoped>\n",
       "    .dataframe tbody tr th:only-of-type {\n",
       "        vertical-align: middle;\n",
       "    }\n",
       "\n",
       "    .dataframe tbody tr th {\n",
       "        vertical-align: top;\n",
       "    }\n",
       "\n",
       "    .dataframe thead th {\n",
       "        text-align: right;\n",
       "    }\n",
       "</style>\n",
       "<table border=\"1\" class=\"dataframe\">\n",
       "  <thead>\n",
       "    <tr style=\"text-align: right;\">\n",
       "      <th></th>\n",
       "      <th>proposal_title</th>\n",
       "      <th>day1</th>\n",
       "      <th>day2</th>\n",
       "      <th>day3</th>\n",
       "      <th>day4</th>\n",
       "      <th>day5</th>\n",
       "      <th>day6</th>\n",
       "      <th>day7</th>\n",
       "      <th>total_votes</th>\n",
       "      <th>day1_%</th>\n",
       "      <th>day2_%</th>\n",
       "      <th>day3_%</th>\n",
       "      <th>day4_%</th>\n",
       "      <th>day5_%</th>\n",
       "      <th>day6_%</th>\n",
       "      <th>day7_%</th>\n",
       "    </tr>\n",
       "  </thead>\n",
       "  <tbody>\n",
       "    <tr>\n",
       "      <th>90</th>\n",
       "      <td>Guru Network STIP Proposal - Round 1</td>\n",
       "      <td>2429</td>\n",
       "      <td>3027</td>\n",
       "      <td>2771</td>\n",
       "      <td>2013</td>\n",
       "      <td>1795</td>\n",
       "      <td>1355</td>\n",
       "      <td>3095</td>\n",
       "      <td>16485</td>\n",
       "      <td>14.73</td>\n",
       "      <td>18.36</td>\n",
       "      <td>16.81</td>\n",
       "      <td>12.21</td>\n",
       "      <td>10.89</td>\n",
       "      <td>8.22</td>\n",
       "      <td>18.77</td>\n",
       "    </tr>\n",
       "  </tbody>\n",
       "</table>\n",
       "</div>"
      ],
      "text/plain": [
       "                          proposal_title  day1  day2  day3  day4  day5  day6  \\\n",
       "90  Guru Network STIP Proposal - Round 1  2429  3027  2771  2013  1795  1355   \n",
       "\n",
       "    day7  total_votes  day1_%  day2_%  day3_%  day4_%  day5_%  day6_%  day7_%  \n",
       "90  3095        16485   14.73   18.36   16.81   12.21   10.89    8.22   18.77  "
      ]
     },
     "execution_count": 8,
     "metadata": {},
     "output_type": "execute_result"
    }
   ],
   "source": [
    "votes_data[votes_data['proposal_title'] == 'Guru Network STIP Proposal - Round 1']"
   ]
  },
  {
   "cell_type": "code",
   "execution_count": 9,
   "metadata": {},
   "outputs": [
    {
     "data": {
      "text/html": [
       "<div>\n",
       "<style scoped>\n",
       "    .dataframe tbody tr th:only-of-type {\n",
       "        vertical-align: middle;\n",
       "    }\n",
       "\n",
       "    .dataframe tbody tr th {\n",
       "        vertical-align: top;\n",
       "    }\n",
       "\n",
       "    .dataframe thead th {\n",
       "        text-align: right;\n",
       "    }\n",
       "</style>\n",
       "<table border=\"1\" class=\"dataframe\">\n",
       "  <thead>\n",
       "    <tr style=\"text-align: right;\">\n",
       "      <th></th>\n",
       "      <th>proposal_title</th>\n",
       "      <th>day1</th>\n",
       "      <th>day2</th>\n",
       "      <th>day3</th>\n",
       "      <th>day4</th>\n",
       "      <th>day5</th>\n",
       "      <th>day6</th>\n",
       "      <th>day7</th>\n",
       "      <th>total_votes</th>\n",
       "      <th>day1_%</th>\n",
       "      <th>day2_%</th>\n",
       "      <th>day3_%</th>\n",
       "      <th>day4_%</th>\n",
       "      <th>day5_%</th>\n",
       "      <th>day6_%</th>\n",
       "      <th>day7_%</th>\n",
       "    </tr>\n",
       "  </thead>\n",
       "  <tbody>\n",
       "    <tr>\n",
       "      <th>91</th>\n",
       "      <td>unshETH STIP Proposal - Round 1</td>\n",
       "      <td>2418</td>\n",
       "      <td>2982</td>\n",
       "      <td>2791</td>\n",
       "      <td>1969</td>\n",
       "      <td>1826</td>\n",
       "      <td>1362</td>\n",
       "      <td>3104</td>\n",
       "      <td>16452</td>\n",
       "      <td>14.7</td>\n",
       "      <td>18.13</td>\n",
       "      <td>16.96</td>\n",
       "      <td>11.97</td>\n",
       "      <td>11.1</td>\n",
       "      <td>8.28</td>\n",
       "      <td>18.87</td>\n",
       "    </tr>\n",
       "  </tbody>\n",
       "</table>\n",
       "</div>"
      ],
      "text/plain": [
       "                     proposal_title  day1  day2  day3  day4  day5  day6  day7  \\\n",
       "91  unshETH STIP Proposal - Round 1  2418  2982  2791  1969  1826  1362  3104   \n",
       "\n",
       "    total_votes  day1_%  day2_%  day3_%  day4_%  day5_%  day6_%  day7_%  \n",
       "91        16452    14.7   18.13   16.96   11.97    11.1    8.28   18.87  "
      ]
     },
     "execution_count": 9,
     "metadata": {},
     "output_type": "execute_result"
    }
   ],
   "source": [
    "votes_data[votes_data['proposal_title'] == 'unshETH STIP Proposal - Round 1']"
   ]
  },
  {
   "cell_type": "markdown",
   "metadata": {},
   "source": [
    "## Proposal with Lowest Votes on Last Day:"
   ]
  },
  {
   "cell_type": "code",
   "execution_count": 10,
   "metadata": {},
   "outputs": [
    {
     "name": "stdout",
     "output_type": "stream",
     "text": [
      "Proposals with the lowest votes on day7:\n"
     ]
    },
    {
     "data": {
      "text/plain": [
       "['Procurement Framework | Security : Non-Constitutional Proposal',\n",
       " 'Proposal to Backfund Successful STIP Proposals',\n",
       " 'Consolidate Security Proposals into a RFP Process',\n",
       " 'Proposal to onboard Matrixed.Link as a validator for Arbitrum',\n",
       " 'Proposal: Security Council Elections Proposed Implementation Spec',\n",
       " 'Proposal: Update Security Council Election Start Date to Ensure Time for Security Audit',\n",
       " 'Proposal: Activate support for account abstraction endpoint on One and Nova',\n",
       " 'AIP-1.2 - Foundation and DAO Governance']"
      ]
     },
     "execution_count": 10,
     "metadata": {},
     "output_type": "execute_result"
    }
   ],
   "source": [
    "# Check if the votes on day 7 are the lowest compared to all other days\n",
    "lowest_votes_day7 = votes_data[votes_data['day7'] < votes_data[['day1', 'day2', 'day3', 'day4', 'day5', 'day6']].min(axis=1)]['proposal_title'].tolist()\n",
    "\n",
    "print(\"Proposals with the lowest votes on day7:\")\n",
    "lowest_votes_day7"
   ]
  },
  {
   "cell_type": "code",
   "execution_count": 11,
   "metadata": {},
   "outputs": [
    {
     "data": {
      "application/vnd.plotly.v1+json": {
       "config": {
        "plotlyServerURL": "https://plot.ly"
       },
       "data": [
        {
         "hovertemplate": "proposal_title=Procurement Framework | Security : Non-Constitutional Proposal<br>day=%{x}<br>counts=%{y}<extra></extra>",
         "legendgroup": "Procurement Framework | Security : Non-Constitutional Proposal",
         "line": {
          "color": "#636efa",
          "dash": "solid"
         },
         "marker": {
          "symbol": "circle"
         },
         "mode": "lines+markers",
         "name": "Procurement Framework | Security : Non-Constitutional Proposal",
         "orientation": "v",
         "showlegend": true,
         "type": "scatter",
         "x": [
          "day1",
          "day2",
          "day3",
          "day4",
          "day5",
          "day6",
          "day7"
         ],
         "xaxis": "x",
         "y": [
          12251,
          9964,
          7240,
          8350,
          7124,
          3234,
          2346
         ],
         "yaxis": "y"
        },
        {
         "hovertemplate": "proposal_title=Proposal to Backfund Successful STIP Proposals<br>day=%{x}<br>counts=%{y}<extra></extra>",
         "legendgroup": "Proposal to Backfund Successful STIP Proposals",
         "line": {
          "color": "#EF553B",
          "dash": "solid"
         },
         "marker": {
          "symbol": "circle"
         },
         "mode": "lines+markers",
         "name": "Proposal to Backfund Successful STIP Proposals",
         "orientation": "v",
         "showlegend": true,
         "type": "scatter",
         "x": [
          "day1",
          "day2",
          "day3",
          "day4",
          "day5",
          "day6",
          "day7"
         ],
         "xaxis": "x",
         "y": [
          16712,
          8531,
          5042,
          4857,
          3335,
          4154,
          2706
         ],
         "yaxis": "y"
        },
        {
         "hovertemplate": "proposal_title=Consolidate Security Proposals into a RFP Process<br>day=%{x}<br>counts=%{y}<extra></extra>",
         "legendgroup": "Consolidate Security Proposals into a RFP Process",
         "line": {
          "color": "#00cc96",
          "dash": "solid"
         },
         "marker": {
          "symbol": "circle"
         },
         "mode": "lines+markers",
         "name": "Consolidate Security Proposals into a RFP Process",
         "orientation": "v",
         "showlegend": true,
         "type": "scatter",
         "x": [
          "day1",
          "day2",
          "day3",
          "day4",
          "day5",
          "day6",
          "day7"
         ],
         "xaxis": "x",
         "y": [
          10848,
          8725,
          10083,
          9104,
          5558,
          3424,
          2274
         ],
         "yaxis": "y"
        },
        {
         "hovertemplate": "proposal_title=Proposal to onboard Matrixed.Link as a validator for Arbitrum<br>day=%{x}<br>counts=%{y}<extra></extra>",
         "legendgroup": "Proposal to onboard Matrixed.Link as a validator for Arbitrum",
         "line": {
          "color": "#ab63fa",
          "dash": "solid"
         },
         "marker": {
          "symbol": "circle"
         },
         "mode": "lines+markers",
         "name": "Proposal to onboard Matrixed.Link as a validator for Arbitrum",
         "orientation": "v",
         "showlegend": true,
         "type": "scatter",
         "x": [
          "day1",
          "day2",
          "day3",
          "day4",
          "day5",
          "day6",
          "day7"
         ],
         "xaxis": "x",
         "y": [
          18386,
          9939,
          5953,
          3742,
          2601,
          2691,
          1764
         ],
         "yaxis": "y"
        },
        {
         "hovertemplate": "proposal_title=Proposal: Security Council Elections Proposed Implementation Spec<br>day=%{x}<br>counts=%{y}<extra></extra>",
         "legendgroup": "Proposal: Security Council Elections Proposed Implementation Spec",
         "line": {
          "color": "#FFA15A",
          "dash": "solid"
         },
         "marker": {
          "symbol": "circle"
         },
         "mode": "lines+markers",
         "name": "Proposal: Security Council Elections Proposed Implementation Spec",
         "orientation": "v",
         "showlegend": true,
         "type": "scatter",
         "x": [
          "day1",
          "day2",
          "day3",
          "day4",
          "day5",
          "day6",
          "day7"
         ],
         "xaxis": "x",
         "y": [
          14059,
          8040,
          10305,
          7324,
          6951,
          3639,
          3188
         ],
         "yaxis": "y"
        },
        {
         "hovertemplate": "proposal_title=Proposal: Update Security Council Election Start Date to Ensure Time for Security Audit<br>day=%{x}<br>counts=%{y}<extra></extra>",
         "legendgroup": "Proposal: Update Security Council Election Start Date to Ensure Time for Security Audit",
         "line": {
          "color": "#19d3f3",
          "dash": "solid"
         },
         "marker": {
          "symbol": "circle"
         },
         "mode": "lines+markers",
         "name": "Proposal: Update Security Council Election Start Date to Ensure Time for Security Audit",
         "orientation": "v",
         "showlegend": true,
         "type": "scatter",
         "x": [
          "day1",
          "day2",
          "day3",
          "day4",
          "day5",
          "day6",
          "day7"
         ],
         "xaxis": "x",
         "y": [
          12628,
          10866,
          10056,
          6498,
          4811,
          3573,
          3038
         ],
         "yaxis": "y"
        },
        {
         "hovertemplate": "proposal_title=Proposal: Activate support for account abstraction endpoint on One and Nova<br>day=%{x}<br>counts=%{y}<extra></extra>",
         "legendgroup": "Proposal: Activate support for account abstraction endpoint on One and Nova",
         "line": {
          "color": "#FF6692",
          "dash": "solid"
         },
         "marker": {
          "symbol": "circle"
         },
         "mode": "lines+markers",
         "name": "Proposal: Activate support for account abstraction endpoint on One and Nova",
         "orientation": "v",
         "showlegend": true,
         "type": "scatter",
         "x": [
          "day1",
          "day2",
          "day3",
          "day4",
          "day5",
          "day6",
          "day7"
         ],
         "xaxis": "x",
         "y": [
          12098,
          8268,
          7468,
          5993,
          5064,
          3770,
          3332
         ],
         "yaxis": "y"
        },
        {
         "hovertemplate": "proposal_title=AIP-1.2 - Foundation and DAO Governance<br>day=%{x}<br>counts=%{y}<extra></extra>",
         "legendgroup": "AIP-1.2 - Foundation and DAO Governance",
         "line": {
          "color": "#B6E880",
          "dash": "solid"
         },
         "marker": {
          "symbol": "circle"
         },
         "mode": "lines+markers",
         "name": "AIP-1.2 - Foundation and DAO Governance",
         "orientation": "v",
         "showlegend": true,
         "type": "scatter",
         "x": [
          "day1",
          "day2",
          "day3",
          "day4",
          "day5",
          "day6",
          "day7"
         ],
         "xaxis": "x",
         "y": [
          22617,
          7762,
          5298,
          4026,
          2817,
          1976,
          1748
         ],
         "yaxis": "y"
        }
       ],
       "layout": {
        "legend": {
         "title": {
          "text": "proposal_title"
         },
         "tracegroupgap": 0
        },
        "template": {
         "data": {
          "bar": [
           {
            "error_x": {
             "color": "#2a3f5f"
            },
            "error_y": {
             "color": "#2a3f5f"
            },
            "marker": {
             "line": {
              "color": "#E5ECF6",
              "width": 0.5
             },
             "pattern": {
              "fillmode": "overlay",
              "size": 10,
              "solidity": 0.2
             }
            },
            "type": "bar"
           }
          ],
          "barpolar": [
           {
            "marker": {
             "line": {
              "color": "#E5ECF6",
              "width": 0.5
             },
             "pattern": {
              "fillmode": "overlay",
              "size": 10,
              "solidity": 0.2
             }
            },
            "type": "barpolar"
           }
          ],
          "carpet": [
           {
            "aaxis": {
             "endlinecolor": "#2a3f5f",
             "gridcolor": "white",
             "linecolor": "white",
             "minorgridcolor": "white",
             "startlinecolor": "#2a3f5f"
            },
            "baxis": {
             "endlinecolor": "#2a3f5f",
             "gridcolor": "white",
             "linecolor": "white",
             "minorgridcolor": "white",
             "startlinecolor": "#2a3f5f"
            },
            "type": "carpet"
           }
          ],
          "choropleth": [
           {
            "colorbar": {
             "outlinewidth": 0,
             "ticks": ""
            },
            "type": "choropleth"
           }
          ],
          "contour": [
           {
            "colorbar": {
             "outlinewidth": 0,
             "ticks": ""
            },
            "colorscale": [
             [
              0,
              "#0d0887"
             ],
             [
              0.1111111111111111,
              "#46039f"
             ],
             [
              0.2222222222222222,
              "#7201a8"
             ],
             [
              0.3333333333333333,
              "#9c179e"
             ],
             [
              0.4444444444444444,
              "#bd3786"
             ],
             [
              0.5555555555555556,
              "#d8576b"
             ],
             [
              0.6666666666666666,
              "#ed7953"
             ],
             [
              0.7777777777777778,
              "#fb9f3a"
             ],
             [
              0.8888888888888888,
              "#fdca26"
             ],
             [
              1,
              "#f0f921"
             ]
            ],
            "type": "contour"
           }
          ],
          "contourcarpet": [
           {
            "colorbar": {
             "outlinewidth": 0,
             "ticks": ""
            },
            "type": "contourcarpet"
           }
          ],
          "heatmap": [
           {
            "colorbar": {
             "outlinewidth": 0,
             "ticks": ""
            },
            "colorscale": [
             [
              0,
              "#0d0887"
             ],
             [
              0.1111111111111111,
              "#46039f"
             ],
             [
              0.2222222222222222,
              "#7201a8"
             ],
             [
              0.3333333333333333,
              "#9c179e"
             ],
             [
              0.4444444444444444,
              "#bd3786"
             ],
             [
              0.5555555555555556,
              "#d8576b"
             ],
             [
              0.6666666666666666,
              "#ed7953"
             ],
             [
              0.7777777777777778,
              "#fb9f3a"
             ],
             [
              0.8888888888888888,
              "#fdca26"
             ],
             [
              1,
              "#f0f921"
             ]
            ],
            "type": "heatmap"
           }
          ],
          "heatmapgl": [
           {
            "colorbar": {
             "outlinewidth": 0,
             "ticks": ""
            },
            "colorscale": [
             [
              0,
              "#0d0887"
             ],
             [
              0.1111111111111111,
              "#46039f"
             ],
             [
              0.2222222222222222,
              "#7201a8"
             ],
             [
              0.3333333333333333,
              "#9c179e"
             ],
             [
              0.4444444444444444,
              "#bd3786"
             ],
             [
              0.5555555555555556,
              "#d8576b"
             ],
             [
              0.6666666666666666,
              "#ed7953"
             ],
             [
              0.7777777777777778,
              "#fb9f3a"
             ],
             [
              0.8888888888888888,
              "#fdca26"
             ],
             [
              1,
              "#f0f921"
             ]
            ],
            "type": "heatmapgl"
           }
          ],
          "histogram": [
           {
            "marker": {
             "pattern": {
              "fillmode": "overlay",
              "size": 10,
              "solidity": 0.2
             }
            },
            "type": "histogram"
           }
          ],
          "histogram2d": [
           {
            "colorbar": {
             "outlinewidth": 0,
             "ticks": ""
            },
            "colorscale": [
             [
              0,
              "#0d0887"
             ],
             [
              0.1111111111111111,
              "#46039f"
             ],
             [
              0.2222222222222222,
              "#7201a8"
             ],
             [
              0.3333333333333333,
              "#9c179e"
             ],
             [
              0.4444444444444444,
              "#bd3786"
             ],
             [
              0.5555555555555556,
              "#d8576b"
             ],
             [
              0.6666666666666666,
              "#ed7953"
             ],
             [
              0.7777777777777778,
              "#fb9f3a"
             ],
             [
              0.8888888888888888,
              "#fdca26"
             ],
             [
              1,
              "#f0f921"
             ]
            ],
            "type": "histogram2d"
           }
          ],
          "histogram2dcontour": [
           {
            "colorbar": {
             "outlinewidth": 0,
             "ticks": ""
            },
            "colorscale": [
             [
              0,
              "#0d0887"
             ],
             [
              0.1111111111111111,
              "#46039f"
             ],
             [
              0.2222222222222222,
              "#7201a8"
             ],
             [
              0.3333333333333333,
              "#9c179e"
             ],
             [
              0.4444444444444444,
              "#bd3786"
             ],
             [
              0.5555555555555556,
              "#d8576b"
             ],
             [
              0.6666666666666666,
              "#ed7953"
             ],
             [
              0.7777777777777778,
              "#fb9f3a"
             ],
             [
              0.8888888888888888,
              "#fdca26"
             ],
             [
              1,
              "#f0f921"
             ]
            ],
            "type": "histogram2dcontour"
           }
          ],
          "mesh3d": [
           {
            "colorbar": {
             "outlinewidth": 0,
             "ticks": ""
            },
            "type": "mesh3d"
           }
          ],
          "parcoords": [
           {
            "line": {
             "colorbar": {
              "outlinewidth": 0,
              "ticks": ""
             }
            },
            "type": "parcoords"
           }
          ],
          "pie": [
           {
            "automargin": true,
            "type": "pie"
           }
          ],
          "scatter": [
           {
            "fillpattern": {
             "fillmode": "overlay",
             "size": 10,
             "solidity": 0.2
            },
            "type": "scatter"
           }
          ],
          "scatter3d": [
           {
            "line": {
             "colorbar": {
              "outlinewidth": 0,
              "ticks": ""
             }
            },
            "marker": {
             "colorbar": {
              "outlinewidth": 0,
              "ticks": ""
             }
            },
            "type": "scatter3d"
           }
          ],
          "scattercarpet": [
           {
            "marker": {
             "colorbar": {
              "outlinewidth": 0,
              "ticks": ""
             }
            },
            "type": "scattercarpet"
           }
          ],
          "scattergeo": [
           {
            "marker": {
             "colorbar": {
              "outlinewidth": 0,
              "ticks": ""
             }
            },
            "type": "scattergeo"
           }
          ],
          "scattergl": [
           {
            "marker": {
             "colorbar": {
              "outlinewidth": 0,
              "ticks": ""
             }
            },
            "type": "scattergl"
           }
          ],
          "scattermapbox": [
           {
            "marker": {
             "colorbar": {
              "outlinewidth": 0,
              "ticks": ""
             }
            },
            "type": "scattermapbox"
           }
          ],
          "scatterpolar": [
           {
            "marker": {
             "colorbar": {
              "outlinewidth": 0,
              "ticks": ""
             }
            },
            "type": "scatterpolar"
           }
          ],
          "scatterpolargl": [
           {
            "marker": {
             "colorbar": {
              "outlinewidth": 0,
              "ticks": ""
             }
            },
            "type": "scatterpolargl"
           }
          ],
          "scatterternary": [
           {
            "marker": {
             "colorbar": {
              "outlinewidth": 0,
              "ticks": ""
             }
            },
            "type": "scatterternary"
           }
          ],
          "surface": [
           {
            "colorbar": {
             "outlinewidth": 0,
             "ticks": ""
            },
            "colorscale": [
             [
              0,
              "#0d0887"
             ],
             [
              0.1111111111111111,
              "#46039f"
             ],
             [
              0.2222222222222222,
              "#7201a8"
             ],
             [
              0.3333333333333333,
              "#9c179e"
             ],
             [
              0.4444444444444444,
              "#bd3786"
             ],
             [
              0.5555555555555556,
              "#d8576b"
             ],
             [
              0.6666666666666666,
              "#ed7953"
             ],
             [
              0.7777777777777778,
              "#fb9f3a"
             ],
             [
              0.8888888888888888,
              "#fdca26"
             ],
             [
              1,
              "#f0f921"
             ]
            ],
            "type": "surface"
           }
          ],
          "table": [
           {
            "cells": {
             "fill": {
              "color": "#EBF0F8"
             },
             "line": {
              "color": "white"
             }
            },
            "header": {
             "fill": {
              "color": "#C8D4E3"
             },
             "line": {
              "color": "white"
             }
            },
            "type": "table"
           }
          ]
         },
         "layout": {
          "annotationdefaults": {
           "arrowcolor": "#2a3f5f",
           "arrowhead": 0,
           "arrowwidth": 1
          },
          "autotypenumbers": "strict",
          "coloraxis": {
           "colorbar": {
            "outlinewidth": 0,
            "ticks": ""
           }
          },
          "colorscale": {
           "diverging": [
            [
             0,
             "#8e0152"
            ],
            [
             0.1,
             "#c51b7d"
            ],
            [
             0.2,
             "#de77ae"
            ],
            [
             0.3,
             "#f1b6da"
            ],
            [
             0.4,
             "#fde0ef"
            ],
            [
             0.5,
             "#f7f7f7"
            ],
            [
             0.6,
             "#e6f5d0"
            ],
            [
             0.7,
             "#b8e186"
            ],
            [
             0.8,
             "#7fbc41"
            ],
            [
             0.9,
             "#4d9221"
            ],
            [
             1,
             "#276419"
            ]
           ],
           "sequential": [
            [
             0,
             "#0d0887"
            ],
            [
             0.1111111111111111,
             "#46039f"
            ],
            [
             0.2222222222222222,
             "#7201a8"
            ],
            [
             0.3333333333333333,
             "#9c179e"
            ],
            [
             0.4444444444444444,
             "#bd3786"
            ],
            [
             0.5555555555555556,
             "#d8576b"
            ],
            [
             0.6666666666666666,
             "#ed7953"
            ],
            [
             0.7777777777777778,
             "#fb9f3a"
            ],
            [
             0.8888888888888888,
             "#fdca26"
            ],
            [
             1,
             "#f0f921"
            ]
           ],
           "sequentialminus": [
            [
             0,
             "#0d0887"
            ],
            [
             0.1111111111111111,
             "#46039f"
            ],
            [
             0.2222222222222222,
             "#7201a8"
            ],
            [
             0.3333333333333333,
             "#9c179e"
            ],
            [
             0.4444444444444444,
             "#bd3786"
            ],
            [
             0.5555555555555556,
             "#d8576b"
            ],
            [
             0.6666666666666666,
             "#ed7953"
            ],
            [
             0.7777777777777778,
             "#fb9f3a"
            ],
            [
             0.8888888888888888,
             "#fdca26"
            ],
            [
             1,
             "#f0f921"
            ]
           ]
          },
          "colorway": [
           "#636efa",
           "#EF553B",
           "#00cc96",
           "#ab63fa",
           "#FFA15A",
           "#19d3f3",
           "#FF6692",
           "#B6E880",
           "#FF97FF",
           "#FECB52"
          ],
          "font": {
           "color": "#2a3f5f"
          },
          "geo": {
           "bgcolor": "white",
           "lakecolor": "white",
           "landcolor": "#E5ECF6",
           "showlakes": true,
           "showland": true,
           "subunitcolor": "white"
          },
          "hoverlabel": {
           "align": "left"
          },
          "hovermode": "closest",
          "mapbox": {
           "style": "light"
          },
          "paper_bgcolor": "white",
          "plot_bgcolor": "#E5ECF6",
          "polar": {
           "angularaxis": {
            "gridcolor": "white",
            "linecolor": "white",
            "ticks": ""
           },
           "bgcolor": "#E5ECF6",
           "radialaxis": {
            "gridcolor": "white",
            "linecolor": "white",
            "ticks": ""
           }
          },
          "scene": {
           "xaxis": {
            "backgroundcolor": "#E5ECF6",
            "gridcolor": "white",
            "gridwidth": 2,
            "linecolor": "white",
            "showbackground": true,
            "ticks": "",
            "zerolinecolor": "white"
           },
           "yaxis": {
            "backgroundcolor": "#E5ECF6",
            "gridcolor": "white",
            "gridwidth": 2,
            "linecolor": "white",
            "showbackground": true,
            "ticks": "",
            "zerolinecolor": "white"
           },
           "zaxis": {
            "backgroundcolor": "#E5ECF6",
            "gridcolor": "white",
            "gridwidth": 2,
            "linecolor": "white",
            "showbackground": true,
            "ticks": "",
            "zerolinecolor": "white"
           }
          },
          "shapedefaults": {
           "line": {
            "color": "#2a3f5f"
           }
          },
          "ternary": {
           "aaxis": {
            "gridcolor": "white",
            "linecolor": "white",
            "ticks": ""
           },
           "baxis": {
            "gridcolor": "white",
            "linecolor": "white",
            "ticks": ""
           },
           "bgcolor": "#E5ECF6",
           "caxis": {
            "gridcolor": "white",
            "linecolor": "white",
            "ticks": ""
           }
          },
          "title": {
           "x": 0.05
          },
          "xaxis": {
           "automargin": true,
           "gridcolor": "white",
           "linecolor": "white",
           "ticks": "",
           "title": {
            "standoff": 15
           },
           "zerolinecolor": "white",
           "zerolinewidth": 2
          },
          "yaxis": {
           "automargin": true,
           "gridcolor": "white",
           "linecolor": "white",
           "ticks": "",
           "title": {
            "standoff": 15
           },
           "zerolinecolor": "white",
           "zerolinewidth": 2
          }
         }
        },
        "title": {
         "text": "Proposals with Lowest Votes on Day7"
        },
        "xaxis": {
         "anchor": "y",
         "domain": [
          0,
          1
         ],
         "title": {
          "text": "Days"
         }
        },
        "yaxis": {
         "anchor": "x",
         "domain": [
          0,
          1
         ],
         "title": {
          "text": "Counts"
         }
        }
       }
      }
     },
     "metadata": {},
     "output_type": "display_data"
    }
   ],
   "source": [
    "data = votes_data[['proposal_title', 'day1', 'day2', 'day3', 'day4', 'day5', 'day6', 'day7']]\n",
    "\n",
    "# Filter DataFrame to include only proposals with lowest votes on day7\n",
    "filtered_df = data[data['proposal_title'].isin(lowest_votes_day7)]\n",
    "\n",
    "# Melt the DataFrame to long format\n",
    "melted_df = filtered_df.melt(id_vars='proposal_title', var_name='day', value_name='counts')\n",
    "\n",
    "# Plot interactive line chart\n",
    "fig = px.line(melted_df, x='day', y='counts', color='proposal_title', markers='o', title='Proposals with Lowest Votes on Day7')\n",
    "fig.update_layout(xaxis_title='Days', yaxis_title='Counts')\n",
    "fig.show()\n",
    "fig.write_html(r'Graphs\\min-votes-day7.html')"
   ]
  },
  {
   "cell_type": "markdown",
   "metadata": {},
   "source": [
    "Verifying the above results."
   ]
  },
  {
   "cell_type": "code",
   "execution_count": 12,
   "metadata": {},
   "outputs": [
    {
     "data": {
      "text/html": [
       "<div>\n",
       "<style scoped>\n",
       "    .dataframe tbody tr th:only-of-type {\n",
       "        vertical-align: middle;\n",
       "    }\n",
       "\n",
       "    .dataframe tbody tr th {\n",
       "        vertical-align: top;\n",
       "    }\n",
       "\n",
       "    .dataframe thead th {\n",
       "        text-align: right;\n",
       "    }\n",
       "</style>\n",
       "<table border=\"1\" class=\"dataframe\">\n",
       "  <thead>\n",
       "    <tr style=\"text-align: right;\">\n",
       "      <th></th>\n",
       "      <th>proposal_title</th>\n",
       "      <th>day1</th>\n",
       "      <th>day2</th>\n",
       "      <th>day3</th>\n",
       "      <th>day4</th>\n",
       "      <th>day5</th>\n",
       "      <th>day6</th>\n",
       "      <th>day7</th>\n",
       "      <th>total_votes</th>\n",
       "      <th>day1_%</th>\n",
       "      <th>day2_%</th>\n",
       "      <th>day3_%</th>\n",
       "      <th>day4_%</th>\n",
       "      <th>day5_%</th>\n",
       "      <th>day6_%</th>\n",
       "      <th>day7_%</th>\n",
       "    </tr>\n",
       "  </thead>\n",
       "  <tbody>\n",
       "    <tr>\n",
       "      <th>110</th>\n",
       "      <td>AIP-1.2 - Foundation and DAO Governance</td>\n",
       "      <td>22617</td>\n",
       "      <td>7762</td>\n",
       "      <td>5298</td>\n",
       "      <td>4026</td>\n",
       "      <td>2817</td>\n",
       "      <td>1976</td>\n",
       "      <td>1748</td>\n",
       "      <td>46244</td>\n",
       "      <td>48.91</td>\n",
       "      <td>16.78</td>\n",
       "      <td>11.46</td>\n",
       "      <td>8.71</td>\n",
       "      <td>6.09</td>\n",
       "      <td>4.27</td>\n",
       "      <td>3.78</td>\n",
       "    </tr>\n",
       "  </tbody>\n",
       "</table>\n",
       "</div>"
      ],
      "text/plain": [
       "                              proposal_title   day1  day2  day3  day4  day5  \\\n",
       "110  AIP-1.2 - Foundation and DAO Governance  22617  7762  5298  4026  2817   \n",
       "\n",
       "     day6  day7  total_votes  day1_%  day2_%  day3_%  day4_%  day5_%  day6_%  \\\n",
       "110  1976  1748        46244   48.91   16.78   11.46    8.71    6.09    4.27   \n",
       "\n",
       "     day7_%  \n",
       "110    3.78  "
      ]
     },
     "execution_count": 12,
     "metadata": {},
     "output_type": "execute_result"
    }
   ],
   "source": [
    "votes_data[votes_data['proposal_title'] == 'AIP-1.2 - Foundation and DAO Governance']"
   ]
  },
  {
   "cell_type": "markdown",
   "metadata": {},
   "source": [
    "## Proposal with Highest Votes on First Day:"
   ]
  },
  {
   "cell_type": "code",
   "execution_count": 13,
   "metadata": {},
   "outputs": [
    {
     "name": "stdout",
     "output_type": "stream",
     "text": [
      "Proposals with the highest votes on day1:\n"
     ]
    },
    {
     "data": {
      "text/plain": [
       "['[Non-Constitutional]: Arbitrum Stable Treasury Endowment Program',\n",
       " 'Procurement Framework | Security : Non-Constitutional Proposal',\n",
       " 'Proposal to Backfund Successful STIP Proposals',\n",
       " 'Consolidate Security Proposals into a RFP Process',\n",
       " 'UniDex STIP Proposal - Round 1',\n",
       " 'Good Entry STIP Proposal - Round 1',\n",
       " 'iZUMi STIP Proposal - Round 1',\n",
       " 'Synapse Protocol STIP Proposal - Round 1',\n",
       " 'Jones DAO STIP Proposal - Round 1',\n",
       " 'D2.finance STIP Proposal - Round 1',\n",
       " 'Silo Finance STIP Proposal - Round 1',\n",
       " 'JOJO Exchange STIP Proposal - Round 1',\n",
       " 'GMD Ecosystem STIP Proposal - Round 1',\n",
       " 'Thales STIP Proposal - Round 1',\n",
       " 'Rysk STIP Proposal - Round 1',\n",
       " 'Sanko GameCorp STIP Proposal - Round 1',\n",
       " 'Wombat Exchange STIP Proposal - Round 1',\n",
       " 'Camelot STIP Proposal - Round 1',\n",
       " 'Rodeo Finance STIP Proposal - Round 1',\n",
       " 'Dolomite STIP Proposal - Round 1',\n",
       " 'Furucombo STIP Proposal - Round 1',\n",
       " 'Vertex Protocol STIP Proposal - Round 1',\n",
       " 'ALAYA STIP Proposal - Round 1',\n",
       " 'Curve STIP Proposal - Round 1',\n",
       " 'ZKasino STIP Proposal - Round 1',\n",
       " 'Thetanuts STIP Proposal - Round 1',\n",
       " 'PancakeSwap STIP Proposal - Round 1',\n",
       " 'Beefy STIP Proposal - Round 1',\n",
       " 'Timeswap STIP Proposal - Round 1',\n",
       " 'QiDao STIP Proposal - Round 1',\n",
       " 'DefiEdge STIP Proposal - Round 1',\n",
       " 'StakeDAO STIP Proposal - Round 1',\n",
       " 'Vaultka STIP Proposal - Round 1',\n",
       " 'WOOFi STIP Proposal - Round 1',\n",
       " 'Quadrat STIP Proposal - Round 1',\n",
       " 'CVI STIP Proposal - Round 1',\n",
       " 'HMX STIP Proposal - Round 1',\n",
       " 'Gamma STIP Proposal - Round 1',\n",
       " 'Solv Protocol STIP Proposal - Round 1',\n",
       " 'SpartaDEX STIP Proposal - Round 1',\n",
       " 'Tales of Elleria STIP Proposal - Round 1',\n",
       " 'Time Management in ArbitrumÃ\\x83Â\\x83Ã\\x82Â¢Ã\\x83Â\\x82Ã\\x82Â\\x80Ã\\x83Â\\x82Ã\\x82Â\\x99s Governance',\n",
       " 'Proposal: Building the Future of NFTs: The Rarible Protocol - Arbitrum Integration Proposal [REVISED]',\n",
       " 'Proposal to onboard Matrixed.Link as a validator for Arbitrum',\n",
       " 'Proposal: Security Council Elections Proposed Implementation Spec',\n",
       " 'Proposal: Update Security Council Election Start Date to Ensure Time for Security Audit',\n",
       " 'Accelerating Arbitrum - leveraging Camelot as an ecosystem hub to support native builders',\n",
       " '[Non-Constitutional] Fund the Arbitrum Grants Framework Proposal Milestone 1',\n",
       " 'Proposal: Activate support for account abstraction endpoint on One and Nova',\n",
       " 'AIP-1.2 - Foundation and DAO Governance',\n",
       " 'AIP-1.1 - Lockup, Budget, Transparency',\n",
       " 'AIP 1.05: Return 700M $ARB to the DAO Treasury [REAL]']"
      ]
     },
     "execution_count": 13,
     "metadata": {},
     "output_type": "execute_result"
    }
   ],
   "source": [
    "# Check if the votes on day 1 are the highest compared to all other days\n",
    "highest_votes_day1 = votes_data[votes_data['day1'] > votes_data[['day2', 'day3', 'day4', 'day5', 'day6', 'day7']].max(axis=1)]['proposal_title'].tolist()\n",
    "\n",
    "print(\"Proposals with the highest votes on day1:\")\n",
    "highest_votes_day1"
   ]
  },
  {
   "cell_type": "code",
   "execution_count": 14,
   "metadata": {},
   "outputs": [
    {
     "name": "stdout",
     "output_type": "stream",
     "text": [
      "Number of Proposals with Highest Votes on First Day: 52\n"
     ]
    }
   ],
   "source": [
    "print('Number of Proposals with Highest Votes on First Day:',len(highest_votes_day1))"
   ]
  },
  {
   "cell_type": "markdown",
   "metadata": {},
   "source": [
    "## Proposal with Lowest Votes on First Day"
   ]
  },
  {
   "cell_type": "code",
   "execution_count": 15,
   "metadata": {},
   "outputs": [
    {
     "name": "stdout",
     "output_type": "stream",
     "text": [
      "Proposals with the lowest votes on day1:\n"
     ]
    },
    {
     "data": {
      "text/plain": [
       "['AIP-1: Arbitrum Improvement Proposal Framework']"
      ]
     },
     "execution_count": 15,
     "metadata": {},
     "output_type": "execute_result"
    }
   ],
   "source": [
    "# Check if the votes on day 1 are the lowest compared to all other days\n",
    "lowest_votes_day1 = votes_data[votes_data['day1'] < votes_data[['day2', 'day3', 'day4', 'day5', 'day6', 'day7']].min(axis=1)]['proposal_title'].tolist()\n",
    "\n",
    "print(\"Proposals with the lowest votes on day1:\")\n",
    "lowest_votes_day1"
   ]
  },
  {
   "cell_type": "code",
   "execution_count": 16,
   "metadata": {},
   "outputs": [
    {
     "data": {
      "application/vnd.plotly.v1+json": {
       "config": {
        "plotlyServerURL": "https://plot.ly"
       },
       "data": [
        {
         "hovertemplate": "proposal_title=AIP-1: Arbitrum Improvement Proposal Framework<br>day=%{x}<br>counts=%{y}<extra></extra>",
         "legendgroup": "AIP-1: Arbitrum Improvement Proposal Framework",
         "line": {
          "color": "#636efa",
          "dash": "solid"
         },
         "marker": {
          "symbol": "circle"
         },
         "mode": "lines+markers",
         "name": "AIP-1: Arbitrum Improvement Proposal Framework",
         "orientation": "v",
         "showlegend": true,
         "type": "scatter",
         "x": [
          "day1",
          "day2",
          "day3",
          "day4",
          "day5",
          "day6",
          "day7"
         ],
         "xaxis": "x",
         "y": [
          0,
          8,
          13110,
          3984,
          2766,
          4122,
          2144
         ],
         "yaxis": "y"
        }
       ],
       "layout": {
        "legend": {
         "title": {
          "text": "proposal_title"
         },
         "tracegroupgap": 0
        },
        "template": {
         "data": {
          "bar": [
           {
            "error_x": {
             "color": "#2a3f5f"
            },
            "error_y": {
             "color": "#2a3f5f"
            },
            "marker": {
             "line": {
              "color": "#E5ECF6",
              "width": 0.5
             },
             "pattern": {
              "fillmode": "overlay",
              "size": 10,
              "solidity": 0.2
             }
            },
            "type": "bar"
           }
          ],
          "barpolar": [
           {
            "marker": {
             "line": {
              "color": "#E5ECF6",
              "width": 0.5
             },
             "pattern": {
              "fillmode": "overlay",
              "size": 10,
              "solidity": 0.2
             }
            },
            "type": "barpolar"
           }
          ],
          "carpet": [
           {
            "aaxis": {
             "endlinecolor": "#2a3f5f",
             "gridcolor": "white",
             "linecolor": "white",
             "minorgridcolor": "white",
             "startlinecolor": "#2a3f5f"
            },
            "baxis": {
             "endlinecolor": "#2a3f5f",
             "gridcolor": "white",
             "linecolor": "white",
             "minorgridcolor": "white",
             "startlinecolor": "#2a3f5f"
            },
            "type": "carpet"
           }
          ],
          "choropleth": [
           {
            "colorbar": {
             "outlinewidth": 0,
             "ticks": ""
            },
            "type": "choropleth"
           }
          ],
          "contour": [
           {
            "colorbar": {
             "outlinewidth": 0,
             "ticks": ""
            },
            "colorscale": [
             [
              0,
              "#0d0887"
             ],
             [
              0.1111111111111111,
              "#46039f"
             ],
             [
              0.2222222222222222,
              "#7201a8"
             ],
             [
              0.3333333333333333,
              "#9c179e"
             ],
             [
              0.4444444444444444,
              "#bd3786"
             ],
             [
              0.5555555555555556,
              "#d8576b"
             ],
             [
              0.6666666666666666,
              "#ed7953"
             ],
             [
              0.7777777777777778,
              "#fb9f3a"
             ],
             [
              0.8888888888888888,
              "#fdca26"
             ],
             [
              1,
              "#f0f921"
             ]
            ],
            "type": "contour"
           }
          ],
          "contourcarpet": [
           {
            "colorbar": {
             "outlinewidth": 0,
             "ticks": ""
            },
            "type": "contourcarpet"
           }
          ],
          "heatmap": [
           {
            "colorbar": {
             "outlinewidth": 0,
             "ticks": ""
            },
            "colorscale": [
             [
              0,
              "#0d0887"
             ],
             [
              0.1111111111111111,
              "#46039f"
             ],
             [
              0.2222222222222222,
              "#7201a8"
             ],
             [
              0.3333333333333333,
              "#9c179e"
             ],
             [
              0.4444444444444444,
              "#bd3786"
             ],
             [
              0.5555555555555556,
              "#d8576b"
             ],
             [
              0.6666666666666666,
              "#ed7953"
             ],
             [
              0.7777777777777778,
              "#fb9f3a"
             ],
             [
              0.8888888888888888,
              "#fdca26"
             ],
             [
              1,
              "#f0f921"
             ]
            ],
            "type": "heatmap"
           }
          ],
          "heatmapgl": [
           {
            "colorbar": {
             "outlinewidth": 0,
             "ticks": ""
            },
            "colorscale": [
             [
              0,
              "#0d0887"
             ],
             [
              0.1111111111111111,
              "#46039f"
             ],
             [
              0.2222222222222222,
              "#7201a8"
             ],
             [
              0.3333333333333333,
              "#9c179e"
             ],
             [
              0.4444444444444444,
              "#bd3786"
             ],
             [
              0.5555555555555556,
              "#d8576b"
             ],
             [
              0.6666666666666666,
              "#ed7953"
             ],
             [
              0.7777777777777778,
              "#fb9f3a"
             ],
             [
              0.8888888888888888,
              "#fdca26"
             ],
             [
              1,
              "#f0f921"
             ]
            ],
            "type": "heatmapgl"
           }
          ],
          "histogram": [
           {
            "marker": {
             "pattern": {
              "fillmode": "overlay",
              "size": 10,
              "solidity": 0.2
             }
            },
            "type": "histogram"
           }
          ],
          "histogram2d": [
           {
            "colorbar": {
             "outlinewidth": 0,
             "ticks": ""
            },
            "colorscale": [
             [
              0,
              "#0d0887"
             ],
             [
              0.1111111111111111,
              "#46039f"
             ],
             [
              0.2222222222222222,
              "#7201a8"
             ],
             [
              0.3333333333333333,
              "#9c179e"
             ],
             [
              0.4444444444444444,
              "#bd3786"
             ],
             [
              0.5555555555555556,
              "#d8576b"
             ],
             [
              0.6666666666666666,
              "#ed7953"
             ],
             [
              0.7777777777777778,
              "#fb9f3a"
             ],
             [
              0.8888888888888888,
              "#fdca26"
             ],
             [
              1,
              "#f0f921"
             ]
            ],
            "type": "histogram2d"
           }
          ],
          "histogram2dcontour": [
           {
            "colorbar": {
             "outlinewidth": 0,
             "ticks": ""
            },
            "colorscale": [
             [
              0,
              "#0d0887"
             ],
             [
              0.1111111111111111,
              "#46039f"
             ],
             [
              0.2222222222222222,
              "#7201a8"
             ],
             [
              0.3333333333333333,
              "#9c179e"
             ],
             [
              0.4444444444444444,
              "#bd3786"
             ],
             [
              0.5555555555555556,
              "#d8576b"
             ],
             [
              0.6666666666666666,
              "#ed7953"
             ],
             [
              0.7777777777777778,
              "#fb9f3a"
             ],
             [
              0.8888888888888888,
              "#fdca26"
             ],
             [
              1,
              "#f0f921"
             ]
            ],
            "type": "histogram2dcontour"
           }
          ],
          "mesh3d": [
           {
            "colorbar": {
             "outlinewidth": 0,
             "ticks": ""
            },
            "type": "mesh3d"
           }
          ],
          "parcoords": [
           {
            "line": {
             "colorbar": {
              "outlinewidth": 0,
              "ticks": ""
             }
            },
            "type": "parcoords"
           }
          ],
          "pie": [
           {
            "automargin": true,
            "type": "pie"
           }
          ],
          "scatter": [
           {
            "fillpattern": {
             "fillmode": "overlay",
             "size": 10,
             "solidity": 0.2
            },
            "type": "scatter"
           }
          ],
          "scatter3d": [
           {
            "line": {
             "colorbar": {
              "outlinewidth": 0,
              "ticks": ""
             }
            },
            "marker": {
             "colorbar": {
              "outlinewidth": 0,
              "ticks": ""
             }
            },
            "type": "scatter3d"
           }
          ],
          "scattercarpet": [
           {
            "marker": {
             "colorbar": {
              "outlinewidth": 0,
              "ticks": ""
             }
            },
            "type": "scattercarpet"
           }
          ],
          "scattergeo": [
           {
            "marker": {
             "colorbar": {
              "outlinewidth": 0,
              "ticks": ""
             }
            },
            "type": "scattergeo"
           }
          ],
          "scattergl": [
           {
            "marker": {
             "colorbar": {
              "outlinewidth": 0,
              "ticks": ""
             }
            },
            "type": "scattergl"
           }
          ],
          "scattermapbox": [
           {
            "marker": {
             "colorbar": {
              "outlinewidth": 0,
              "ticks": ""
             }
            },
            "type": "scattermapbox"
           }
          ],
          "scatterpolar": [
           {
            "marker": {
             "colorbar": {
              "outlinewidth": 0,
              "ticks": ""
             }
            },
            "type": "scatterpolar"
           }
          ],
          "scatterpolargl": [
           {
            "marker": {
             "colorbar": {
              "outlinewidth": 0,
              "ticks": ""
             }
            },
            "type": "scatterpolargl"
           }
          ],
          "scatterternary": [
           {
            "marker": {
             "colorbar": {
              "outlinewidth": 0,
              "ticks": ""
             }
            },
            "type": "scatterternary"
           }
          ],
          "surface": [
           {
            "colorbar": {
             "outlinewidth": 0,
             "ticks": ""
            },
            "colorscale": [
             [
              0,
              "#0d0887"
             ],
             [
              0.1111111111111111,
              "#46039f"
             ],
             [
              0.2222222222222222,
              "#7201a8"
             ],
             [
              0.3333333333333333,
              "#9c179e"
             ],
             [
              0.4444444444444444,
              "#bd3786"
             ],
             [
              0.5555555555555556,
              "#d8576b"
             ],
             [
              0.6666666666666666,
              "#ed7953"
             ],
             [
              0.7777777777777778,
              "#fb9f3a"
             ],
             [
              0.8888888888888888,
              "#fdca26"
             ],
             [
              1,
              "#f0f921"
             ]
            ],
            "type": "surface"
           }
          ],
          "table": [
           {
            "cells": {
             "fill": {
              "color": "#EBF0F8"
             },
             "line": {
              "color": "white"
             }
            },
            "header": {
             "fill": {
              "color": "#C8D4E3"
             },
             "line": {
              "color": "white"
             }
            },
            "type": "table"
           }
          ]
         },
         "layout": {
          "annotationdefaults": {
           "arrowcolor": "#2a3f5f",
           "arrowhead": 0,
           "arrowwidth": 1
          },
          "autotypenumbers": "strict",
          "coloraxis": {
           "colorbar": {
            "outlinewidth": 0,
            "ticks": ""
           }
          },
          "colorscale": {
           "diverging": [
            [
             0,
             "#8e0152"
            ],
            [
             0.1,
             "#c51b7d"
            ],
            [
             0.2,
             "#de77ae"
            ],
            [
             0.3,
             "#f1b6da"
            ],
            [
             0.4,
             "#fde0ef"
            ],
            [
             0.5,
             "#f7f7f7"
            ],
            [
             0.6,
             "#e6f5d0"
            ],
            [
             0.7,
             "#b8e186"
            ],
            [
             0.8,
             "#7fbc41"
            ],
            [
             0.9,
             "#4d9221"
            ],
            [
             1,
             "#276419"
            ]
           ],
           "sequential": [
            [
             0,
             "#0d0887"
            ],
            [
             0.1111111111111111,
             "#46039f"
            ],
            [
             0.2222222222222222,
             "#7201a8"
            ],
            [
             0.3333333333333333,
             "#9c179e"
            ],
            [
             0.4444444444444444,
             "#bd3786"
            ],
            [
             0.5555555555555556,
             "#d8576b"
            ],
            [
             0.6666666666666666,
             "#ed7953"
            ],
            [
             0.7777777777777778,
             "#fb9f3a"
            ],
            [
             0.8888888888888888,
             "#fdca26"
            ],
            [
             1,
             "#f0f921"
            ]
           ],
           "sequentialminus": [
            [
             0,
             "#0d0887"
            ],
            [
             0.1111111111111111,
             "#46039f"
            ],
            [
             0.2222222222222222,
             "#7201a8"
            ],
            [
             0.3333333333333333,
             "#9c179e"
            ],
            [
             0.4444444444444444,
             "#bd3786"
            ],
            [
             0.5555555555555556,
             "#d8576b"
            ],
            [
             0.6666666666666666,
             "#ed7953"
            ],
            [
             0.7777777777777778,
             "#fb9f3a"
            ],
            [
             0.8888888888888888,
             "#fdca26"
            ],
            [
             1,
             "#f0f921"
            ]
           ]
          },
          "colorway": [
           "#636efa",
           "#EF553B",
           "#00cc96",
           "#ab63fa",
           "#FFA15A",
           "#19d3f3",
           "#FF6692",
           "#B6E880",
           "#FF97FF",
           "#FECB52"
          ],
          "font": {
           "color": "#2a3f5f"
          },
          "geo": {
           "bgcolor": "white",
           "lakecolor": "white",
           "landcolor": "#E5ECF6",
           "showlakes": true,
           "showland": true,
           "subunitcolor": "white"
          },
          "hoverlabel": {
           "align": "left"
          },
          "hovermode": "closest",
          "mapbox": {
           "style": "light"
          },
          "paper_bgcolor": "white",
          "plot_bgcolor": "#E5ECF6",
          "polar": {
           "angularaxis": {
            "gridcolor": "white",
            "linecolor": "white",
            "ticks": ""
           },
           "bgcolor": "#E5ECF6",
           "radialaxis": {
            "gridcolor": "white",
            "linecolor": "white",
            "ticks": ""
           }
          },
          "scene": {
           "xaxis": {
            "backgroundcolor": "#E5ECF6",
            "gridcolor": "white",
            "gridwidth": 2,
            "linecolor": "white",
            "showbackground": true,
            "ticks": "",
            "zerolinecolor": "white"
           },
           "yaxis": {
            "backgroundcolor": "#E5ECF6",
            "gridcolor": "white",
            "gridwidth": 2,
            "linecolor": "white",
            "showbackground": true,
            "ticks": "",
            "zerolinecolor": "white"
           },
           "zaxis": {
            "backgroundcolor": "#E5ECF6",
            "gridcolor": "white",
            "gridwidth": 2,
            "linecolor": "white",
            "showbackground": true,
            "ticks": "",
            "zerolinecolor": "white"
           }
          },
          "shapedefaults": {
           "line": {
            "color": "#2a3f5f"
           }
          },
          "ternary": {
           "aaxis": {
            "gridcolor": "white",
            "linecolor": "white",
            "ticks": ""
           },
           "baxis": {
            "gridcolor": "white",
            "linecolor": "white",
            "ticks": ""
           },
           "bgcolor": "#E5ECF6",
           "caxis": {
            "gridcolor": "white",
            "linecolor": "white",
            "ticks": ""
           }
          },
          "title": {
           "x": 0.05
          },
          "xaxis": {
           "automargin": true,
           "gridcolor": "white",
           "linecolor": "white",
           "ticks": "",
           "title": {
            "standoff": 15
           },
           "zerolinecolor": "white",
           "zerolinewidth": 2
          },
          "yaxis": {
           "automargin": true,
           "gridcolor": "white",
           "linecolor": "white",
           "ticks": "",
           "title": {
            "standoff": 15
           },
           "zerolinecolor": "white",
           "zerolinewidth": 2
          }
         }
        },
        "title": {
         "text": "Counts for Proposals with Lowest Votes on Day1"
        },
        "xaxis": {
         "anchor": "y",
         "domain": [
          0,
          1
         ],
         "title": {
          "text": "Days"
         }
        },
        "yaxis": {
         "anchor": "x",
         "domain": [
          0,
          1
         ],
         "title": {
          "text": "Counts"
         }
        }
       }
      }
     },
     "metadata": {},
     "output_type": "display_data"
    }
   ],
   "source": [
    "data = votes_data[['proposal_title', 'day1', 'day2', 'day3', 'day4', 'day5', 'day6', 'day7']]\n",
    "\n",
    "# Filter DataFrame to include only proposals with lowest votes on day7\n",
    "filtered_df = data[data['proposal_title'].isin(lowest_votes_day1)]\n",
    "\n",
    "# Melt the DataFrame to long format\n",
    "melted_df = filtered_df.melt(id_vars='proposal_title', var_name='day', value_name='counts')\n",
    "\n",
    "# Plot interactive line chart\n",
    "fig = px.line(melted_df, x='day', y='counts', color='proposal_title', markers='o', title='Counts for Proposals with Lowest Votes on Day1')\n",
    "fig.update_layout(xaxis_title='Days', yaxis_title='Counts')\n",
    "fig.show()\n",
    "fig.write_html(r'Graphs\\min-votes-day1.html')"
   ]
  },
  {
   "cell_type": "markdown",
   "metadata": {},
   "source": [
    "Verifying the above results."
   ]
  },
  {
   "cell_type": "code",
   "execution_count": 17,
   "metadata": {},
   "outputs": [
    {
     "data": {
      "text/html": [
       "<div>\n",
       "<style scoped>\n",
       "    .dataframe tbody tr th:only-of-type {\n",
       "        vertical-align: middle;\n",
       "    }\n",
       "\n",
       "    .dataframe tbody tr th {\n",
       "        vertical-align: top;\n",
       "    }\n",
       "\n",
       "    .dataframe thead th {\n",
       "        text-align: right;\n",
       "    }\n",
       "</style>\n",
       "<table border=\"1\" class=\"dataframe\">\n",
       "  <thead>\n",
       "    <tr style=\"text-align: right;\">\n",
       "      <th></th>\n",
       "      <th>proposal_title</th>\n",
       "      <th>day1</th>\n",
       "      <th>day2</th>\n",
       "      <th>day3</th>\n",
       "      <th>day4</th>\n",
       "      <th>day5</th>\n",
       "      <th>day6</th>\n",
       "      <th>day7</th>\n",
       "      <th>total_votes</th>\n",
       "      <th>day1_%</th>\n",
       "      <th>day2_%</th>\n",
       "      <th>day3_%</th>\n",
       "      <th>day4_%</th>\n",
       "      <th>day5_%</th>\n",
       "      <th>day6_%</th>\n",
       "      <th>day7_%</th>\n",
       "    </tr>\n",
       "  </thead>\n",
       "  <tbody>\n",
       "    <tr>\n",
       "      <th>113</th>\n",
       "      <td>AIP-1: Arbitrum Improvement Proposal Framework</td>\n",
       "      <td>0</td>\n",
       "      <td>8</td>\n",
       "      <td>13110</td>\n",
       "      <td>3984</td>\n",
       "      <td>2766</td>\n",
       "      <td>4122</td>\n",
       "      <td>2144</td>\n",
       "      <td>26134</td>\n",
       "      <td>0.0</td>\n",
       "      <td>0.03</td>\n",
       "      <td>50.16</td>\n",
       "      <td>15.24</td>\n",
       "      <td>10.58</td>\n",
       "      <td>15.77</td>\n",
       "      <td>8.2</td>\n",
       "    </tr>\n",
       "  </tbody>\n",
       "</table>\n",
       "</div>"
      ],
      "text/plain": [
       "                                     proposal_title  day1  day2   day3  day4  \\\n",
       "113  AIP-1: Arbitrum Improvement Proposal Framework     0     8  13110  3984   \n",
       "\n",
       "     day5  day6  day7  total_votes  day1_%  day2_%  day3_%  day4_%  day5_%  \\\n",
       "113  2766  4122  2144        26134     0.0    0.03   50.16   15.24   10.58   \n",
       "\n",
       "     day6_%  day7_%  \n",
       "113   15.77     8.2  "
      ]
     },
     "execution_count": 17,
     "metadata": {},
     "output_type": "execute_result"
    }
   ],
   "source": [
    "votes_data[votes_data['proposal_title'] == 'AIP-1: Arbitrum Improvement Proposal Framework']"
   ]
  },
  {
   "cell_type": "code",
   "execution_count": 18,
   "metadata": {},
   "outputs": [
    {
     "data": {
      "application/vnd.plotly.v1+json": {
       "config": {
        "plotlyServerURL": "https://plot.ly"
       },
       "data": [
        {
         "name": "day1_%",
         "type": "bar",
         "x": [
          "[Non-Constitutional]: Arbitrum Stable Treasury Endowment Program",
          "Procurement Framework | Security : Non-Constitutional Proposal",
          "Proposal to Backfund Successful STIP Proposals",
          "Consolidate Security Proposals into a RFP Process",
          "UniDex STIP Proposal - Round 1",
          "Good Entry STIP Proposal - Round 1",
          "iZUMi STIP Proposal - Round 1",
          "Synapse Protocol STIP Proposal - Round 1",
          "Jones DAO STIP Proposal - Round 1",
          "D2.finance STIP Proposal - Round 1",
          "Silo Finance STIP Proposal - Round 1",
          "JOJO Exchange STIP Proposal - Round 1",
          "GMD Ecosystem STIP Proposal - Round 1",
          "Thales STIP Proposal - Round 1",
          "Rysk STIP Proposal - Round 1"
         ],
         "y": [
          27.91,
          24.26,
          36.86,
          21.69,
          30.47,
          30.01,
          29.49,
          28.98,
          28.54,
          28.38,
          27.94,
          27.53,
          27.47,
          27.01,
          25.09
         ]
        },
        {
         "name": "day2_%",
         "type": "bar",
         "x": [
          "[Non-Constitutional]: Arbitrum Stable Treasury Endowment Program",
          "Procurement Framework | Security : Non-Constitutional Proposal",
          "Proposal to Backfund Successful STIP Proposals",
          "Consolidate Security Proposals into a RFP Process",
          "UniDex STIP Proposal - Round 1",
          "Good Entry STIP Proposal - Round 1",
          "iZUMi STIP Proposal - Round 1",
          "Synapse Protocol STIP Proposal - Round 1",
          "Jones DAO STIP Proposal - Round 1",
          "D2.finance STIP Proposal - Round 1",
          "Silo Finance STIP Proposal - Round 1",
          "JOJO Exchange STIP Proposal - Round 1",
          "GMD Ecosystem STIP Proposal - Round 1",
          "Thales STIP Proposal - Round 1",
          "Rysk STIP Proposal - Round 1"
         ],
         "y": [
          20.93,
          19.73,
          18.82,
          17.44,
          15.36,
          16.02,
          15.96,
          15.48,
          14.79,
          15.08,
          15.09,
          14.43,
          13.87,
          13.62,
          13.01
         ]
        },
        {
         "name": "day3_%",
         "type": "bar",
         "x": [
          "[Non-Constitutional]: Arbitrum Stable Treasury Endowment Program",
          "Procurement Framework | Security : Non-Constitutional Proposal",
          "Proposal to Backfund Successful STIP Proposals",
          "Consolidate Security Proposals into a RFP Process",
          "UniDex STIP Proposal - Round 1",
          "Good Entry STIP Proposal - Round 1",
          "iZUMi STIP Proposal - Round 1",
          "Synapse Protocol STIP Proposal - Round 1",
          "Jones DAO STIP Proposal - Round 1",
          "D2.finance STIP Proposal - Round 1",
          "Silo Finance STIP Proposal - Round 1",
          "JOJO Exchange STIP Proposal - Round 1",
          "GMD Ecosystem STIP Proposal - Round 1",
          "Thales STIP Proposal - Round 1",
          "Rysk STIP Proposal - Round 1"
         ],
         "y": [
          14.26,
          14.33,
          11.12,
          20.16,
          16.6,
          16.09,
          16.53,
          16.4,
          16.8,
          16.32,
          15.87,
          16.59,
          16.52,
          16.65,
          17.02
         ]
        },
        {
         "name": "day4_%",
         "type": "bar",
         "x": [
          "[Non-Constitutional]: Arbitrum Stable Treasury Endowment Program",
          "Procurement Framework | Security : Non-Constitutional Proposal",
          "Proposal to Backfund Successful STIP Proposals",
          "Consolidate Security Proposals into a RFP Process",
          "UniDex STIP Proposal - Round 1",
          "Good Entry STIP Proposal - Round 1",
          "iZUMi STIP Proposal - Round 1",
          "Synapse Protocol STIP Proposal - Round 1",
          "Jones DAO STIP Proposal - Round 1",
          "D2.finance STIP Proposal - Round 1",
          "Silo Finance STIP Proposal - Round 1",
          "JOJO Exchange STIP Proposal - Round 1",
          "GMD Ecosystem STIP Proposal - Round 1",
          "Thales STIP Proposal - Round 1",
          "Rysk STIP Proposal - Round 1"
         ],
         "y": [
          9.03,
          16.53,
          10.71,
          18.2,
          10.56,
          10.83,
          10.19,
          11.37,
          11.72,
          11.99,
          12.32,
          12.26,
          11.31,
          10.78,
          11.42
         ]
        },
        {
         "name": "day5_%",
         "type": "bar",
         "x": [
          "[Non-Constitutional]: Arbitrum Stable Treasury Endowment Program",
          "Procurement Framework | Security : Non-Constitutional Proposal",
          "Proposal to Backfund Successful STIP Proposals",
          "Consolidate Security Proposals into a RFP Process",
          "UniDex STIP Proposal - Round 1",
          "Good Entry STIP Proposal - Round 1",
          "iZUMi STIP Proposal - Round 1",
          "Synapse Protocol STIP Proposal - Round 1",
          "Jones DAO STIP Proposal - Round 1",
          "D2.finance STIP Proposal - Round 1",
          "Silo Finance STIP Proposal - Round 1",
          "JOJO Exchange STIP Proposal - Round 1",
          "GMD Ecosystem STIP Proposal - Round 1",
          "Thales STIP Proposal - Round 1",
          "Rysk STIP Proposal - Round 1"
         ],
         "y": [
          12.79,
          14.1,
          7.36,
          11.11,
          8.65,
          8.96,
          9.14,
          8.7,
          8.96,
          8.65,
          8.96,
          9.68,
          10.92,
          11.52,
          11.93
         ]
        },
        {
         "name": "day6_%",
         "type": "bar",
         "x": [
          "[Non-Constitutional]: Arbitrum Stable Treasury Endowment Program",
          "Procurement Framework | Security : Non-Constitutional Proposal",
          "Proposal to Backfund Successful STIP Proposals",
          "Consolidate Security Proposals into a RFP Process",
          "UniDex STIP Proposal - Round 1",
          "Good Entry STIP Proposal - Round 1",
          "iZUMi STIP Proposal - Round 1",
          "Synapse Protocol STIP Proposal - Round 1",
          "Jones DAO STIP Proposal - Round 1",
          "D2.finance STIP Proposal - Round 1",
          "Silo Finance STIP Proposal - Round 1",
          "JOJO Exchange STIP Proposal - Round 1",
          "GMD Ecosystem STIP Proposal - Round 1",
          "Thales STIP Proposal - Round 1",
          "Rysk STIP Proposal - Round 1"
         ],
         "y": [
          5.17,
          6.4,
          9.16,
          6.85,
          7.18,
          7.2,
          7.5,
          7.64,
          7.59,
          7.66,
          7.87,
          7.67,
          7.67,
          7.89,
          7.96
         ]
        },
        {
         "name": "day7_%",
         "type": "bar",
         "x": [
          "[Non-Constitutional]: Arbitrum Stable Treasury Endowment Program",
          "Procurement Framework | Security : Non-Constitutional Proposal",
          "Proposal to Backfund Successful STIP Proposals",
          "Consolidate Security Proposals into a RFP Process",
          "UniDex STIP Proposal - Round 1",
          "Good Entry STIP Proposal - Round 1",
          "iZUMi STIP Proposal - Round 1",
          "Synapse Protocol STIP Proposal - Round 1",
          "Jones DAO STIP Proposal - Round 1",
          "D2.finance STIP Proposal - Round 1",
          "Silo Finance STIP Proposal - Round 1",
          "JOJO Exchange STIP Proposal - Round 1",
          "GMD Ecosystem STIP Proposal - Round 1",
          "Thales STIP Proposal - Round 1",
          "Rysk STIP Proposal - Round 1"
         ],
         "y": [
          9.92,
          4.64,
          5.97,
          4.55,
          11.19,
          10.89,
          11.18,
          11.42,
          11.6,
          11.92,
          11.96,
          11.83,
          12.24,
          12.52,
          13.57
         ]
        }
       ],
       "layout": {
        "barmode": "stack",
        "showlegend": false,
        "template": {
         "data": {
          "bar": [
           {
            "error_x": {
             "color": "#2a3f5f"
            },
            "error_y": {
             "color": "#2a3f5f"
            },
            "marker": {
             "line": {
              "color": "#E5ECF6",
              "width": 0.5
             },
             "pattern": {
              "fillmode": "overlay",
              "size": 10,
              "solidity": 0.2
             }
            },
            "type": "bar"
           }
          ],
          "barpolar": [
           {
            "marker": {
             "line": {
              "color": "#E5ECF6",
              "width": 0.5
             },
             "pattern": {
              "fillmode": "overlay",
              "size": 10,
              "solidity": 0.2
             }
            },
            "type": "barpolar"
           }
          ],
          "carpet": [
           {
            "aaxis": {
             "endlinecolor": "#2a3f5f",
             "gridcolor": "white",
             "linecolor": "white",
             "minorgridcolor": "white",
             "startlinecolor": "#2a3f5f"
            },
            "baxis": {
             "endlinecolor": "#2a3f5f",
             "gridcolor": "white",
             "linecolor": "white",
             "minorgridcolor": "white",
             "startlinecolor": "#2a3f5f"
            },
            "type": "carpet"
           }
          ],
          "choropleth": [
           {
            "colorbar": {
             "outlinewidth": 0,
             "ticks": ""
            },
            "type": "choropleth"
           }
          ],
          "contour": [
           {
            "colorbar": {
             "outlinewidth": 0,
             "ticks": ""
            },
            "colorscale": [
             [
              0,
              "#0d0887"
             ],
             [
              0.1111111111111111,
              "#46039f"
             ],
             [
              0.2222222222222222,
              "#7201a8"
             ],
             [
              0.3333333333333333,
              "#9c179e"
             ],
             [
              0.4444444444444444,
              "#bd3786"
             ],
             [
              0.5555555555555556,
              "#d8576b"
             ],
             [
              0.6666666666666666,
              "#ed7953"
             ],
             [
              0.7777777777777778,
              "#fb9f3a"
             ],
             [
              0.8888888888888888,
              "#fdca26"
             ],
             [
              1,
              "#f0f921"
             ]
            ],
            "type": "contour"
           }
          ],
          "contourcarpet": [
           {
            "colorbar": {
             "outlinewidth": 0,
             "ticks": ""
            },
            "type": "contourcarpet"
           }
          ],
          "heatmap": [
           {
            "colorbar": {
             "outlinewidth": 0,
             "ticks": ""
            },
            "colorscale": [
             [
              0,
              "#0d0887"
             ],
             [
              0.1111111111111111,
              "#46039f"
             ],
             [
              0.2222222222222222,
              "#7201a8"
             ],
             [
              0.3333333333333333,
              "#9c179e"
             ],
             [
              0.4444444444444444,
              "#bd3786"
             ],
             [
              0.5555555555555556,
              "#d8576b"
             ],
             [
              0.6666666666666666,
              "#ed7953"
             ],
             [
              0.7777777777777778,
              "#fb9f3a"
             ],
             [
              0.8888888888888888,
              "#fdca26"
             ],
             [
              1,
              "#f0f921"
             ]
            ],
            "type": "heatmap"
           }
          ],
          "heatmapgl": [
           {
            "colorbar": {
             "outlinewidth": 0,
             "ticks": ""
            },
            "colorscale": [
             [
              0,
              "#0d0887"
             ],
             [
              0.1111111111111111,
              "#46039f"
             ],
             [
              0.2222222222222222,
              "#7201a8"
             ],
             [
              0.3333333333333333,
              "#9c179e"
             ],
             [
              0.4444444444444444,
              "#bd3786"
             ],
             [
              0.5555555555555556,
              "#d8576b"
             ],
             [
              0.6666666666666666,
              "#ed7953"
             ],
             [
              0.7777777777777778,
              "#fb9f3a"
             ],
             [
              0.8888888888888888,
              "#fdca26"
             ],
             [
              1,
              "#f0f921"
             ]
            ],
            "type": "heatmapgl"
           }
          ],
          "histogram": [
           {
            "marker": {
             "pattern": {
              "fillmode": "overlay",
              "size": 10,
              "solidity": 0.2
             }
            },
            "type": "histogram"
           }
          ],
          "histogram2d": [
           {
            "colorbar": {
             "outlinewidth": 0,
             "ticks": ""
            },
            "colorscale": [
             [
              0,
              "#0d0887"
             ],
             [
              0.1111111111111111,
              "#46039f"
             ],
             [
              0.2222222222222222,
              "#7201a8"
             ],
             [
              0.3333333333333333,
              "#9c179e"
             ],
             [
              0.4444444444444444,
              "#bd3786"
             ],
             [
              0.5555555555555556,
              "#d8576b"
             ],
             [
              0.6666666666666666,
              "#ed7953"
             ],
             [
              0.7777777777777778,
              "#fb9f3a"
             ],
             [
              0.8888888888888888,
              "#fdca26"
             ],
             [
              1,
              "#f0f921"
             ]
            ],
            "type": "histogram2d"
           }
          ],
          "histogram2dcontour": [
           {
            "colorbar": {
             "outlinewidth": 0,
             "ticks": ""
            },
            "colorscale": [
             [
              0,
              "#0d0887"
             ],
             [
              0.1111111111111111,
              "#46039f"
             ],
             [
              0.2222222222222222,
              "#7201a8"
             ],
             [
              0.3333333333333333,
              "#9c179e"
             ],
             [
              0.4444444444444444,
              "#bd3786"
             ],
             [
              0.5555555555555556,
              "#d8576b"
             ],
             [
              0.6666666666666666,
              "#ed7953"
             ],
             [
              0.7777777777777778,
              "#fb9f3a"
             ],
             [
              0.8888888888888888,
              "#fdca26"
             ],
             [
              1,
              "#f0f921"
             ]
            ],
            "type": "histogram2dcontour"
           }
          ],
          "mesh3d": [
           {
            "colorbar": {
             "outlinewidth": 0,
             "ticks": ""
            },
            "type": "mesh3d"
           }
          ],
          "parcoords": [
           {
            "line": {
             "colorbar": {
              "outlinewidth": 0,
              "ticks": ""
             }
            },
            "type": "parcoords"
           }
          ],
          "pie": [
           {
            "automargin": true,
            "type": "pie"
           }
          ],
          "scatter": [
           {
            "fillpattern": {
             "fillmode": "overlay",
             "size": 10,
             "solidity": 0.2
            },
            "type": "scatter"
           }
          ],
          "scatter3d": [
           {
            "line": {
             "colorbar": {
              "outlinewidth": 0,
              "ticks": ""
             }
            },
            "marker": {
             "colorbar": {
              "outlinewidth": 0,
              "ticks": ""
             }
            },
            "type": "scatter3d"
           }
          ],
          "scattercarpet": [
           {
            "marker": {
             "colorbar": {
              "outlinewidth": 0,
              "ticks": ""
             }
            },
            "type": "scattercarpet"
           }
          ],
          "scattergeo": [
           {
            "marker": {
             "colorbar": {
              "outlinewidth": 0,
              "ticks": ""
             }
            },
            "type": "scattergeo"
           }
          ],
          "scattergl": [
           {
            "marker": {
             "colorbar": {
              "outlinewidth": 0,
              "ticks": ""
             }
            },
            "type": "scattergl"
           }
          ],
          "scattermapbox": [
           {
            "marker": {
             "colorbar": {
              "outlinewidth": 0,
              "ticks": ""
             }
            },
            "type": "scattermapbox"
           }
          ],
          "scatterpolar": [
           {
            "marker": {
             "colorbar": {
              "outlinewidth": 0,
              "ticks": ""
             }
            },
            "type": "scatterpolar"
           }
          ],
          "scatterpolargl": [
           {
            "marker": {
             "colorbar": {
              "outlinewidth": 0,
              "ticks": ""
             }
            },
            "type": "scatterpolargl"
           }
          ],
          "scatterternary": [
           {
            "marker": {
             "colorbar": {
              "outlinewidth": 0,
              "ticks": ""
             }
            },
            "type": "scatterternary"
           }
          ],
          "surface": [
           {
            "colorbar": {
             "outlinewidth": 0,
             "ticks": ""
            },
            "colorscale": [
             [
              0,
              "#0d0887"
             ],
             [
              0.1111111111111111,
              "#46039f"
             ],
             [
              0.2222222222222222,
              "#7201a8"
             ],
             [
              0.3333333333333333,
              "#9c179e"
             ],
             [
              0.4444444444444444,
              "#bd3786"
             ],
             [
              0.5555555555555556,
              "#d8576b"
             ],
             [
              0.6666666666666666,
              "#ed7953"
             ],
             [
              0.7777777777777778,
              "#fb9f3a"
             ],
             [
              0.8888888888888888,
              "#fdca26"
             ],
             [
              1,
              "#f0f921"
             ]
            ],
            "type": "surface"
           }
          ],
          "table": [
           {
            "cells": {
             "fill": {
              "color": "#EBF0F8"
             },
             "line": {
              "color": "white"
             }
            },
            "header": {
             "fill": {
              "color": "#C8D4E3"
             },
             "line": {
              "color": "white"
             }
            },
            "type": "table"
           }
          ]
         },
         "layout": {
          "annotationdefaults": {
           "arrowcolor": "#2a3f5f",
           "arrowhead": 0,
           "arrowwidth": 1
          },
          "autotypenumbers": "strict",
          "coloraxis": {
           "colorbar": {
            "outlinewidth": 0,
            "ticks": ""
           }
          },
          "colorscale": {
           "diverging": [
            [
             0,
             "#8e0152"
            ],
            [
             0.1,
             "#c51b7d"
            ],
            [
             0.2,
             "#de77ae"
            ],
            [
             0.3,
             "#f1b6da"
            ],
            [
             0.4,
             "#fde0ef"
            ],
            [
             0.5,
             "#f7f7f7"
            ],
            [
             0.6,
             "#e6f5d0"
            ],
            [
             0.7,
             "#b8e186"
            ],
            [
             0.8,
             "#7fbc41"
            ],
            [
             0.9,
             "#4d9221"
            ],
            [
             1,
             "#276419"
            ]
           ],
           "sequential": [
            [
             0,
             "#0d0887"
            ],
            [
             0.1111111111111111,
             "#46039f"
            ],
            [
             0.2222222222222222,
             "#7201a8"
            ],
            [
             0.3333333333333333,
             "#9c179e"
            ],
            [
             0.4444444444444444,
             "#bd3786"
            ],
            [
             0.5555555555555556,
             "#d8576b"
            ],
            [
             0.6666666666666666,
             "#ed7953"
            ],
            [
             0.7777777777777778,
             "#fb9f3a"
            ],
            [
             0.8888888888888888,
             "#fdca26"
            ],
            [
             1,
             "#f0f921"
            ]
           ],
           "sequentialminus": [
            [
             0,
             "#0d0887"
            ],
            [
             0.1111111111111111,
             "#46039f"
            ],
            [
             0.2222222222222222,
             "#7201a8"
            ],
            [
             0.3333333333333333,
             "#9c179e"
            ],
            [
             0.4444444444444444,
             "#bd3786"
            ],
            [
             0.5555555555555556,
             "#d8576b"
            ],
            [
             0.6666666666666666,
             "#ed7953"
            ],
            [
             0.7777777777777778,
             "#fb9f3a"
            ],
            [
             0.8888888888888888,
             "#fdca26"
            ],
            [
             1,
             "#f0f921"
            ]
           ]
          },
          "colorway": [
           "#636efa",
           "#EF553B",
           "#00cc96",
           "#ab63fa",
           "#FFA15A",
           "#19d3f3",
           "#FF6692",
           "#B6E880",
           "#FF97FF",
           "#FECB52"
          ],
          "font": {
           "color": "#2a3f5f"
          },
          "geo": {
           "bgcolor": "white",
           "lakecolor": "white",
           "landcolor": "#E5ECF6",
           "showlakes": true,
           "showland": true,
           "subunitcolor": "white"
          },
          "hoverlabel": {
           "align": "left"
          },
          "hovermode": "closest",
          "mapbox": {
           "style": "light"
          },
          "paper_bgcolor": "white",
          "plot_bgcolor": "#E5ECF6",
          "polar": {
           "angularaxis": {
            "gridcolor": "white",
            "linecolor": "white",
            "ticks": ""
           },
           "bgcolor": "#E5ECF6",
           "radialaxis": {
            "gridcolor": "white",
            "linecolor": "white",
            "ticks": ""
           }
          },
          "scene": {
           "xaxis": {
            "backgroundcolor": "#E5ECF6",
            "gridcolor": "white",
            "gridwidth": 2,
            "linecolor": "white",
            "showbackground": true,
            "ticks": "",
            "zerolinecolor": "white"
           },
           "yaxis": {
            "backgroundcolor": "#E5ECF6",
            "gridcolor": "white",
            "gridwidth": 2,
            "linecolor": "white",
            "showbackground": true,
            "ticks": "",
            "zerolinecolor": "white"
           },
           "zaxis": {
            "backgroundcolor": "#E5ECF6",
            "gridcolor": "white",
            "gridwidth": 2,
            "linecolor": "white",
            "showbackground": true,
            "ticks": "",
            "zerolinecolor": "white"
           }
          },
          "shapedefaults": {
           "line": {
            "color": "#2a3f5f"
           }
          },
          "ternary": {
           "aaxis": {
            "gridcolor": "white",
            "linecolor": "white",
            "ticks": ""
           },
           "baxis": {
            "gridcolor": "white",
            "linecolor": "white",
            "ticks": ""
           },
           "bgcolor": "#E5ECF6",
           "caxis": {
            "gridcolor": "white",
            "linecolor": "white",
            "ticks": ""
           }
          },
          "title": {
           "x": 0.05
          },
          "xaxis": {
           "automargin": true,
           "gridcolor": "white",
           "linecolor": "white",
           "ticks": "",
           "title": {
            "standoff": 15
           },
           "zerolinecolor": "white",
           "zerolinewidth": 2
          },
          "yaxis": {
           "automargin": true,
           "gridcolor": "white",
           "linecolor": "white",
           "ticks": "",
           "title": {
            "standoff": 15
           },
           "zerolinecolor": "white",
           "zerolinewidth": 2
          }
         }
        },
        "title": {
         "text": "Distribution of Votes Across Days for Each Proposal"
        },
        "xaxis": {
         "title": {
          "text": "Proposals"
         }
        },
        "yaxis": {
         "title": {
          "text": "Number of Votes"
         }
        }
       }
      }
     },
     "metadata": {},
     "output_type": "display_data"
    }
   ],
   "source": [
    "data = votes_data[['proposal_title', 'day1_%', 'day2_%', 'day3_%', 'day4_%', 'day5_%', 'day6_%', 'day7_%']].head(15)\n",
    "\n",
    "# Set proposal_title as index\n",
    "data.set_index('proposal_title', inplace=True)\n",
    "\n",
    "# Create traces for each day\n",
    "traces = []\n",
    "for day in data.columns:\n",
    "    trace = go.Bar(\n",
    "        x=data.index,\n",
    "        y=data[day],\n",
    "        name=day\n",
    "    )\n",
    "    traces.append(trace)\n",
    "\n",
    "# Create layout\n",
    "layout = go.Layout(\n",
    "    title='Distribution of Votes Across Days for Each Proposal',\n",
    "    xaxis=dict(title='Proposals'),\n",
    "    yaxis=dict(title='Number of Votes'),\n",
    "    barmode='stack'\n",
    ")\n",
    "\n",
    "# Create figure\n",
    "fig = go.Figure(data=traces, layout=layout)\n",
    "\n",
    "# Remove legends\n",
    "fig.update_layout(showlegend=False)\n",
    "\n",
    "# Plot interactive chart\n",
    "fig.show()"
   ]
  },
  {
   "cell_type": "code",
   "execution_count": 19,
   "metadata": {},
   "outputs": [
    {
     "data": {
      "application/vnd.plotly.v1+json": {
       "config": {
        "plotlyServerURL": "https://plot.ly"
       },
       "data": [
        {
         "mode": "lines",
         "name": "[Non-Constitutional]: Arbitrum Stable Treasury Endowment Program",
         "stackgroup": "one",
         "type": "scatter",
         "x": [
          "day1",
          "day2",
          "day3",
          "day4",
          "day5",
          "day6",
          "day7"
         ],
         "y": [
          7836,
          5875,
          4003,
          2534,
          3591,
          1450,
          2784
         ]
        },
        {
         "mode": "lines",
         "name": "Procurement Framework | Security : Non-Constitutional Proposal",
         "stackgroup": "one",
         "type": "scatter",
         "x": [
          "day1",
          "day2",
          "day3",
          "day4",
          "day5",
          "day6",
          "day7"
         ],
         "y": [
          12251,
          9964,
          7240,
          8350,
          7124,
          3234,
          2346
         ]
        },
        {
         "mode": "lines",
         "name": "Proposal to Backfund Successful STIP Proposals",
         "stackgroup": "one",
         "type": "scatter",
         "x": [
          "day1",
          "day2",
          "day3",
          "day4",
          "day5",
          "day6",
          "day7"
         ],
         "y": [
          16712,
          8531,
          5042,
          4857,
          3335,
          4154,
          2706
         ]
        },
        {
         "mode": "lines",
         "name": "Consolidate Security Proposals into a RFP Process",
         "stackgroup": "one",
         "type": "scatter",
         "x": [
          "day1",
          "day2",
          "day3",
          "day4",
          "day5",
          "day6",
          "day7"
         ],
         "y": [
          10848,
          8725,
          10083,
          9104,
          5558,
          3424,
          2274
         ]
        },
        {
         "mode": "lines",
         "name": "UniDex STIP Proposal - Round 1",
         "stackgroup": "one",
         "type": "scatter",
         "x": [
          "day1",
          "day2",
          "day3",
          "day4",
          "day5",
          "day6",
          "day7"
         ],
         "y": [
          9902,
          4992,
          5396,
          3432,
          2810,
          2333,
          3637
         ]
        },
        {
         "mode": "lines",
         "name": "Good Entry STIP Proposal - Round 1",
         "stackgroup": "one",
         "type": "scatter",
         "x": [
          "day1",
          "day2",
          "day3",
          "day4",
          "day5",
          "day6",
          "day7"
         ],
         "y": [
          9067,
          4840,
          4862,
          3274,
          2709,
          2176,
          3290
         ]
        },
        {
         "mode": "lines",
         "name": "iZUMi STIP Proposal - Round 1",
         "stackgroup": "one",
         "type": "scatter",
         "x": [
          "day1",
          "day2",
          "day3",
          "day4",
          "day5",
          "day6",
          "day7"
         ],
         "y": [
          8801,
          4763,
          4933,
          3040,
          2728,
          2237,
          3337
         ]
        },
        {
         "mode": "lines",
         "name": "Synapse Protocol STIP Proposal - Round 1",
         "stackgroup": "one",
         "type": "scatter",
         "x": [
          "day1",
          "day2",
          "day3",
          "day4",
          "day5",
          "day6",
          "day7"
         ],
         "y": [
          8323,
          4444,
          4710,
          3265,
          2499,
          2195,
          3279
         ]
        },
        {
         "mode": "lines",
         "name": "Jones DAO STIP Proposal - Round 1",
         "stackgroup": "one",
         "type": "scatter",
         "x": [
          "day1",
          "day2",
          "day3",
          "day4",
          "day5",
          "day6",
          "day7"
         ],
         "y": [
          8075,
          4184,
          4753,
          3317,
          2534,
          2147,
          3282
         ]
        },
        {
         "mode": "lines",
         "name": "D2.finance STIP Proposal - Round 1",
         "stackgroup": "one",
         "type": "scatter",
         "x": [
          "day1",
          "day2",
          "day3",
          "day4",
          "day5",
          "day6",
          "day7"
         ],
         "y": [
          8063,
          4285,
          4635,
          3405,
          2458,
          2177,
          3385
         ]
        },
        {
         "mode": "lines",
         "name": "Silo Finance STIP Proposal - Round 1",
         "stackgroup": "one",
         "type": "scatter",
         "x": [
          "day1",
          "day2",
          "day3",
          "day4",
          "day5",
          "day6",
          "day7"
         ],
         "y": [
          7375,
          3982,
          4188,
          3251,
          2365,
          2076,
          3156
         ]
        },
        {
         "mode": "lines",
         "name": "JOJO Exchange STIP Proposal - Round 1",
         "stackgroup": "one",
         "type": "scatter",
         "x": [
          "day1",
          "day2",
          "day3",
          "day4",
          "day5",
          "day6",
          "day7"
         ],
         "y": [
          7204,
          3777,
          4340,
          3209,
          2534,
          2008,
          3095
         ]
        },
        {
         "mode": "lines",
         "name": "GMD Ecosystem STIP Proposal - Round 1",
         "stackgroup": "one",
         "type": "scatter",
         "x": [
          "day1",
          "day2",
          "day3",
          "day4",
          "day5",
          "day6",
          "day7"
         ],
         "y": [
          7115,
          3592,
          4280,
          2929,
          2829,
          1986,
          3171
         ]
        },
        {
         "mode": "lines",
         "name": "Thales STIP Proposal - Round 1",
         "stackgroup": "one",
         "type": "scatter",
         "x": [
          "day1",
          "day2",
          "day3",
          "day4",
          "day5",
          "day6",
          "day7"
         ],
         "y": [
          6967,
          3512,
          4294,
          2781,
          2972,
          2034,
          3230
         ]
        },
        {
         "mode": "lines",
         "name": "Rysk STIP Proposal - Round 1",
         "stackgroup": "one",
         "type": "scatter",
         "x": [
          "day1",
          "day2",
          "day3",
          "day4",
          "day5",
          "day6",
          "day7"
         ],
         "y": [
          6073,
          3148,
          4120,
          2764,
          2887,
          1927,
          3284
         ]
        },
        {
         "mode": "lines",
         "name": "Sanko GameCorp STIP Proposal - Round 1",
         "stackgroup": "one",
         "type": "scatter",
         "x": [
          "day1",
          "day2",
          "day3",
          "day4",
          "day5",
          "day6",
          "day7"
         ],
         "y": [
          5957,
          2960,
          4201,
          2747,
          2835,
          1874,
          3263
         ]
        },
        {
         "mode": "lines",
         "name": "Wombat Exchange STIP Proposal - Round 1",
         "stackgroup": "one",
         "type": "scatter",
         "x": [
          "day1",
          "day2",
          "day3",
          "day4",
          "day5",
          "day6",
          "day7"
         ],
         "y": [
          5734,
          2913,
          4179,
          2634,
          2704,
          1763,
          3284
         ]
        },
        {
         "mode": "lines",
         "name": "Camelot STIP Proposal - Round 1",
         "stackgroup": "one",
         "type": "scatter",
         "x": [
          "day1",
          "day2",
          "day3",
          "day4",
          "day5",
          "day6",
          "day7"
         ],
         "y": [
          5953,
          3653,
          4097,
          2602,
          2566,
          2079,
          3321
         ]
        },
        {
         "mode": "lines",
         "name": "Rodeo Finance STIP Proposal - Round 1",
         "stackgroup": "one",
         "type": "scatter",
         "x": [
          "day1",
          "day2",
          "day3",
          "day4",
          "day5",
          "day6",
          "day7"
         ],
         "y": [
          5556,
          2827,
          3895,
          2548,
          2398,
          1911,
          3258
         ]
        },
        {
         "mode": "lines",
         "name": "Dolomite STIP Proposal - Round 1",
         "stackgroup": "one",
         "type": "scatter",
         "x": [
          "day1",
          "day2",
          "day3",
          "day4",
          "day5",
          "day6",
          "day7"
         ],
         "y": [
          5434,
          2793,
          3884,
          2521,
          2310,
          1976,
          3030
         ]
        },
        {
         "mode": "lines",
         "name": "Furucombo STIP Proposal - Round 1",
         "stackgroup": "one",
         "type": "scatter",
         "x": [
          "day1",
          "day2",
          "day3",
          "day4",
          "day5",
          "day6",
          "day7"
         ],
         "y": [
          5380,
          2777,
          3967,
          2560,
          2210,
          2051,
          3065
         ]
        },
        {
         "mode": "lines",
         "name": "Vertex Protocol STIP Proposal - Round 1",
         "stackgroup": "one",
         "type": "scatter",
         "x": [
          "day1",
          "day2",
          "day3",
          "day4",
          "day5",
          "day6",
          "day7"
         ],
         "y": [
          5383,
          2906,
          3955,
          2688,
          2322,
          1912,
          2775
         ]
        },
        {
         "mode": "lines",
         "name": "ALAYA STIP Proposal - Round 1",
         "stackgroup": "one",
         "type": "scatter",
         "x": [
          "day1",
          "day2",
          "day3",
          "day4",
          "day5",
          "day6",
          "day7"
         ],
         "y": [
          5149,
          2667,
          3694,
          2689,
          2153,
          1619,
          3004
         ]
        },
        {
         "mode": "lines",
         "name": "Curve STIP Proposal - Round 1",
         "stackgroup": "one",
         "type": "scatter",
         "x": [
          "day1",
          "day2",
          "day3",
          "day4",
          "day5",
          "day6",
          "day7"
         ],
         "y": [
          4163,
          3584,
          3645,
          2804,
          2196,
          1833,
          3128
         ]
        },
        {
         "mode": "lines",
         "name": "ZKasino STIP Proposal - Round 1",
         "stackgroup": "one",
         "type": "scatter",
         "x": [
          "day1",
          "day2",
          "day3",
          "day4",
          "day5",
          "day6",
          "day7"
         ],
         "y": [
          4821,
          2640,
          3351,
          2683,
          2169,
          1780,
          2846
         ]
        },
        {
         "mode": "lines",
         "name": "Thetanuts STIP Proposal - Round 1",
         "stackgroup": "one",
         "type": "scatter",
         "x": [
          "day1",
          "day2",
          "day3",
          "day4",
          "day5",
          "day6",
          "day7"
         ],
         "y": [
          4742,
          2499,
          3299,
          2665,
          2234,
          1917,
          2822
         ]
        },
        {
         "mode": "lines",
         "name": "PancakeSwap STIP Proposal - Round 1",
         "stackgroup": "one",
         "type": "scatter",
         "x": [
          "day1",
          "day2",
          "day3",
          "day4",
          "day5",
          "day6",
          "day7"
         ],
         "y": [
          4874,
          2665,
          3607,
          2424,
          2488,
          1841,
          2855
         ]
        },
        {
         "mode": "lines",
         "name": "Beefy STIP Proposal - Round 1",
         "stackgroup": "one",
         "type": "scatter",
         "x": [
          "day1",
          "day2",
          "day3",
          "day4",
          "day5",
          "day6",
          "day7"
         ],
         "y": [
          4718,
          2585,
          3477,
          2326,
          2430,
          1698,
          2589
         ]
        },
        {
         "mode": "lines",
         "name": "Timeswap STIP Proposal - Round 1",
         "stackgroup": "one",
         "type": "scatter",
         "x": [
          "day1",
          "day2",
          "day3",
          "day4",
          "day5",
          "day6",
          "day7"
         ],
         "y": [
          4590,
          2590,
          3299,
          2299,
          2341,
          1637,
          2721
         ]
        },
        {
         "mode": "lines",
         "name": "QiDao STIP Proposal - Round 1",
         "stackgroup": "one",
         "type": "scatter",
         "x": [
          "day1",
          "day2",
          "day3",
          "day4",
          "day5",
          "day6",
          "day7"
         ],
         "y": [
          4513,
          2438,
          3389,
          2243,
          2164,
          1508,
          2480
         ]
        },
        {
         "mode": "lines",
         "name": "DefiEdge STIP Proposal - Round 1",
         "stackgroup": "one",
         "type": "scatter",
         "x": [
          "day1",
          "day2",
          "day3",
          "day4",
          "day5",
          "day6",
          "day7"
         ],
         "y": [
          4458,
          2380,
          3429,
          2278,
          2168,
          1578,
          2657
         ]
        },
        {
         "mode": "lines",
         "name": "StakeDAO STIP Proposal - Round 1",
         "stackgroup": "one",
         "type": "scatter",
         "x": [
          "day1",
          "day2",
          "day3",
          "day4",
          "day5",
          "day6",
          "day7"
         ],
         "y": [
          4435,
          2362,
          3394,
          2224,
          2232,
          1598,
          2462
         ]
        },
        {
         "mode": "lines",
         "name": "Vaultka STIP Proposal - Round 1",
         "stackgroup": "one",
         "type": "scatter",
         "x": [
          "day1",
          "day2",
          "day3",
          "day4",
          "day5",
          "day6",
          "day7"
         ],
         "y": [
          4409,
          2340,
          3349,
          2231,
          2106,
          1589,
          2741
         ]
        },
        {
         "mode": "lines",
         "name": "WOOFi STIP Proposal - Round 1",
         "stackgroup": "one",
         "type": "scatter",
         "x": [
          "day1",
          "day2",
          "day3",
          "day4",
          "day5",
          "day6",
          "day7"
         ],
         "y": [
          4500,
          2541,
          3511,
          2291,
          2183,
          1677,
          2751
         ]
        },
        {
         "mode": "lines",
         "name": "Quadrat STIP Proposal - Round 1",
         "stackgroup": "one",
         "type": "scatter",
         "x": [
          "day1",
          "day2",
          "day3",
          "day4",
          "day5",
          "day6",
          "day7"
         ],
         "y": [
          3351,
          3285,
          3295,
          2224,
          2096,
          1533,
          2549
         ]
        },
        {
         "mode": "lines",
         "name": "CVI STIP Proposal - Round 1",
         "stackgroup": "one",
         "type": "scatter",
         "x": [
          "day1",
          "day2",
          "day3",
          "day4",
          "day5",
          "day6",
          "day7"
         ],
         "y": [
          3302,
          3183,
          3212,
          2237,
          2082,
          1542,
          2724
         ]
        },
        {
         "mode": "lines",
         "name": "Artichoke Protocol STIP Proposal - Round 1",
         "stackgroup": "one",
         "type": "scatter",
         "x": [
          "day1",
          "day2",
          "day3",
          "day4",
          "day5",
          "day6",
          "day7"
         ],
         "y": [
          3313,
          3190,
          3315,
          2193,
          2093,
          1540,
          2642
         ]
        },
        {
         "mode": "lines",
         "name": "HMX STIP Proposal - Round 1",
         "stackgroup": "one",
         "type": "scatter",
         "x": [
          "day1",
          "day2",
          "day3",
          "day4",
          "day5",
          "day6",
          "day7"
         ],
         "y": [
          3265,
          3246,
          3126,
          2257,
          2044,
          1523,
          2610
         ]
        },
        {
         "mode": "lines",
         "name": "Gamma STIP Proposal - Round 1",
         "stackgroup": "one",
         "type": "scatter",
         "x": [
          "day1",
          "day2",
          "day3",
          "day4",
          "day5",
          "day6",
          "day7"
         ],
         "y": [
          3295,
          3224,
          3072,
          2327,
          2055,
          1532,
          2605
         ]
        },
        {
         "mode": "lines",
         "name": "Perennial Finance STIP Proposal - Round 1",
         "stackgroup": "one",
         "type": "scatter",
         "x": [
          "day1",
          "day2",
          "day3",
          "day4",
          "day5",
          "day6",
          "day7"
         ],
         "y": [
          3249,
          3339,
          3030,
          2273,
          2031,
          1531,
          2592
         ]
        },
        {
         "mode": "lines",
         "name": "Wormhole STIP Proposal - Round 1",
         "stackgroup": "one",
         "type": "scatter",
         "x": [
          "day1",
          "day2",
          "day3",
          "day4",
          "day5",
          "day6",
          "day7"
         ],
         "y": [
          3206,
          3209,
          3188,
          2194,
          1974,
          1497,
          2621
         ]
        },
        {
         "mode": "lines",
         "name": "Angle Protocol STIP Proposal - Round 1",
         "stackgroup": "one",
         "type": "scatter",
         "x": [
          "day1",
          "day2",
          "day3",
          "day4",
          "day5",
          "day6",
          "day7"
         ],
         "y": [
          3173,
          3244,
          3056,
          2247,
          2119,
          1557,
          2668
         ]
        },
        {
         "mode": "lines",
         "name": "OmniBTC STIP Proposal - Round 1",
         "stackgroup": "one",
         "type": "scatter",
         "x": [
          "day1",
          "day2",
          "day3",
          "day4",
          "day5",
          "day6",
          "day7"
         ],
         "y": [
          3143,
          3208,
          3048,
          2328,
          1911,
          1643,
          2638
         ]
        },
        {
         "mode": "lines",
         "name": "Magpie, Penpie, Radpie, Campie STIP Proposal - Round 1",
         "stackgroup": "one",
         "type": "scatter",
         "x": [
          "day1",
          "day2",
          "day3",
          "day4",
          "day5",
          "day6",
          "day7"
         ],
         "y": [
          3149,
          3152,
          3091,
          2267,
          1882,
          1631,
          2473
         ]
        },
        {
         "mode": "lines",
         "name": "Galxe STIP Proposal - Round 1",
         "stackgroup": "one",
         "type": "scatter",
         "x": [
          "day1",
          "day2",
          "day3",
          "day4",
          "day5",
          "day6",
          "day7"
         ],
         "y": [
          3240,
          3358,
          3241,
          2257,
          2143,
          1695,
          2611
         ]
        },
        {
         "mode": "lines",
         "name": "Solv Protocol STIP Proposal - Round 1",
         "stackgroup": "one",
         "type": "scatter",
         "x": [
          "day1",
          "day2",
          "day3",
          "day4",
          "day5",
          "day6",
          "day7"
         ],
         "y": [
          3101,
          3075,
          3084,
          2084,
          1966,
          1638,
          2567
         ]
        },
        {
         "mode": "lines",
         "name": "REALM STIP Proposal - Round 1",
         "stackgroup": "one",
         "type": "scatter",
         "x": [
          "day1",
          "day2",
          "day3",
          "day4",
          "day5",
          "day6",
          "day7"
         ],
         "y": [
          3020,
          3036,
          2979,
          2103,
          1945,
          1646,
          2425
         ]
        },
        {
         "mode": "lines",
         "name": "Wombex Finance STIP Proposal - Round 1",
         "stackgroup": "one",
         "type": "scatter",
         "x": [
          "day1",
          "day2",
          "day3",
          "day4",
          "day5",
          "day6",
          "day7"
         ],
         "y": [
          2977,
          3015,
          3287,
          2089,
          1936,
          1645,
          2484
         ]
        },
        {
         "mode": "lines",
         "name": "dForce STIP Proposal - Round 1",
         "stackgroup": "one",
         "type": "scatter",
         "x": [
          "day1",
          "day2",
          "day3",
          "day4",
          "day5",
          "day6",
          "day7"
         ],
         "y": [
          2974,
          3010,
          3244,
          2076,
          1889,
          1527,
          2555
         ]
        },
        {
         "mode": "lines",
         "name": "Relay Chain: James Bot STIP Proposal - Round 1",
         "stackgroup": "one",
         "type": "scatter",
         "x": [
          "day1",
          "day2",
          "day3",
          "day4",
          "day5",
          "day6",
          "day7"
         ],
         "y": [
          2965,
          2968,
          3265,
          2118,
          1800,
          1483,
          2526
         ]
        },
        {
         "mode": "lines",
         "name": "Equilibria STIP Proposal - Round 1",
         "stackgroup": "one",
         "type": "scatter",
         "x": [
          "day1",
          "day2",
          "day3",
          "day4",
          "day5",
          "day6",
          "day7"
         ],
         "y": [
          2958,
          2988,
          3272,
          2085,
          1940,
          1524,
          2608
         ]
        },
        {
         "mode": "lines",
         "name": "Balancer DAO STIP Proposal - Round 1",
         "stackgroup": "one",
         "type": "scatter",
         "x": [
          "day1",
          "day2",
          "day3",
          "day4",
          "day5",
          "day6",
          "day7"
         ],
         "y": [
          2983,
          3081,
          3285,
          2196,
          2026,
          1638,
          2971
         ]
        },
        {
         "mode": "lines",
         "name": "Arrakis Finance STIP Proposal - Round 1",
         "stackgroup": "one",
         "type": "scatter",
         "x": [
          "day1",
          "day2",
          "day3",
          "day4",
          "day5",
          "day6",
          "day7"
         ],
         "y": [
          2931,
          2958,
          3251,
          2064,
          1969,
          1522,
          2700
         ]
        },
        {
         "mode": "lines",
         "name": "tBTC STIP Proposal - Round 1",
         "stackgroup": "one",
         "type": "scatter",
         "x": [
          "day1",
          "day2",
          "day3",
          "day4",
          "day5",
          "day6",
          "day7"
         ],
         "y": [
          2854,
          2916,
          3274,
          2019,
          1932,
          1538,
          2436
         ]
        },
        {
         "mode": "lines",
         "name": "Vela Exchange STIP Proposal - Round 1",
         "stackgroup": "one",
         "type": "scatter",
         "x": [
          "day1",
          "day2",
          "day3",
          "day4",
          "day5",
          "day6",
          "day7"
         ],
         "y": [
          2837,
          3079,
          3281,
          2050,
          1942,
          1553,
          2622
         ]
        },
        {
         "mode": "lines",
         "name": "Socket STIP Proposal - Round 1",
         "stackgroup": "one",
         "type": "scatter",
         "x": [
          "day1",
          "day2",
          "day3",
          "day4",
          "day5",
          "day6",
          "day7"
         ],
         "y": [
          2815,
          3052,
          3333,
          2055,
          1901,
          1583,
          3060
         ]
        },
        {
         "mode": "lines",
         "name": "Lido STIP Proposal - Round 1",
         "stackgroup": "one",
         "type": "scatter",
         "x": [
          "day1",
          "day2",
          "day3",
          "day4",
          "day5",
          "day6",
          "day7"
         ],
         "y": [
          2788,
          3013,
          3327,
          2093,
          1773,
          1658,
          3040
         ]
        },
        {
         "mode": "lines",
         "name": "Stargate Finance STIP Proposal - Round 1",
         "stackgroup": "one",
         "type": "scatter",
         "x": [
          "day1",
          "day2",
          "day3",
          "day4",
          "day5",
          "day6",
          "day7"
         ],
         "y": [
          3015,
          3697,
          3372,
          2126,
          1896,
          1775,
          3007
         ]
        },
        {
         "mode": "lines",
         "name": "MUX Protocol STIP Proposal - Round 1",
         "stackgroup": "one",
         "type": "scatter",
         "x": [
          "day1",
          "day2",
          "day3",
          "day4",
          "day5",
          "day6",
          "day7"
         ],
         "y": [
          2681,
          3010,
          3258,
          2079,
          1786,
          1624,
          2805
         ]
        },
        {
         "mode": "lines",
         "name": "Tally STIP Proposal - Round 1",
         "stackgroup": "one",
         "type": "scatter",
         "x": [
          "day1",
          "day2",
          "day3",
          "day4",
          "day5",
          "day6",
          "day7"
         ],
         "y": [
          2727,
          3487,
          3371,
          1998,
          1793,
          1753,
          2854
         ]
        },
        {
         "mode": "lines",
         "name": "Dopex STIP Proposal - Round 1",
         "stackgroup": "one",
         "type": "scatter",
         "x": [
          "day1",
          "day2",
          "day3",
          "day4",
          "day5",
          "day6",
          "day7"
         ],
         "y": [
          2596,
          2977,
          3259,
          2017,
          1764,
          1708,
          2575
         ]
        },
        {
         "mode": "lines",
         "name": "GMX STIP Proposal - Round 1",
         "stackgroup": "one",
         "type": "scatter",
         "x": [
          "day1",
          "day2",
          "day3",
          "day4",
          "day5",
          "day6",
          "day7"
         ],
         "y": [
          2693,
          3115,
          3257,
          2074,
          1780,
          1756,
          2883
         ]
        },
        {
         "mode": "lines",
         "name": "Prime Protocol STIP Proposal - Round 1",
         "stackgroup": "one",
         "type": "scatter",
         "x": [
          "day1",
          "day2",
          "day3",
          "day4",
          "day5",
          "day6",
          "day7"
         ],
         "y": [
          2656,
          2980,
          3193,
          2035,
          1738,
          1549,
          2775
         ]
        },
        {
         "mode": "lines",
         "name": "LODESTAR FINANCE STIP Proposal - Round 1",
         "stackgroup": "one",
         "type": "scatter",
         "x": [
          "day1",
          "day2",
          "day3",
          "day4",
          "day5",
          "day6",
          "day7"
         ],
         "y": [
          2649,
          2956,
          3209,
          2069,
          1731,
          1598,
          2831
         ]
        },
        {
         "mode": "lines",
         "name": "KeplerHomes STIP Proposal - Round 1",
         "stackgroup": "one",
         "type": "scatter",
         "x": [
          "day1",
          "day2",
          "day3",
          "day4",
          "day5",
          "day6",
          "day7"
         ],
         "y": [
          2549,
          3004,
          3123,
          2146,
          1715,
          1530,
          2751
         ]
        },
        {
         "mode": "lines",
         "name": "LOGX STIP Proposal - Round 1",
         "stackgroup": "one",
         "type": "scatter",
         "x": [
          "day1",
          "day2",
          "day3",
          "day4",
          "day5",
          "day6",
          "day7"
         ],
         "y": [
          2550,
          2914,
          3167,
          2067,
          1731,
          1529,
          2425
         ]
        },
        {
         "mode": "lines",
         "name": "Range Protocol STIP Proposal - Round 1",
         "stackgroup": "one",
         "type": "scatter",
         "x": [
          "day1",
          "day2",
          "day3",
          "day4",
          "day5",
          "day6",
          "day7"
         ],
         "y": [
          2557,
          2925,
          3114,
          2023,
          1811,
          1519,
          2660
         ]
        },
        {
         "mode": "lines",
         "name": "Frax Finance STIP Proposal - Round 1",
         "stackgroup": "one",
         "type": "scatter",
         "x": [
          "day1",
          "day2",
          "day3",
          "day4",
          "day5",
          "day6",
          "day7"
         ],
         "y": [
          2573,
          3044,
          2614,
          2101,
          1771,
          1579,
          2766
         ]
        },
        {
         "mode": "lines",
         "name": "Abracadabra DAO STIP Proposal - Round 1",
         "stackgroup": "one",
         "type": "scatter",
         "x": [
          "day1",
          "day2",
          "day3",
          "day4",
          "day5",
          "day6",
          "day7"
         ],
         "y": [
          2587,
          3693,
          2646,
          2091,
          1732,
          1583,
          2860
         ]
        },
        {
         "mode": "lines",
         "name": "Umami STIP Proposal - Round 1",
         "stackgroup": "one",
         "type": "scatter",
         "x": [
          "day1",
          "day2",
          "day3",
          "day4",
          "day5",
          "day6",
          "day7"
         ],
         "y": [
          2479,
          3503,
          2607,
          2149,
          1732,
          1589,
          2809
         ]
        },
        {
         "mode": "lines",
         "name": "Webacy STIP Proposal - Round 1",
         "stackgroup": "one",
         "type": "scatter",
         "x": [
          "day1",
          "day2",
          "day3",
          "day4",
          "day5",
          "day6",
          "day7"
         ],
         "y": [
          2509,
          3483,
          2551,
          2030,
          1684,
          1392,
          2930
         ]
        },
        {
         "mode": "lines",
         "name": "Chronos Finance STIP Proposal - Round 1",
         "stackgroup": "one",
         "type": "scatter",
         "x": [
          "day1",
          "day2",
          "day3",
          "day4",
          "day5",
          "day6",
          "day7"
         ],
         "y": [
          2101,
          3564,
          2536,
          2054,
          1727,
          1438,
          2861
         ]
        },
        {
         "mode": "lines",
         "name": "OpenOcean STIP Proposal - Round 1",
         "stackgroup": "one",
         "type": "scatter",
         "x": [
          "day1",
          "day2",
          "day3",
          "day4",
          "day5",
          "day6",
          "day7"
         ],
         "y": [
          2501,
          3480,
          2577,
          2044,
          1745,
          1475,
          2779
         ]
        },
        {
         "mode": "lines",
         "name": "CRYPTEX STIP Proposal - Round 1",
         "stackgroup": "one",
         "type": "scatter",
         "x": [
          "day1",
          "day2",
          "day3",
          "day4",
          "day5",
          "day6",
          "day7"
         ],
         "y": [
          2095,
          3444,
          2570,
          2041,
          1701,
          1433,
          2568
         ]
        },
        {
         "mode": "lines",
         "name": "Florence Finance STIP Proposal - Round 1",
         "stackgroup": "one",
         "type": "scatter",
         "x": [
          "day1",
          "day2",
          "day3",
          "day4",
          "day5",
          "day6",
          "day7"
         ],
         "y": [
          2443,
          3448,
          2518,
          2090,
          1662,
          1636,
          2366
         ]
        },
        {
         "mode": "lines",
         "name": "0xGen STIP Proposal - Round 1",
         "stackgroup": "one",
         "type": "scatter",
         "x": [
          "day1",
          "day2",
          "day3",
          "day4",
          "day5",
          "day6",
          "day7"
         ],
         "y": [
          2469,
          3424,
          2487,
          2091,
          1714,
          1668,
          2306
         ]
        },
        {
         "mode": "lines",
         "name": "Stella STIP Proposal - Round 1",
         "stackgroup": "one",
         "type": "scatter",
         "x": [
          "day1",
          "day2",
          "day3",
          "day4",
          "day5",
          "day6",
          "day7"
         ],
         "y": [
          2061,
          3463,
          2552,
          2091,
          1700,
          1672,
          2106
         ]
        },
        {
         "mode": "lines",
         "name": "Notional STIP Proposal - Round 1",
         "stackgroup": "one",
         "type": "scatter",
         "x": [
          "day1",
          "day2",
          "day3",
          "day4",
          "day5",
          "day6",
          "day7"
         ],
         "y": [
          2430,
          3455,
          2535,
          2086,
          1682,
          1649,
          2293
         ]
        },
        {
         "mode": "lines",
         "name": "Gains Network STIP Proposal - Round 1",
         "stackgroup": "one",
         "type": "scatter",
         "x": [
          "day1",
          "day2",
          "day3",
          "day4",
          "day5",
          "day6",
          "day7"
         ],
         "y": [
          2462,
          3470,
          2518,
          2073,
          1785,
          1704,
          2354
         ]
        },
        {
         "mode": "lines",
         "name": "TIDE STIP Proposal - Round 1",
         "stackgroup": "one",
         "type": "scatter",
         "x": [
          "day1",
          "day2",
          "day3",
          "day4",
          "day5",
          "day6",
          "day7"
         ],
         "y": [
          2045,
          3464,
          2516,
          2049,
          1810,
          1681,
          2308
         ]
        },
        {
         "mode": "lines",
         "name": "Trader Joe STIP Proposal - Round 1",
         "stackgroup": "one",
         "type": "scatter",
         "x": [
          "day1",
          "day2",
          "day3",
          "day4",
          "day5",
          "day6",
          "day7"
         ],
         "y": [
          2525,
          3532,
          2563,
          2129,
          1899,
          1741,
          2391
         ]
        },
        {
         "mode": "lines",
         "name": "Archi Finance STIP Proposal - Round 1",
         "stackgroup": "one",
         "type": "scatter",
         "x": [
          "day1",
          "day2",
          "day3",
          "day4",
          "day5",
          "day6",
          "day7"
         ],
         "y": [
          2448,
          3464,
          2530,
          2099,
          2056,
          1421,
          2130
         ]
        },
        {
         "mode": "lines",
         "name": "KyberSwap STIP Proposal - Round 1",
         "stackgroup": "one",
         "type": "scatter",
         "x": [
          "day1",
          "day2",
          "day3",
          "day4",
          "day5",
          "day6",
          "day7"
         ],
         "y": [
          2546,
          3907,
          2564,
          2168,
          2078,
          1442,
          2328
         ]
        },
        {
         "mode": "lines",
         "name": "Cian STIP Proposal - Round 1",
         "stackgroup": "one",
         "type": "scatter",
         "x": [
          "day1",
          "day2",
          "day3",
          "day4",
          "day5",
          "day6",
          "day7"
         ],
         "y": [
          2414,
          3467,
          2487,
          2054,
          2067,
          1346,
          2374
         ]
        },
        {
         "mode": "lines",
         "name": "Modular Wallet STIP Proposal - Round 1",
         "stackgroup": "one",
         "type": "scatter",
         "x": [
          "day1",
          "day2",
          "day3",
          "day4",
          "day5",
          "day6",
          "day7"
         ],
         "y": [
          2035,
          3443,
          2490,
          2120,
          1976,
          1312,
          2407
         ]
        },
        {
         "mode": "lines",
         "name": "Savvy STIP Proposal - Round 1",
         "stackgroup": "one",
         "type": "scatter",
         "x": [
          "day1",
          "day2",
          "day3",
          "day4",
          "day5",
          "day6",
          "day7"
         ],
         "y": [
          2438,
          3596,
          2508,
          2262,
          1917,
          1294,
          2202
         ]
        },
        {
         "mode": "lines",
         "name": "XY STIP Proposal - Round 1",
         "stackgroup": "one",
         "type": "scatter",
         "x": [
          "day1",
          "day2",
          "day3",
          "day4",
          "day5",
          "day6",
          "day7"
         ],
         "y": [
          2693,
          3454,
          2506,
          1987,
          1921,
          1286,
          3086
         ]
        },
        {
         "mode": "lines",
         "name": "Pendle STIP Proposal - Round 1",
         "stackgroup": "one",
         "type": "scatter",
         "x": [
          "day1",
          "day2",
          "day3",
          "day4",
          "day5",
          "day6",
          "day7"
         ],
         "y": [
          2553,
          3665,
          2534,
          2326,
          1962,
          1369,
          2892
         ]
        },
        {
         "mode": "lines",
         "name": "RAMSES STIP Proposal - Round 1",
         "stackgroup": "one",
         "type": "scatter",
         "x": [
          "day1",
          "day2",
          "day3",
          "day4",
          "day5",
          "day6",
          "day7"
         ],
         "y": [
          2427,
          3036,
          2505,
          2285,
          1961,
          1281,
          2806
         ]
        },
        {
         "mode": "lines",
         "name": "Shell Protocol STIP Proposal - Round 1",
         "stackgroup": "one",
         "type": "scatter",
         "x": [
          "day1",
          "day2",
          "day3",
          "day4",
          "day5",
          "day6",
          "day7"
         ],
         "y": [
          2476,
          3168,
          2799,
          2037,
          1886,
          1381,
          3032
         ]
        },
        {
         "mode": "lines",
         "name": "Guru Network STIP Proposal - Round 1",
         "stackgroup": "one",
         "type": "scatter",
         "x": [
          "day1",
          "day2",
          "day3",
          "day4",
          "day5",
          "day6",
          "day7"
         ],
         "y": [
          2429,
          3027,
          2771,
          2013,
          1795,
          1355,
          3095
         ]
        },
        {
         "mode": "lines",
         "name": "unshETH STIP Proposal - Round 1",
         "stackgroup": "one",
         "type": "scatter",
         "x": [
          "day1",
          "day2",
          "day3",
          "day4",
          "day5",
          "day6",
          "day7"
         ],
         "y": [
          2418,
          2982,
          2791,
          1969,
          1826,
          1362,
          3104
         ]
        },
        {
         "mode": "lines",
         "name": "Premia STIP Proposal - Round 1",
         "stackgroup": "one",
         "type": "scatter",
         "x": [
          "day1",
          "day2",
          "day3",
          "day4",
          "day5",
          "day6",
          "day7"
         ],
         "y": [
          2636,
          3734,
          2618,
          2002,
          1848,
          1437,
          2971
         ]
        },
        {
         "mode": "lines",
         "name": "RabbitHole STIP Proposal - Round 1",
         "stackgroup": "one",
         "type": "scatter",
         "x": [
          "day1",
          "day2",
          "day3",
          "day4",
          "day5",
          "day6",
          "day7"
         ],
         "y": [
          2737,
          4201,
          2637,
          2029,
          1907,
          1510,
          3282
         ]
        },
        {
         "mode": "lines",
         "name": "Arbidex STIP Proposal - Round 1",
         "stackgroup": "one",
         "type": "scatter",
         "x": [
          "day1",
          "day2",
          "day3",
          "day4",
          "day5",
          "day6",
          "day7"
         ],
         "y": [
          2596,
          3709,
          2597,
          1930,
          1829,
          1351,
          3005
         ]
        },
        {
         "mode": "lines",
         "name": "RADIANT STIP Proposal - Round 1",
         "stackgroup": "one",
         "type": "scatter",
         "x": [
          "day1",
          "day2",
          "day3",
          "day4",
          "day5",
          "day6",
          "day7"
         ],
         "y": [
          2813,
          4265,
          2631,
          1968,
          1824,
          1521,
          3028
         ]
        },
        {
         "mode": "lines",
         "name": "WINR Protocol STIP Proposal - Round 1",
         "stackgroup": "one",
         "type": "scatter",
         "x": [
          "day1",
          "day2",
          "day3",
          "day4",
          "day5",
          "day6",
          "day7"
         ],
         "y": [
          2682,
          3753,
          2567,
          1975,
          1993,
          1346,
          3009
         ]
        },
        {
         "mode": "lines",
         "name": "ApolloX STIP Proposal - Round 1",
         "stackgroup": "one",
         "type": "scatter",
         "x": [
          "day1",
          "day2",
          "day3",
          "day4",
          "day5",
          "day6",
          "day7"
         ],
         "y": [
          2664,
          3749,
          2597,
          2008,
          2018,
          1362,
          2943
         ]
        },
        {
         "mode": "lines",
         "name": "NFTEarth STIP Proposal - Round 1",
         "stackgroup": "one",
         "type": "scatter",
         "x": [
          "day1",
          "day2",
          "day3",
          "day4",
          "day5",
          "day6",
          "day7"
         ],
         "y": [
          3216,
          3269,
          2635,
          2012,
          2097,
          1386,
          2958
         ]
        },
        {
         "mode": "lines",
         "name": "SpartaDEX STIP Proposal - Round 1",
         "stackgroup": "one",
         "type": "scatter",
         "x": [
          "day1",
          "day2",
          "day3",
          "day4",
          "day5",
          "day6",
          "day7"
         ],
         "y": [
          3372,
          3346,
          2680,
          2159,
          2044,
          1428,
          2972
         ]
        },
        {
         "mode": "lines",
         "name": "Tales of Elleria STIP Proposal - Round 1",
         "stackgroup": "one",
         "type": "scatter",
         "x": [
          "day1",
          "day2",
          "day3",
          "day4",
          "day5",
          "day6",
          "day7"
         ],
         "y": [
          3863,
          3554,
          2754,
          2215,
          2246,
          1521,
          2342
         ]
        },
        {
         "mode": "lines",
         "name": "Time Management in ArbitrumÃÂÃÂ¢ÃÂÃÂÃÂÃÂs Governance",
         "stackgroup": "one",
         "type": "scatter",
         "x": [
          "day1",
          "day2",
          "day3",
          "day4",
          "day5",
          "day6",
          "day7"
         ],
         "y": [
          10692,
          10130,
          7127,
          4793,
          4020,
          7582,
          6341
         ]
        },
        {
         "mode": "lines",
         "name": "Proposal: Building the Future of NFTs: The Rarible Protocol - Arbitrum Integration Proposal [REVISED]",
         "stackgroup": "one",
         "type": "scatter",
         "x": [
          "day1",
          "day2",
          "day3",
          "day4",
          "day5",
          "day6",
          "day7"
         ],
         "y": [
          17931,
          8220,
          8870,
          5297,
          3350,
          3078,
          3788
         ]
        },
        {
         "mode": "lines",
         "name": "Proposal to onboard Matrixed.Link as a validator for Arbitrum",
         "stackgroup": "one",
         "type": "scatter",
         "x": [
          "day1",
          "day2",
          "day3",
          "day4",
          "day5",
          "day6",
          "day7"
         ],
         "y": [
          18386,
          9939,
          5953,
          3742,
          2601,
          2691,
          1764
         ]
        },
        {
         "mode": "lines",
         "name": "Proposal: Security Council Elections Proposed Implementation Spec",
         "stackgroup": "one",
         "type": "scatter",
         "x": [
          "day1",
          "day2",
          "day3",
          "day4",
          "day5",
          "day6",
          "day7"
         ],
         "y": [
          14059,
          8040,
          10305,
          7324,
          6951,
          3639,
          3188
         ]
        },
        {
         "mode": "lines",
         "name": "Proposal: Update Security Council Election Start Date to Ensure Time for Security Audit",
         "stackgroup": "one",
         "type": "scatter",
         "x": [
          "day1",
          "day2",
          "day3",
          "day4",
          "day5",
          "day6",
          "day7"
         ],
         "y": [
          12628,
          10866,
          10056,
          6498,
          4811,
          3573,
          3038
         ]
        },
        {
         "mode": "lines",
         "name": "Accelerating Arbitrum - leveraging Camelot as an ecosystem hub to support native builders",
         "stackgroup": "one",
         "type": "scatter",
         "x": [
          "day1",
          "day2",
          "day3",
          "day4",
          "day5",
          "day6",
          "day7"
         ],
         "y": [
          11897,
          11468,
          9838,
          5956,
          4455,
          2674,
          3201
         ]
        },
        {
         "mode": "lines",
         "name": "[Non-Constitutional] Fund the Arbitrum Grants Framework Proposal Milestone 1",
         "stackgroup": "one",
         "type": "scatter",
         "x": [
          "day1",
          "day2",
          "day3",
          "day4",
          "day5",
          "day6",
          "day7"
         ],
         "y": [
          15375,
          7651,
          8133,
          5657,
          2901,
          3456,
          6335
         ]
        },
        {
         "mode": "lines",
         "name": "Arbitrum DAO Grants - Delegated Domain Allocation by Questbook",
         "stackgroup": "one",
         "type": "scatter",
         "x": [
          "day1",
          "day2",
          "day3",
          "day4",
          "day5",
          "day6",
          "day7"
         ],
         "y": [
          9362,
          10999,
          8631,
          6477,
          4788,
          2991,
          8340
         ]
        },
        {
         "mode": "lines",
         "name": "Proposal: Activate support for account abstraction endpoint on One and Nova",
         "stackgroup": "one",
         "type": "scatter",
         "x": [
          "day1",
          "day2",
          "day3",
          "day4",
          "day5",
          "day6",
          "day7"
         ],
         "y": [
          12098,
          8268,
          7468,
          5993,
          5064,
          3770,
          3332
         ]
        },
        {
         "mode": "lines",
         "name": "AIP-1.2 - Foundation and DAO Governance",
         "stackgroup": "one",
         "type": "scatter",
         "x": [
          "day1",
          "day2",
          "day3",
          "day4",
          "day5",
          "day6",
          "day7"
         ],
         "y": [
          22617,
          7762,
          5298,
          4026,
          2817,
          1976,
          1748
         ]
        },
        {
         "mode": "lines",
         "name": "AIP-1.1 - Lockup, Budget, Transparency",
         "stackgroup": "one",
         "type": "scatter",
         "x": [
          "day1",
          "day2",
          "day3",
          "day4",
          "day5",
          "day6",
          "day7"
         ],
         "y": [
          22456,
          7760,
          5579,
          3477,
          2700,
          1549,
          1702
         ]
        },
        {
         "mode": "lines",
         "name": "AIP 1.05: Return 700M $ARB to the DAO Treasury [REAL]",
         "stackgroup": "one",
         "type": "scatter",
         "x": [
          "day1",
          "day2",
          "day3",
          "day4",
          "day5",
          "day6",
          "day7"
         ],
         "y": [
          14913,
          6778,
          7991,
          6890,
          2187,
          2143,
          2487
         ]
        },
        {
         "mode": "lines",
         "name": "AIP-1: Arbitrum Improvement Proposal Framework",
         "stackgroup": "one",
         "type": "scatter",
         "x": [
          "day1",
          "day2",
          "day3",
          "day4",
          "day5",
          "day6",
          "day7"
         ],
         "y": [
          0,
          8,
          13110,
          3984,
          2766,
          4122,
          2144
         ]
        }
       ],
       "layout": {
        "showlegend": false,
        "template": {
         "data": {
          "bar": [
           {
            "error_x": {
             "color": "#2a3f5f"
            },
            "error_y": {
             "color": "#2a3f5f"
            },
            "marker": {
             "line": {
              "color": "#E5ECF6",
              "width": 0.5
             },
             "pattern": {
              "fillmode": "overlay",
              "size": 10,
              "solidity": 0.2
             }
            },
            "type": "bar"
           }
          ],
          "barpolar": [
           {
            "marker": {
             "line": {
              "color": "#E5ECF6",
              "width": 0.5
             },
             "pattern": {
              "fillmode": "overlay",
              "size": 10,
              "solidity": 0.2
             }
            },
            "type": "barpolar"
           }
          ],
          "carpet": [
           {
            "aaxis": {
             "endlinecolor": "#2a3f5f",
             "gridcolor": "white",
             "linecolor": "white",
             "minorgridcolor": "white",
             "startlinecolor": "#2a3f5f"
            },
            "baxis": {
             "endlinecolor": "#2a3f5f",
             "gridcolor": "white",
             "linecolor": "white",
             "minorgridcolor": "white",
             "startlinecolor": "#2a3f5f"
            },
            "type": "carpet"
           }
          ],
          "choropleth": [
           {
            "colorbar": {
             "outlinewidth": 0,
             "ticks": ""
            },
            "type": "choropleth"
           }
          ],
          "contour": [
           {
            "colorbar": {
             "outlinewidth": 0,
             "ticks": ""
            },
            "colorscale": [
             [
              0,
              "#0d0887"
             ],
             [
              0.1111111111111111,
              "#46039f"
             ],
             [
              0.2222222222222222,
              "#7201a8"
             ],
             [
              0.3333333333333333,
              "#9c179e"
             ],
             [
              0.4444444444444444,
              "#bd3786"
             ],
             [
              0.5555555555555556,
              "#d8576b"
             ],
             [
              0.6666666666666666,
              "#ed7953"
             ],
             [
              0.7777777777777778,
              "#fb9f3a"
             ],
             [
              0.8888888888888888,
              "#fdca26"
             ],
             [
              1,
              "#f0f921"
             ]
            ],
            "type": "contour"
           }
          ],
          "contourcarpet": [
           {
            "colorbar": {
             "outlinewidth": 0,
             "ticks": ""
            },
            "type": "contourcarpet"
           }
          ],
          "heatmap": [
           {
            "colorbar": {
             "outlinewidth": 0,
             "ticks": ""
            },
            "colorscale": [
             [
              0,
              "#0d0887"
             ],
             [
              0.1111111111111111,
              "#46039f"
             ],
             [
              0.2222222222222222,
              "#7201a8"
             ],
             [
              0.3333333333333333,
              "#9c179e"
             ],
             [
              0.4444444444444444,
              "#bd3786"
             ],
             [
              0.5555555555555556,
              "#d8576b"
             ],
             [
              0.6666666666666666,
              "#ed7953"
             ],
             [
              0.7777777777777778,
              "#fb9f3a"
             ],
             [
              0.8888888888888888,
              "#fdca26"
             ],
             [
              1,
              "#f0f921"
             ]
            ],
            "type": "heatmap"
           }
          ],
          "heatmapgl": [
           {
            "colorbar": {
             "outlinewidth": 0,
             "ticks": ""
            },
            "colorscale": [
             [
              0,
              "#0d0887"
             ],
             [
              0.1111111111111111,
              "#46039f"
             ],
             [
              0.2222222222222222,
              "#7201a8"
             ],
             [
              0.3333333333333333,
              "#9c179e"
             ],
             [
              0.4444444444444444,
              "#bd3786"
             ],
             [
              0.5555555555555556,
              "#d8576b"
             ],
             [
              0.6666666666666666,
              "#ed7953"
             ],
             [
              0.7777777777777778,
              "#fb9f3a"
             ],
             [
              0.8888888888888888,
              "#fdca26"
             ],
             [
              1,
              "#f0f921"
             ]
            ],
            "type": "heatmapgl"
           }
          ],
          "histogram": [
           {
            "marker": {
             "pattern": {
              "fillmode": "overlay",
              "size": 10,
              "solidity": 0.2
             }
            },
            "type": "histogram"
           }
          ],
          "histogram2d": [
           {
            "colorbar": {
             "outlinewidth": 0,
             "ticks": ""
            },
            "colorscale": [
             [
              0,
              "#0d0887"
             ],
             [
              0.1111111111111111,
              "#46039f"
             ],
             [
              0.2222222222222222,
              "#7201a8"
             ],
             [
              0.3333333333333333,
              "#9c179e"
             ],
             [
              0.4444444444444444,
              "#bd3786"
             ],
             [
              0.5555555555555556,
              "#d8576b"
             ],
             [
              0.6666666666666666,
              "#ed7953"
             ],
             [
              0.7777777777777778,
              "#fb9f3a"
             ],
             [
              0.8888888888888888,
              "#fdca26"
             ],
             [
              1,
              "#f0f921"
             ]
            ],
            "type": "histogram2d"
           }
          ],
          "histogram2dcontour": [
           {
            "colorbar": {
             "outlinewidth": 0,
             "ticks": ""
            },
            "colorscale": [
             [
              0,
              "#0d0887"
             ],
             [
              0.1111111111111111,
              "#46039f"
             ],
             [
              0.2222222222222222,
              "#7201a8"
             ],
             [
              0.3333333333333333,
              "#9c179e"
             ],
             [
              0.4444444444444444,
              "#bd3786"
             ],
             [
              0.5555555555555556,
              "#d8576b"
             ],
             [
              0.6666666666666666,
              "#ed7953"
             ],
             [
              0.7777777777777778,
              "#fb9f3a"
             ],
             [
              0.8888888888888888,
              "#fdca26"
             ],
             [
              1,
              "#f0f921"
             ]
            ],
            "type": "histogram2dcontour"
           }
          ],
          "mesh3d": [
           {
            "colorbar": {
             "outlinewidth": 0,
             "ticks": ""
            },
            "type": "mesh3d"
           }
          ],
          "parcoords": [
           {
            "line": {
             "colorbar": {
              "outlinewidth": 0,
              "ticks": ""
             }
            },
            "type": "parcoords"
           }
          ],
          "pie": [
           {
            "automargin": true,
            "type": "pie"
           }
          ],
          "scatter": [
           {
            "fillpattern": {
             "fillmode": "overlay",
             "size": 10,
             "solidity": 0.2
            },
            "type": "scatter"
           }
          ],
          "scatter3d": [
           {
            "line": {
             "colorbar": {
              "outlinewidth": 0,
              "ticks": ""
             }
            },
            "marker": {
             "colorbar": {
              "outlinewidth": 0,
              "ticks": ""
             }
            },
            "type": "scatter3d"
           }
          ],
          "scattercarpet": [
           {
            "marker": {
             "colorbar": {
              "outlinewidth": 0,
              "ticks": ""
             }
            },
            "type": "scattercarpet"
           }
          ],
          "scattergeo": [
           {
            "marker": {
             "colorbar": {
              "outlinewidth": 0,
              "ticks": ""
             }
            },
            "type": "scattergeo"
           }
          ],
          "scattergl": [
           {
            "marker": {
             "colorbar": {
              "outlinewidth": 0,
              "ticks": ""
             }
            },
            "type": "scattergl"
           }
          ],
          "scattermapbox": [
           {
            "marker": {
             "colorbar": {
              "outlinewidth": 0,
              "ticks": ""
             }
            },
            "type": "scattermapbox"
           }
          ],
          "scatterpolar": [
           {
            "marker": {
             "colorbar": {
              "outlinewidth": 0,
              "ticks": ""
             }
            },
            "type": "scatterpolar"
           }
          ],
          "scatterpolargl": [
           {
            "marker": {
             "colorbar": {
              "outlinewidth": 0,
              "ticks": ""
             }
            },
            "type": "scatterpolargl"
           }
          ],
          "scatterternary": [
           {
            "marker": {
             "colorbar": {
              "outlinewidth": 0,
              "ticks": ""
             }
            },
            "type": "scatterternary"
           }
          ],
          "surface": [
           {
            "colorbar": {
             "outlinewidth": 0,
             "ticks": ""
            },
            "colorscale": [
             [
              0,
              "#0d0887"
             ],
             [
              0.1111111111111111,
              "#46039f"
             ],
             [
              0.2222222222222222,
              "#7201a8"
             ],
             [
              0.3333333333333333,
              "#9c179e"
             ],
             [
              0.4444444444444444,
              "#bd3786"
             ],
             [
              0.5555555555555556,
              "#d8576b"
             ],
             [
              0.6666666666666666,
              "#ed7953"
             ],
             [
              0.7777777777777778,
              "#fb9f3a"
             ],
             [
              0.8888888888888888,
              "#fdca26"
             ],
             [
              1,
              "#f0f921"
             ]
            ],
            "type": "surface"
           }
          ],
          "table": [
           {
            "cells": {
             "fill": {
              "color": "#EBF0F8"
             },
             "line": {
              "color": "white"
             }
            },
            "header": {
             "fill": {
              "color": "#C8D4E3"
             },
             "line": {
              "color": "white"
             }
            },
            "type": "table"
           }
          ]
         },
         "layout": {
          "annotationdefaults": {
           "arrowcolor": "#2a3f5f",
           "arrowhead": 0,
           "arrowwidth": 1
          },
          "autotypenumbers": "strict",
          "coloraxis": {
           "colorbar": {
            "outlinewidth": 0,
            "ticks": ""
           }
          },
          "colorscale": {
           "diverging": [
            [
             0,
             "#8e0152"
            ],
            [
             0.1,
             "#c51b7d"
            ],
            [
             0.2,
             "#de77ae"
            ],
            [
             0.3,
             "#f1b6da"
            ],
            [
             0.4,
             "#fde0ef"
            ],
            [
             0.5,
             "#f7f7f7"
            ],
            [
             0.6,
             "#e6f5d0"
            ],
            [
             0.7,
             "#b8e186"
            ],
            [
             0.8,
             "#7fbc41"
            ],
            [
             0.9,
             "#4d9221"
            ],
            [
             1,
             "#276419"
            ]
           ],
           "sequential": [
            [
             0,
             "#0d0887"
            ],
            [
             0.1111111111111111,
             "#46039f"
            ],
            [
             0.2222222222222222,
             "#7201a8"
            ],
            [
             0.3333333333333333,
             "#9c179e"
            ],
            [
             0.4444444444444444,
             "#bd3786"
            ],
            [
             0.5555555555555556,
             "#d8576b"
            ],
            [
             0.6666666666666666,
             "#ed7953"
            ],
            [
             0.7777777777777778,
             "#fb9f3a"
            ],
            [
             0.8888888888888888,
             "#fdca26"
            ],
            [
             1,
             "#f0f921"
            ]
           ],
           "sequentialminus": [
            [
             0,
             "#0d0887"
            ],
            [
             0.1111111111111111,
             "#46039f"
            ],
            [
             0.2222222222222222,
             "#7201a8"
            ],
            [
             0.3333333333333333,
             "#9c179e"
            ],
            [
             0.4444444444444444,
             "#bd3786"
            ],
            [
             0.5555555555555556,
             "#d8576b"
            ],
            [
             0.6666666666666666,
             "#ed7953"
            ],
            [
             0.7777777777777778,
             "#fb9f3a"
            ],
            [
             0.8888888888888888,
             "#fdca26"
            ],
            [
             1,
             "#f0f921"
            ]
           ]
          },
          "colorway": [
           "#636efa",
           "#EF553B",
           "#00cc96",
           "#ab63fa",
           "#FFA15A",
           "#19d3f3",
           "#FF6692",
           "#B6E880",
           "#FF97FF",
           "#FECB52"
          ],
          "font": {
           "color": "#2a3f5f"
          },
          "geo": {
           "bgcolor": "white",
           "lakecolor": "white",
           "landcolor": "#E5ECF6",
           "showlakes": true,
           "showland": true,
           "subunitcolor": "white"
          },
          "hoverlabel": {
           "align": "left"
          },
          "hovermode": "closest",
          "mapbox": {
           "style": "light"
          },
          "paper_bgcolor": "white",
          "plot_bgcolor": "#E5ECF6",
          "polar": {
           "angularaxis": {
            "gridcolor": "white",
            "linecolor": "white",
            "ticks": ""
           },
           "bgcolor": "#E5ECF6",
           "radialaxis": {
            "gridcolor": "white",
            "linecolor": "white",
            "ticks": ""
           }
          },
          "scene": {
           "xaxis": {
            "backgroundcolor": "#E5ECF6",
            "gridcolor": "white",
            "gridwidth": 2,
            "linecolor": "white",
            "showbackground": true,
            "ticks": "",
            "zerolinecolor": "white"
           },
           "yaxis": {
            "backgroundcolor": "#E5ECF6",
            "gridcolor": "white",
            "gridwidth": 2,
            "linecolor": "white",
            "showbackground": true,
            "ticks": "",
            "zerolinecolor": "white"
           },
           "zaxis": {
            "backgroundcolor": "#E5ECF6",
            "gridcolor": "white",
            "gridwidth": 2,
            "linecolor": "white",
            "showbackground": true,
            "ticks": "",
            "zerolinecolor": "white"
           }
          },
          "shapedefaults": {
           "line": {
            "color": "#2a3f5f"
           }
          },
          "ternary": {
           "aaxis": {
            "gridcolor": "white",
            "linecolor": "white",
            "ticks": ""
           },
           "baxis": {
            "gridcolor": "white",
            "linecolor": "white",
            "ticks": ""
           },
           "bgcolor": "#E5ECF6",
           "caxis": {
            "gridcolor": "white",
            "linecolor": "white",
            "ticks": ""
           }
          },
          "title": {
           "x": 0.05
          },
          "xaxis": {
           "automargin": true,
           "gridcolor": "white",
           "linecolor": "white",
           "ticks": "",
           "title": {
            "standoff": 15
           },
           "zerolinecolor": "white",
           "zerolinewidth": 2
          },
          "yaxis": {
           "automargin": true,
           "gridcolor": "white",
           "linecolor": "white",
           "ticks": "",
           "title": {
            "standoff": 15
           },
           "zerolinecolor": "white",
           "zerolinewidth": 2
          }
         }
        },
        "title": {
         "text": "Stream Graph of Day-wise Number of Votes for Each Proposal"
        },
        "xaxis": {
         "title": {
          "text": "Days"
         }
        },
        "yaxis": {
         "title": {
          "text": "Number of Votes"
         }
        }
       }
      }
     },
     "metadata": {},
     "output_type": "display_data"
    }
   ],
   "source": [
    "data = votes_data[['proposal_title', 'day1', 'day2', 'day3', 'day4', 'day5', 'day6', 'day7']]\n",
    "\n",
    "# Create traces for each proposal\n",
    "traces = []\n",
    "for index, row in data.iterrows():\n",
    "    trace = go.Scatter(\n",
    "        x=['day1', 'day2', 'day3', 'day4', 'day5', 'day6', 'day7'],\n",
    "        y=row[['day1', 'day2', 'day3', 'day4', 'day5', 'day6', 'day7']],\n",
    "        mode='lines',\n",
    "        stackgroup='one',\n",
    "        name=row['proposal_title']\n",
    "    )\n",
    "    traces.append(trace)\n",
    "\n",
    "# Create layout\n",
    "layout = go.Layout(\n",
    "    title='Stream Graph of Day-wise Number of Votes for Each Proposal',\n",
    "    xaxis=dict(title='Days'),\n",
    "    yaxis=dict(title='Number of Votes')\n",
    ")\n",
    "\n",
    "# Create figure\n",
    "fig = go.Figure(data=traces, layout=layout)\n",
    "\n",
    "# Remove legends\n",
    "fig.update_layout(showlegend=False)\n",
    "\n",
    "# Plot interactive chart\n",
    "fig.show()\n",
    "fig.write_html(r'Graphs\\stream-votes.html')"
   ]
  },
  {
   "cell_type": "markdown",
   "metadata": {},
   "source": [
    "Stream graph showing the day-wise number of votes for each proposal. \n",
    "\n",
    "Each stream represents a proposal, and the height of the stream at each point corresponds to the number of votes for that day. "
   ]
  },
  {
   "cell_type": "code",
   "execution_count": 20,
   "metadata": {},
   "outputs": [],
   "source": [
    "data = votes_data[['proposal_title', 'day1', 'day2', 'day3', 'day4', 'day5', 'day6', 'day7']]\n",
    "\n",
    "# Melt the DataFrame to long format for Altair\n",
    "votes_data_melted = data.melt(id_vars='proposal_title', var_name='day', value_name='votes')\n",
    "\n",
    "# Create the stream graph using Altair\n",
    "stream_graph = alt.Chart(votes_data_melted).mark_area().encode(\n",
    "    x=alt.X('day:O', title='Days'),\n",
    "    y=alt.Y('sum(votes):Q', stack='center', title='Number of Votes'),\n",
    "    color=alt.Color('proposal_title:N', title='Proposal')\n",
    ").properties(\n",
    "    title='Stream Graph of Day-wise Number of Votes for Each Proposal'\n",
    ")"
   ]
  },
  {
   "cell_type": "markdown",
   "metadata": {},
   "source": [
    "## Check the influence of the voters voting on the last day."
   ]
  },
  {
   "cell_type": "code",
   "execution_count": 21,
   "metadata": {},
   "outputs": [],
   "source": [
    "df = pd.read_csv(r'basic_type_data.csv')"
   ]
  },
  {
   "cell_type": "code",
   "execution_count": 22,
   "metadata": {},
   "outputs": [
    {
     "name": "stdout",
     "output_type": "stream",
     "text": [
      "<class 'pandas.core.frame.DataFrame'>\n",
      "RangeIndex: 2637014 entries, 0 to 2637013\n",
      "Data columns (total 28 columns):\n",
      " #   Column               Dtype  \n",
      "---  ------               -----  \n",
      " 0   Unnamed: 0           int64  \n",
      " 1   vote_id              object \n",
      " 2   voter                object \n",
      " 3   voting_power         float64\n",
      " 4   vote_date            object \n",
      " 5   voting_reason        object \n",
      " 6   vote_year            int64  \n",
      " 7   vote_month           int64  \n",
      " 8   vote_day             int64  \n",
      " 9   vote_time            object \n",
      " 10  vote_hour            int64  \n",
      " 11  vote_minute          int64  \n",
      " 12  vote_year_month      object \n",
      " 13  voting_power_range   object \n",
      " 14  proposal_id          object \n",
      " 15  proposal_title       object \n",
      " 16  proposal_body        object \n",
      " 17  proposal_type        object \n",
      " 18  proposal_created     object \n",
      " 19  proposal_start_date  object \n",
      " 20  proposal_end_date    object \n",
      " 21  proposal_year        int64  \n",
      " 22  proposal_month       int64  \n",
      " 23  proposal_day         int64  \n",
      " 24  proposal_time        object \n",
      " 25  proposal_choices     object \n",
      " 26  voting_choice        int64  \n",
      " 27  mapped_choice        object \n",
      "dtypes: float64(1), int64(10), object(17)\n",
      "memory usage: 563.3+ MB\n"
     ]
    }
   ],
   "source": [
    "df.info()"
   ]
  },
  {
   "cell_type": "code",
   "execution_count": 23,
   "metadata": {},
   "outputs": [
    {
     "data": {
      "text/plain": [
       "114"
      ]
     },
     "execution_count": 23,
     "metadata": {},
     "output_type": "execute_result"
    }
   ],
   "source": [
    "df['proposal_title'].nunique()"
   ]
  },
  {
   "cell_type": "code",
   "execution_count": 24,
   "metadata": {},
   "outputs": [],
   "source": [
    "df['vote_date'] = pd.to_datetime(df['vote_date'])\n",
    "df['proposal_created'] = pd.to_datetime(df['proposal_created'])\n",
    "df['proposal_start_date'] = pd.to_datetime(df['proposal_start_date'])\n",
    "df['proposal_end_date'] = pd.to_datetime(df['proposal_end_date'])"
   ]
  },
  {
   "cell_type": "code",
   "execution_count": 25,
   "metadata": {},
   "outputs": [],
   "source": [
    "df1 = df.copy()"
   ]
  },
  {
   "cell_type": "code",
   "execution_count": 26,
   "metadata": {},
   "outputs": [],
   "source": [
    "# Convert datetime to PeriodIndex with monthly frequency\n",
    "df1['vote_year_month'] = pd.to_datetime(df1['vote_year_month'])"
   ]
  },
  {
   "cell_type": "code",
   "execution_count": 27,
   "metadata": {},
   "outputs": [],
   "source": [
    "df1['vote_year_month'] = df1['vote_year_month'].dt.to_period('M')"
   ]
  },
  {
   "cell_type": "code",
   "execution_count": 28,
   "metadata": {},
   "outputs": [
    {
     "data": {
      "text/plain": [
       "Index(['Unnamed: 0', 'vote_id', 'voter', 'voting_power', 'vote_date',\n",
       "       'voting_reason', 'vote_year', 'vote_month', 'vote_day', 'vote_time',\n",
       "       'vote_hour', 'vote_minute', 'vote_year_month', 'voting_power_range',\n",
       "       'proposal_id', 'proposal_title', 'proposal_body', 'proposal_type',\n",
       "       'proposal_created', 'proposal_start_date', 'proposal_end_date',\n",
       "       'proposal_year', 'proposal_month', 'proposal_day', 'proposal_time',\n",
       "       'proposal_choices', 'voting_choice', 'mapped_choice'],\n",
       "      dtype='object')"
      ]
     },
     "execution_count": 28,
     "metadata": {},
     "output_type": "execute_result"
    }
   ],
   "source": [
    "df1.columns"
   ]
  },
  {
   "cell_type": "code",
   "execution_count": 29,
   "metadata": {},
   "outputs": [
    {
     "data": {
      "text/html": [
       "<div>\n",
       "<style scoped>\n",
       "    .dataframe tbody tr th:only-of-type {\n",
       "        vertical-align: middle;\n",
       "    }\n",
       "\n",
       "    .dataframe tbody tr th {\n",
       "        vertical-align: top;\n",
       "    }\n",
       "\n",
       "    .dataframe thead th {\n",
       "        text-align: right;\n",
       "    }\n",
       "</style>\n",
       "<table border=\"1\" class=\"dataframe\">\n",
       "  <thead>\n",
       "    <tr style=\"text-align: right;\">\n",
       "      <th></th>\n",
       "      <th>proposal_title</th>\n",
       "      <th>total_voting_power</th>\n",
       "    </tr>\n",
       "  </thead>\n",
       "  <tbody>\n",
       "    <tr>\n",
       "      <th>0</th>\n",
       "      <td>0xGen STIP Proposal - Round 1</td>\n",
       "      <td>1.126770e+08</td>\n",
       "    </tr>\n",
       "    <tr>\n",
       "      <th>1</th>\n",
       "      <td>AIP 1.05: Return 700M $ARB to the DAO Treasury...</td>\n",
       "      <td>1.408547e+08</td>\n",
       "    </tr>\n",
       "    <tr>\n",
       "      <th>2</th>\n",
       "      <td>AIP-1.1 - Lockup, Budget, Transparency</td>\n",
       "      <td>1.396229e+08</td>\n",
       "    </tr>\n",
       "    <tr>\n",
       "      <th>3</th>\n",
       "      <td>AIP-1.2 - Foundation and DAO Governance</td>\n",
       "      <td>1.387616e+08</td>\n",
       "    </tr>\n",
       "    <tr>\n",
       "      <th>4</th>\n",
       "      <td>AIP-1: Arbitrum Improvement Proposal Framework</td>\n",
       "      <td>1.308752e+08</td>\n",
       "    </tr>\n",
       "  </tbody>\n",
       "</table>\n",
       "</div>"
      ],
      "text/plain": [
       "                                      proposal_title  total_voting_power\n",
       "0                      0xGen STIP Proposal - Round 1        1.126770e+08\n",
       "1  AIP 1.05: Return 700M $ARB to the DAO Treasury...        1.408547e+08\n",
       "2             AIP-1.1 - Lockup, Budget, Transparency        1.396229e+08\n",
       "3            AIP-1.2 - Foundation and DAO Governance        1.387616e+08\n",
       "4     AIP-1: Arbitrum Improvement Proposal Framework        1.308752e+08"
      ]
     },
     "execution_count": 29,
     "metadata": {},
     "output_type": "execute_result"
    }
   ],
   "source": [
    "# Group the DataFrame by 'proposal_title' and calculate the sum of 'voting_power' for each group\n",
    "total_voting_power_per_proposal = df1.groupby('proposal_title')['voting_power'].sum()\n",
    "\n",
    "# Create a new DataFrame with 'proposal_title' and 'total_voting_power' columns\n",
    "voting_power_df = total_voting_power_per_proposal.reset_index(name='total_voting_power')\n",
    "\n",
    "# Print the new DataFrame\n",
    "voting_power_df.head()"
   ]
  },
  {
   "cell_type": "code",
   "execution_count": 30,
   "metadata": {},
   "outputs": [
    {
     "data": {
      "text/html": [
       "<div>\n",
       "<style scoped>\n",
       "    .dataframe tbody tr th:only-of-type {\n",
       "        vertical-align: middle;\n",
       "    }\n",
       "\n",
       "    .dataframe tbody tr th {\n",
       "        vertical-align: top;\n",
       "    }\n",
       "\n",
       "    .dataframe thead th {\n",
       "        text-align: right;\n",
       "    }\n",
       "</style>\n",
       "<table border=\"1\" class=\"dataframe\">\n",
       "  <thead>\n",
       "    <tr style=\"text-align: right;\">\n",
       "      <th></th>\n",
       "      <th>Unnamed: 0</th>\n",
       "      <th>vote_id</th>\n",
       "      <th>voter</th>\n",
       "      <th>voting_power</th>\n",
       "      <th>vote_date</th>\n",
       "      <th>voting_reason</th>\n",
       "      <th>vote_year</th>\n",
       "      <th>vote_month</th>\n",
       "      <th>vote_day</th>\n",
       "      <th>vote_time</th>\n",
       "      <th>...</th>\n",
       "      <th>proposal_created</th>\n",
       "      <th>proposal_start_date</th>\n",
       "      <th>proposal_end_date</th>\n",
       "      <th>proposal_year</th>\n",
       "      <th>proposal_month</th>\n",
       "      <th>proposal_day</th>\n",
       "      <th>proposal_time</th>\n",
       "      <th>proposal_choices</th>\n",
       "      <th>voting_choice</th>\n",
       "      <th>mapped_choice</th>\n",
       "    </tr>\n",
       "  </thead>\n",
       "  <tbody>\n",
       "    <tr>\n",
       "      <th>25289</th>\n",
       "      <td>25289</td>\n",
       "      <td>0x43dc2723fb7ab91c9b4d0380e2244bfca82ee1f3e317...</td>\n",
       "      <td>0x2DDe131f8183cAd12484bd642205e7f4870Ea7d7</td>\n",
       "      <td>1.059940</td>\n",
       "      <td>2024-02-06 21:01:40</td>\n",
       "      <td>NaN</td>\n",
       "      <td>2024</td>\n",
       "      <td>2</td>\n",
       "      <td>6</td>\n",
       "      <td>21:01:40</td>\n",
       "      <td>...</td>\n",
       "      <td>2024-01-31 15:47:26</td>\n",
       "      <td>2024-01-31 21:00:00</td>\n",
       "      <td>2024-02-07 21:00:00</td>\n",
       "      <td>2024</td>\n",
       "      <td>1</td>\n",
       "      <td>31</td>\n",
       "      <td>15:47:26</td>\n",
       "      <td>['For' 'Against' 'Abstain']</td>\n",
       "      <td>1</td>\n",
       "      <td>For</td>\n",
       "    </tr>\n",
       "    <tr>\n",
       "      <th>25290</th>\n",
       "      <td>25290</td>\n",
       "      <td>0x9d8442a725e53999f04f6466cb5c5afe09e90773ab67...</td>\n",
       "      <td>0x1Ae4e22a184961259102582DFc06eE1B26653335</td>\n",
       "      <td>10.357280</td>\n",
       "      <td>2024-02-06 21:03:10</td>\n",
       "      <td>NaN</td>\n",
       "      <td>2024</td>\n",
       "      <td>2</td>\n",
       "      <td>6</td>\n",
       "      <td>21:03:10</td>\n",
       "      <td>...</td>\n",
       "      <td>2024-01-31 15:47:26</td>\n",
       "      <td>2024-01-31 21:00:00</td>\n",
       "      <td>2024-02-07 21:00:00</td>\n",
       "      <td>2024</td>\n",
       "      <td>1</td>\n",
       "      <td>31</td>\n",
       "      <td>15:47:26</td>\n",
       "      <td>['For' 'Against' 'Abstain']</td>\n",
       "      <td>1</td>\n",
       "      <td>For</td>\n",
       "    </tr>\n",
       "    <tr>\n",
       "      <th>25291</th>\n",
       "      <td>25291</td>\n",
       "      <td>0x3026b74e2b6b232acce36fb81635b16848e2a6fe9f2c...</td>\n",
       "      <td>0x37Bb72E1cBA8e06E8FEaF04B034828E553d9F81b</td>\n",
       "      <td>1.061544</td>\n",
       "      <td>2024-02-06 21:04:40</td>\n",
       "      <td>NaN</td>\n",
       "      <td>2024</td>\n",
       "      <td>2</td>\n",
       "      <td>6</td>\n",
       "      <td>21:04:40</td>\n",
       "      <td>...</td>\n",
       "      <td>2024-01-31 15:47:26</td>\n",
       "      <td>2024-01-31 21:00:00</td>\n",
       "      <td>2024-02-07 21:00:00</td>\n",
       "      <td>2024</td>\n",
       "      <td>1</td>\n",
       "      <td>31</td>\n",
       "      <td>15:47:26</td>\n",
       "      <td>['For' 'Against' 'Abstain']</td>\n",
       "      <td>1</td>\n",
       "      <td>For</td>\n",
       "    </tr>\n",
       "    <tr>\n",
       "      <th>25292</th>\n",
       "      <td>25292</td>\n",
       "      <td>0xf41f4faf40e2a19bb14756ca5ba40ddd43b658c797e3...</td>\n",
       "      <td>0x61bd9B65Eb60e307B5f718c9f529CFE155946662</td>\n",
       "      <td>1.000000</td>\n",
       "      <td>2024-02-06 21:04:58</td>\n",
       "      <td>NaN</td>\n",
       "      <td>2024</td>\n",
       "      <td>2</td>\n",
       "      <td>6</td>\n",
       "      <td>21:04:58</td>\n",
       "      <td>...</td>\n",
       "      <td>2024-01-31 15:47:26</td>\n",
       "      <td>2024-01-31 21:00:00</td>\n",
       "      <td>2024-02-07 21:00:00</td>\n",
       "      <td>2024</td>\n",
       "      <td>1</td>\n",
       "      <td>31</td>\n",
       "      <td>15:47:26</td>\n",
       "      <td>['For' 'Against' 'Abstain']</td>\n",
       "      <td>1</td>\n",
       "      <td>For</td>\n",
       "    </tr>\n",
       "    <tr>\n",
       "      <th>25293</th>\n",
       "      <td>25293</td>\n",
       "      <td>0xab6e91fb18e4b3206d9d6ef2028ec9cda7bb92e48ca1...</td>\n",
       "      <td>0x4124F27222455B139035e15b0D17B8E05F0C2Af6</td>\n",
       "      <td>3.003145</td>\n",
       "      <td>2024-02-06 21:10:07</td>\n",
       "      <td>NaN</td>\n",
       "      <td>2024</td>\n",
       "      <td>2</td>\n",
       "      <td>6</td>\n",
       "      <td>21:10:07</td>\n",
       "      <td>...</td>\n",
       "      <td>2024-01-31 15:47:26</td>\n",
       "      <td>2024-01-31 21:00:00</td>\n",
       "      <td>2024-02-07 21:00:00</td>\n",
       "      <td>2024</td>\n",
       "      <td>1</td>\n",
       "      <td>31</td>\n",
       "      <td>15:47:26</td>\n",
       "      <td>['For' 'Against' 'Abstain']</td>\n",
       "      <td>1</td>\n",
       "      <td>For</td>\n",
       "    </tr>\n",
       "  </tbody>\n",
       "</table>\n",
       "<p>5 rows × 28 columns</p>\n",
       "</div>"
      ],
      "text/plain": [
       "       Unnamed: 0                                            vote_id  \\\n",
       "25289       25289  0x43dc2723fb7ab91c9b4d0380e2244bfca82ee1f3e317...   \n",
       "25290       25290  0x9d8442a725e53999f04f6466cb5c5afe09e90773ab67...   \n",
       "25291       25291  0x3026b74e2b6b232acce36fb81635b16848e2a6fe9f2c...   \n",
       "25292       25292  0xf41f4faf40e2a19bb14756ca5ba40ddd43b658c797e3...   \n",
       "25293       25293  0xab6e91fb18e4b3206d9d6ef2028ec9cda7bb92e48ca1...   \n",
       "\n",
       "                                            voter  voting_power  \\\n",
       "25289  0x2DDe131f8183cAd12484bd642205e7f4870Ea7d7      1.059940   \n",
       "25290  0x1Ae4e22a184961259102582DFc06eE1B26653335     10.357280   \n",
       "25291  0x37Bb72E1cBA8e06E8FEaF04B034828E553d9F81b      1.061544   \n",
       "25292  0x61bd9B65Eb60e307B5f718c9f529CFE155946662      1.000000   \n",
       "25293  0x4124F27222455B139035e15b0D17B8E05F0C2Af6      3.003145   \n",
       "\n",
       "                vote_date voting_reason  vote_year  vote_month  vote_day  \\\n",
       "25289 2024-02-06 21:01:40           NaN       2024           2         6   \n",
       "25290 2024-02-06 21:03:10           NaN       2024           2         6   \n",
       "25291 2024-02-06 21:04:40           NaN       2024           2         6   \n",
       "25292 2024-02-06 21:04:58           NaN       2024           2         6   \n",
       "25293 2024-02-06 21:10:07           NaN       2024           2         6   \n",
       "\n",
       "      vote_time  ...    proposal_created  proposal_start_date  \\\n",
       "25289  21:01:40  ... 2024-01-31 15:47:26  2024-01-31 21:00:00   \n",
       "25290  21:03:10  ... 2024-01-31 15:47:26  2024-01-31 21:00:00   \n",
       "25291  21:04:40  ... 2024-01-31 15:47:26  2024-01-31 21:00:00   \n",
       "25292  21:04:58  ... 2024-01-31 15:47:26  2024-01-31 21:00:00   \n",
       "25293  21:10:07  ... 2024-01-31 15:47:26  2024-01-31 21:00:00   \n",
       "\n",
       "        proposal_end_date proposal_year proposal_month proposal_day  \\\n",
       "25289 2024-02-07 21:00:00          2024              1           31   \n",
       "25290 2024-02-07 21:00:00          2024              1           31   \n",
       "25291 2024-02-07 21:00:00          2024              1           31   \n",
       "25292 2024-02-07 21:00:00          2024              1           31   \n",
       "25293 2024-02-07 21:00:00          2024              1           31   \n",
       "\n",
       "      proposal_time             proposal_choices voting_choice mapped_choice  \n",
       "25289      15:47:26  ['For' 'Against' 'Abstain']             1           For  \n",
       "25290      15:47:26  ['For' 'Against' 'Abstain']             1           For  \n",
       "25291      15:47:26  ['For' 'Against' 'Abstain']             1           For  \n",
       "25292      15:47:26  ['For' 'Against' 'Abstain']             1           For  \n",
       "25293      15:47:26  ['For' 'Against' 'Abstain']             1           For  \n",
       "\n",
       "[5 rows x 28 columns]"
      ]
     },
     "execution_count": 30,
     "metadata": {},
     "output_type": "execute_result"
    }
   ],
   "source": [
    "# Calculate the proposal end date - 24 hours\n",
    "end_date_minus_24h = df1['proposal_end_date'] - pd.Timedelta(hours=24)\n",
    "\n",
    "# Filter the DataFrame to include only votes received within the last 24 hours\n",
    "filtered_df = df1[df1['vote_date'] >= end_date_minus_24h]\n",
    "\n",
    "# Print the filtered DataFrame\n",
    "filtered_df.head()"
   ]
  },
  {
   "cell_type": "code",
   "execution_count": 31,
   "metadata": {},
   "outputs": [
    {
     "data": {
      "text/html": [
       "<div>\n",
       "<style scoped>\n",
       "    .dataframe tbody tr th:only-of-type {\n",
       "        vertical-align: middle;\n",
       "    }\n",
       "\n",
       "    .dataframe tbody tr th {\n",
       "        vertical-align: top;\n",
       "    }\n",
       "\n",
       "    .dataframe thead th {\n",
       "        text-align: right;\n",
       "    }\n",
       "</style>\n",
       "<table border=\"1\" class=\"dataframe\">\n",
       "  <thead>\n",
       "    <tr style=\"text-align: right;\">\n",
       "      <th></th>\n",
       "      <th>proposal_title</th>\n",
       "      <th>total_voting_power_day7</th>\n",
       "    </tr>\n",
       "  </thead>\n",
       "  <tbody>\n",
       "    <tr>\n",
       "      <th>0</th>\n",
       "      <td>0xGen STIP Proposal - Round 1</td>\n",
       "      <td>9.757255e+07</td>\n",
       "    </tr>\n",
       "    <tr>\n",
       "      <th>1</th>\n",
       "      <td>AIP 1.05: Return 700M $ARB to the DAO Treasury...</td>\n",
       "      <td>7.834341e+06</td>\n",
       "    </tr>\n",
       "    <tr>\n",
       "      <th>2</th>\n",
       "      <td>AIP-1.1 - Lockup, Budget, Transparency</td>\n",
       "      <td>5.836460e+06</td>\n",
       "    </tr>\n",
       "    <tr>\n",
       "      <th>3</th>\n",
       "      <td>AIP-1.2 - Foundation and DAO Governance</td>\n",
       "      <td>5.890492e+06</td>\n",
       "    </tr>\n",
       "    <tr>\n",
       "      <th>4</th>\n",
       "      <td>AIP-1: Arbitrum Improvement Proposal Framework</td>\n",
       "      <td>1.901104e+07</td>\n",
       "    </tr>\n",
       "  </tbody>\n",
       "</table>\n",
       "</div>"
      ],
      "text/plain": [
       "                                      proposal_title  total_voting_power_day7\n",
       "0                      0xGen STIP Proposal - Round 1             9.757255e+07\n",
       "1  AIP 1.05: Return 700M $ARB to the DAO Treasury...             7.834341e+06\n",
       "2             AIP-1.1 - Lockup, Budget, Transparency             5.836460e+06\n",
       "3            AIP-1.2 - Foundation and DAO Governance             5.890492e+06\n",
       "4     AIP-1: Arbitrum Improvement Proposal Framework             1.901104e+07"
      ]
     },
     "execution_count": 31,
     "metadata": {},
     "output_type": "execute_result"
    }
   ],
   "source": [
    "# Group the DataFrame by 'proposal_title' and calculate the sum of 'voting_power' for each group\n",
    "total_voting_power = filtered_df.groupby('proposal_title')['voting_power'].sum()\n",
    "\n",
    "# Create a new DataFrame with 'proposal_title' and 'total_voting_power' columns\n",
    "voting_power_df1 = total_voting_power.reset_index(name='total_voting_power_day7')\n",
    "\n",
    "# Print the new DataFrame\n",
    "voting_power_df1.head()"
   ]
  },
  {
   "cell_type": "code",
   "execution_count": 32,
   "metadata": {},
   "outputs": [
    {
     "data": {
      "text/plain": [
       "array(['[Non-Constitutional]: Arbitrum Stable Treasury Endowment Program',\n",
       "       'Procurement Framework | Security : Non-Constitutional Proposal',\n",
       "       'Proposal to Backfund Successful STIP Proposals',\n",
       "       'Consolidate Security Proposals into a RFP Process',\n",
       "       'UniDex STIP Proposal - Round 1',\n",
       "       'Good Entry STIP Proposal - Round 1',\n",
       "       'iZUMi STIP Proposal - Round 1',\n",
       "       'Synapse Protocol STIP Proposal - Round 1',\n",
       "       'Jones DAO STIP Proposal - Round 1',\n",
       "       'D2.finance STIP Proposal - Round 1',\n",
       "       'Silo Finance STIP Proposal - Round 1',\n",
       "       'JOJO Exchange STIP Proposal - Round 1',\n",
       "       'GMD Ecosystem STIP Proposal - Round 1',\n",
       "       'Thales STIP Proposal - Round 1', 'Rysk STIP Proposal - Round 1',\n",
       "       'Sanko GameCorp STIP Proposal - Round 1',\n",
       "       'Wombat Exchange STIP Proposal - Round 1',\n",
       "       'Camelot STIP Proposal - Round 1',\n",
       "       'Rodeo Finance STIP Proposal - Round 1',\n",
       "       'Dolomite STIP Proposal - Round 1',\n",
       "       'Furucombo STIP Proposal - Round 1',\n",
       "       'Vertex Protocol STIP Proposal - Round 1',\n",
       "       'ALAYA STIP Proposal - Round 1', 'Curve STIP Proposal - Round 1',\n",
       "       'ZKasino STIP Proposal - Round 1',\n",
       "       'Thetanuts STIP Proposal - Round 1',\n",
       "       'PancakeSwap STIP Proposal - Round 1',\n",
       "       'Beefy STIP Proposal - Round 1',\n",
       "       'Timeswap STIP Proposal - Round 1',\n",
       "       'QiDao STIP Proposal - Round 1',\n",
       "       'DefiEdge STIP Proposal - Round 1',\n",
       "       'StakeDAO STIP Proposal - Round 1',\n",
       "       'Vaultka STIP Proposal - Round 1', 'WOOFi STIP Proposal - Round 1',\n",
       "       'Quadrat STIP Proposal - Round 1', 'CVI STIP Proposal - Round 1',\n",
       "       'Artichoke Protocol STIP Proposal - Round 1',\n",
       "       'HMX STIP Proposal - Round 1', 'Gamma STIP Proposal - Round 1',\n",
       "       'Perennial Finance STIP Proposal - Round 1',\n",
       "       'Wormhole STIP Proposal - Round 1',\n",
       "       'Angle Protocol STIP Proposal - Round 1',\n",
       "       'OmniBTC STIP Proposal - Round 1',\n",
       "       'Magpie, Penpie, Radpie, Campie STIP Proposal - Round 1',\n",
       "       'Galxe STIP Proposal - Round 1',\n",
       "       'Solv Protocol STIP Proposal - Round 1',\n",
       "       'REALM STIP Proposal - Round 1',\n",
       "       'Wombex Finance STIP Proposal - Round 1',\n",
       "       'dForce STIP Proposal - Round 1',\n",
       "       'Relay Chain: James Bot STIP Proposal - Round 1',\n",
       "       'Equilibria STIP Proposal - Round 1',\n",
       "       'Balancer DAO STIP Proposal - Round 1',\n",
       "       'Arrakis Finance STIP Proposal - Round 1',\n",
       "       'tBTC STIP Proposal - Round 1',\n",
       "       'Vela Exchange STIP Proposal - Round 1',\n",
       "       'Socket STIP Proposal - Round 1', 'Lido STIP Proposal - Round 1',\n",
       "       'Stargate Finance STIP Proposal - Round 1',\n",
       "       'MUX Protocol STIP Proposal - Round 1',\n",
       "       'Tally STIP Proposal - Round 1', 'Dopex STIP Proposal - Round 1',\n",
       "       'GMX STIP Proposal - Round 1',\n",
       "       'Prime Protocol STIP Proposal - Round 1',\n",
       "       'LODESTAR FINANCE STIP Proposal - Round 1',\n",
       "       'KeplerHomes STIP Proposal - Round 1',\n",
       "       'LOGX STIP Proposal - Round 1',\n",
       "       'Range Protocol STIP Proposal - Round 1',\n",
       "       'Frax Finance STIP Proposal - Round 1',\n",
       "       'Abracadabra DAO STIP Proposal - Round 1',\n",
       "       'Umami STIP Proposal - Round 1', 'Webacy STIP Proposal - Round 1',\n",
       "       'Chronos Finance STIP Proposal - Round 1',\n",
       "       'OpenOcean STIP Proposal - Round 1',\n",
       "       'CRYPTEX STIP Proposal - Round 1',\n",
       "       'Florence Finance STIP Proposal - Round 1',\n",
       "       '0xGen STIP Proposal - Round 1', 'Stella STIP Proposal - Round 1',\n",
       "       'Notional STIP Proposal - Round 1',\n",
       "       'Gains Network STIP Proposal - Round 1',\n",
       "       'TIDE STIP Proposal - Round 1',\n",
       "       'Trader Joe STIP Proposal - Round 1',\n",
       "       'Archi Finance STIP Proposal - Round 1',\n",
       "       'KyberSwap STIP Proposal - Round 1',\n",
       "       'Cian STIP Proposal - Round 1',\n",
       "       'Modular Wallet STIP Proposal - Round 1',\n",
       "       'Savvy STIP Proposal - Round 1', 'XY STIP Proposal - Round 1',\n",
       "       'Pendle STIP Proposal - Round 1', 'RAMSES STIP Proposal - Round 1',\n",
       "       'Shell Protocol STIP Proposal - Round 1',\n",
       "       'Guru Network STIP Proposal - Round 1',\n",
       "       'unshETH STIP Proposal - Round 1',\n",
       "       'Premia STIP Proposal - Round 1',\n",
       "       'RabbitHole STIP Proposal - Round 1',\n",
       "       'Arbidex STIP Proposal - Round 1',\n",
       "       'RADIANT STIP Proposal - Round 1',\n",
       "       'WINR Protocol STIP Proposal - Round 1',\n",
       "       'ApolloX STIP Proposal - Round 1',\n",
       "       'NFTEarth STIP Proposal - Round 1',\n",
       "       'SpartaDEX STIP Proposal - Round 1',\n",
       "       'Tales of Elleria STIP Proposal - Round 1',\n",
       "       'Time Management in ArbitrumÃ\\x83Â\\x83Ã\\x82Â¢Ã\\x83Â\\x82Ã\\x82Â\\x80Ã\\x83Â\\x82Ã\\x82Â\\x99s Governance',\n",
       "       'Proposal: Building the Future of NFTs: The Rarible Protocol - Arbitrum Integration Proposal [REVISED]',\n",
       "       'Proposal to onboard Matrixed.Link as a validator for Arbitrum',\n",
       "       'Proposal: Security Council Elections Proposed Implementation Spec',\n",
       "       'Proposal: Update Security Council Election Start Date to Ensure Time for Security Audit',\n",
       "       'Accelerating Arbitrum - leveraging Camelot as an ecosystem hub to support native builders',\n",
       "       '[Non-Constitutional] Fund the Arbitrum Grants Framework Proposal Milestone 1',\n",
       "       'Arbitrum DAO Grants - Delegated Domain Allocation by Questbook',\n",
       "       'Proposal: Activate support for account abstraction endpoint on One and Nova',\n",
       "       'AIP-1.2 - Foundation and DAO Governance',\n",
       "       'AIP-1.1 - Lockup, Budget, Transparency',\n",
       "       'AIP 1.05: Return 700M $ARB to the DAO Treasury [REAL]',\n",
       "       'AIP-1: Arbitrum Improvement Proposal Framework'], dtype=object)"
      ]
     },
     "execution_count": 32,
     "metadata": {},
     "output_type": "execute_result"
    }
   ],
   "source": [
    "filtered_df['proposal_title'].unique()"
   ]
  },
  {
   "cell_type": "markdown",
   "metadata": {},
   "source": [
    "Verifying the filtered data:"
   ]
  },
  {
   "cell_type": "code",
   "execution_count": 33,
   "metadata": {},
   "outputs": [
    {
     "data": {
      "text/html": [
       "<div>\n",
       "<style scoped>\n",
       "    .dataframe tbody tr th:only-of-type {\n",
       "        vertical-align: middle;\n",
       "    }\n",
       "\n",
       "    .dataframe tbody tr th {\n",
       "        vertical-align: top;\n",
       "    }\n",
       "\n",
       "    .dataframe thead th {\n",
       "        text-align: right;\n",
       "    }\n",
       "</style>\n",
       "<table border=\"1\" class=\"dataframe\">\n",
       "  <thead>\n",
       "    <tr style=\"text-align: right;\">\n",
       "      <th></th>\n",
       "      <th>voter</th>\n",
       "      <th>voting_power</th>\n",
       "      <th>vote_date</th>\n",
       "      <th>proposal_title</th>\n",
       "      <th>proposal_end_date</th>\n",
       "    </tr>\n",
       "  </thead>\n",
       "  <tbody>\n",
       "    <tr>\n",
       "      <th>202800</th>\n",
       "      <td>0x2572b493444F64b075E349c07497961c84b8CB5a</td>\n",
       "      <td>111.981000</td>\n",
       "      <td>2023-10-12 02:00:15</td>\n",
       "      <td>UniDex STIP Proposal - Round 1</td>\n",
       "      <td>2023-10-13 02:00:00</td>\n",
       "    </tr>\n",
       "    <tr>\n",
       "      <th>202801</th>\n",
       "      <td>0x63Dd7DC808837E1f08091fA3Db8b5Cb299Fe3869</td>\n",
       "      <td>1.161150</td>\n",
       "      <td>2023-10-12 02:00:20</td>\n",
       "      <td>UniDex STIP Proposal - Round 1</td>\n",
       "      <td>2023-10-13 02:00:00</td>\n",
       "    </tr>\n",
       "    <tr>\n",
       "      <th>202802</th>\n",
       "      <td>0x48F95f4acd25329aDB1d0e6bE855568813f6de45</td>\n",
       "      <td>1.095556</td>\n",
       "      <td>2023-10-12 02:01:51</td>\n",
       "      <td>UniDex STIP Proposal - Round 1</td>\n",
       "      <td>2023-10-13 02:00:00</td>\n",
       "    </tr>\n",
       "    <tr>\n",
       "      <th>202803</th>\n",
       "      <td>0x4417D95af84B33F4598730ca8c6e23896a75B1a9</td>\n",
       "      <td>100.000000</td>\n",
       "      <td>2023-10-12 02:02:30</td>\n",
       "      <td>UniDex STIP Proposal - Round 1</td>\n",
       "      <td>2023-10-13 02:00:00</td>\n",
       "    </tr>\n",
       "    <tr>\n",
       "      <th>202804</th>\n",
       "      <td>0x36503628e1ea4dEe30f5958C2b54f6607B7F8F55</td>\n",
       "      <td>5.461776</td>\n",
       "      <td>2023-10-12 02:05:26</td>\n",
       "      <td>UniDex STIP Proposal - Round 1</td>\n",
       "      <td>2023-10-13 02:00:00</td>\n",
       "    </tr>\n",
       "    <tr>\n",
       "      <th>...</th>\n",
       "      <td>...</td>\n",
       "      <td>...</td>\n",
       "      <td>...</td>\n",
       "      <td>...</td>\n",
       "      <td>...</td>\n",
       "    </tr>\n",
       "    <tr>\n",
       "      <th>206432</th>\n",
       "      <td>0x6787c941250cD8Fe8b243efAb60EC2d0240afD35</td>\n",
       "      <td>49.918462</td>\n",
       "      <td>2023-10-13 01:57:53</td>\n",
       "      <td>UniDex STIP Proposal - Round 1</td>\n",
       "      <td>2023-10-13 02:00:00</td>\n",
       "    </tr>\n",
       "    <tr>\n",
       "      <th>206433</th>\n",
       "      <td>0x0e34b92ee27084827D94BA7e5a751Ad530608568</td>\n",
       "      <td>2.000000</td>\n",
       "      <td>2023-10-13 01:58:26</td>\n",
       "      <td>UniDex STIP Proposal - Round 1</td>\n",
       "      <td>2023-10-13 02:00:00</td>\n",
       "    </tr>\n",
       "    <tr>\n",
       "      <th>206434</th>\n",
       "      <td>0x60709A039edDbB6E30d4Eb42bBee6068b6074abE</td>\n",
       "      <td>0.277713</td>\n",
       "      <td>2023-10-13 01:58:42</td>\n",
       "      <td>UniDex STIP Proposal - Round 1</td>\n",
       "      <td>2023-10-13 02:00:00</td>\n",
       "    </tr>\n",
       "    <tr>\n",
       "      <th>206435</th>\n",
       "      <td>0x949ae2B693c148cFD511A0bf316F844A95AeCB5f</td>\n",
       "      <td>0.117736</td>\n",
       "      <td>2023-10-13 01:59:40</td>\n",
       "      <td>UniDex STIP Proposal - Round 1</td>\n",
       "      <td>2023-10-13 02:00:00</td>\n",
       "    </tr>\n",
       "    <tr>\n",
       "      <th>206436</th>\n",
       "      <td>0xB11C09AdE287E8D437e0336C38969Dee94678329</td>\n",
       "      <td>5.090000</td>\n",
       "      <td>2023-10-13 01:59:55</td>\n",
       "      <td>UniDex STIP Proposal - Round 1</td>\n",
       "      <td>2023-10-13 02:00:00</td>\n",
       "    </tr>\n",
       "  </tbody>\n",
       "</table>\n",
       "<p>3637 rows × 5 columns</p>\n",
       "</div>"
      ],
      "text/plain": [
       "                                             voter  voting_power  \\\n",
       "202800  0x2572b493444F64b075E349c07497961c84b8CB5a    111.981000   \n",
       "202801  0x63Dd7DC808837E1f08091fA3Db8b5Cb299Fe3869      1.161150   \n",
       "202802  0x48F95f4acd25329aDB1d0e6bE855568813f6de45      1.095556   \n",
       "202803  0x4417D95af84B33F4598730ca8c6e23896a75B1a9    100.000000   \n",
       "202804  0x36503628e1ea4dEe30f5958C2b54f6607B7F8F55      5.461776   \n",
       "...                                            ...           ...   \n",
       "206432  0x6787c941250cD8Fe8b243efAb60EC2d0240afD35     49.918462   \n",
       "206433  0x0e34b92ee27084827D94BA7e5a751Ad530608568      2.000000   \n",
       "206434  0x60709A039edDbB6E30d4Eb42bBee6068b6074abE      0.277713   \n",
       "206435  0x949ae2B693c148cFD511A0bf316F844A95AeCB5f      0.117736   \n",
       "206436  0xB11C09AdE287E8D437e0336C38969Dee94678329      5.090000   \n",
       "\n",
       "                 vote_date                  proposal_title   proposal_end_date  \n",
       "202800 2023-10-12 02:00:15  UniDex STIP Proposal - Round 1 2023-10-13 02:00:00  \n",
       "202801 2023-10-12 02:00:20  UniDex STIP Proposal - Round 1 2023-10-13 02:00:00  \n",
       "202802 2023-10-12 02:01:51  UniDex STIP Proposal - Round 1 2023-10-13 02:00:00  \n",
       "202803 2023-10-12 02:02:30  UniDex STIP Proposal - Round 1 2023-10-13 02:00:00  \n",
       "202804 2023-10-12 02:05:26  UniDex STIP Proposal - Round 1 2023-10-13 02:00:00  \n",
       "...                    ...                             ...                 ...  \n",
       "206432 2023-10-13 01:57:53  UniDex STIP Proposal - Round 1 2023-10-13 02:00:00  \n",
       "206433 2023-10-13 01:58:26  UniDex STIP Proposal - Round 1 2023-10-13 02:00:00  \n",
       "206434 2023-10-13 01:58:42  UniDex STIP Proposal - Round 1 2023-10-13 02:00:00  \n",
       "206435 2023-10-13 01:59:40  UniDex STIP Proposal - Round 1 2023-10-13 02:00:00  \n",
       "206436 2023-10-13 01:59:55  UniDex STIP Proposal - Round 1 2023-10-13 02:00:00  \n",
       "\n",
       "[3637 rows x 5 columns]"
      ]
     },
     "execution_count": 33,
     "metadata": {},
     "output_type": "execute_result"
    }
   ],
   "source": [
    "# Replace 'your_proposal_title' with the title of the proposal you're interested in\n",
    "proposal_title = 'UniDex STIP Proposal - Round 1'\n",
    "\n",
    "# Filter the DataFrame based on the proposal title\n",
    "filtered_df1 = filtered_df[filtered_df['proposal_title'] == proposal_title]\n",
    "\n",
    "# Select the desired columns\n",
    "selected_columns = ['voter', 'voting_power', 'vote_date', 'proposal_title', 'proposal_end_date']\n",
    "\n",
    "# Display the selected columns for the filtered DataFrame\n",
    "filtered_df1[selected_columns]"
   ]
  },
  {
   "cell_type": "markdown",
   "metadata": {},
   "source": [
    "Merge both columns total_voting_power and total_voting_power_day7:"
   ]
  },
  {
   "cell_type": "code",
   "execution_count": 34,
   "metadata": {},
   "outputs": [
    {
     "data": {
      "text/html": [
       "<div>\n",
       "<style scoped>\n",
       "    .dataframe tbody tr th:only-of-type {\n",
       "        vertical-align: middle;\n",
       "    }\n",
       "\n",
       "    .dataframe tbody tr th {\n",
       "        vertical-align: top;\n",
       "    }\n",
       "\n",
       "    .dataframe thead th {\n",
       "        text-align: right;\n",
       "    }\n",
       "</style>\n",
       "<table border=\"1\" class=\"dataframe\">\n",
       "  <thead>\n",
       "    <tr style=\"text-align: right;\">\n",
       "      <th></th>\n",
       "      <th>proposal_title</th>\n",
       "      <th>total_voting_power</th>\n",
       "      <th>total_voting_power_day7</th>\n",
       "    </tr>\n",
       "  </thead>\n",
       "  <tbody>\n",
       "    <tr>\n",
       "      <th>0</th>\n",
       "      <td>0xGen STIP Proposal - Round 1</td>\n",
       "      <td>1.126770e+08</td>\n",
       "      <td>9.757255e+07</td>\n",
       "    </tr>\n",
       "    <tr>\n",
       "      <th>1</th>\n",
       "      <td>AIP 1.05: Return 700M $ARB to the DAO Treasury...</td>\n",
       "      <td>1.408547e+08</td>\n",
       "      <td>7.834341e+06</td>\n",
       "    </tr>\n",
       "    <tr>\n",
       "      <th>2</th>\n",
       "      <td>AIP-1.1 - Lockup, Budget, Transparency</td>\n",
       "      <td>1.396229e+08</td>\n",
       "      <td>5.836460e+06</td>\n",
       "    </tr>\n",
       "    <tr>\n",
       "      <th>3</th>\n",
       "      <td>AIP-1.2 - Foundation and DAO Governance</td>\n",
       "      <td>1.387616e+08</td>\n",
       "      <td>5.890492e+06</td>\n",
       "    </tr>\n",
       "    <tr>\n",
       "      <th>4</th>\n",
       "      <td>AIP-1: Arbitrum Improvement Proposal Framework</td>\n",
       "      <td>1.308752e+08</td>\n",
       "      <td>1.901104e+07</td>\n",
       "    </tr>\n",
       "    <tr>\n",
       "      <th>...</th>\n",
       "      <td>...</td>\n",
       "      <td>...</td>\n",
       "      <td>...</td>\n",
       "    </tr>\n",
       "    <tr>\n",
       "      <th>109</th>\n",
       "      <td>[Non-Constitutional]: Arbitrum Stable Treasury...</td>\n",
       "      <td>1.327322e+08</td>\n",
       "      <td>7.063472e+07</td>\n",
       "    </tr>\n",
       "    <tr>\n",
       "      <th>110</th>\n",
       "      <td>dForce STIP Proposal - Round 1</td>\n",
       "      <td>1.395754e+08</td>\n",
       "      <td>8.741328e+07</td>\n",
       "    </tr>\n",
       "    <tr>\n",
       "      <th>111</th>\n",
       "      <td>iZUMi STIP Proposal - Round 1</td>\n",
       "      <td>1.548327e+08</td>\n",
       "      <td>1.144397e+08</td>\n",
       "    </tr>\n",
       "    <tr>\n",
       "      <th>112</th>\n",
       "      <td>tBTC STIP Proposal - Round 1</td>\n",
       "      <td>1.106967e+08</td>\n",
       "      <td>8.039645e+07</td>\n",
       "    </tr>\n",
       "    <tr>\n",
       "      <th>113</th>\n",
       "      <td>unshETH STIP Proposal - Round 1</td>\n",
       "      <td>1.198675e+08</td>\n",
       "      <td>8.624753e+07</td>\n",
       "    </tr>\n",
       "  </tbody>\n",
       "</table>\n",
       "<p>114 rows × 3 columns</p>\n",
       "</div>"
      ],
      "text/plain": [
       "                                        proposal_title  total_voting_power  \\\n",
       "0                        0xGen STIP Proposal - Round 1        1.126770e+08   \n",
       "1    AIP 1.05: Return 700M $ARB to the DAO Treasury...        1.408547e+08   \n",
       "2               AIP-1.1 - Lockup, Budget, Transparency        1.396229e+08   \n",
       "3              AIP-1.2 - Foundation and DAO Governance        1.387616e+08   \n",
       "4       AIP-1: Arbitrum Improvement Proposal Framework        1.308752e+08   \n",
       "..                                                 ...                 ...   \n",
       "109  [Non-Constitutional]: Arbitrum Stable Treasury...        1.327322e+08   \n",
       "110                     dForce STIP Proposal - Round 1        1.395754e+08   \n",
       "111                      iZUMi STIP Proposal - Round 1        1.548327e+08   \n",
       "112                       tBTC STIP Proposal - Round 1        1.106967e+08   \n",
       "113                    unshETH STIP Proposal - Round 1        1.198675e+08   \n",
       "\n",
       "     total_voting_power_day7  \n",
       "0               9.757255e+07  \n",
       "1               7.834341e+06  \n",
       "2               5.836460e+06  \n",
       "3               5.890492e+06  \n",
       "4               1.901104e+07  \n",
       "..                       ...  \n",
       "109             7.063472e+07  \n",
       "110             8.741328e+07  \n",
       "111             1.144397e+08  \n",
       "112             8.039645e+07  \n",
       "113             8.624753e+07  \n",
       "\n",
       "[114 rows x 3 columns]"
      ]
     },
     "execution_count": 34,
     "metadata": {},
     "output_type": "execute_result"
    }
   ],
   "source": [
    "# Merge the DataFrames on 'proposal_title'\n",
    "merged_df = pd.merge(voting_power_df, voting_power_df1, on='proposal_title', how='inner')\n",
    "\n",
    "# Print the merged DataFrame\n",
    "merged_df"
   ]
  },
  {
   "cell_type": "code",
   "execution_count": 35,
   "metadata": {},
   "outputs": [
    {
     "data": {
      "text/plain": [
       "Index(['proposal_title', 'total_voting_power', 'total_voting_power_day7'], dtype='object')"
      ]
     },
     "execution_count": 35,
     "metadata": {},
     "output_type": "execute_result"
    }
   ],
   "source": [
    "merged_df.columns"
   ]
  },
  {
   "cell_type": "code",
   "execution_count": 36,
   "metadata": {},
   "outputs": [
    {
     "data": {
      "text/html": [
       "<div>\n",
       "<style scoped>\n",
       "    .dataframe tbody tr th:only-of-type {\n",
       "        vertical-align: middle;\n",
       "    }\n",
       "\n",
       "    .dataframe tbody tr th {\n",
       "        vertical-align: top;\n",
       "    }\n",
       "\n",
       "    .dataframe thead th {\n",
       "        text-align: right;\n",
       "    }\n",
       "</style>\n",
       "<table border=\"1\" class=\"dataframe\">\n",
       "  <thead>\n",
       "    <tr style=\"text-align: right;\">\n",
       "      <th></th>\n",
       "      <th>proposal_title</th>\n",
       "      <th>total_voting_power</th>\n",
       "      <th>total_voting_power_day7</th>\n",
       "      <th>voting_power_day7_%</th>\n",
       "    </tr>\n",
       "  </thead>\n",
       "  <tbody>\n",
       "    <tr>\n",
       "      <th>0</th>\n",
       "      <td>0xGen STIP Proposal - Round 1</td>\n",
       "      <td>1.126770e+08</td>\n",
       "      <td>9.757255e+07</td>\n",
       "      <td>86.594921</td>\n",
       "    </tr>\n",
       "    <tr>\n",
       "      <th>1</th>\n",
       "      <td>AIP 1.05: Return 700M $ARB to the DAO Treasury...</td>\n",
       "      <td>1.408547e+08</td>\n",
       "      <td>7.834341e+06</td>\n",
       "      <td>5.562002</td>\n",
       "    </tr>\n",
       "    <tr>\n",
       "      <th>2</th>\n",
       "      <td>AIP-1.1 - Lockup, Budget, Transparency</td>\n",
       "      <td>1.396229e+08</td>\n",
       "      <td>5.836460e+06</td>\n",
       "      <td>4.180159</td>\n",
       "    </tr>\n",
       "    <tr>\n",
       "      <th>3</th>\n",
       "      <td>AIP-1.2 - Foundation and DAO Governance</td>\n",
       "      <td>1.387616e+08</td>\n",
       "      <td>5.890492e+06</td>\n",
       "      <td>4.245046</td>\n",
       "    </tr>\n",
       "    <tr>\n",
       "      <th>4</th>\n",
       "      <td>AIP-1: Arbitrum Improvement Proposal Framework</td>\n",
       "      <td>1.308752e+08</td>\n",
       "      <td>1.901104e+07</td>\n",
       "      <td>14.526085</td>\n",
       "    </tr>\n",
       "    <tr>\n",
       "      <th>...</th>\n",
       "      <td>...</td>\n",
       "      <td>...</td>\n",
       "      <td>...</td>\n",
       "      <td>...</td>\n",
       "    </tr>\n",
       "    <tr>\n",
       "      <th>109</th>\n",
       "      <td>[Non-Constitutional]: Arbitrum Stable Treasury...</td>\n",
       "      <td>1.327322e+08</td>\n",
       "      <td>7.063472e+07</td>\n",
       "      <td>53.215981</td>\n",
       "    </tr>\n",
       "    <tr>\n",
       "      <th>110</th>\n",
       "      <td>dForce STIP Proposal - Round 1</td>\n",
       "      <td>1.395754e+08</td>\n",
       "      <td>8.741328e+07</td>\n",
       "      <td>62.627987</td>\n",
       "    </tr>\n",
       "    <tr>\n",
       "      <th>111</th>\n",
       "      <td>iZUMi STIP Proposal - Round 1</td>\n",
       "      <td>1.548327e+08</td>\n",
       "      <td>1.144397e+08</td>\n",
       "      <td>73.911838</td>\n",
       "    </tr>\n",
       "    <tr>\n",
       "      <th>112</th>\n",
       "      <td>tBTC STIP Proposal - Round 1</td>\n",
       "      <td>1.106967e+08</td>\n",
       "      <td>8.039645e+07</td>\n",
       "      <td>72.627688</td>\n",
       "    </tr>\n",
       "    <tr>\n",
       "      <th>113</th>\n",
       "      <td>unshETH STIP Proposal - Round 1</td>\n",
       "      <td>1.198675e+08</td>\n",
       "      <td>8.624753e+07</td>\n",
       "      <td>71.952364</td>\n",
       "    </tr>\n",
       "  </tbody>\n",
       "</table>\n",
       "<p>114 rows × 4 columns</p>\n",
       "</div>"
      ],
      "text/plain": [
       "                                        proposal_title  total_voting_power  \\\n",
       "0                        0xGen STIP Proposal - Round 1        1.126770e+08   \n",
       "1    AIP 1.05: Return 700M $ARB to the DAO Treasury...        1.408547e+08   \n",
       "2               AIP-1.1 - Lockup, Budget, Transparency        1.396229e+08   \n",
       "3              AIP-1.2 - Foundation and DAO Governance        1.387616e+08   \n",
       "4       AIP-1: Arbitrum Improvement Proposal Framework        1.308752e+08   \n",
       "..                                                 ...                 ...   \n",
       "109  [Non-Constitutional]: Arbitrum Stable Treasury...        1.327322e+08   \n",
       "110                     dForce STIP Proposal - Round 1        1.395754e+08   \n",
       "111                      iZUMi STIP Proposal - Round 1        1.548327e+08   \n",
       "112                       tBTC STIP Proposal - Round 1        1.106967e+08   \n",
       "113                    unshETH STIP Proposal - Round 1        1.198675e+08   \n",
       "\n",
       "     total_voting_power_day7  voting_power_day7_%  \n",
       "0               9.757255e+07            86.594921  \n",
       "1               7.834341e+06             5.562002  \n",
       "2               5.836460e+06             4.180159  \n",
       "3               5.890492e+06             4.245046  \n",
       "4               1.901104e+07            14.526085  \n",
       "..                       ...                  ...  \n",
       "109             7.063472e+07            53.215981  \n",
       "110             8.741328e+07            62.627987  \n",
       "111             1.144397e+08            73.911838  \n",
       "112             8.039645e+07            72.627688  \n",
       "113             8.624753e+07            71.952364  \n",
       "\n",
       "[114 rows x 4 columns]"
      ]
     },
     "execution_count": 36,
     "metadata": {},
     "output_type": "execute_result"
    }
   ],
   "source": [
    "# Create a new column 'percentage_day7' and calculate the percentage\n",
    "merged_df['voting_power_day7_%'] = (merged_df['total_voting_power_day7'] / merged_df['total_voting_power']) * 100\n",
    "\n",
    "# Print the DataFrame with the new column\n",
    "merged_df"
   ]
  },
  {
   "cell_type": "code",
   "execution_count": 37,
   "metadata": {},
   "outputs": [
    {
     "data": {
      "text/html": [
       "<div>\n",
       "<style scoped>\n",
       "    .dataframe tbody tr th:only-of-type {\n",
       "        vertical-align: middle;\n",
       "    }\n",
       "\n",
       "    .dataframe tbody tr th {\n",
       "        vertical-align: top;\n",
       "    }\n",
       "\n",
       "    .dataframe thead th {\n",
       "        text-align: right;\n",
       "    }\n",
       "</style>\n",
       "<table border=\"1\" class=\"dataframe\">\n",
       "  <thead>\n",
       "    <tr style=\"text-align: right;\">\n",
       "      <th></th>\n",
       "      <th>index</th>\n",
       "      <th>proposal_title</th>\n",
       "      <th>total_voting_power</th>\n",
       "      <th>total_voting_power_day7</th>\n",
       "      <th>voting_power_day7_%</th>\n",
       "    </tr>\n",
       "  </thead>\n",
       "  <tbody>\n",
       "    <tr>\n",
       "      <th>0</th>\n",
       "      <td>0</td>\n",
       "      <td>0xGen STIP Proposal - Round 1</td>\n",
       "      <td>1.126770e+08</td>\n",
       "      <td>9.757255e+07</td>\n",
       "      <td>86.594921</td>\n",
       "    </tr>\n",
       "    <tr>\n",
       "      <th>1</th>\n",
       "      <td>5</td>\n",
       "      <td>ALAYA STIP Proposal - Round 1</td>\n",
       "      <td>1.179721e+08</td>\n",
       "      <td>8.957469e+07</td>\n",
       "      <td>75.928691</td>\n",
       "    </tr>\n",
       "    <tr>\n",
       "      <th>2</th>\n",
       "      <td>9</td>\n",
       "      <td>ApolloX STIP Proposal - Round 1</td>\n",
       "      <td>1.234656e+08</td>\n",
       "      <td>8.767118e+07</td>\n",
       "      <td>71.008614</td>\n",
       "    </tr>\n",
       "    <tr>\n",
       "      <th>3</th>\n",
       "      <td>10</td>\n",
       "      <td>Arbidex STIP Proposal - Round 1</td>\n",
       "      <td>1.087645e+08</td>\n",
       "      <td>9.326944e+07</td>\n",
       "      <td>85.753560</td>\n",
       "    </tr>\n",
       "    <tr>\n",
       "      <th>4</th>\n",
       "      <td>12</td>\n",
       "      <td>Archi Finance STIP Proposal - Round 1</td>\n",
       "      <td>1.092084e+08</td>\n",
       "      <td>8.200734e+07</td>\n",
       "      <td>75.092493</td>\n",
       "    </tr>\n",
       "    <tr>\n",
       "      <th>5</th>\n",
       "      <td>14</td>\n",
       "      <td>Artichoke Protocol STIP Proposal - Round 1</td>\n",
       "      <td>1.145640e+08</td>\n",
       "      <td>8.856545e+07</td>\n",
       "      <td>77.306552</td>\n",
       "    </tr>\n",
       "    <tr>\n",
       "      <th>6</th>\n",
       "      <td>17</td>\n",
       "      <td>CRYPTEX STIP Proposal - Round 1</td>\n",
       "      <td>1.264231e+08</td>\n",
       "      <td>8.890883e+07</td>\n",
       "      <td>70.326428</td>\n",
       "    </tr>\n",
       "    <tr>\n",
       "      <th>7</th>\n",
       "      <td>18</td>\n",
       "      <td>CVI STIP Proposal - Round 1</td>\n",
       "      <td>1.109327e+08</td>\n",
       "      <td>8.502447e+07</td>\n",
       "      <td>76.645062</td>\n",
       "    </tr>\n",
       "    <tr>\n",
       "      <th>8</th>\n",
       "      <td>20</td>\n",
       "      <td>Chronos Finance STIP Proposal - Round 1</td>\n",
       "      <td>1.162012e+08</td>\n",
       "      <td>9.026206e+07</td>\n",
       "      <td>77.677415</td>\n",
       "    </tr>\n",
       "    <tr>\n",
       "      <th>9</th>\n",
       "      <td>21</td>\n",
       "      <td>Cian STIP Proposal - Round 1</td>\n",
       "      <td>1.088112e+08</td>\n",
       "      <td>8.542761e+07</td>\n",
       "      <td>78.509943</td>\n",
       "    </tr>\n",
       "    <tr>\n",
       "      <th>10</th>\n",
       "      <td>24</td>\n",
       "      <td>D2.finance STIP Proposal - Round 1</td>\n",
       "      <td>1.171819e+08</td>\n",
       "      <td>8.735853e+07</td>\n",
       "      <td>74.549490</td>\n",
       "    </tr>\n",
       "    <tr>\n",
       "      <th>11</th>\n",
       "      <td>29</td>\n",
       "      <td>Florence Finance STIP Proposal - Round 1</td>\n",
       "      <td>1.084153e+08</td>\n",
       "      <td>8.394262e+07</td>\n",
       "      <td>77.426946</td>\n",
       "    </tr>\n",
       "    <tr>\n",
       "      <th>12</th>\n",
       "      <td>32</td>\n",
       "      <td>GMD Ecosystem STIP Proposal - Round 1</td>\n",
       "      <td>1.189260e+08</td>\n",
       "      <td>9.099927e+07</td>\n",
       "      <td>76.517561</td>\n",
       "    </tr>\n",
       "    <tr>\n",
       "      <th>13</th>\n",
       "      <td>34</td>\n",
       "      <td>Gains Network STIP Proposal - Round 1</td>\n",
       "      <td>1.545455e+08</td>\n",
       "      <td>1.112632e+08</td>\n",
       "      <td>71.993825</td>\n",
       "    </tr>\n",
       "    <tr>\n",
       "      <th>14</th>\n",
       "      <td>38</td>\n",
       "      <td>Guru Network STIP Proposal - Round 1</td>\n",
       "      <td>1.131716e+08</td>\n",
       "      <td>8.929399e+07</td>\n",
       "      <td>78.901391</td>\n",
       "    </tr>\n",
       "    <tr>\n",
       "      <th>15</th>\n",
       "      <td>39</td>\n",
       "      <td>HMX STIP Proposal - Round 1</td>\n",
       "      <td>1.167662e+08</td>\n",
       "      <td>9.026423e+07</td>\n",
       "      <td>77.303377</td>\n",
       "    </tr>\n",
       "    <tr>\n",
       "      <th>16</th>\n",
       "      <td>42</td>\n",
       "      <td>KeplerHomes STIP Proposal - Round 1</td>\n",
       "      <td>1.197300e+08</td>\n",
       "      <td>9.115027e+07</td>\n",
       "      <td>76.129868</td>\n",
       "    </tr>\n",
       "    <tr>\n",
       "      <th>17</th>\n",
       "      <td>45</td>\n",
       "      <td>LOGX STIP Proposal - Round 1</td>\n",
       "      <td>1.204681e+08</td>\n",
       "      <td>1.030103e+08</td>\n",
       "      <td>85.508428</td>\n",
       "    </tr>\n",
       "    <tr>\n",
       "      <th>18</th>\n",
       "      <td>49</td>\n",
       "      <td>Modular Wallet STIP Proposal - Round 1</td>\n",
       "      <td>1.119333e+08</td>\n",
       "      <td>8.515607e+07</td>\n",
       "      <td>76.077499</td>\n",
       "    </tr>\n",
       "    <tr>\n",
       "      <th>19</th>\n",
       "      <td>50</td>\n",
       "      <td>NFTEarth STIP Proposal - Round 1</td>\n",
       "      <td>1.170918e+08</td>\n",
       "      <td>1.006542e+08</td>\n",
       "      <td>85.961824</td>\n",
       "    </tr>\n",
       "    <tr>\n",
       "      <th>20</th>\n",
       "      <td>52</td>\n",
       "      <td>OmniBTC STIP Proposal - Round 1</td>\n",
       "      <td>1.139259e+08</td>\n",
       "      <td>8.243412e+07</td>\n",
       "      <td>72.357640</td>\n",
       "    </tr>\n",
       "    <tr>\n",
       "      <th>21</th>\n",
       "      <td>58</td>\n",
       "      <td>Prime Protocol STIP Proposal - Round 1</td>\n",
       "      <td>1.126128e+08</td>\n",
       "      <td>8.714986e+07</td>\n",
       "      <td>77.388965</td>\n",
       "    </tr>\n",
       "    <tr>\n",
       "      <th>22</th>\n",
       "      <td>67</td>\n",
       "      <td>Quadrat STIP Proposal - Round 1</td>\n",
       "      <td>1.138650e+08</td>\n",
       "      <td>8.765268e+07</td>\n",
       "      <td>76.979461</td>\n",
       "    </tr>\n",
       "    <tr>\n",
       "      <th>23</th>\n",
       "      <td>69</td>\n",
       "      <td>RAMSES STIP Proposal - Round 1</td>\n",
       "      <td>1.380471e+08</td>\n",
       "      <td>9.664663e+07</td>\n",
       "      <td>70.009915</td>\n",
       "    </tr>\n",
       "    <tr>\n",
       "      <th>24</th>\n",
       "      <td>72</td>\n",
       "      <td>Range Protocol STIP Proposal - Round 1</td>\n",
       "      <td>1.170049e+08</td>\n",
       "      <td>8.574992e+07</td>\n",
       "      <td>73.287478</td>\n",
       "    </tr>\n",
       "    <tr>\n",
       "      <th>25</th>\n",
       "      <td>73</td>\n",
       "      <td>Relay Chain: James Bot STIP Proposal - Round 1</td>\n",
       "      <td>1.134188e+08</td>\n",
       "      <td>8.358593e+07</td>\n",
       "      <td>73.696746</td>\n",
       "    </tr>\n",
       "    <tr>\n",
       "      <th>26</th>\n",
       "      <td>77</td>\n",
       "      <td>Savvy STIP Proposal - Round 1</td>\n",
       "      <td>1.805910e+08</td>\n",
       "      <td>1.398777e+08</td>\n",
       "      <td>77.455488</td>\n",
       "    </tr>\n",
       "    <tr>\n",
       "      <th>27</th>\n",
       "      <td>78</td>\n",
       "      <td>Shell Protocol STIP Proposal - Round 1</td>\n",
       "      <td>1.177726e+08</td>\n",
       "      <td>8.802841e+07</td>\n",
       "      <td>74.744379</td>\n",
       "    </tr>\n",
       "    <tr>\n",
       "      <th>28</th>\n",
       "      <td>81</td>\n",
       "      <td>Solv Protocol STIP Proposal - Round 1</td>\n",
       "      <td>1.323602e+08</td>\n",
       "      <td>9.461350e+07</td>\n",
       "      <td>71.481859</td>\n",
       "    </tr>\n",
       "    <tr>\n",
       "      <th>29</th>\n",
       "      <td>82</td>\n",
       "      <td>SpartaDEX STIP Proposal - Round 1</td>\n",
       "      <td>1.093920e+08</td>\n",
       "      <td>8.527946e+07</td>\n",
       "      <td>77.957709</td>\n",
       "    </tr>\n",
       "    <tr>\n",
       "      <th>30</th>\n",
       "      <td>83</td>\n",
       "      <td>StakeDAO STIP Proposal - Round 1</td>\n",
       "      <td>1.258268e+08</td>\n",
       "      <td>9.284977e+07</td>\n",
       "      <td>73.791709</td>\n",
       "    </tr>\n",
       "    <tr>\n",
       "      <th>31</th>\n",
       "      <td>96</td>\n",
       "      <td>UniDex STIP Proposal - Round 1</td>\n",
       "      <td>1.225229e+08</td>\n",
       "      <td>8.750541e+07</td>\n",
       "      <td>71.419622</td>\n",
       "    </tr>\n",
       "    <tr>\n",
       "      <th>32</th>\n",
       "      <td>97</td>\n",
       "      <td>Vaultka STIP Proposal - Round 1</td>\n",
       "      <td>1.237215e+08</td>\n",
       "      <td>9.769777e+07</td>\n",
       "      <td>78.965856</td>\n",
       "    </tr>\n",
       "    <tr>\n",
       "      <th>33</th>\n",
       "      <td>102</td>\n",
       "      <td>Webacy STIP Proposal - Round 1</td>\n",
       "      <td>1.158457e+08</td>\n",
       "      <td>9.038044e+07</td>\n",
       "      <td>78.017979</td>\n",
       "    </tr>\n",
       "    <tr>\n",
       "      <th>34</th>\n",
       "      <td>103</td>\n",
       "      <td>Wombat Exchange STIP Proposal - Round 1</td>\n",
       "      <td>1.175230e+08</td>\n",
       "      <td>8.774854e+07</td>\n",
       "      <td>74.664990</td>\n",
       "    </tr>\n",
       "    <tr>\n",
       "      <th>35</th>\n",
       "      <td>104</td>\n",
       "      <td>Wombex Finance STIP Proposal - Round 1</td>\n",
       "      <td>1.200143e+08</td>\n",
       "      <td>8.854132e+07</td>\n",
       "      <td>73.775654</td>\n",
       "    </tr>\n",
       "    <tr>\n",
       "      <th>36</th>\n",
       "      <td>106</td>\n",
       "      <td>XY STIP Proposal - Round 1</td>\n",
       "      <td>1.098233e+08</td>\n",
       "      <td>8.483070e+07</td>\n",
       "      <td>77.242892</td>\n",
       "    </tr>\n",
       "    <tr>\n",
       "      <th>37</th>\n",
       "      <td>111</td>\n",
       "      <td>iZUMi STIP Proposal - Round 1</td>\n",
       "      <td>1.548327e+08</td>\n",
       "      <td>1.144397e+08</td>\n",
       "      <td>73.911838</td>\n",
       "    </tr>\n",
       "    <tr>\n",
       "      <th>38</th>\n",
       "      <td>112</td>\n",
       "      <td>tBTC STIP Proposal - Round 1</td>\n",
       "      <td>1.106967e+08</td>\n",
       "      <td>8.039645e+07</td>\n",
       "      <td>72.627688</td>\n",
       "    </tr>\n",
       "    <tr>\n",
       "      <th>39</th>\n",
       "      <td>113</td>\n",
       "      <td>unshETH STIP Proposal - Round 1</td>\n",
       "      <td>1.198675e+08</td>\n",
       "      <td>8.624753e+07</td>\n",
       "      <td>71.952364</td>\n",
       "    </tr>\n",
       "  </tbody>\n",
       "</table>\n",
       "</div>"
      ],
      "text/plain": [
       "    index                                  proposal_title  total_voting_power  \\\n",
       "0       0                   0xGen STIP Proposal - Round 1        1.126770e+08   \n",
       "1       5                   ALAYA STIP Proposal - Round 1        1.179721e+08   \n",
       "2       9                 ApolloX STIP Proposal - Round 1        1.234656e+08   \n",
       "3      10                 Arbidex STIP Proposal - Round 1        1.087645e+08   \n",
       "4      12           Archi Finance STIP Proposal - Round 1        1.092084e+08   \n",
       "5      14      Artichoke Protocol STIP Proposal - Round 1        1.145640e+08   \n",
       "6      17                 CRYPTEX STIP Proposal - Round 1        1.264231e+08   \n",
       "7      18                     CVI STIP Proposal - Round 1        1.109327e+08   \n",
       "8      20         Chronos Finance STIP Proposal - Round 1        1.162012e+08   \n",
       "9      21                    Cian STIP Proposal - Round 1        1.088112e+08   \n",
       "10     24              D2.finance STIP Proposal - Round 1        1.171819e+08   \n",
       "11     29        Florence Finance STIP Proposal - Round 1        1.084153e+08   \n",
       "12     32           GMD Ecosystem STIP Proposal - Round 1        1.189260e+08   \n",
       "13     34           Gains Network STIP Proposal - Round 1        1.545455e+08   \n",
       "14     38            Guru Network STIP Proposal - Round 1        1.131716e+08   \n",
       "15     39                     HMX STIP Proposal - Round 1        1.167662e+08   \n",
       "16     42             KeplerHomes STIP Proposal - Round 1        1.197300e+08   \n",
       "17     45                    LOGX STIP Proposal - Round 1        1.204681e+08   \n",
       "18     49          Modular Wallet STIP Proposal - Round 1        1.119333e+08   \n",
       "19     50                NFTEarth STIP Proposal - Round 1        1.170918e+08   \n",
       "20     52                 OmniBTC STIP Proposal - Round 1        1.139259e+08   \n",
       "21     58          Prime Protocol STIP Proposal - Round 1        1.126128e+08   \n",
       "22     67                 Quadrat STIP Proposal - Round 1        1.138650e+08   \n",
       "23     69                  RAMSES STIP Proposal - Round 1        1.380471e+08   \n",
       "24     72          Range Protocol STIP Proposal - Round 1        1.170049e+08   \n",
       "25     73  Relay Chain: James Bot STIP Proposal - Round 1        1.134188e+08   \n",
       "26     77                   Savvy STIP Proposal - Round 1        1.805910e+08   \n",
       "27     78          Shell Protocol STIP Proposal - Round 1        1.177726e+08   \n",
       "28     81           Solv Protocol STIP Proposal - Round 1        1.323602e+08   \n",
       "29     82               SpartaDEX STIP Proposal - Round 1        1.093920e+08   \n",
       "30     83                StakeDAO STIP Proposal - Round 1        1.258268e+08   \n",
       "31     96                  UniDex STIP Proposal - Round 1        1.225229e+08   \n",
       "32     97                 Vaultka STIP Proposal - Round 1        1.237215e+08   \n",
       "33    102                  Webacy STIP Proposal - Round 1        1.158457e+08   \n",
       "34    103         Wombat Exchange STIP Proposal - Round 1        1.175230e+08   \n",
       "35    104          Wombex Finance STIP Proposal - Round 1        1.200143e+08   \n",
       "36    106                      XY STIP Proposal - Round 1        1.098233e+08   \n",
       "37    111                   iZUMi STIP Proposal - Round 1        1.548327e+08   \n",
       "38    112                    tBTC STIP Proposal - Round 1        1.106967e+08   \n",
       "39    113                 unshETH STIP Proposal - Round 1        1.198675e+08   \n",
       "\n",
       "    total_voting_power_day7  voting_power_day7_%  \n",
       "0              9.757255e+07            86.594921  \n",
       "1              8.957469e+07            75.928691  \n",
       "2              8.767118e+07            71.008614  \n",
       "3              9.326944e+07            85.753560  \n",
       "4              8.200734e+07            75.092493  \n",
       "5              8.856545e+07            77.306552  \n",
       "6              8.890883e+07            70.326428  \n",
       "7              8.502447e+07            76.645062  \n",
       "8              9.026206e+07            77.677415  \n",
       "9              8.542761e+07            78.509943  \n",
       "10             8.735853e+07            74.549490  \n",
       "11             8.394262e+07            77.426946  \n",
       "12             9.099927e+07            76.517561  \n",
       "13             1.112632e+08            71.993825  \n",
       "14             8.929399e+07            78.901391  \n",
       "15             9.026423e+07            77.303377  \n",
       "16             9.115027e+07            76.129868  \n",
       "17             1.030103e+08            85.508428  \n",
       "18             8.515607e+07            76.077499  \n",
       "19             1.006542e+08            85.961824  \n",
       "20             8.243412e+07            72.357640  \n",
       "21             8.714986e+07            77.388965  \n",
       "22             8.765268e+07            76.979461  \n",
       "23             9.664663e+07            70.009915  \n",
       "24             8.574992e+07            73.287478  \n",
       "25             8.358593e+07            73.696746  \n",
       "26             1.398777e+08            77.455488  \n",
       "27             8.802841e+07            74.744379  \n",
       "28             9.461350e+07            71.481859  \n",
       "29             8.527946e+07            77.957709  \n",
       "30             9.284977e+07            73.791709  \n",
       "31             8.750541e+07            71.419622  \n",
       "32             9.769777e+07            78.965856  \n",
       "33             9.038044e+07            78.017979  \n",
       "34             8.774854e+07            74.664990  \n",
       "35             8.854132e+07            73.775654  \n",
       "36             8.483070e+07            77.242892  \n",
       "37             1.144397e+08            73.911838  \n",
       "38             8.039645e+07            72.627688  \n",
       "39             8.624753e+07            71.952364  "
      ]
     },
     "execution_count": 37,
     "metadata": {},
     "output_type": "execute_result"
    }
   ],
   "source": [
    "# Filter the DataFrame based on the condition\n",
    "filtered_merged_df = merged_df[merged_df['voting_power_day7_%'] > 70]\n",
    "\n",
    "# Print the filtered DataFrame\n",
    "filtered_merged_df.reset_index()"
   ]
  },
  {
   "cell_type": "code",
   "execution_count": 38,
   "metadata": {},
   "outputs": [],
   "source": [
    "voting_power_data = pd.read_csv(r'voting_power_per_day.csv')"
   ]
  },
  {
   "cell_type": "code",
   "execution_count": 39,
   "metadata": {},
   "outputs": [
    {
     "data": {
      "text/plain": [
       "Index(['proposal_title', 'day1', 'day2', 'day3', 'day4', 'day5', 'day6',\n",
       "       'day7', 'total_voting_power'],\n",
       "      dtype='object')"
      ]
     },
     "execution_count": 39,
     "metadata": {},
     "output_type": "execute_result"
    }
   ],
   "source": [
    "voting_power_data.columns"
   ]
  },
  {
   "cell_type": "code",
   "execution_count": 40,
   "metadata": {},
   "outputs": [
    {
     "data": {
      "text/html": [
       "<div>\n",
       "<style scoped>\n",
       "    .dataframe tbody tr th:only-of-type {\n",
       "        vertical-align: middle;\n",
       "    }\n",
       "\n",
       "    .dataframe tbody tr th {\n",
       "        vertical-align: top;\n",
       "    }\n",
       "\n",
       "    .dataframe thead th {\n",
       "        text-align: right;\n",
       "    }\n",
       "</style>\n",
       "<table border=\"1\" class=\"dataframe\">\n",
       "  <thead>\n",
       "    <tr style=\"text-align: right;\">\n",
       "      <th></th>\n",
       "      <th>proposal_title</th>\n",
       "      <th>day1</th>\n",
       "      <th>day2</th>\n",
       "      <th>day3</th>\n",
       "      <th>day4</th>\n",
       "      <th>day5</th>\n",
       "      <th>day6</th>\n",
       "      <th>day7</th>\n",
       "      <th>total_voting_power</th>\n",
       "    </tr>\n",
       "  </thead>\n",
       "  <tbody>\n",
       "    <tr>\n",
       "      <th>0</th>\n",
       "      <td>0xGen STIP Proposal - Round 1</td>\n",
       "      <td>3.129351e+06</td>\n",
       "      <td>1.570654e+06</td>\n",
       "      <td>1.402897e+06</td>\n",
       "      <td>5.040683e+06</td>\n",
       "      <td>1.032829e+06</td>\n",
       "      <td>2.928026e+06</td>\n",
       "      <td>9.757255e+07</td>\n",
       "      <td>112676990.8</td>\n",
       "    </tr>\n",
       "    <tr>\n",
       "      <th>1</th>\n",
       "      <td>AIP 1.05: Return 700M $ARB to the DAO Treasury...</td>\n",
       "      <td>1.433689e+07</td>\n",
       "      <td>3.284849e+07</td>\n",
       "      <td>5.500350e+07</td>\n",
       "      <td>1.865393e+07</td>\n",
       "      <td>6.579278e+06</td>\n",
       "      <td>5.598257e+06</td>\n",
       "      <td>7.834341e+06</td>\n",
       "      <td>140854689.7</td>\n",
       "    </tr>\n",
       "    <tr>\n",
       "      <th>2</th>\n",
       "      <td>AIP-1.1 - Lockup, Budget, Transparency</td>\n",
       "      <td>9.776576e+07</td>\n",
       "      <td>1.304689e+07</td>\n",
       "      <td>6.435230e+06</td>\n",
       "      <td>8.454590e+06</td>\n",
       "      <td>2.426819e+06</td>\n",
       "      <td>5.657179e+06</td>\n",
       "      <td>5.836460e+06</td>\n",
       "      <td>139622932.5</td>\n",
       "    </tr>\n",
       "    <tr>\n",
       "      <th>3</th>\n",
       "      <td>AIP-1.2 - Foundation and DAO Governance</td>\n",
       "      <td>9.661992e+07</td>\n",
       "      <td>1.217232e+07</td>\n",
       "      <td>7.005260e+06</td>\n",
       "      <td>8.048741e+06</td>\n",
       "      <td>3.547618e+06</td>\n",
       "      <td>5.477230e+06</td>\n",
       "      <td>5.890492e+06</td>\n",
       "      <td>138761576.0</td>\n",
       "    </tr>\n",
       "    <tr>\n",
       "      <th>4</th>\n",
       "      <td>AIP-1: Arbitrum Improvement Proposal Framework</td>\n",
       "      <td>0.000000e+00</td>\n",
       "      <td>1.139463e+01</td>\n",
       "      <td>9.846221e+06</td>\n",
       "      <td>5.361911e+06</td>\n",
       "      <td>1.479401e+07</td>\n",
       "      <td>8.186199e+07</td>\n",
       "      <td>1.901104e+07</td>\n",
       "      <td>130875187.5</td>\n",
       "    </tr>\n",
       "  </tbody>\n",
       "</table>\n",
       "</div>"
      ],
      "text/plain": [
       "                                      proposal_title          day1  \\\n",
       "0                      0xGen STIP Proposal - Round 1  3.129351e+06   \n",
       "1  AIP 1.05: Return 700M $ARB to the DAO Treasury...  1.433689e+07   \n",
       "2             AIP-1.1 - Lockup, Budget, Transparency  9.776576e+07   \n",
       "3            AIP-1.2 - Foundation and DAO Governance  9.661992e+07   \n",
       "4     AIP-1: Arbitrum Improvement Proposal Framework  0.000000e+00   \n",
       "\n",
       "           day2          day3          day4          day5          day6  \\\n",
       "0  1.570654e+06  1.402897e+06  5.040683e+06  1.032829e+06  2.928026e+06   \n",
       "1  3.284849e+07  5.500350e+07  1.865393e+07  6.579278e+06  5.598257e+06   \n",
       "2  1.304689e+07  6.435230e+06  8.454590e+06  2.426819e+06  5.657179e+06   \n",
       "3  1.217232e+07  7.005260e+06  8.048741e+06  3.547618e+06  5.477230e+06   \n",
       "4  1.139463e+01  9.846221e+06  5.361911e+06  1.479401e+07  8.186199e+07   \n",
       "\n",
       "           day7  total_voting_power  \n",
       "0  9.757255e+07         112676990.8  \n",
       "1  7.834341e+06         140854689.7  \n",
       "2  5.836460e+06         139622932.5  \n",
       "3  5.890492e+06         138761576.0  \n",
       "4  1.901104e+07         130875187.5  "
      ]
     },
     "execution_count": 40,
     "metadata": {},
     "output_type": "execute_result"
    }
   ],
   "source": [
    "voting_power_data.head()"
   ]
  },
  {
   "cell_type": "code",
   "execution_count": 41,
   "metadata": {},
   "outputs": [
    {
     "data": {
      "text/html": [
       "<div>\n",
       "<style scoped>\n",
       "    .dataframe tbody tr th:only-of-type {\n",
       "        vertical-align: middle;\n",
       "    }\n",
       "\n",
       "    .dataframe tbody tr th {\n",
       "        vertical-align: top;\n",
       "    }\n",
       "\n",
       "    .dataframe thead th {\n",
       "        text-align: right;\n",
       "    }\n",
       "</style>\n",
       "<table border=\"1\" class=\"dataframe\">\n",
       "  <thead>\n",
       "    <tr style=\"text-align: right;\">\n",
       "      <th></th>\n",
       "      <th>count</th>\n",
       "      <th>mean</th>\n",
       "      <th>std</th>\n",
       "      <th>min</th>\n",
       "      <th>25%</th>\n",
       "      <th>50%</th>\n",
       "      <th>75%</th>\n",
       "      <th>max</th>\n",
       "    </tr>\n",
       "  </thead>\n",
       "  <tbody>\n",
       "    <tr>\n",
       "      <th>day1</th>\n",
       "      <td>114.0</td>\n",
       "      <td>1.561853e+07</td>\n",
       "      <td>1.853717e+07</td>\n",
       "      <td>0.000000e+00</td>\n",
       "      <td>4.162876e+06</td>\n",
       "      <td>8.656445e+06</td>\n",
       "      <td>1.952017e+07</td>\n",
       "      <td>9.776576e+07</td>\n",
       "    </tr>\n",
       "    <tr>\n",
       "      <th>day2</th>\n",
       "      <td>114.0</td>\n",
       "      <td>5.730589e+06</td>\n",
       "      <td>7.394316e+06</td>\n",
       "      <td>1.139463e+01</td>\n",
       "      <td>1.479547e+06</td>\n",
       "      <td>2.620905e+06</td>\n",
       "      <td>6.209643e+06</td>\n",
       "      <td>3.288406e+07</td>\n",
       "    </tr>\n",
       "    <tr>\n",
       "      <th>day3</th>\n",
       "      <td>114.0</td>\n",
       "      <td>9.858610e+06</td>\n",
       "      <td>1.223680e+07</td>\n",
       "      <td>4.795290e+05</td>\n",
       "      <td>1.461046e+06</td>\n",
       "      <td>2.532906e+06</td>\n",
       "      <td>1.574716e+07</td>\n",
       "      <td>5.500350e+07</td>\n",
       "    </tr>\n",
       "    <tr>\n",
       "      <th>day4</th>\n",
       "      <td>114.0</td>\n",
       "      <td>9.156044e+06</td>\n",
       "      <td>1.048191e+07</td>\n",
       "      <td>6.129896e+05</td>\n",
       "      <td>2.157503e+06</td>\n",
       "      <td>4.966134e+06</td>\n",
       "      <td>1.419970e+07</td>\n",
       "      <td>7.060733e+07</td>\n",
       "    </tr>\n",
       "    <tr>\n",
       "      <th>day5</th>\n",
       "      <td>114.0</td>\n",
       "      <td>1.516534e+07</td>\n",
       "      <td>1.278483e+07</td>\n",
       "      <td>4.173789e+05</td>\n",
       "      <td>3.597439e+06</td>\n",
       "      <td>1.324749e+07</td>\n",
       "      <td>2.106205e+07</td>\n",
       "      <td>4.919279e+07</td>\n",
       "    </tr>\n",
       "    <tr>\n",
       "      <th>day6</th>\n",
       "      <td>114.0</td>\n",
       "      <td>1.522455e+07</td>\n",
       "      <td>1.365932e+07</td>\n",
       "      <td>3.336031e+05</td>\n",
       "      <td>5.266305e+06</td>\n",
       "      <td>1.097635e+07</td>\n",
       "      <td>2.036298e+07</td>\n",
       "      <td>8.186199e+07</td>\n",
       "    </tr>\n",
       "    <tr>\n",
       "      <th>day7</th>\n",
       "      <td>114.0</td>\n",
       "      <td>7.487729e+07</td>\n",
       "      <td>2.694956e+07</td>\n",
       "      <td>2.540925e+06</td>\n",
       "      <td>6.358881e+07</td>\n",
       "      <td>8.194469e+07</td>\n",
       "      <td>8.882298e+07</td>\n",
       "      <td>1.398777e+08</td>\n",
       "    </tr>\n",
       "    <tr>\n",
       "      <th>total_voting_power</th>\n",
       "      <td>114.0</td>\n",
       "      <td>1.456310e+08</td>\n",
       "      <td>3.636661e+07</td>\n",
       "      <td>4.214652e+07</td>\n",
       "      <td>1.172672e+08</td>\n",
       "      <td>1.391685e+08</td>\n",
       "      <td>1.814265e+08</td>\n",
       "      <td>2.051292e+08</td>\n",
       "    </tr>\n",
       "  </tbody>\n",
       "</table>\n",
       "</div>"
      ],
      "text/plain": [
       "                    count          mean           std           min  \\\n",
       "day1                114.0  1.561853e+07  1.853717e+07  0.000000e+00   \n",
       "day2                114.0  5.730589e+06  7.394316e+06  1.139463e+01   \n",
       "day3                114.0  9.858610e+06  1.223680e+07  4.795290e+05   \n",
       "day4                114.0  9.156044e+06  1.048191e+07  6.129896e+05   \n",
       "day5                114.0  1.516534e+07  1.278483e+07  4.173789e+05   \n",
       "day6                114.0  1.522455e+07  1.365932e+07  3.336031e+05   \n",
       "day7                114.0  7.487729e+07  2.694956e+07  2.540925e+06   \n",
       "total_voting_power  114.0  1.456310e+08  3.636661e+07  4.214652e+07   \n",
       "\n",
       "                             25%           50%           75%           max  \n",
       "day1                4.162876e+06  8.656445e+06  1.952017e+07  9.776576e+07  \n",
       "day2                1.479547e+06  2.620905e+06  6.209643e+06  3.288406e+07  \n",
       "day3                1.461046e+06  2.532906e+06  1.574716e+07  5.500350e+07  \n",
       "day4                2.157503e+06  4.966134e+06  1.419970e+07  7.060733e+07  \n",
       "day5                3.597439e+06  1.324749e+07  2.106205e+07  4.919279e+07  \n",
       "day6                5.266305e+06  1.097635e+07  2.036298e+07  8.186199e+07  \n",
       "day7                6.358881e+07  8.194469e+07  8.882298e+07  1.398777e+08  \n",
       "total_voting_power  1.172672e+08  1.391685e+08  1.814265e+08  2.051292e+08  "
      ]
     },
     "execution_count": 41,
     "metadata": {},
     "output_type": "execute_result"
    }
   ],
   "source": [
    "voting_power_data.describe().T"
   ]
  },
  {
   "cell_type": "markdown",
   "metadata": {},
   "source": [
    "## Proposals with Highest Voting Power on Last Day"
   ]
  },
  {
   "cell_type": "code",
   "execution_count": 42,
   "metadata": {},
   "outputs": [
    {
     "name": "stdout",
     "output_type": "stream",
     "text": [
      "Proposals with the highest voting power on day7:\n"
     ]
    },
    {
     "data": {
      "text/plain": [
       "['0xGen STIP Proposal - Round 1',\n",
       " 'ALAYA STIP Proposal - Round 1',\n",
       " 'Abracadabra DAO STIP Proposal - Round 1',\n",
       " 'Accelerating Arbitrum - leveraging Camelot as an ecosystem hub to support native builders',\n",
       " 'Angle Protocol STIP Proposal - Round 1',\n",
       " 'ApolloX STIP Proposal - Round 1',\n",
       " 'Arbidex STIP Proposal - Round 1',\n",
       " 'Arbitrum DAO Grants - Delegated Domain Allocation by Questbook',\n",
       " 'Archi Finance STIP Proposal - Round 1',\n",
       " 'Arrakis Finance STIP Proposal - Round 1',\n",
       " 'Artichoke Protocol STIP Proposal - Round 1',\n",
       " 'Balancer DAO STIP Proposal - Round 1',\n",
       " 'Beefy STIP Proposal - Round 1',\n",
       " 'CRYPTEX STIP Proposal - Round 1',\n",
       " 'CVI STIP Proposal - Round 1',\n",
       " 'Chronos Finance STIP Proposal - Round 1',\n",
       " 'Cian STIP Proposal - Round 1',\n",
       " 'Consolidate Security Proposals into a RFP Process',\n",
       " 'Curve STIP Proposal - Round 1',\n",
       " 'D2.finance STIP Proposal - Round 1',\n",
       " 'DefiEdge STIP Proposal - Round 1',\n",
       " 'Dolomite STIP Proposal - Round 1',\n",
       " 'Equilibria STIP Proposal - Round 1',\n",
       " 'Florence Finance STIP Proposal - Round 1',\n",
       " 'Frax Finance STIP Proposal - Round 1',\n",
       " 'Furucombo STIP Proposal - Round 1',\n",
       " 'GMD Ecosystem STIP Proposal - Round 1',\n",
       " 'Gains Network STIP Proposal - Round 1',\n",
       " 'Galxe STIP Proposal - Round 1',\n",
       " 'Gamma STIP Proposal - Round 1',\n",
       " 'Good Entry STIP Proposal - Round 1',\n",
       " 'Guru Network STIP Proposal - Round 1',\n",
       " 'HMX STIP Proposal - Round 1',\n",
       " 'JOJO Exchange STIP Proposal - Round 1',\n",
       " 'Jones DAO STIP Proposal - Round 1',\n",
       " 'KeplerHomes STIP Proposal - Round 1',\n",
       " 'KyberSwap STIP Proposal - Round 1',\n",
       " 'LODESTAR FINANCE STIP Proposal - Round 1',\n",
       " 'LOGX STIP Proposal - Round 1',\n",
       " 'Lido STIP Proposal - Round 1',\n",
       " 'Magpie, Penpie, Radpie, Campie STIP Proposal - Round 1',\n",
       " 'Modular Wallet STIP Proposal - Round 1',\n",
       " 'NFTEarth STIP Proposal - Round 1',\n",
       " 'Notional STIP Proposal - Round 1',\n",
       " 'OmniBTC STIP Proposal - Round 1',\n",
       " 'OpenOcean STIP Proposal - Round 1',\n",
       " 'PancakeSwap STIP Proposal - Round 1',\n",
       " 'Pendle STIP Proposal - Round 1',\n",
       " 'Perennial Finance STIP Proposal - Round 1',\n",
       " 'Premia STIP Proposal - Round 1',\n",
       " 'Prime Protocol STIP Proposal - Round 1',\n",
       " 'Procurement Framework | Security : Non-Constitutional Proposal',\n",
       " 'Proposal to Backfund Successful STIP Proposals',\n",
       " 'Proposal to onboard Matrixed.Link as a validator for Arbitrum',\n",
       " 'Proposal: Activate support for account abstraction endpoint on One and Nova',\n",
       " 'QiDao STIP Proposal - Round 1',\n",
       " 'Quadrat STIP Proposal - Round 1',\n",
       " 'RAMSES STIP Proposal - Round 1',\n",
       " 'REALM STIP Proposal - Round 1',\n",
       " 'RabbitHole STIP Proposal - Round 1',\n",
       " 'Range Protocol STIP Proposal - Round 1',\n",
       " 'Relay Chain: James Bot STIP Proposal - Round 1',\n",
       " 'Rodeo Finance STIP Proposal - Round 1',\n",
       " 'Rysk STIP Proposal - Round 1',\n",
       " 'Sanko GameCorp STIP Proposal - Round 1',\n",
       " 'Savvy STIP Proposal - Round 1',\n",
       " 'Shell Protocol STIP Proposal - Round 1',\n",
       " 'Silo Finance STIP Proposal - Round 1',\n",
       " 'Socket STIP Proposal - Round 1',\n",
       " 'Solv Protocol STIP Proposal - Round 1',\n",
       " 'SpartaDEX STIP Proposal - Round 1',\n",
       " 'StakeDAO STIP Proposal - Round 1',\n",
       " 'Stargate Finance STIP Proposal - Round 1',\n",
       " 'Stella STIP Proposal - Round 1',\n",
       " 'Synapse Protocol STIP Proposal - Round 1',\n",
       " 'TIDE STIP Proposal - Round 1',\n",
       " 'Tally STIP Proposal - Round 1',\n",
       " 'Thales STIP Proposal - Round 1',\n",
       " 'Thetanuts STIP Proposal - Round 1',\n",
       " 'Time Management in ArbitrumÃ\\x83Â\\x83Ã\\x82Â¢Ã\\x83Â\\x82Ã\\x82Â\\x80Ã\\x83Â\\x82Ã\\x82Â\\x99s Governance',\n",
       " 'Timeswap STIP Proposal - Round 1',\n",
       " 'Trader Joe STIP Proposal - Round 1',\n",
       " 'Umami STIP Proposal - Round 1',\n",
       " 'UniDex STIP Proposal - Round 1',\n",
       " 'Vaultka STIP Proposal - Round 1',\n",
       " 'Vela Exchange STIP Proposal - Round 1',\n",
       " 'Vertex Protocol STIP Proposal - Round 1',\n",
       " 'WINR Protocol STIP Proposal - Round 1',\n",
       " 'WOOFi STIP Proposal - Round 1',\n",
       " 'Webacy STIP Proposal - Round 1',\n",
       " 'Wombat Exchange STIP Proposal - Round 1',\n",
       " 'Wombex Finance STIP Proposal - Round 1',\n",
       " 'Wormhole STIP Proposal - Round 1',\n",
       " 'XY STIP Proposal - Round 1',\n",
       " 'ZKasino STIP Proposal - Round 1',\n",
       " '[Non-Constitutional] Fund the Arbitrum Grants Framework Proposal Milestone 1',\n",
       " '[Non-Constitutional]: Arbitrum Stable Treasury Endowment Program',\n",
       " 'dForce STIP Proposal - Round 1',\n",
       " 'iZUMi STIP Proposal - Round 1',\n",
       " 'tBTC STIP Proposal - Round 1',\n",
       " 'unshETH STIP Proposal - Round 1']"
      ]
     },
     "execution_count": 42,
     "metadata": {},
     "output_type": "execute_result"
    }
   ],
   "source": [
    "# Check if the voting power on day 7 is the highest compared to all other days\n",
    "highest_power_day7 = voting_power_data[voting_power_data['day7'] > voting_power_data[['day1', 'day2', 'day3', 'day4', 'day5', 'day6']].max(axis=1)]['proposal_title'].tolist()\n",
    "\n",
    "print(\"Proposals with the highest voting power on day7:\")\n",
    "highest_power_day7"
   ]
  },
  {
   "cell_type": "code",
   "execution_count": 43,
   "metadata": {},
   "outputs": [
    {
     "name": "stdout",
     "output_type": "stream",
     "text": [
      "Number of Proposals with highest voting power on last day: 101\n"
     ]
    }
   ],
   "source": [
    "print('Number of Proposals with highest voting power on last day:', len(highest_power_day7))"
   ]
  },
  {
   "cell_type": "markdown",
   "metadata": {},
   "source": [
    "## Proposals with Lowest Voting Power on Last Day"
   ]
  },
  {
   "cell_type": "code",
   "execution_count": 44,
   "metadata": {},
   "outputs": [
    {
     "name": "stdout",
     "output_type": "stream",
     "text": [
      "Proposals with the lowest voting power on day7:\n"
     ]
    },
    {
     "data": {
      "text/plain": [
       "[]"
      ]
     },
     "execution_count": 44,
     "metadata": {},
     "output_type": "execute_result"
    }
   ],
   "source": [
    "# Check if the voting power on day 7 is the lowest compared to all other days\n",
    "lowest_power_day7 = voting_power_data[voting_power_data['day7'] < voting_power_data[['day1', 'day2', 'day3', 'day4', 'day5', 'day6']].min(axis=1)]['proposal_title'].tolist()\n",
    "\n",
    "print(\"Proposals with the lowest voting power on day7:\")\n",
    "lowest_power_day7"
   ]
  },
  {
   "cell_type": "markdown",
   "metadata": {},
   "source": [
    "## Proposals with Highest Voting Power on First Day"
   ]
  },
  {
   "cell_type": "code",
   "execution_count": 45,
   "metadata": {},
   "outputs": [
    {
     "name": "stdout",
     "output_type": "stream",
     "text": [
      "Proposals with the highest voting power on day1:\n"
     ]
    },
    {
     "data": {
      "text/plain": [
       "['AIP-1.1 - Lockup, Budget, Transparency',\n",
       " 'AIP-1.2 - Foundation and DAO Governance',\n",
       " 'Camelot STIP Proposal - Round 1',\n",
       " 'Dopex STIP Proposal - Round 1',\n",
       " 'GMX STIP Proposal - Round 1',\n",
       " 'Tales of Elleria STIP Proposal - Round 1']"
      ]
     },
     "execution_count": 45,
     "metadata": {},
     "output_type": "execute_result"
    }
   ],
   "source": [
    "# Check if the voting power on day 1 is the highest compared to all other days\n",
    "highest_power_day1 = voting_power_data[voting_power_data['day1'] > voting_power_data[['day2', 'day3', 'day4', 'day5', 'day6', 'day7']].max(axis=1)]['proposal_title'].tolist()\n",
    "\n",
    "print(\"Proposals with the highest voting power on day1:\")\n",
    "highest_power_day1"
   ]
  },
  {
   "cell_type": "code",
   "execution_count": 46,
   "metadata": {},
   "outputs": [
    {
     "data": {
      "application/vnd.plotly.v1+json": {
       "config": {
        "plotlyServerURL": "https://plot.ly"
       },
       "data": [
        {
         "hovertemplate": "proposal_title=AIP-1.1 - Lockup, Budget, Transparency<br>day=%{x}<br>voting_power=%{y}<extra></extra>",
         "legendgroup": "AIP-1.1 - Lockup, Budget, Transparency",
         "line": {
          "color": "#636efa",
          "dash": "solid"
         },
         "marker": {
          "symbol": "circle"
         },
         "mode": "lines+markers",
         "name": "AIP-1.1 - Lockup, Budget, Transparency",
         "orientation": "v",
         "showlegend": true,
         "type": "scatter",
         "x": [
          "day1",
          "day2",
          "day3",
          "day4",
          "day5",
          "day6",
          "day7"
         ],
         "xaxis": "x",
         "y": [
          97765763.33,
          13046890.87,
          6435230,
          8454590.482,
          2426819.003,
          5657178.657,
          5836460.188
         ],
         "yaxis": "y"
        },
        {
         "hovertemplate": "proposal_title=AIP-1.2 - Foundation and DAO Governance<br>day=%{x}<br>voting_power=%{y}<extra></extra>",
         "legendgroup": "AIP-1.2 - Foundation and DAO Governance",
         "line": {
          "color": "#EF553B",
          "dash": "solid"
         },
         "marker": {
          "symbol": "circle"
         },
         "mode": "lines+markers",
         "name": "AIP-1.2 - Foundation and DAO Governance",
         "orientation": "v",
         "showlegend": true,
         "type": "scatter",
         "x": [
          "day1",
          "day2",
          "day3",
          "day4",
          "day5",
          "day6",
          "day7"
         ],
         "xaxis": "x",
         "y": [
          96619917.44,
          12172317.13,
          7005259.722,
          8048741.401,
          3547617.949,
          5477230.115,
          5890492.291
         ],
         "yaxis": "y"
        },
        {
         "hovertemplate": "proposal_title=Camelot STIP Proposal - Round 1<br>day=%{x}<br>voting_power=%{y}<extra></extra>",
         "legendgroup": "Camelot STIP Proposal - Round 1",
         "line": {
          "color": "#00cc96",
          "dash": "solid"
         },
         "marker": {
          "symbol": "circle"
         },
         "mode": "lines+markers",
         "name": "Camelot STIP Proposal - Round 1",
         "orientation": "v",
         "showlegend": true,
         "type": "scatter",
         "x": [
          "day1",
          "day2",
          "day3",
          "day4",
          "day5",
          "day6",
          "day7"
         ],
         "xaxis": "x",
         "y": [
          83785874.72,
          29688824.39,
          19120204.7,
          4744749.879,
          19999700.35,
          5693177.4,
          42096697.91
         ],
         "yaxis": "y"
        },
        {
         "hovertemplate": "proposal_title=Dopex STIP Proposal - Round 1<br>day=%{x}<br>voting_power=%{y}<extra></extra>",
         "legendgroup": "Dopex STIP Proposal - Round 1",
         "line": {
          "color": "#ab63fa",
          "dash": "solid"
         },
         "marker": {
          "symbol": "circle"
         },
         "mode": "lines+markers",
         "name": "Dopex STIP Proposal - Round 1",
         "orientation": "v",
         "showlegend": true,
         "type": "scatter",
         "x": [
          "day1",
          "day2",
          "day3",
          "day4",
          "day5",
          "day6",
          "day7"
         ],
         "xaxis": "x",
         "y": [
          47599705.64,
          17130378.94,
          39146234.07,
          34531048.69,
          32115416.99,
          5208377.392,
          24353296.33
         ],
         "yaxis": "y"
        },
        {
         "hovertemplate": "proposal_title=GMX STIP Proposal - Round 1<br>day=%{x}<br>voting_power=%{y}<extra></extra>",
         "legendgroup": "GMX STIP Proposal - Round 1",
         "line": {
          "color": "#FFA15A",
          "dash": "solid"
         },
         "marker": {
          "symbol": "circle"
         },
         "mode": "lines+markers",
         "name": "GMX STIP Proposal - Round 1",
         "orientation": "v",
         "showlegend": true,
         "type": "scatter",
         "x": [
          "day1",
          "day2",
          "day3",
          "day4",
          "day5",
          "day6",
          "day7"
         ],
         "xaxis": "x",
         "y": [
          84965699.35,
          10645521.28,
          29284232.69,
          3205944.604,
          20237109.89,
          10335349.29,
          36734617.55
         ],
         "yaxis": "y"
        },
        {
         "hovertemplate": "proposal_title=Tales of Elleria STIP Proposal - Round 1<br>day=%{x}<br>voting_power=%{y}<extra></extra>",
         "legendgroup": "Tales of Elleria STIP Proposal - Round 1",
         "line": {
          "color": "#19d3f3",
          "dash": "solid"
         },
         "marker": {
          "symbol": "circle"
         },
         "mode": "lines+markers",
         "name": "Tales of Elleria STIP Proposal - Round 1",
         "orientation": "v",
         "showlegend": true,
         "type": "scatter",
         "x": [
          "day1",
          "day2",
          "day3",
          "day4",
          "day5",
          "day6",
          "day7"
         ],
         "xaxis": "x",
         "y": [
          53922954.66,
          18405792.78,
          11166272.66,
          19489790.5,
          4973461.573,
          3852794.293,
          53517418.44
         ],
         "yaxis": "y"
        }
       ],
       "layout": {
        "legend": {
         "title": {
          "text": "proposal_title"
         },
         "tracegroupgap": 0
        },
        "template": {
         "data": {
          "bar": [
           {
            "error_x": {
             "color": "#2a3f5f"
            },
            "error_y": {
             "color": "#2a3f5f"
            },
            "marker": {
             "line": {
              "color": "#E5ECF6",
              "width": 0.5
             },
             "pattern": {
              "fillmode": "overlay",
              "size": 10,
              "solidity": 0.2
             }
            },
            "type": "bar"
           }
          ],
          "barpolar": [
           {
            "marker": {
             "line": {
              "color": "#E5ECF6",
              "width": 0.5
             },
             "pattern": {
              "fillmode": "overlay",
              "size": 10,
              "solidity": 0.2
             }
            },
            "type": "barpolar"
           }
          ],
          "carpet": [
           {
            "aaxis": {
             "endlinecolor": "#2a3f5f",
             "gridcolor": "white",
             "linecolor": "white",
             "minorgridcolor": "white",
             "startlinecolor": "#2a3f5f"
            },
            "baxis": {
             "endlinecolor": "#2a3f5f",
             "gridcolor": "white",
             "linecolor": "white",
             "minorgridcolor": "white",
             "startlinecolor": "#2a3f5f"
            },
            "type": "carpet"
           }
          ],
          "choropleth": [
           {
            "colorbar": {
             "outlinewidth": 0,
             "ticks": ""
            },
            "type": "choropleth"
           }
          ],
          "contour": [
           {
            "colorbar": {
             "outlinewidth": 0,
             "ticks": ""
            },
            "colorscale": [
             [
              0,
              "#0d0887"
             ],
             [
              0.1111111111111111,
              "#46039f"
             ],
             [
              0.2222222222222222,
              "#7201a8"
             ],
             [
              0.3333333333333333,
              "#9c179e"
             ],
             [
              0.4444444444444444,
              "#bd3786"
             ],
             [
              0.5555555555555556,
              "#d8576b"
             ],
             [
              0.6666666666666666,
              "#ed7953"
             ],
             [
              0.7777777777777778,
              "#fb9f3a"
             ],
             [
              0.8888888888888888,
              "#fdca26"
             ],
             [
              1,
              "#f0f921"
             ]
            ],
            "type": "contour"
           }
          ],
          "contourcarpet": [
           {
            "colorbar": {
             "outlinewidth": 0,
             "ticks": ""
            },
            "type": "contourcarpet"
           }
          ],
          "heatmap": [
           {
            "colorbar": {
             "outlinewidth": 0,
             "ticks": ""
            },
            "colorscale": [
             [
              0,
              "#0d0887"
             ],
             [
              0.1111111111111111,
              "#46039f"
             ],
             [
              0.2222222222222222,
              "#7201a8"
             ],
             [
              0.3333333333333333,
              "#9c179e"
             ],
             [
              0.4444444444444444,
              "#bd3786"
             ],
             [
              0.5555555555555556,
              "#d8576b"
             ],
             [
              0.6666666666666666,
              "#ed7953"
             ],
             [
              0.7777777777777778,
              "#fb9f3a"
             ],
             [
              0.8888888888888888,
              "#fdca26"
             ],
             [
              1,
              "#f0f921"
             ]
            ],
            "type": "heatmap"
           }
          ],
          "heatmapgl": [
           {
            "colorbar": {
             "outlinewidth": 0,
             "ticks": ""
            },
            "colorscale": [
             [
              0,
              "#0d0887"
             ],
             [
              0.1111111111111111,
              "#46039f"
             ],
             [
              0.2222222222222222,
              "#7201a8"
             ],
             [
              0.3333333333333333,
              "#9c179e"
             ],
             [
              0.4444444444444444,
              "#bd3786"
             ],
             [
              0.5555555555555556,
              "#d8576b"
             ],
             [
              0.6666666666666666,
              "#ed7953"
             ],
             [
              0.7777777777777778,
              "#fb9f3a"
             ],
             [
              0.8888888888888888,
              "#fdca26"
             ],
             [
              1,
              "#f0f921"
             ]
            ],
            "type": "heatmapgl"
           }
          ],
          "histogram": [
           {
            "marker": {
             "pattern": {
              "fillmode": "overlay",
              "size": 10,
              "solidity": 0.2
             }
            },
            "type": "histogram"
           }
          ],
          "histogram2d": [
           {
            "colorbar": {
             "outlinewidth": 0,
             "ticks": ""
            },
            "colorscale": [
             [
              0,
              "#0d0887"
             ],
             [
              0.1111111111111111,
              "#46039f"
             ],
             [
              0.2222222222222222,
              "#7201a8"
             ],
             [
              0.3333333333333333,
              "#9c179e"
             ],
             [
              0.4444444444444444,
              "#bd3786"
             ],
             [
              0.5555555555555556,
              "#d8576b"
             ],
             [
              0.6666666666666666,
              "#ed7953"
             ],
             [
              0.7777777777777778,
              "#fb9f3a"
             ],
             [
              0.8888888888888888,
              "#fdca26"
             ],
             [
              1,
              "#f0f921"
             ]
            ],
            "type": "histogram2d"
           }
          ],
          "histogram2dcontour": [
           {
            "colorbar": {
             "outlinewidth": 0,
             "ticks": ""
            },
            "colorscale": [
             [
              0,
              "#0d0887"
             ],
             [
              0.1111111111111111,
              "#46039f"
             ],
             [
              0.2222222222222222,
              "#7201a8"
             ],
             [
              0.3333333333333333,
              "#9c179e"
             ],
             [
              0.4444444444444444,
              "#bd3786"
             ],
             [
              0.5555555555555556,
              "#d8576b"
             ],
             [
              0.6666666666666666,
              "#ed7953"
             ],
             [
              0.7777777777777778,
              "#fb9f3a"
             ],
             [
              0.8888888888888888,
              "#fdca26"
             ],
             [
              1,
              "#f0f921"
             ]
            ],
            "type": "histogram2dcontour"
           }
          ],
          "mesh3d": [
           {
            "colorbar": {
             "outlinewidth": 0,
             "ticks": ""
            },
            "type": "mesh3d"
           }
          ],
          "parcoords": [
           {
            "line": {
             "colorbar": {
              "outlinewidth": 0,
              "ticks": ""
             }
            },
            "type": "parcoords"
           }
          ],
          "pie": [
           {
            "automargin": true,
            "type": "pie"
           }
          ],
          "scatter": [
           {
            "fillpattern": {
             "fillmode": "overlay",
             "size": 10,
             "solidity": 0.2
            },
            "type": "scatter"
           }
          ],
          "scatter3d": [
           {
            "line": {
             "colorbar": {
              "outlinewidth": 0,
              "ticks": ""
             }
            },
            "marker": {
             "colorbar": {
              "outlinewidth": 0,
              "ticks": ""
             }
            },
            "type": "scatter3d"
           }
          ],
          "scattercarpet": [
           {
            "marker": {
             "colorbar": {
              "outlinewidth": 0,
              "ticks": ""
             }
            },
            "type": "scattercarpet"
           }
          ],
          "scattergeo": [
           {
            "marker": {
             "colorbar": {
              "outlinewidth": 0,
              "ticks": ""
             }
            },
            "type": "scattergeo"
           }
          ],
          "scattergl": [
           {
            "marker": {
             "colorbar": {
              "outlinewidth": 0,
              "ticks": ""
             }
            },
            "type": "scattergl"
           }
          ],
          "scattermapbox": [
           {
            "marker": {
             "colorbar": {
              "outlinewidth": 0,
              "ticks": ""
             }
            },
            "type": "scattermapbox"
           }
          ],
          "scatterpolar": [
           {
            "marker": {
             "colorbar": {
              "outlinewidth": 0,
              "ticks": ""
             }
            },
            "type": "scatterpolar"
           }
          ],
          "scatterpolargl": [
           {
            "marker": {
             "colorbar": {
              "outlinewidth": 0,
              "ticks": ""
             }
            },
            "type": "scatterpolargl"
           }
          ],
          "scatterternary": [
           {
            "marker": {
             "colorbar": {
              "outlinewidth": 0,
              "ticks": ""
             }
            },
            "type": "scatterternary"
           }
          ],
          "surface": [
           {
            "colorbar": {
             "outlinewidth": 0,
             "ticks": ""
            },
            "colorscale": [
             [
              0,
              "#0d0887"
             ],
             [
              0.1111111111111111,
              "#46039f"
             ],
             [
              0.2222222222222222,
              "#7201a8"
             ],
             [
              0.3333333333333333,
              "#9c179e"
             ],
             [
              0.4444444444444444,
              "#bd3786"
             ],
             [
              0.5555555555555556,
              "#d8576b"
             ],
             [
              0.6666666666666666,
              "#ed7953"
             ],
             [
              0.7777777777777778,
              "#fb9f3a"
             ],
             [
              0.8888888888888888,
              "#fdca26"
             ],
             [
              1,
              "#f0f921"
             ]
            ],
            "type": "surface"
           }
          ],
          "table": [
           {
            "cells": {
             "fill": {
              "color": "#EBF0F8"
             },
             "line": {
              "color": "white"
             }
            },
            "header": {
             "fill": {
              "color": "#C8D4E3"
             },
             "line": {
              "color": "white"
             }
            },
            "type": "table"
           }
          ]
         },
         "layout": {
          "annotationdefaults": {
           "arrowcolor": "#2a3f5f",
           "arrowhead": 0,
           "arrowwidth": 1
          },
          "autotypenumbers": "strict",
          "coloraxis": {
           "colorbar": {
            "outlinewidth": 0,
            "ticks": ""
           }
          },
          "colorscale": {
           "diverging": [
            [
             0,
             "#8e0152"
            ],
            [
             0.1,
             "#c51b7d"
            ],
            [
             0.2,
             "#de77ae"
            ],
            [
             0.3,
             "#f1b6da"
            ],
            [
             0.4,
             "#fde0ef"
            ],
            [
             0.5,
             "#f7f7f7"
            ],
            [
             0.6,
             "#e6f5d0"
            ],
            [
             0.7,
             "#b8e186"
            ],
            [
             0.8,
             "#7fbc41"
            ],
            [
             0.9,
             "#4d9221"
            ],
            [
             1,
             "#276419"
            ]
           ],
           "sequential": [
            [
             0,
             "#0d0887"
            ],
            [
             0.1111111111111111,
             "#46039f"
            ],
            [
             0.2222222222222222,
             "#7201a8"
            ],
            [
             0.3333333333333333,
             "#9c179e"
            ],
            [
             0.4444444444444444,
             "#bd3786"
            ],
            [
             0.5555555555555556,
             "#d8576b"
            ],
            [
             0.6666666666666666,
             "#ed7953"
            ],
            [
             0.7777777777777778,
             "#fb9f3a"
            ],
            [
             0.8888888888888888,
             "#fdca26"
            ],
            [
             1,
             "#f0f921"
            ]
           ],
           "sequentialminus": [
            [
             0,
             "#0d0887"
            ],
            [
             0.1111111111111111,
             "#46039f"
            ],
            [
             0.2222222222222222,
             "#7201a8"
            ],
            [
             0.3333333333333333,
             "#9c179e"
            ],
            [
             0.4444444444444444,
             "#bd3786"
            ],
            [
             0.5555555555555556,
             "#d8576b"
            ],
            [
             0.6666666666666666,
             "#ed7953"
            ],
            [
             0.7777777777777778,
             "#fb9f3a"
            ],
            [
             0.8888888888888888,
             "#fdca26"
            ],
            [
             1,
             "#f0f921"
            ]
           ]
          },
          "colorway": [
           "#636efa",
           "#EF553B",
           "#00cc96",
           "#ab63fa",
           "#FFA15A",
           "#19d3f3",
           "#FF6692",
           "#B6E880",
           "#FF97FF",
           "#FECB52"
          ],
          "font": {
           "color": "#2a3f5f"
          },
          "geo": {
           "bgcolor": "white",
           "lakecolor": "white",
           "landcolor": "#E5ECF6",
           "showlakes": true,
           "showland": true,
           "subunitcolor": "white"
          },
          "hoverlabel": {
           "align": "left"
          },
          "hovermode": "closest",
          "mapbox": {
           "style": "light"
          },
          "paper_bgcolor": "white",
          "plot_bgcolor": "#E5ECF6",
          "polar": {
           "angularaxis": {
            "gridcolor": "white",
            "linecolor": "white",
            "ticks": ""
           },
           "bgcolor": "#E5ECF6",
           "radialaxis": {
            "gridcolor": "white",
            "linecolor": "white",
            "ticks": ""
           }
          },
          "scene": {
           "xaxis": {
            "backgroundcolor": "#E5ECF6",
            "gridcolor": "white",
            "gridwidth": 2,
            "linecolor": "white",
            "showbackground": true,
            "ticks": "",
            "zerolinecolor": "white"
           },
           "yaxis": {
            "backgroundcolor": "#E5ECF6",
            "gridcolor": "white",
            "gridwidth": 2,
            "linecolor": "white",
            "showbackground": true,
            "ticks": "",
            "zerolinecolor": "white"
           },
           "zaxis": {
            "backgroundcolor": "#E5ECF6",
            "gridcolor": "white",
            "gridwidth": 2,
            "linecolor": "white",
            "showbackground": true,
            "ticks": "",
            "zerolinecolor": "white"
           }
          },
          "shapedefaults": {
           "line": {
            "color": "#2a3f5f"
           }
          },
          "ternary": {
           "aaxis": {
            "gridcolor": "white",
            "linecolor": "white",
            "ticks": ""
           },
           "baxis": {
            "gridcolor": "white",
            "linecolor": "white",
            "ticks": ""
           },
           "bgcolor": "#E5ECF6",
           "caxis": {
            "gridcolor": "white",
            "linecolor": "white",
            "ticks": ""
           }
          },
          "title": {
           "x": 0.05
          },
          "xaxis": {
           "automargin": true,
           "gridcolor": "white",
           "linecolor": "white",
           "ticks": "",
           "title": {
            "standoff": 15
           },
           "zerolinecolor": "white",
           "zerolinewidth": 2
          },
          "yaxis": {
           "automargin": true,
           "gridcolor": "white",
           "linecolor": "white",
           "ticks": "",
           "title": {
            "standoff": 15
           },
           "zerolinecolor": "white",
           "zerolinewidth": 2
          }
         }
        },
        "title": {
         "text": "Proposals with Highest Voting Power on Day1"
        },
        "xaxis": {
         "anchor": "y",
         "domain": [
          0,
          1
         ],
         "title": {
          "text": "Days"
         }
        },
        "yaxis": {
         "anchor": "x",
         "domain": [
          0,
          1
         ],
         "title": {
          "text": "Voting Power"
         }
        }
       }
      }
     },
     "metadata": {},
     "output_type": "display_data"
    }
   ],
   "source": [
    "data = voting_power_data[['proposal_title', 'day1', 'day2', 'day3', 'day4', 'day5', 'day6', 'day7']]\n",
    "\n",
    "# Filter DataFrame to include only proposals with highest votes on day7\n",
    "filtered_df = data[data['proposal_title'].isin(highest_power_day1)]\n",
    "\n",
    "# Melt the DataFrame to long format\n",
    "melted_df = filtered_df.melt(id_vars='proposal_title', var_name='day', value_name='voting_power')\n",
    "\n",
    "# Plot interactive line chart\n",
    "fig = px.line(melted_df, x='day', y='voting_power', color='proposal_title', markers='o', title='Proposals with Highest Voting Power on Day1')\n",
    "fig.update_layout(xaxis_title='Days', yaxis_title='Voting Power')\n",
    "fig.show()\n",
    "fig.write_html(r'Graphs\\max-power-day1.html')"
   ]
  },
  {
   "cell_type": "markdown",
   "metadata": {},
   "source": [
    "## Proposals with Lowest Voting Power on First Day"
   ]
  },
  {
   "cell_type": "code",
   "execution_count": 47,
   "metadata": {},
   "outputs": [
    {
     "name": "stdout",
     "output_type": "stream",
     "text": [
      "Proposals with the lowest voting power on day1:\n"
     ]
    },
    {
     "data": {
      "text/plain": [
       "['AIP-1: Arbitrum Improvement Proposal Framework',\n",
       " 'Proposal to Backfund Successful STIP Proposals',\n",
       " 'Umami STIP Proposal - Round 1']"
      ]
     },
     "execution_count": 47,
     "metadata": {},
     "output_type": "execute_result"
    }
   ],
   "source": [
    "# Check if the voting power on day 1 is the lowest compared to all other days\n",
    "lowest_power_day1 = voting_power_data[voting_power_data['day1'] < voting_power_data[['day2', 'day3', 'day4', 'day5', 'day6', 'day7']].min(axis=1)]['proposal_title'].tolist()\n",
    "\n",
    "print(\"Proposals with the lowest voting power on day1:\")\n",
    "lowest_power_day1"
   ]
  },
  {
   "cell_type": "markdown",
   "metadata": {},
   "source": [
    "Verifying the above results."
   ]
  },
  {
   "cell_type": "code",
   "execution_count": 48,
   "metadata": {},
   "outputs": [
    {
     "data": {
      "text/html": [
       "<div>\n",
       "<style scoped>\n",
       "    .dataframe tbody tr th:only-of-type {\n",
       "        vertical-align: middle;\n",
       "    }\n",
       "\n",
       "    .dataframe tbody tr th {\n",
       "        vertical-align: top;\n",
       "    }\n",
       "\n",
       "    .dataframe thead th {\n",
       "        text-align: right;\n",
       "    }\n",
       "</style>\n",
       "<table border=\"1\" class=\"dataframe\">\n",
       "  <thead>\n",
       "    <tr style=\"text-align: right;\">\n",
       "      <th></th>\n",
       "      <th>proposal_title</th>\n",
       "      <th>day1</th>\n",
       "      <th>day2</th>\n",
       "      <th>day3</th>\n",
       "      <th>day4</th>\n",
       "      <th>day5</th>\n",
       "      <th>day6</th>\n",
       "      <th>day7</th>\n",
       "      <th>total_voting_power</th>\n",
       "    </tr>\n",
       "  </thead>\n",
       "  <tbody>\n",
       "    <tr>\n",
       "      <th>60</th>\n",
       "      <td>Proposal to Backfund Successful STIP Proposals</td>\n",
       "      <td>5473901.086</td>\n",
       "      <td>6254966.637</td>\n",
       "      <td>12316121.63</td>\n",
       "      <td>17009051.23</td>\n",
       "      <td>19517480.5</td>\n",
       "      <td>9393913.661</td>\n",
       "      <td>125677167.8</td>\n",
       "      <td>195642602.5</td>\n",
       "    </tr>\n",
       "  </tbody>\n",
       "</table>\n",
       "</div>"
      ],
      "text/plain": [
       "                                    proposal_title         day1         day2  \\\n",
       "60  Proposal to Backfund Successful STIP Proposals  5473901.086  6254966.637   \n",
       "\n",
       "           day3         day4        day5         day6         day7  \\\n",
       "60  12316121.63  17009051.23  19517480.5  9393913.661  125677167.8   \n",
       "\n",
       "    total_voting_power  \n",
       "60         195642602.5  "
      ]
     },
     "execution_count": 48,
     "metadata": {},
     "output_type": "execute_result"
    }
   ],
   "source": [
    "voting_power_data[voting_power_data['proposal_title'] == 'Proposal to Backfund Successful STIP Proposals']"
   ]
  },
  {
   "cell_type": "code",
   "execution_count": 49,
   "metadata": {},
   "outputs": [
    {
     "data": {
      "application/vnd.plotly.v1+json": {
       "config": {
        "plotlyServerURL": "https://plot.ly"
       },
       "data": [
        {
         "hovertemplate": "proposal_title=AIP-1: Arbitrum Improvement Proposal Framework<br>day=%{x}<br>voting_power=%{y}<extra></extra>",
         "legendgroup": "AIP-1: Arbitrum Improvement Proposal Framework",
         "line": {
          "color": "#636efa",
          "dash": "solid"
         },
         "marker": {
          "symbol": "circle"
         },
         "mode": "lines+markers",
         "name": "AIP-1: Arbitrum Improvement Proposal Framework",
         "orientation": "v",
         "showlegend": true,
         "type": "scatter",
         "x": [
          "day1",
          "day2",
          "day3",
          "day4",
          "day5",
          "day6",
          "day7"
         ],
         "xaxis": "x",
         "y": [
          0,
          11.39462582,
          9846220.828,
          5361910.995,
          14794008.36,
          81861994.7,
          19011041.19
         ],
         "yaxis": "y"
        },
        {
         "hovertemplate": "proposal_title=Proposal to Backfund Successful STIP Proposals<br>day=%{x}<br>voting_power=%{y}<extra></extra>",
         "legendgroup": "Proposal to Backfund Successful STIP Proposals",
         "line": {
          "color": "#EF553B",
          "dash": "solid"
         },
         "marker": {
          "symbol": "circle"
         },
         "mode": "lines+markers",
         "name": "Proposal to Backfund Successful STIP Proposals",
         "orientation": "v",
         "showlegend": true,
         "type": "scatter",
         "x": [
          "day1",
          "day2",
          "day3",
          "day4",
          "day5",
          "day6",
          "day7"
         ],
         "xaxis": "x",
         "y": [
          5473901.086,
          6254966.637,
          12316121.63,
          17009051.23,
          19517480.5,
          9393913.661,
          125677167.8
         ],
         "yaxis": "y"
        },
        {
         "hovertemplate": "proposal_title=Umami STIP Proposal - Round 1<br>day=%{x}<br>voting_power=%{y}<extra></extra>",
         "legendgroup": "Umami STIP Proposal - Round 1",
         "line": {
          "color": "#00cc96",
          "dash": "solid"
         },
         "marker": {
          "symbol": "circle"
         },
         "mode": "lines+markers",
         "name": "Umami STIP Proposal - Round 1",
         "orientation": "v",
         "showlegend": true,
         "type": "scatter",
         "x": [
          "day1",
          "day2",
          "day3",
          "day4",
          "day5",
          "day6",
          "day7"
         ],
         "xaxis": "x",
         "y": [
          13430830.98,
          19784221.45,
          28159831.21,
          29098778.11,
          40245887.96,
          22839415.85,
          50381759.48
         ],
         "yaxis": "y"
        }
       ],
       "layout": {
        "legend": {
         "title": {
          "text": "proposal_title"
         },
         "tracegroupgap": 0
        },
        "template": {
         "data": {
          "bar": [
           {
            "error_x": {
             "color": "#2a3f5f"
            },
            "error_y": {
             "color": "#2a3f5f"
            },
            "marker": {
             "line": {
              "color": "#E5ECF6",
              "width": 0.5
             },
             "pattern": {
              "fillmode": "overlay",
              "size": 10,
              "solidity": 0.2
             }
            },
            "type": "bar"
           }
          ],
          "barpolar": [
           {
            "marker": {
             "line": {
              "color": "#E5ECF6",
              "width": 0.5
             },
             "pattern": {
              "fillmode": "overlay",
              "size": 10,
              "solidity": 0.2
             }
            },
            "type": "barpolar"
           }
          ],
          "carpet": [
           {
            "aaxis": {
             "endlinecolor": "#2a3f5f",
             "gridcolor": "white",
             "linecolor": "white",
             "minorgridcolor": "white",
             "startlinecolor": "#2a3f5f"
            },
            "baxis": {
             "endlinecolor": "#2a3f5f",
             "gridcolor": "white",
             "linecolor": "white",
             "minorgridcolor": "white",
             "startlinecolor": "#2a3f5f"
            },
            "type": "carpet"
           }
          ],
          "choropleth": [
           {
            "colorbar": {
             "outlinewidth": 0,
             "ticks": ""
            },
            "type": "choropleth"
           }
          ],
          "contour": [
           {
            "colorbar": {
             "outlinewidth": 0,
             "ticks": ""
            },
            "colorscale": [
             [
              0,
              "#0d0887"
             ],
             [
              0.1111111111111111,
              "#46039f"
             ],
             [
              0.2222222222222222,
              "#7201a8"
             ],
             [
              0.3333333333333333,
              "#9c179e"
             ],
             [
              0.4444444444444444,
              "#bd3786"
             ],
             [
              0.5555555555555556,
              "#d8576b"
             ],
             [
              0.6666666666666666,
              "#ed7953"
             ],
             [
              0.7777777777777778,
              "#fb9f3a"
             ],
             [
              0.8888888888888888,
              "#fdca26"
             ],
             [
              1,
              "#f0f921"
             ]
            ],
            "type": "contour"
           }
          ],
          "contourcarpet": [
           {
            "colorbar": {
             "outlinewidth": 0,
             "ticks": ""
            },
            "type": "contourcarpet"
           }
          ],
          "heatmap": [
           {
            "colorbar": {
             "outlinewidth": 0,
             "ticks": ""
            },
            "colorscale": [
             [
              0,
              "#0d0887"
             ],
             [
              0.1111111111111111,
              "#46039f"
             ],
             [
              0.2222222222222222,
              "#7201a8"
             ],
             [
              0.3333333333333333,
              "#9c179e"
             ],
             [
              0.4444444444444444,
              "#bd3786"
             ],
             [
              0.5555555555555556,
              "#d8576b"
             ],
             [
              0.6666666666666666,
              "#ed7953"
             ],
             [
              0.7777777777777778,
              "#fb9f3a"
             ],
             [
              0.8888888888888888,
              "#fdca26"
             ],
             [
              1,
              "#f0f921"
             ]
            ],
            "type": "heatmap"
           }
          ],
          "heatmapgl": [
           {
            "colorbar": {
             "outlinewidth": 0,
             "ticks": ""
            },
            "colorscale": [
             [
              0,
              "#0d0887"
             ],
             [
              0.1111111111111111,
              "#46039f"
             ],
             [
              0.2222222222222222,
              "#7201a8"
             ],
             [
              0.3333333333333333,
              "#9c179e"
             ],
             [
              0.4444444444444444,
              "#bd3786"
             ],
             [
              0.5555555555555556,
              "#d8576b"
             ],
             [
              0.6666666666666666,
              "#ed7953"
             ],
             [
              0.7777777777777778,
              "#fb9f3a"
             ],
             [
              0.8888888888888888,
              "#fdca26"
             ],
             [
              1,
              "#f0f921"
             ]
            ],
            "type": "heatmapgl"
           }
          ],
          "histogram": [
           {
            "marker": {
             "pattern": {
              "fillmode": "overlay",
              "size": 10,
              "solidity": 0.2
             }
            },
            "type": "histogram"
           }
          ],
          "histogram2d": [
           {
            "colorbar": {
             "outlinewidth": 0,
             "ticks": ""
            },
            "colorscale": [
             [
              0,
              "#0d0887"
             ],
             [
              0.1111111111111111,
              "#46039f"
             ],
             [
              0.2222222222222222,
              "#7201a8"
             ],
             [
              0.3333333333333333,
              "#9c179e"
             ],
             [
              0.4444444444444444,
              "#bd3786"
             ],
             [
              0.5555555555555556,
              "#d8576b"
             ],
             [
              0.6666666666666666,
              "#ed7953"
             ],
             [
              0.7777777777777778,
              "#fb9f3a"
             ],
             [
              0.8888888888888888,
              "#fdca26"
             ],
             [
              1,
              "#f0f921"
             ]
            ],
            "type": "histogram2d"
           }
          ],
          "histogram2dcontour": [
           {
            "colorbar": {
             "outlinewidth": 0,
             "ticks": ""
            },
            "colorscale": [
             [
              0,
              "#0d0887"
             ],
             [
              0.1111111111111111,
              "#46039f"
             ],
             [
              0.2222222222222222,
              "#7201a8"
             ],
             [
              0.3333333333333333,
              "#9c179e"
             ],
             [
              0.4444444444444444,
              "#bd3786"
             ],
             [
              0.5555555555555556,
              "#d8576b"
             ],
             [
              0.6666666666666666,
              "#ed7953"
             ],
             [
              0.7777777777777778,
              "#fb9f3a"
             ],
             [
              0.8888888888888888,
              "#fdca26"
             ],
             [
              1,
              "#f0f921"
             ]
            ],
            "type": "histogram2dcontour"
           }
          ],
          "mesh3d": [
           {
            "colorbar": {
             "outlinewidth": 0,
             "ticks": ""
            },
            "type": "mesh3d"
           }
          ],
          "parcoords": [
           {
            "line": {
             "colorbar": {
              "outlinewidth": 0,
              "ticks": ""
             }
            },
            "type": "parcoords"
           }
          ],
          "pie": [
           {
            "automargin": true,
            "type": "pie"
           }
          ],
          "scatter": [
           {
            "fillpattern": {
             "fillmode": "overlay",
             "size": 10,
             "solidity": 0.2
            },
            "type": "scatter"
           }
          ],
          "scatter3d": [
           {
            "line": {
             "colorbar": {
              "outlinewidth": 0,
              "ticks": ""
             }
            },
            "marker": {
             "colorbar": {
              "outlinewidth": 0,
              "ticks": ""
             }
            },
            "type": "scatter3d"
           }
          ],
          "scattercarpet": [
           {
            "marker": {
             "colorbar": {
              "outlinewidth": 0,
              "ticks": ""
             }
            },
            "type": "scattercarpet"
           }
          ],
          "scattergeo": [
           {
            "marker": {
             "colorbar": {
              "outlinewidth": 0,
              "ticks": ""
             }
            },
            "type": "scattergeo"
           }
          ],
          "scattergl": [
           {
            "marker": {
             "colorbar": {
              "outlinewidth": 0,
              "ticks": ""
             }
            },
            "type": "scattergl"
           }
          ],
          "scattermapbox": [
           {
            "marker": {
             "colorbar": {
              "outlinewidth": 0,
              "ticks": ""
             }
            },
            "type": "scattermapbox"
           }
          ],
          "scatterpolar": [
           {
            "marker": {
             "colorbar": {
              "outlinewidth": 0,
              "ticks": ""
             }
            },
            "type": "scatterpolar"
           }
          ],
          "scatterpolargl": [
           {
            "marker": {
             "colorbar": {
              "outlinewidth": 0,
              "ticks": ""
             }
            },
            "type": "scatterpolargl"
           }
          ],
          "scatterternary": [
           {
            "marker": {
             "colorbar": {
              "outlinewidth": 0,
              "ticks": ""
             }
            },
            "type": "scatterternary"
           }
          ],
          "surface": [
           {
            "colorbar": {
             "outlinewidth": 0,
             "ticks": ""
            },
            "colorscale": [
             [
              0,
              "#0d0887"
             ],
             [
              0.1111111111111111,
              "#46039f"
             ],
             [
              0.2222222222222222,
              "#7201a8"
             ],
             [
              0.3333333333333333,
              "#9c179e"
             ],
             [
              0.4444444444444444,
              "#bd3786"
             ],
             [
              0.5555555555555556,
              "#d8576b"
             ],
             [
              0.6666666666666666,
              "#ed7953"
             ],
             [
              0.7777777777777778,
              "#fb9f3a"
             ],
             [
              0.8888888888888888,
              "#fdca26"
             ],
             [
              1,
              "#f0f921"
             ]
            ],
            "type": "surface"
           }
          ],
          "table": [
           {
            "cells": {
             "fill": {
              "color": "#EBF0F8"
             },
             "line": {
              "color": "white"
             }
            },
            "header": {
             "fill": {
              "color": "#C8D4E3"
             },
             "line": {
              "color": "white"
             }
            },
            "type": "table"
           }
          ]
         },
         "layout": {
          "annotationdefaults": {
           "arrowcolor": "#2a3f5f",
           "arrowhead": 0,
           "arrowwidth": 1
          },
          "autotypenumbers": "strict",
          "coloraxis": {
           "colorbar": {
            "outlinewidth": 0,
            "ticks": ""
           }
          },
          "colorscale": {
           "diverging": [
            [
             0,
             "#8e0152"
            ],
            [
             0.1,
             "#c51b7d"
            ],
            [
             0.2,
             "#de77ae"
            ],
            [
             0.3,
             "#f1b6da"
            ],
            [
             0.4,
             "#fde0ef"
            ],
            [
             0.5,
             "#f7f7f7"
            ],
            [
             0.6,
             "#e6f5d0"
            ],
            [
             0.7,
             "#b8e186"
            ],
            [
             0.8,
             "#7fbc41"
            ],
            [
             0.9,
             "#4d9221"
            ],
            [
             1,
             "#276419"
            ]
           ],
           "sequential": [
            [
             0,
             "#0d0887"
            ],
            [
             0.1111111111111111,
             "#46039f"
            ],
            [
             0.2222222222222222,
             "#7201a8"
            ],
            [
             0.3333333333333333,
             "#9c179e"
            ],
            [
             0.4444444444444444,
             "#bd3786"
            ],
            [
             0.5555555555555556,
             "#d8576b"
            ],
            [
             0.6666666666666666,
             "#ed7953"
            ],
            [
             0.7777777777777778,
             "#fb9f3a"
            ],
            [
             0.8888888888888888,
             "#fdca26"
            ],
            [
             1,
             "#f0f921"
            ]
           ],
           "sequentialminus": [
            [
             0,
             "#0d0887"
            ],
            [
             0.1111111111111111,
             "#46039f"
            ],
            [
             0.2222222222222222,
             "#7201a8"
            ],
            [
             0.3333333333333333,
             "#9c179e"
            ],
            [
             0.4444444444444444,
             "#bd3786"
            ],
            [
             0.5555555555555556,
             "#d8576b"
            ],
            [
             0.6666666666666666,
             "#ed7953"
            ],
            [
             0.7777777777777778,
             "#fb9f3a"
            ],
            [
             0.8888888888888888,
             "#fdca26"
            ],
            [
             1,
             "#f0f921"
            ]
           ]
          },
          "colorway": [
           "#636efa",
           "#EF553B",
           "#00cc96",
           "#ab63fa",
           "#FFA15A",
           "#19d3f3",
           "#FF6692",
           "#B6E880",
           "#FF97FF",
           "#FECB52"
          ],
          "font": {
           "color": "#2a3f5f"
          },
          "geo": {
           "bgcolor": "white",
           "lakecolor": "white",
           "landcolor": "#E5ECF6",
           "showlakes": true,
           "showland": true,
           "subunitcolor": "white"
          },
          "hoverlabel": {
           "align": "left"
          },
          "hovermode": "closest",
          "mapbox": {
           "style": "light"
          },
          "paper_bgcolor": "white",
          "plot_bgcolor": "#E5ECF6",
          "polar": {
           "angularaxis": {
            "gridcolor": "white",
            "linecolor": "white",
            "ticks": ""
           },
           "bgcolor": "#E5ECF6",
           "radialaxis": {
            "gridcolor": "white",
            "linecolor": "white",
            "ticks": ""
           }
          },
          "scene": {
           "xaxis": {
            "backgroundcolor": "#E5ECF6",
            "gridcolor": "white",
            "gridwidth": 2,
            "linecolor": "white",
            "showbackground": true,
            "ticks": "",
            "zerolinecolor": "white"
           },
           "yaxis": {
            "backgroundcolor": "#E5ECF6",
            "gridcolor": "white",
            "gridwidth": 2,
            "linecolor": "white",
            "showbackground": true,
            "ticks": "",
            "zerolinecolor": "white"
           },
           "zaxis": {
            "backgroundcolor": "#E5ECF6",
            "gridcolor": "white",
            "gridwidth": 2,
            "linecolor": "white",
            "showbackground": true,
            "ticks": "",
            "zerolinecolor": "white"
           }
          },
          "shapedefaults": {
           "line": {
            "color": "#2a3f5f"
           }
          },
          "ternary": {
           "aaxis": {
            "gridcolor": "white",
            "linecolor": "white",
            "ticks": ""
           },
           "baxis": {
            "gridcolor": "white",
            "linecolor": "white",
            "ticks": ""
           },
           "bgcolor": "#E5ECF6",
           "caxis": {
            "gridcolor": "white",
            "linecolor": "white",
            "ticks": ""
           }
          },
          "title": {
           "x": 0.05
          },
          "xaxis": {
           "automargin": true,
           "gridcolor": "white",
           "linecolor": "white",
           "ticks": "",
           "title": {
            "standoff": 15
           },
           "zerolinecolor": "white",
           "zerolinewidth": 2
          },
          "yaxis": {
           "automargin": true,
           "gridcolor": "white",
           "linecolor": "white",
           "ticks": "",
           "title": {
            "standoff": 15
           },
           "zerolinecolor": "white",
           "zerolinewidth": 2
          }
         }
        },
        "title": {
         "text": "Proposals with Lowest Voting Power on Day1"
        },
        "xaxis": {
         "anchor": "y",
         "domain": [
          0,
          1
         ],
         "title": {
          "text": "Days"
         }
        },
        "yaxis": {
         "anchor": "x",
         "domain": [
          0,
          1
         ],
         "title": {
          "text": "Voting Power"
         }
        }
       }
      }
     },
     "metadata": {},
     "output_type": "display_data"
    }
   ],
   "source": [
    "data = voting_power_data[['proposal_title', 'day1', 'day2', 'day3', 'day4', 'day5', 'day6', 'day7']]\n",
    "\n",
    "# Filter DataFrame to include only proposals with highest votes on day7\n",
    "filtered_df = data[data['proposal_title'].isin(lowest_power_day1)]\n",
    "\n",
    "# Melt the DataFrame to long format\n",
    "melted_df = filtered_df.melt(id_vars='proposal_title', var_name='day', value_name='voting_power')\n",
    "\n",
    "# Plot interactive line chart\n",
    "fig = px.line(melted_df, x='day', y='voting_power', color='proposal_title', markers='o', title='Proposals with Lowest Voting Power on Day1')\n",
    "fig.update_layout(xaxis_title='Days', yaxis_title='Voting Power')\n",
    "fig.show()\n",
    "fig.write_html(r'Graphs\\min-power-day1.html')"
   ]
  },
  {
   "cell_type": "code",
   "execution_count": 50,
   "metadata": {},
   "outputs": [
    {
     "data": {
      "application/vnd.plotly.v1+json": {
       "config": {
        "plotlyServerURL": "https://plot.ly"
       },
       "data": [
        {
         "mode": "lines",
         "name": "0xGen STIP Proposal - Round 1",
         "stackgroup": "one",
         "type": "scatter",
         "x": [
          "day1",
          "day2",
          "day3",
          "day4",
          "day5",
          "day6",
          "day7"
         ],
         "y": [
          3129350.743,
          1570653.854,
          1402897.454,
          5040682.72,
          1032829.117,
          2928026.123,
          97572550.83
         ]
        },
        {
         "mode": "lines",
         "name": "AIP 1.05: Return 700M $ARB to the DAO Treasury [REAL]",
         "stackgroup": "one",
         "type": "scatter",
         "x": [
          "day1",
          "day2",
          "day3",
          "day4",
          "day5",
          "day6",
          "day7"
         ],
         "y": [
          14336890.11,
          32848491.79,
          55003504.76,
          18653925.76,
          6579278.475,
          5598257.471,
          7834341.335
         ]
        },
        {
         "mode": "lines",
         "name": "AIP-1.1 - Lockup, Budget, Transparency",
         "stackgroup": "one",
         "type": "scatter",
         "x": [
          "day1",
          "day2",
          "day3",
          "day4",
          "day5",
          "day6",
          "day7"
         ],
         "y": [
          97765763.33,
          13046890.87,
          6435230,
          8454590.482,
          2426819.003,
          5657178.657,
          5836460.188
         ]
        },
        {
         "mode": "lines",
         "name": "AIP-1.2 - Foundation and DAO Governance",
         "stackgroup": "one",
         "type": "scatter",
         "x": [
          "day1",
          "day2",
          "day3",
          "day4",
          "day5",
          "day6",
          "day7"
         ],
         "y": [
          96619917.44,
          12172317.13,
          7005259.722,
          8048741.401,
          3547617.949,
          5477230.115,
          5890492.291
         ]
        },
        {
         "mode": "lines",
         "name": "AIP-1: Arbitrum Improvement Proposal Framework",
         "stackgroup": "one",
         "type": "scatter",
         "x": [
          "day1",
          "day2",
          "day3",
          "day4",
          "day5",
          "day6",
          "day7"
         ],
         "y": [
          0,
          11.39462582,
          9846220.828,
          5361910.995,
          14794008.36,
          81861994.7,
          19011041.19
         ]
        },
        {
         "mode": "lines",
         "name": "ALAYA STIP Proposal - Round 1",
         "stackgroup": "one",
         "type": "scatter",
         "x": [
          "day1",
          "day2",
          "day3",
          "day4",
          "day5",
          "day6",
          "day7"
         ],
         "y": [
          5300466.583,
          600130.5398,
          2526685.248,
          2633567.931,
          12943812.93,
          4392770.909,
          89574686.67
         ]
        },
        {
         "mode": "lines",
         "name": "Abracadabra DAO STIP Proposal - Round 1",
         "stackgroup": "one",
         "type": "scatter",
         "x": [
          "day1",
          "day2",
          "day3",
          "day4",
          "day5",
          "day6",
          "day7"
         ],
         "y": [
          18229029.47,
          17035469.28,
          40846633.54,
          2404671.127,
          36395811.46,
          11381844.83,
          78505066.09
         ]
        },
        {
         "mode": "lines",
         "name": "Accelerating Arbitrum - leveraging Camelot as an ecosystem hub to support native builders",
         "stackgroup": "one",
         "type": "scatter",
         "x": [
          "day1",
          "day2",
          "day3",
          "day4",
          "day5",
          "day6",
          "day7"
         ],
         "y": [
          31505688.67,
          6703374.301,
          7602230.636,
          33466134.19,
          6888953.814,
          26966481.6,
          50978638.88
         ]
        },
        {
         "mode": "lines",
         "name": "Angle Protocol STIP Proposal - Round 1",
         "stackgroup": "one",
         "type": "scatter",
         "x": [
          "day1",
          "day2",
          "day3",
          "day4",
          "day5",
          "day6",
          "day7"
         ],
         "y": [
          13605744.42,
          9370230.52,
          31758991.34,
          26427590.93,
          26590666.57,
          14216632.75,
          75364769.64
         ]
        },
        {
         "mode": "lines",
         "name": "ApolloX STIP Proposal - Round 1",
         "stackgroup": "one",
         "type": "scatter",
         "x": [
          "day1",
          "day2",
          "day3",
          "day4",
          "day5",
          "day6",
          "day7"
         ],
         "y": [
          2529407.507,
          2172487.828,
          1412806.252,
          817451.2108,
          1036764.089,
          27825458.72,
          87671179.67
         ]
        },
        {
         "mode": "lines",
         "name": "Arbidex STIP Proposal - Round 1",
         "stackgroup": "one",
         "type": "scatter",
         "x": [
          "day1",
          "day2",
          "day3",
          "day4",
          "day5",
          "day6",
          "day7"
         ],
         "y": [
          2634961.586,
          1477998.521,
          1526079.786,
          1370582.668,
          1363959.213,
          7121488.601,
          93269436.55
         ]
        },
        {
         "mode": "lines",
         "name": "Arbitrum DAO Grants - Delegated Domain Allocation by Questbook",
         "stackgroup": "one",
         "type": "scatter",
         "x": [
          "day1",
          "day2",
          "day3",
          "day4",
          "day5",
          "day6",
          "day7"
         ],
         "y": [
          13372220.87,
          1937475.498,
          1507523.827,
          3908625.32,
          13529309.1,
          32884694,
          37406274.32
         ]
        },
        {
         "mode": "lines",
         "name": "Archi Finance STIP Proposal - Round 1",
         "stackgroup": "one",
         "type": "scatter",
         "x": [
          "day1",
          "day2",
          "day3",
          "day4",
          "day5",
          "day6",
          "day7"
         ],
         "y": [
          3145218.906,
          1488010.899,
          1518170.869,
          826606.8474,
          1035676.56,
          19187415.28,
          82007340.2
         ]
        },
        {
         "mode": "lines",
         "name": "Arrakis Finance STIP Proposal - Round 1",
         "stackgroup": "one",
         "type": "scatter",
         "x": [
          "day1",
          "day2",
          "day3",
          "day4",
          "day5",
          "day6",
          "day7"
         ],
         "y": [
          5952874.518,
          1614126.372,
          516400.576,
          7542060.95,
          23041991.35,
          27320381.75,
          74762995.71
         ]
        },
        {
         "mode": "lines",
         "name": "Artichoke Protocol STIP Proposal - Round 1",
         "stackgroup": "one",
         "type": "scatter",
         "x": [
          "day1",
          "day2",
          "day3",
          "day4",
          "day5",
          "day6",
          "day7"
         ],
         "y": [
          4910843.557,
          563342.367,
          2175062.313,
          14763798.89,
          427097.3001,
          3158369.806,
          88565451.85
         ]
        },
        {
         "mode": "lines",
         "name": "Balancer DAO STIP Proposal - Round 1",
         "stackgroup": "one",
         "type": "scatter",
         "x": [
          "day1",
          "day2",
          "day3",
          "day4",
          "day5",
          "day6",
          "day7"
         ],
         "y": [
          18930919.49,
          4200015.865,
          4926571.396,
          29330054.63,
          33152444,
          9847982.634,
          56409358.31
         ]
        },
        {
         "mode": "lines",
         "name": "Beefy STIP Proposal - Round 1",
         "stackgroup": "one",
         "type": "scatter",
         "x": [
          "day1",
          "day2",
          "day3",
          "day4",
          "day5",
          "day6",
          "day7"
         ],
         "y": [
          4929793.941,
          610607.1557,
          11974249.42,
          4481042.831,
          13385458.62,
          11325817.51,
          76655488.15
         ]
        },
        {
         "mode": "lines",
         "name": "CRYPTEX STIP Proposal - Round 1",
         "stackgroup": "one",
         "type": "scatter",
         "x": [
          "day1",
          "day2",
          "day3",
          "day4",
          "day5",
          "day6",
          "day7"
         ],
         "y": [
          3601002.179,
          2874322.611,
          1415864.444,
          16496230.05,
          10192756.84,
          2934063.313,
          88908826.63
         ]
        },
        {
         "mode": "lines",
         "name": "CVI STIP Proposal - Round 1",
         "stackgroup": "one",
         "type": "scatter",
         "x": [
          "day1",
          "day2",
          "day3",
          "day4",
          "day5",
          "day6",
          "day7"
         ],
         "y": [
          4938696.052,
          550472.4969,
          1451070.367,
          2698981.079,
          417378.9422,
          15851673.09,
          85024467.14
         ]
        },
        {
         "mode": "lines",
         "name": "Camelot STIP Proposal - Round 1",
         "stackgroup": "one",
         "type": "scatter",
         "x": [
          "day1",
          "day2",
          "day3",
          "day4",
          "day5",
          "day6",
          "day7"
         ],
         "y": [
          83785874.72,
          29688824.39,
          19120204.7,
          4744749.879,
          19999700.35,
          5693177.4,
          42096697.91
         ]
        },
        {
         "mode": "lines",
         "name": "Chronos Finance STIP Proposal - Round 1",
         "stackgroup": "one",
         "type": "scatter",
         "x": [
          "day1",
          "day2",
          "day3",
          "day4",
          "day5",
          "day6",
          "day7"
         ],
         "y": [
          3648574.221,
          1571679.09,
          1410982.387,
          3145301.537,
          1025365.274,
          15137200.26,
          90262056.51
         ]
        },
        {
         "mode": "lines",
         "name": "Cian STIP Proposal - Round 1",
         "stackgroup": "one",
         "type": "scatter",
         "x": [
          "day1",
          "day2",
          "day3",
          "day4",
          "day5",
          "day6",
          "day7"
         ],
         "y": [
          2713138.571,
          1502270.912,
          1403089.892,
          830250.2548,
          1015006.164,
          15919833.45,
          85427614.86
         ]
        },
        {
         "mode": "lines",
         "name": "Consolidate Security Proposals into a RFP Process",
         "stackgroup": "one",
         "type": "scatter",
         "x": [
          "day1",
          "day2",
          "day3",
          "day4",
          "day5",
          "day6",
          "day7"
         ],
         "y": [
          6252605.753,
          15745213.16,
          36358350.87,
          20825717.8,
          30414461.61,
          4694532.722,
          73251948.54
         ]
        },
        {
         "mode": "lines",
         "name": "Curve STIP Proposal - Round 1",
         "stackgroup": "one",
         "type": "scatter",
         "x": [
          "day1",
          "day2",
          "day3",
          "day4",
          "day5",
          "day6",
          "day7"
         ],
         "y": [
          14841322.55,
          1602667.354,
          1640964.723,
          4113722.083,
          17164766.96,
          15082952.52,
          81882042.23
         ]
        },
        {
         "mode": "lines",
         "name": "D2.finance STIP Proposal - Round 1",
         "stackgroup": "one",
         "type": "scatter",
         "x": [
          "day1",
          "day2",
          "day3",
          "day4",
          "day5",
          "day6",
          "day7"
         ],
         "y": [
          6418081.599,
          893488.8657,
          1991983.42,
          2277313.925,
          13454727.09,
          4787802.313,
          87358527.85
         ]
        },
        {
         "mode": "lines",
         "name": "DefiEdge STIP Proposal - Round 1",
         "stackgroup": "one",
         "type": "scatter",
         "x": [
          "day1",
          "day2",
          "day3",
          "day4",
          "day5",
          "day6",
          "day7"
         ],
         "y": [
          19556279.52,
          3107141.379,
          20219660.54,
          2723240.477,
          20778267.65,
          9246889.139,
          79279284.69
         ]
        },
        {
         "mode": "lines",
         "name": "Dolomite STIP Proposal - Round 1",
         "stackgroup": "one",
         "type": "scatter",
         "x": [
          "day1",
          "day2",
          "day3",
          "day4",
          "day5",
          "day6",
          "day7"
         ],
         "y": [
          20380158.51,
          14615723.08,
          26536844.86,
          2690567.494,
          33739585.45,
          5003259.628,
          92409122.19
         ]
        },
        {
         "mode": "lines",
         "name": "Dopex STIP Proposal - Round 1",
         "stackgroup": "one",
         "type": "scatter",
         "x": [
          "day1",
          "day2",
          "day3",
          "day4",
          "day5",
          "day6",
          "day7"
         ],
         "y": [
          47599705.64,
          17130378.94,
          39146234.07,
          34531048.69,
          32115416.99,
          5208377.392,
          24353296.33
         ]
        },
        {
         "mode": "lines",
         "name": "Equilibria STIP Proposal - Round 1",
         "stackgroup": "one",
         "type": "scatter",
         "x": [
          "day1",
          "day2",
          "day3",
          "day4",
          "day5",
          "day6",
          "day7"
         ],
         "y": [
          3883935.252,
          5677565.921,
          494216.2815,
          2033830.122,
          18912189.09,
          20374090.09,
          80940914.01
         ]
        },
        {
         "mode": "lines",
         "name": "Florence Finance STIP Proposal - Round 1",
         "stackgroup": "one",
         "type": "scatter",
         "x": [
          "day1",
          "day2",
          "day3",
          "day4",
          "day5",
          "day6",
          "day7"
         ],
         "y": [
          2455901.988,
          1572183.56,
          2089893.121,
          825317.0322,
          1927369.618,
          15601969.11,
          83942619.84
         ]
        },
        {
         "mode": "lines",
         "name": "Frax Finance STIP Proposal - Round 1",
         "stackgroup": "one",
         "type": "scatter",
         "x": [
          "day1",
          "day2",
          "day3",
          "day4",
          "day5",
          "day6",
          "day7"
         ],
         "y": [
          42498179.81,
          5004007.04,
          25690759.46,
          11757115.84,
          24163747.26,
          6280555.889,
          69160945.51
         ]
        },
        {
         "mode": "lines",
         "name": "Furucombo STIP Proposal - Round 1",
         "stackgroup": "one",
         "type": "scatter",
         "x": [
          "day1",
          "day2",
          "day3",
          "day4",
          "day5",
          "day6",
          "day7"
         ],
         "y": [
          20210367.93,
          3339053.071,
          2539126.726,
          5196931.115,
          12496844.79,
          33645845.38,
          63062500.15
         ]
        },
        {
         "mode": "lines",
         "name": "GMD Ecosystem STIP Proposal - Round 1",
         "stackgroup": "one",
         "type": "scatter",
         "x": [
          "day1",
          "day2",
          "day3",
          "day4",
          "day5",
          "day6",
          "day7"
         ],
         "y": [
          5191707.258,
          733429.355,
          1854346.244,
          2654223.644,
          1179664.36,
          16313352.55,
          90999267.71
         ]
        },
        {
         "mode": "lines",
         "name": "GMX STIP Proposal - Round 1",
         "stackgroup": "one",
         "type": "scatter",
         "x": [
          "day1",
          "day2",
          "day3",
          "day4",
          "day5",
          "day6",
          "day7"
         ],
         "y": [
          84965699.35,
          10645521.28,
          29284232.69,
          3205944.604,
          20237109.89,
          10335349.29,
          36734617.55
         ]
        },
        {
         "mode": "lines",
         "name": "Gains Network STIP Proposal - Round 1",
         "stackgroup": "one",
         "type": "scatter",
         "x": [
          "day1",
          "day2",
          "day3",
          "day4",
          "day5",
          "day6",
          "day7"
         ],
         "y": [
          4617254.835,
          653760.8545,
          20207717.83,
          8077362.183,
          5301938.185,
          4424235.367,
          111263180.9
         ]
        },
        {
         "mode": "lines",
         "name": "Galxe STIP Proposal - Round 1",
         "stackgroup": "one",
         "type": "scatter",
         "x": [
          "day1",
          "day2",
          "day3",
          "day4",
          "day5",
          "day6",
          "day7"
         ],
         "y": [
          18836172.43,
          20352254.94,
          11263404.88,
          19194909.89,
          47965302.94,
          5544739.923,
          68631717.07
         ]
        },
        {
         "mode": "lines",
         "name": "Gamma STIP Proposal - Round 1",
         "stackgroup": "one",
         "type": "scatter",
         "x": [
          "day1",
          "day2",
          "day3",
          "day4",
          "day5",
          "day6",
          "day7"
         ],
         "y": [
          17544404.58,
          3108770.868,
          9445561.559,
          3875454.082,
          47378587.07,
          17246359.68,
          81132634.61
         ]
        },
        {
         "mode": "lines",
         "name": "Good Entry STIP Proposal - Round 1",
         "stackgroup": "one",
         "type": "scatter",
         "x": [
          "day1",
          "day2",
          "day3",
          "day4",
          "day5",
          "day6",
          "day7"
         ],
         "y": [
          19112391.28,
          1080028.761,
          1929061.679,
          15628913.63,
          34813496.42,
          12046712.35,
          102009411.6
         ]
        },
        {
         "mode": "lines",
         "name": "Guru Network STIP Proposal - Round 1",
         "stackgroup": "one",
         "type": "scatter",
         "x": [
          "day1",
          "day2",
          "day3",
          "day4",
          "day5",
          "day6",
          "day7"
         ],
         "y": [
          2410278.327,
          1540494.982,
          2086599.925,
          822653.5778,
          1035396.727,
          15982215.53,
          89293985.72
         ]
        },
        {
         "mode": "lines",
         "name": "HMX STIP Proposal - Round 1",
         "stackgroup": "one",
         "type": "scatter",
         "x": [
          "day1",
          "day2",
          "day3",
          "day4",
          "day5",
          "day6",
          "day7"
         ],
         "y": [
          4997545.216,
          580867.4803,
          1584914.565,
          2160718.14,
          445743.5206,
          16732198.28,
          90264225.42
         ]
        },
        {
         "mode": "lines",
         "name": "JOJO Exchange STIP Proposal - Round 1",
         "stackgroup": "one",
         "type": "scatter",
         "x": [
          "day1",
          "day2",
          "day3",
          "day4",
          "day5",
          "day6",
          "day7"
         ],
         "y": [
          9426778.948,
          771485.3273,
          12095433.49,
          7250010.324,
          3893333.207,
          40986937.66,
          71506240.32
         ]
        },
        {
         "mode": "lines",
         "name": "Jones DAO STIP Proposal - Round 1",
         "stackgroup": "one",
         "type": "scatter",
         "x": [
          "day1",
          "day2",
          "day3",
          "day4",
          "day5",
          "day6",
          "day7"
         ],
         "y": [
          44992569.15,
          32884058.12,
          38766283.31,
          5614576.843,
          444395.3366,
          22498726.92,
          58905650.42
         ]
        },
        {
         "mode": "lines",
         "name": "KeplerHomes STIP Proposal - Round 1",
         "stackgroup": "one",
         "type": "scatter",
         "x": [
          "day1",
          "day2",
          "day3",
          "day4",
          "day5",
          "day6",
          "day7"
         ],
         "y": [
          3125327.967,
          1592819.524,
          1416116.516,
          13167713.71,
          5089090.057,
          4188635.577,
          91150274.33
         ]
        },
        {
         "mode": "lines",
         "name": "KyberSwap STIP Proposal - Round 1",
         "stackgroup": "one",
         "type": "scatter",
         "x": [
          "day1",
          "day2",
          "day3",
          "day4",
          "day5",
          "day6",
          "day7"
         ],
         "y": [
          3219054.736,
          5563909.753,
          1407889.527,
          18555517.27,
          26413419.59,
          48323438.47,
          73071230.24
         ]
        },
        {
         "mode": "lines",
         "name": "LODESTAR FINANCE STIP Proposal - Round 1",
         "stackgroup": "one",
         "type": "scatter",
         "x": [
          "day1",
          "day2",
          "day3",
          "day4",
          "day5",
          "day6",
          "day7"
         ],
         "y": [
          18681827.58,
          4161097.97,
          24045319.85,
          22629217.44,
          2376712.99,
          23618124.05,
          96159873.96
         ]
        },
        {
         "mode": "lines",
         "name": "LOGX STIP Proposal - Round 1",
         "stackgroup": "one",
         "type": "scatter",
         "x": [
          "day1",
          "day2",
          "day3",
          "day4",
          "day5",
          "day6",
          "day7"
         ],
         "y": [
          3108488.579,
          1576247.892,
          1417847.785,
          1561413.039,
          2658999.443,
          7134717.414,
          103010339.4
         ]
        },
        {
         "mode": "lines",
         "name": "Lido STIP Proposal - Round 1",
         "stackgroup": "one",
         "type": "scatter",
         "x": [
          "day1",
          "day2",
          "day3",
          "day4",
          "day5",
          "day6",
          "day7"
         ],
         "y": [
          20464075.85,
          5783444.648,
          4412535.664,
          11188765.08,
          17717639.37,
          22390803.72,
          118704470.5
         ]
        },
        {
         "mode": "lines",
         "name": "MUX Protocol STIP Proposal - Round 1",
         "stackgroup": "one",
         "type": "scatter",
         "x": [
          "day1",
          "day2",
          "day3",
          "day4",
          "day5",
          "day6",
          "day7"
         ],
         "y": [
          32964804.56,
          2531170.044,
          11067996.4,
          70607330.21,
          28310816.31,
          3755695.725,
          41069302.3
         ]
        },
        {
         "mode": "lines",
         "name": "Magpie, Penpie, Radpie, Campie STIP Proposal - Round 1",
         "stackgroup": "one",
         "type": "scatter",
         "x": [
          "day1",
          "day2",
          "day3",
          "day4",
          "day5",
          "day6",
          "day7"
         ],
         "y": [
          12746454.49,
          1469713.915,
          18763080.66,
          14510927.44,
          1303317.053,
          27467068.58,
          87955872.05
         ]
        },
        {
         "mode": "lines",
         "name": "Modular Wallet STIP Proposal - Round 1",
         "stackgroup": "one",
         "type": "scatter",
         "x": [
          "day1",
          "day2",
          "day3",
          "day4",
          "day5",
          "day6",
          "day7"
         ],
         "y": [
          2719164.781,
          1491771.136,
          1408880.471,
          818529.4844,
          13237041.65,
          7101862.372,
          85156069.37
         ]
        },
        {
         "mode": "lines",
         "name": "NFTEarth STIP Proposal - Round 1",
         "stackgroup": "one",
         "type": "scatter",
         "x": [
          "day1",
          "day2",
          "day3",
          "day4",
          "day5",
          "day6",
          "day7"
         ],
         "y": [
          2546643.071,
          3907273.753,
          2427830.427,
          1079692.007,
          1036020.764,
          5440086.959,
          100654209.5
         ]
        },
        {
         "mode": "lines",
         "name": "Notional STIP Proposal - Round 1",
         "stackgroup": "one",
         "type": "scatter",
         "x": [
          "day1",
          "day2",
          "day3",
          "day4",
          "day5",
          "day6",
          "day7"
         ],
         "y": [
          8408870.917,
          645183.8856,
          1409893.486,
          19967817.9,
          7615386.141,
          18882904.59,
          81040202.35
         ]
        },
        {
         "mode": "lines",
         "name": "OmniBTC STIP Proposal - Round 1",
         "stackgroup": "one",
         "type": "scatter",
         "x": [
          "day1",
          "day2",
          "day3",
          "day4",
          "day5",
          "day6",
          "day7"
         ],
         "y": [
          4347182.377,
          1463269.045,
          624579.0183,
          2152357.901,
          12650697.47,
          10253731.16,
          82434119.44
         ]
        },
        {
         "mode": "lines",
         "name": "OpenOcean STIP Proposal - Round 1",
         "stackgroup": "one",
         "type": "scatter",
         "x": [
          "day1",
          "day2",
          "day3",
          "day4",
          "day5",
          "day6",
          "day7"
         ],
         "y": [
          4319804.209,
          4114641.033,
          4600411.354,
          15272310.62,
          24449114.2,
          30593139.81,
          104353674.3
         ]
        },
        {
         "mode": "lines",
         "name": "PancakeSwap STIP Proposal - Round 1",
         "stackgroup": "one",
         "type": "scatter",
         "x": [
          "day1",
          "day2",
          "day3",
          "day4",
          "day5",
          "day6",
          "day7"
         ],
         "y": [
          8904019.584,
          3286945.048,
          12012882.52,
          4000924.571,
          18570088.62,
          28662672.02,
          82193337.56
         ]
        },
        {
         "mode": "lines",
         "name": "Pendle STIP Proposal - Round 1",
         "stackgroup": "one",
         "type": "scatter",
         "x": [
          "day1",
          "day2",
          "day3",
          "day4",
          "day5",
          "day6",
          "day7"
         ],
         "y": [
          26759253.71,
          31621382.15,
          14181751.84,
          29763947.12,
          28064175.49,
          10626877.3,
          44933102.37
         ]
        },
        {
         "mode": "lines",
         "name": "Perennial Finance STIP Proposal - Round 1",
         "stackgroup": "one",
         "type": "scatter",
         "x": [
          "day1",
          "day2",
          "day3",
          "day4",
          "day5",
          "day6",
          "day7"
         ],
         "y": [
          4655338.202,
          1475195.14,
          16197085.2,
          5490960.014,
          31932918.33,
          52530236.75,
          77215600.96
         ]
        },
        {
         "mode": "lines",
         "name": "Premia STIP Proposal - Round 1",
         "stackgroup": "one",
         "type": "scatter",
         "x": [
          "day1",
          "day2",
          "day3",
          "day4",
          "day5",
          "day6",
          "day7"
         ],
         "y": [
          23384644.79,
          4829434.151,
          23307697.55,
          1416966.776,
          49192785.23,
          6510051.081,
          60104047.98
         ]
        },
        {
         "mode": "lines",
         "name": "Prime Protocol STIP Proposal - Round 1",
         "stackgroup": "one",
         "type": "scatter",
         "x": [
          "day1",
          "day2",
          "day3",
          "day4",
          "day5",
          "day6",
          "day7"
         ],
         "y": [
          3669021.485,
          1597154.181,
          1414570.113,
          1571014.547,
          13252394.81,
          3958758.552,
          87149861.78
         ]
        },
        {
         "mode": "lines",
         "name": "Procurement Framework | Security : Non-Constitutional Proposal",
         "stackgroup": "one",
         "type": "scatter",
         "x": [
          "day1",
          "day2",
          "day3",
          "day4",
          "day5",
          "day6",
          "day7"
         ],
         "y": [
          3095199.585,
          3040445.033,
          2482971.412,
          7183387.457,
          4699402.931,
          57567517.09,
          73950778.58
         ]
        },
        {
         "mode": "lines",
         "name": "Proposal to Backfund Successful STIP Proposals",
         "stackgroup": "one",
         "type": "scatter",
         "x": [
          "day1",
          "day2",
          "day3",
          "day4",
          "day5",
          "day6",
          "day7"
         ],
         "y": [
          5473901.086,
          6254966.637,
          12316121.63,
          17009051.23,
          19517480.5,
          9393913.661,
          125677167.8
         ]
        },
        {
         "mode": "lines",
         "name": "Proposal to onboard Matrixed.Link as a validator for Arbitrum",
         "stackgroup": "one",
         "type": "scatter",
         "x": [
          "day1",
          "day2",
          "day3",
          "day4",
          "day5",
          "day6",
          "day7"
         ],
         "y": [
          6566564.302,
          1533074.19,
          1923586.275,
          612989.5754,
          509666.7458,
          14184635.94,
          30251034.94
         ]
        },
        {
         "mode": "lines",
         "name": "Proposal: Activate support for account abstraction endpoint on One and Nova",
         "stackgroup": "one",
         "type": "scatter",
         "x": [
          "day1",
          "day2",
          "day3",
          "day4",
          "day5",
          "day6",
          "day7"
         ],
         "y": [
          10212298.53,
          2710639.913,
          1891145.039,
          19125068.3,
          1576366.457,
          3693775.251,
          21494948.09
         ]
        },
        {
         "mode": "lines",
         "name": "Proposal: Building the Future of NFTs: The Rarible Protocol - Arbitrum Integration Proposal [REVISED]",
         "stackgroup": "one",
         "type": "scatter",
         "x": [
          "day1",
          "day2",
          "day3",
          "day4",
          "day5",
          "day6",
          "day7"
         ],
         "y": [
          9135912.605,
          11730414.08,
          47268866.96,
          1910206.487,
          12267748.52,
          333603.0876,
          38132091.04
         ]
        },
        {
         "mode": "lines",
         "name": "Proposal: Security Council Elections Proposed Implementation Spec",
         "stackgroup": "one",
         "type": "scatter",
         "x": [
          "day1",
          "day2",
          "day3",
          "day4",
          "day5",
          "day6",
          "day7"
         ],
         "y": [
          2841456.284,
          1264023.271,
          16889511.44,
          16648895.69,
          17539154.73,
          23195680.98,
          2540925.309
         ]
        },
        {
         "mode": "lines",
         "name": "Proposal: Update Security Council Election Start Date to Ensure Time for Security Audit",
         "stackgroup": "one",
         "type": "scatter",
         "x": [
          "day1",
          "day2",
          "day3",
          "day4",
          "day5",
          "day6",
          "day7"
         ],
         "y": [
          4092397.741,
          15227478.47,
          48832790.88,
          1815374.529,
          3082344.426,
          3780261.659,
          6718023.125
         ]
        },
        {
         "mode": "lines",
         "name": "QiDao STIP Proposal - Round 1",
         "stackgroup": "one",
         "type": "scatter",
         "x": [
          "day1",
          "day2",
          "day3",
          "day4",
          "day5",
          "day6",
          "day7"
         ],
         "y": [
          4987404.495,
          694205.2957,
          1489910.909,
          6014093.068,
          23697170,
          9146058.938,
          75449241.83
         ]
        },
        {
         "mode": "lines",
         "name": "Quadrat STIP Proposal - Round 1",
         "stackgroup": "one",
         "type": "scatter",
         "x": [
          "day1",
          "day2",
          "day3",
          "day4",
          "day5",
          "day6",
          "day7"
         ],
         "y": [
          5381821.438,
          1012282.666,
          1467295.764,
          2577965.891,
          12630338.73,
          3142636.882,
          87652678.68
         ]
        },
        {
         "mode": "lines",
         "name": "RADIANT STIP Proposal - Round 1",
         "stackgroup": "one",
         "type": "scatter",
         "x": [
          "day1",
          "day2",
          "day3",
          "day4",
          "day5",
          "day6",
          "day7"
         ],
         "y": [
          29106730.97,
          16972230.82,
          24944528.05,
          30320745.55,
          42965762.45,
          11786086.93,
          29414952.41
         ]
        },
        {
         "mode": "lines",
         "name": "RAMSES STIP Proposal - Round 1",
         "stackgroup": "one",
         "type": "scatter",
         "x": [
          "day1",
          "day2",
          "day3",
          "day4",
          "day5",
          "day6",
          "day7"
         ],
         "y": [
          3750315.926,
          1548296.211,
          2353436.781,
          4465241.993,
          7406356.968,
          21876782.96,
          96646629.72
         ]
        },
        {
         "mode": "lines",
         "name": "REALM STIP Proposal - Round 1",
         "stackgroup": "one",
         "type": "scatter",
         "x": [
          "day1",
          "day2",
          "day3",
          "day4",
          "day5",
          "day6",
          "day7"
         ],
         "y": [
          35603940.22,
          16550789.24,
          5430146.57,
          14361880.78,
          440766.7098,
          4810402.685,
          58830090.19
         ]
        },
        {
         "mode": "lines",
         "name": "RabbitHole STIP Proposal - Round 1",
         "stackgroup": "one",
         "type": "scatter",
         "x": [
          "day1",
          "day2",
          "day3",
          "day4",
          "day5",
          "day6",
          "day7"
         ],
         "y": [
          16683590.08,
          17235071.64,
          2866530.586,
          4891584.844,
          45268938.59,
          11786795.79,
          67187658.01
         ]
        },
        {
         "mode": "lines",
         "name": "Range Protocol STIP Proposal - Round 1",
         "stackgroup": "one",
         "type": "scatter",
         "x": [
          "day1",
          "day2",
          "day3",
          "day4",
          "day5",
          "day6",
          "day7"
         ],
         "y": [
          9856524.8,
          1579326.515,
          1417901.25,
          1557645.65,
          1822270.27,
          15021284.16,
          85749922.36
         ]
        },
        {
         "mode": "lines",
         "name": "Relay Chain: James Bot STIP Proposal - Round 1",
         "stackgroup": "one",
         "type": "scatter",
         "x": [
          "day1",
          "day2",
          "day3",
          "day4",
          "day5",
          "day6",
          "day7"
         ],
         "y": [
          3948804.173,
          1613566.233,
          492987.141,
          2936085.124,
          12636196.82,
          8205185.454,
          83585934.73
         ]
        },
        {
         "mode": "lines",
         "name": "Rodeo Finance STIP Proposal - Round 1",
         "stackgroup": "one",
         "type": "scatter",
         "x": [
          "day1",
          "day2",
          "day3",
          "day4",
          "day5",
          "day6",
          "day7"
         ],
         "y": [
          30460806.48,
          3182248.625,
          21451247.35,
          7662662.009,
          13912815.96,
          4728339.064,
          77010023.53
         ]
        },
        {
         "mode": "lines",
         "name": "Rysk STIP Proposal - Round 1",
         "stackgroup": "one",
         "type": "scatter",
         "x": [
          "day1",
          "day2",
          "day3",
          "day4",
          "day5",
          "day6",
          "day7"
         ],
         "y": [
          14522912.43,
          9384498.423,
          20047142.39,
          7160393.981,
          42773490.94,
          7154221.117,
          83449625.37
         ]
        },
        {
         "mode": "lines",
         "name": "Sanko GameCorp STIP Proposal - Round 1",
         "stackgroup": "one",
         "type": "scatter",
         "x": [
          "day1",
          "day2",
          "day3",
          "day4",
          "day5",
          "day6",
          "day7"
         ],
         "y": [
          5974056.578,
          676225.6374,
          6115372.034,
          2228648.878,
          34836028.77,
          10491520.45,
          114756907.2
         ]
        },
        {
         "mode": "lines",
         "name": "Savvy STIP Proposal - Round 1",
         "stackgroup": "one",
         "type": "scatter",
         "x": [
          "day1",
          "day2",
          "day3",
          "day4",
          "day5",
          "day6",
          "day7"
         ],
         "y": [
          7566308.706,
          4766537.201,
          5697100.138,
          1291785.683,
          12617880.21,
          8773752.764,
          139877655.7
         ]
        },
        {
         "mode": "lines",
         "name": "Shell Protocol STIP Proposal - Round 1",
         "stackgroup": "one",
         "type": "scatter",
         "x": [
          "day1",
          "day2",
          "day3",
          "day4",
          "day5",
          "day6",
          "day7"
         ],
         "y": [
          2869669.491,
          1593591.482,
          1524529.018,
          2390436.655,
          1036322.049,
          20329657.19,
          88028409.99
         ]
        },
        {
         "mode": "lines",
         "name": "Silo Finance STIP Proposal - Round 1",
         "stackgroup": "one",
         "type": "scatter",
         "x": [
          "day1",
          "day2",
          "day3",
          "day4",
          "day5",
          "day6",
          "day7"
         ],
         "y": [
          37155683.6,
          765926.817,
          24796978.39,
          17613778.6,
          26333912.3,
          22207475.83,
          69728997.45
         ]
        },
        {
         "mode": "lines",
         "name": "Socket STIP Proposal - Round 1",
         "stackgroup": "one",
         "type": "scatter",
         "x": [
          "day1",
          "day2",
          "day3",
          "day4",
          "day5",
          "day6",
          "day7"
         ],
         "y": [
          42168278.6,
          24282144.76,
          25074896.29,
          30601726.94,
          19319080.56,
          6134419.145,
          50685285.18
         ]
        },
        {
         "mode": "lines",
         "name": "Solv Protocol STIP Proposal - Round 1",
         "stackgroup": "one",
         "type": "scatter",
         "x": [
          "day1",
          "day2",
          "day3",
          "day4",
          "day5",
          "day6",
          "day7"
         ],
         "y": [
          17195596.21,
          1459758.9,
          489229.6056,
          2152007.992,
          438366.6724,
          16011696.58,
          94613502.38
         ]
        },
        {
         "mode": "lines",
         "name": "SpartaDEX STIP Proposal - Round 1",
         "stackgroup": "one",
         "type": "scatter",
         "x": [
          "day1",
          "day2",
          "day3",
          "day4",
          "day5",
          "day6",
          "day7"
         ],
         "y": [
          3338223.675,
          1484191.434,
          1419903.645,
          841534.8364,
          14178471.35,
          2850169.293,
          85279464.61
         ]
        },
        {
         "mode": "lines",
         "name": "StakeDAO STIP Proposal - Round 1",
         "stackgroup": "one",
         "type": "scatter",
         "x": [
          "day1",
          "day2",
          "day3",
          "day4",
          "day5",
          "day6",
          "day7"
         ],
         "y": [
          5039018.115,
          578789.9878,
          4303812.404,
          4885492.724,
          2972071.621,
          15197877.98,
          92849773.53
         ]
        },
        {
         "mode": "lines",
         "name": "Stargate Finance STIP Proposal - Round 1",
         "stackgroup": "one",
         "type": "scatter",
         "x": [
          "day1",
          "day2",
          "day3",
          "day4",
          "day5",
          "day6",
          "day7"
         ],
         "y": [
          17412746.05,
          2754927.944,
          588638.5322,
          10743118.66,
          19273697.42,
          42363958.3,
          63427322.72
         ]
        },
        {
         "mode": "lines",
         "name": "Stella STIP Proposal - Round 1",
         "stackgroup": "one",
         "type": "scatter",
         "x": [
          "day1",
          "day2",
          "day3",
          "day4",
          "day5",
          "day6",
          "day7"
         ],
         "y": [
          22393033.16,
          7250187.495,
          1409547.234,
          9989457.958,
          21964818.07,
          33953393.51,
          86785692.85
         ]
        },
        {
         "mode": "lines",
         "name": "Synapse Protocol STIP Proposal - Round 1",
         "stackgroup": "one",
         "type": "scatter",
         "x": [
          "day1",
          "day2",
          "day3",
          "day4",
          "day5",
          "day6",
          "day7"
         ],
         "y": [
          9777909.696,
          947466.579,
          1883981.515,
          11209599.6,
          17569381.33,
          22141899.94,
          131149857.1
         ]
        },
        {
         "mode": "lines",
         "name": "TIDE STIP Proposal - Round 1",
         "stackgroup": "one",
         "type": "scatter",
         "x": [
          "day1",
          "day2",
          "day3",
          "day4",
          "day5",
          "day6",
          "day7"
         ],
         "y": [
          16381235.6,
          4091776.531,
          1410844.127,
          915956.3577,
          13223422.19,
          8368219.25,
          88071732.9
         ]
        },
        {
         "mode": "lines",
         "name": "Tales of Elleria STIP Proposal - Round 1",
         "stackgroup": "one",
         "type": "scatter",
         "x": [
          "day1",
          "day2",
          "day3",
          "day4",
          "day5",
          "day6",
          "day7"
         ],
         "y": [
          53922954.66,
          18405792.78,
          11166272.66,
          19489790.5,
          4973461.573,
          3852794.293,
          53517418.44
         ]
        },
        {
         "mode": "lines",
         "name": "Tally STIP Proposal - Round 1",
         "stackgroup": "one",
         "type": "scatter",
         "x": [
          "day1",
          "day2",
          "day3",
          "day4",
          "day5",
          "day6",
          "day7"
         ],
         "y": [
          45837170.59,
          19785126.78,
          16106127.11,
          13713177.52,
          13275300.83,
          16668399.25,
          56221976.79
         ]
        },
        {
         "mode": "lines",
         "name": "Thales STIP Proposal - Round 1",
         "stackgroup": "one",
         "type": "scatter",
         "x": [
          "day1",
          "day2",
          "day3",
          "day4",
          "day5",
          "day6",
          "day7"
         ],
         "y": [
          10762102.16,
          6073671.279,
          22640926.17,
          21488087.22,
          7846103.048,
          14154299.29,
          71042984.21
         ]
        },
        {
         "mode": "lines",
         "name": "Thetanuts STIP Proposal - Round 1",
         "stackgroup": "one",
         "type": "scatter",
         "x": [
          "day1",
          "day2",
          "day3",
          "day4",
          "day5",
          "day6",
          "day7"
         ],
         "y": [
          5923776.469,
          612661.127,
          1617318.644,
          3184957.644,
          20817666.83,
          22486296.48,
          98536013.03
         ]
        },
        {
         "mode": "lines",
         "name": "Time Management in ArbitrumÃÂÃÂ¢ÃÂÃÂÃÂÃÂs Governance",
         "stackgroup": "one",
         "type": "scatter",
         "x": [
          "day1",
          "day2",
          "day3",
          "day4",
          "day5",
          "day6",
          "day7"
         ],
         "y": [
          2128764.043,
          2804515.883,
          844341.4084,
          1231549.661,
          4941370.341,
          8039457.45,
          22156520.83
         ]
        },
        {
         "mode": "lines",
         "name": "Timeswap STIP Proposal - Round 1",
         "stackgroup": "one",
         "type": "scatter",
         "x": [
          "day1",
          "day2",
          "day3",
          "day4",
          "day5",
          "day6",
          "day7"
         ],
         "y": [
          19411827.82,
          2246875.194,
          10170334.81,
          23828466.23,
          35848102.39,
          31408005.54,
          76543018.13
         ]
        },
        {
         "mode": "lines",
         "name": "Trader Joe STIP Proposal - Round 1",
         "stackgroup": "one",
         "type": "scatter",
         "x": [
          "day1",
          "day2",
          "day3",
          "day4",
          "day5",
          "day6",
          "day7"
         ],
         "y": [
          26949788.35,
          7755099.73,
          26775097.76,
          26336439.12,
          36171024.67,
          4979790.06,
          64073268.33
         ]
        },
        {
         "mode": "lines",
         "name": "Umami STIP Proposal - Round 1",
         "stackgroup": "one",
         "type": "scatter",
         "x": [
          "day1",
          "day2",
          "day3",
          "day4",
          "day5",
          "day6",
          "day7"
         ],
         "y": [
          13430830.98,
          19784221.45,
          28159831.21,
          29098778.11,
          40245887.96,
          22839415.85,
          50381759.48
         ]
        },
        {
         "mode": "lines",
         "name": "UniDex STIP Proposal - Round 1",
         "stackgroup": "one",
         "type": "scatter",
         "x": [
          "day1",
          "day2",
          "day3",
          "day4",
          "day5",
          "day6",
          "day7"
         ],
         "y": [
          6913359.092,
          1357909.574,
          2045028.239,
          2318894.716,
          2193347.546,
          20188975.39,
          87505410.18
         ]
        },
        {
         "mode": "lines",
         "name": "Vaultka STIP Proposal - Round 1",
         "stackgroup": "one",
         "type": "scatter",
         "x": [
          "day1",
          "day2",
          "day3",
          "day4",
          "day5",
          "day6",
          "day7"
         ],
         "y": [
          4001333.787,
          572762.0057,
          1464719.039,
          2581929.788,
          14240279.3,
          3162740.732,
          97697766.88
         ]
        },
        {
         "mode": "lines",
         "name": "Vela Exchange STIP Proposal - Round 1",
         "stackgroup": "one",
         "type": "scatter",
         "x": [
          "day1",
          "day2",
          "day3",
          "day4",
          "day5",
          "day6",
          "day7"
         ],
         "y": [
          7980024.069,
          1602769.257,
          524384.7542,
          2156431.417,
          35337025.88,
          5127776.069,
          79561059.59
         ]
        },
        {
         "mode": "lines",
         "name": "Vertex Protocol STIP Proposal - Round 1",
         "stackgroup": "one",
         "type": "scatter",
         "x": [
          "day1",
          "day2",
          "day3",
          "day4",
          "day5",
          "day6",
          "day7"
         ],
         "y": [
          21606095.06,
          4042886.604,
          2555322.435,
          8561777.592,
          11542986.82,
          45209808.62,
          87365105.4
         ]
        },
        {
         "mode": "lines",
         "name": "WINR Protocol STIP Proposal - Round 1",
         "stackgroup": "one",
         "type": "scatter",
         "x": [
          "day1",
          "day2",
          "day3",
          "day4",
          "day5",
          "day6",
          "day7"
         ],
         "y": [
          21410356.24,
          4717048.39,
          23089483.65,
          9542024.057,
          17304915.05,
          2510943.424,
          105864855.9
         ]
        },
        {
         "mode": "lines",
         "name": "WOOFi STIP Proposal - Round 1",
         "stackgroup": "one",
         "type": "scatter",
         "x": [
          "day1",
          "day2",
          "day3",
          "day4",
          "day5",
          "day6",
          "day7"
         ],
         "y": [
          11620561.67,
          6518390.073,
          1459821.095,
          8420220.933,
          17309382.94,
          54610276.67,
          76290687.51
         ]
        },
        {
         "mode": "lines",
         "name": "Webacy STIP Proposal - Round 1",
         "stackgroup": "one",
         "type": "scatter",
         "x": [
          "day1",
          "day2",
          "day3",
          "day4",
          "day5",
          "day6",
          "day7"
         ],
         "y": [
          4284772.466,
          2157091.586,
          1421977.846,
          1548832.964,
          14105438.9,
          1947102.455,
          90380436.23
         ]
        },
        {
         "mode": "lines",
         "name": "Wombat Exchange STIP Proposal - Round 1",
         "stackgroup": "one",
         "type": "scatter",
         "x": [
          "day1",
          "day2",
          "day3",
          "day4",
          "day5",
          "day6",
          "day7"
         ],
         "y": [
          5379382.882,
          3182489.482,
          1671981.436,
          3203593.152,
          13361801.24,
          2975217.939,
          87748544.66
         ]
        },
        {
         "mode": "lines",
         "name": "Wombex Finance STIP Proposal - Round 1",
         "stackgroup": "one",
         "type": "scatter",
         "x": [
          "day1",
          "day2",
          "day3",
          "day4",
          "day5",
          "day6",
          "day7"
         ],
         "y": [
          4865784.265,
          3975806.606,
          479528.9773,
          6354819.61,
          12633842.27,
          3163179.274,
          88541320.42
         ]
        },
        {
         "mode": "lines",
         "name": "Wormhole STIP Proposal - Round 1",
         "stackgroup": "one",
         "type": "scatter",
         "x": [
          "day1",
          "day2",
          "day3",
          "day4",
          "day5",
          "day6",
          "day7"
         ],
         "y": [
          13203578.63,
          1464288.095,
          10883513.18,
          3074685.055,
          13537805.63,
          14347038.56,
          84813941.46
         ]
        },
        {
         "mode": "lines",
         "name": "XY STIP Proposal - Round 1",
         "stackgroup": "one",
         "type": "scatter",
         "x": [
          "day1",
          "day2",
          "day3",
          "day4",
          "day5",
          "day6",
          "day7"
         ],
         "y": [
          4122243.653,
          1492320.093,
          1402923.338,
          966844.4382,
          13242590.6,
          3765685.74,
          84830697.05
         ]
        },
        {
         "mode": "lines",
         "name": "ZKasino STIP Proposal - Round 1",
         "stackgroup": "one",
         "type": "scatter",
         "x": [
          "day1",
          "day2",
          "day3",
          "day4",
          "day5",
          "day6",
          "day7"
         ],
         "y": [
          27769982.59,
          593232.8869,
          5917243.084,
          6118458.806,
          440704.7331,
          15794477.76,
          74011123.92
         ]
        },
        {
         "mode": "lines",
         "name": "[Non-Constitutional] Fund the Arbitrum Grants Framework Proposal Milestone 1",
         "stackgroup": "one",
         "type": "scatter",
         "x": [
          "day1",
          "day2",
          "day3",
          "day4",
          "day5",
          "day6",
          "day7"
         ],
         "y": [
          24582146.74,
          1976000.007,
          1959503.841,
          692162.5525,
          12436478.12,
          20036042.16,
          39026501.36
         ]
        },
        {
         "mode": "lines",
         "name": "[Non-Constitutional]: Arbitrum Stable Treasury Endowment Program",
         "stackgroup": "one",
         "type": "scatter",
         "x": [
          "day1",
          "day2",
          "day3",
          "day4",
          "day5",
          "day6",
          "day7"
         ],
         "y": [
          21455049.46,
          5299347.516,
          6326225.043,
          1612161.045,
          3746900.904,
          23657749.72,
          70634716.33
         ]
        },
        {
         "mode": "lines",
         "name": "dForce STIP Proposal - Round 1",
         "stackgroup": "one",
         "type": "scatter",
         "x": [
          "day1",
          "day2",
          "day3",
          "day4",
          "day5",
          "day6",
          "day7"
         ],
         "y": [
          5879577.951,
          6398880.287,
          14670269.35,
          5551189.878,
          13434016.46,
          6228210.936,
          87413278.15
         ]
        },
        {
         "mode": "lines",
         "name": "iZUMi STIP Proposal - Round 1",
         "stackgroup": "one",
         "type": "scatter",
         "x": [
          "day1",
          "day2",
          "day3",
          "day4",
          "day5",
          "day6",
          "day7"
         ],
         "y": [
          10971807.92,
          3442907.256,
          2109820.938,
          7698911.627,
          6559648.507,
          9609896.924,
          114439659.9
         ]
        },
        {
         "mode": "lines",
         "name": "tBTC STIP Proposal - Round 1",
         "stackgroup": "one",
         "type": "scatter",
         "x": [
          "day1",
          "day2",
          "day3",
          "day4",
          "day5",
          "day6",
          "day7"
         ],
         "y": [
          4113969.782,
          1600167.879,
          497640.1851,
          2127256.3,
          13093731.18,
          8867480.524,
          80396453.94
         ]
        },
        {
         "mode": "lines",
         "name": "unshETH STIP Proposal - Round 1",
         "stackgroup": "one",
         "type": "scatter",
         "x": [
          "day1",
          "day2",
          "day3",
          "day4",
          "day5",
          "day6",
          "day7"
         ],
         "y": [
          3190648.823,
          1491824.8,
          1513307.179,
          1108236.249,
          21143505,
          5172487.318,
          86247525.05
         ]
        }
       ],
       "layout": {
        "showlegend": false,
        "template": {
         "data": {
          "bar": [
           {
            "error_x": {
             "color": "#2a3f5f"
            },
            "error_y": {
             "color": "#2a3f5f"
            },
            "marker": {
             "line": {
              "color": "#E5ECF6",
              "width": 0.5
             },
             "pattern": {
              "fillmode": "overlay",
              "size": 10,
              "solidity": 0.2
             }
            },
            "type": "bar"
           }
          ],
          "barpolar": [
           {
            "marker": {
             "line": {
              "color": "#E5ECF6",
              "width": 0.5
             },
             "pattern": {
              "fillmode": "overlay",
              "size": 10,
              "solidity": 0.2
             }
            },
            "type": "barpolar"
           }
          ],
          "carpet": [
           {
            "aaxis": {
             "endlinecolor": "#2a3f5f",
             "gridcolor": "white",
             "linecolor": "white",
             "minorgridcolor": "white",
             "startlinecolor": "#2a3f5f"
            },
            "baxis": {
             "endlinecolor": "#2a3f5f",
             "gridcolor": "white",
             "linecolor": "white",
             "minorgridcolor": "white",
             "startlinecolor": "#2a3f5f"
            },
            "type": "carpet"
           }
          ],
          "choropleth": [
           {
            "colorbar": {
             "outlinewidth": 0,
             "ticks": ""
            },
            "type": "choropleth"
           }
          ],
          "contour": [
           {
            "colorbar": {
             "outlinewidth": 0,
             "ticks": ""
            },
            "colorscale": [
             [
              0,
              "#0d0887"
             ],
             [
              0.1111111111111111,
              "#46039f"
             ],
             [
              0.2222222222222222,
              "#7201a8"
             ],
             [
              0.3333333333333333,
              "#9c179e"
             ],
             [
              0.4444444444444444,
              "#bd3786"
             ],
             [
              0.5555555555555556,
              "#d8576b"
             ],
             [
              0.6666666666666666,
              "#ed7953"
             ],
             [
              0.7777777777777778,
              "#fb9f3a"
             ],
             [
              0.8888888888888888,
              "#fdca26"
             ],
             [
              1,
              "#f0f921"
             ]
            ],
            "type": "contour"
           }
          ],
          "contourcarpet": [
           {
            "colorbar": {
             "outlinewidth": 0,
             "ticks": ""
            },
            "type": "contourcarpet"
           }
          ],
          "heatmap": [
           {
            "colorbar": {
             "outlinewidth": 0,
             "ticks": ""
            },
            "colorscale": [
             [
              0,
              "#0d0887"
             ],
             [
              0.1111111111111111,
              "#46039f"
             ],
             [
              0.2222222222222222,
              "#7201a8"
             ],
             [
              0.3333333333333333,
              "#9c179e"
             ],
             [
              0.4444444444444444,
              "#bd3786"
             ],
             [
              0.5555555555555556,
              "#d8576b"
             ],
             [
              0.6666666666666666,
              "#ed7953"
             ],
             [
              0.7777777777777778,
              "#fb9f3a"
             ],
             [
              0.8888888888888888,
              "#fdca26"
             ],
             [
              1,
              "#f0f921"
             ]
            ],
            "type": "heatmap"
           }
          ],
          "heatmapgl": [
           {
            "colorbar": {
             "outlinewidth": 0,
             "ticks": ""
            },
            "colorscale": [
             [
              0,
              "#0d0887"
             ],
             [
              0.1111111111111111,
              "#46039f"
             ],
             [
              0.2222222222222222,
              "#7201a8"
             ],
             [
              0.3333333333333333,
              "#9c179e"
             ],
             [
              0.4444444444444444,
              "#bd3786"
             ],
             [
              0.5555555555555556,
              "#d8576b"
             ],
             [
              0.6666666666666666,
              "#ed7953"
             ],
             [
              0.7777777777777778,
              "#fb9f3a"
             ],
             [
              0.8888888888888888,
              "#fdca26"
             ],
             [
              1,
              "#f0f921"
             ]
            ],
            "type": "heatmapgl"
           }
          ],
          "histogram": [
           {
            "marker": {
             "pattern": {
              "fillmode": "overlay",
              "size": 10,
              "solidity": 0.2
             }
            },
            "type": "histogram"
           }
          ],
          "histogram2d": [
           {
            "colorbar": {
             "outlinewidth": 0,
             "ticks": ""
            },
            "colorscale": [
             [
              0,
              "#0d0887"
             ],
             [
              0.1111111111111111,
              "#46039f"
             ],
             [
              0.2222222222222222,
              "#7201a8"
             ],
             [
              0.3333333333333333,
              "#9c179e"
             ],
             [
              0.4444444444444444,
              "#bd3786"
             ],
             [
              0.5555555555555556,
              "#d8576b"
             ],
             [
              0.6666666666666666,
              "#ed7953"
             ],
             [
              0.7777777777777778,
              "#fb9f3a"
             ],
             [
              0.8888888888888888,
              "#fdca26"
             ],
             [
              1,
              "#f0f921"
             ]
            ],
            "type": "histogram2d"
           }
          ],
          "histogram2dcontour": [
           {
            "colorbar": {
             "outlinewidth": 0,
             "ticks": ""
            },
            "colorscale": [
             [
              0,
              "#0d0887"
             ],
             [
              0.1111111111111111,
              "#46039f"
             ],
             [
              0.2222222222222222,
              "#7201a8"
             ],
             [
              0.3333333333333333,
              "#9c179e"
             ],
             [
              0.4444444444444444,
              "#bd3786"
             ],
             [
              0.5555555555555556,
              "#d8576b"
             ],
             [
              0.6666666666666666,
              "#ed7953"
             ],
             [
              0.7777777777777778,
              "#fb9f3a"
             ],
             [
              0.8888888888888888,
              "#fdca26"
             ],
             [
              1,
              "#f0f921"
             ]
            ],
            "type": "histogram2dcontour"
           }
          ],
          "mesh3d": [
           {
            "colorbar": {
             "outlinewidth": 0,
             "ticks": ""
            },
            "type": "mesh3d"
           }
          ],
          "parcoords": [
           {
            "line": {
             "colorbar": {
              "outlinewidth": 0,
              "ticks": ""
             }
            },
            "type": "parcoords"
           }
          ],
          "pie": [
           {
            "automargin": true,
            "type": "pie"
           }
          ],
          "scatter": [
           {
            "fillpattern": {
             "fillmode": "overlay",
             "size": 10,
             "solidity": 0.2
            },
            "type": "scatter"
           }
          ],
          "scatter3d": [
           {
            "line": {
             "colorbar": {
              "outlinewidth": 0,
              "ticks": ""
             }
            },
            "marker": {
             "colorbar": {
              "outlinewidth": 0,
              "ticks": ""
             }
            },
            "type": "scatter3d"
           }
          ],
          "scattercarpet": [
           {
            "marker": {
             "colorbar": {
              "outlinewidth": 0,
              "ticks": ""
             }
            },
            "type": "scattercarpet"
           }
          ],
          "scattergeo": [
           {
            "marker": {
             "colorbar": {
              "outlinewidth": 0,
              "ticks": ""
             }
            },
            "type": "scattergeo"
           }
          ],
          "scattergl": [
           {
            "marker": {
             "colorbar": {
              "outlinewidth": 0,
              "ticks": ""
             }
            },
            "type": "scattergl"
           }
          ],
          "scattermapbox": [
           {
            "marker": {
             "colorbar": {
              "outlinewidth": 0,
              "ticks": ""
             }
            },
            "type": "scattermapbox"
           }
          ],
          "scatterpolar": [
           {
            "marker": {
             "colorbar": {
              "outlinewidth": 0,
              "ticks": ""
             }
            },
            "type": "scatterpolar"
           }
          ],
          "scatterpolargl": [
           {
            "marker": {
             "colorbar": {
              "outlinewidth": 0,
              "ticks": ""
             }
            },
            "type": "scatterpolargl"
           }
          ],
          "scatterternary": [
           {
            "marker": {
             "colorbar": {
              "outlinewidth": 0,
              "ticks": ""
             }
            },
            "type": "scatterternary"
           }
          ],
          "surface": [
           {
            "colorbar": {
             "outlinewidth": 0,
             "ticks": ""
            },
            "colorscale": [
             [
              0,
              "#0d0887"
             ],
             [
              0.1111111111111111,
              "#46039f"
             ],
             [
              0.2222222222222222,
              "#7201a8"
             ],
             [
              0.3333333333333333,
              "#9c179e"
             ],
             [
              0.4444444444444444,
              "#bd3786"
             ],
             [
              0.5555555555555556,
              "#d8576b"
             ],
             [
              0.6666666666666666,
              "#ed7953"
             ],
             [
              0.7777777777777778,
              "#fb9f3a"
             ],
             [
              0.8888888888888888,
              "#fdca26"
             ],
             [
              1,
              "#f0f921"
             ]
            ],
            "type": "surface"
           }
          ],
          "table": [
           {
            "cells": {
             "fill": {
              "color": "#EBF0F8"
             },
             "line": {
              "color": "white"
             }
            },
            "header": {
             "fill": {
              "color": "#C8D4E3"
             },
             "line": {
              "color": "white"
             }
            },
            "type": "table"
           }
          ]
         },
         "layout": {
          "annotationdefaults": {
           "arrowcolor": "#2a3f5f",
           "arrowhead": 0,
           "arrowwidth": 1
          },
          "autotypenumbers": "strict",
          "coloraxis": {
           "colorbar": {
            "outlinewidth": 0,
            "ticks": ""
           }
          },
          "colorscale": {
           "diverging": [
            [
             0,
             "#8e0152"
            ],
            [
             0.1,
             "#c51b7d"
            ],
            [
             0.2,
             "#de77ae"
            ],
            [
             0.3,
             "#f1b6da"
            ],
            [
             0.4,
             "#fde0ef"
            ],
            [
             0.5,
             "#f7f7f7"
            ],
            [
             0.6,
             "#e6f5d0"
            ],
            [
             0.7,
             "#b8e186"
            ],
            [
             0.8,
             "#7fbc41"
            ],
            [
             0.9,
             "#4d9221"
            ],
            [
             1,
             "#276419"
            ]
           ],
           "sequential": [
            [
             0,
             "#0d0887"
            ],
            [
             0.1111111111111111,
             "#46039f"
            ],
            [
             0.2222222222222222,
             "#7201a8"
            ],
            [
             0.3333333333333333,
             "#9c179e"
            ],
            [
             0.4444444444444444,
             "#bd3786"
            ],
            [
             0.5555555555555556,
             "#d8576b"
            ],
            [
             0.6666666666666666,
             "#ed7953"
            ],
            [
             0.7777777777777778,
             "#fb9f3a"
            ],
            [
             0.8888888888888888,
             "#fdca26"
            ],
            [
             1,
             "#f0f921"
            ]
           ],
           "sequentialminus": [
            [
             0,
             "#0d0887"
            ],
            [
             0.1111111111111111,
             "#46039f"
            ],
            [
             0.2222222222222222,
             "#7201a8"
            ],
            [
             0.3333333333333333,
             "#9c179e"
            ],
            [
             0.4444444444444444,
             "#bd3786"
            ],
            [
             0.5555555555555556,
             "#d8576b"
            ],
            [
             0.6666666666666666,
             "#ed7953"
            ],
            [
             0.7777777777777778,
             "#fb9f3a"
            ],
            [
             0.8888888888888888,
             "#fdca26"
            ],
            [
             1,
             "#f0f921"
            ]
           ]
          },
          "colorway": [
           "#636efa",
           "#EF553B",
           "#00cc96",
           "#ab63fa",
           "#FFA15A",
           "#19d3f3",
           "#FF6692",
           "#B6E880",
           "#FF97FF",
           "#FECB52"
          ],
          "font": {
           "color": "#2a3f5f"
          },
          "geo": {
           "bgcolor": "white",
           "lakecolor": "white",
           "landcolor": "#E5ECF6",
           "showlakes": true,
           "showland": true,
           "subunitcolor": "white"
          },
          "hoverlabel": {
           "align": "left"
          },
          "hovermode": "closest",
          "mapbox": {
           "style": "light"
          },
          "paper_bgcolor": "white",
          "plot_bgcolor": "#E5ECF6",
          "polar": {
           "angularaxis": {
            "gridcolor": "white",
            "linecolor": "white",
            "ticks": ""
           },
           "bgcolor": "#E5ECF6",
           "radialaxis": {
            "gridcolor": "white",
            "linecolor": "white",
            "ticks": ""
           }
          },
          "scene": {
           "xaxis": {
            "backgroundcolor": "#E5ECF6",
            "gridcolor": "white",
            "gridwidth": 2,
            "linecolor": "white",
            "showbackground": true,
            "ticks": "",
            "zerolinecolor": "white"
           },
           "yaxis": {
            "backgroundcolor": "#E5ECF6",
            "gridcolor": "white",
            "gridwidth": 2,
            "linecolor": "white",
            "showbackground": true,
            "ticks": "",
            "zerolinecolor": "white"
           },
           "zaxis": {
            "backgroundcolor": "#E5ECF6",
            "gridcolor": "white",
            "gridwidth": 2,
            "linecolor": "white",
            "showbackground": true,
            "ticks": "",
            "zerolinecolor": "white"
           }
          },
          "shapedefaults": {
           "line": {
            "color": "#2a3f5f"
           }
          },
          "ternary": {
           "aaxis": {
            "gridcolor": "white",
            "linecolor": "white",
            "ticks": ""
           },
           "baxis": {
            "gridcolor": "white",
            "linecolor": "white",
            "ticks": ""
           },
           "bgcolor": "#E5ECF6",
           "caxis": {
            "gridcolor": "white",
            "linecolor": "white",
            "ticks": ""
           }
          },
          "title": {
           "x": 0.05
          },
          "xaxis": {
           "automargin": true,
           "gridcolor": "white",
           "linecolor": "white",
           "ticks": "",
           "title": {
            "standoff": 15
           },
           "zerolinecolor": "white",
           "zerolinewidth": 2
          },
          "yaxis": {
           "automargin": true,
           "gridcolor": "white",
           "linecolor": "white",
           "ticks": "",
           "title": {
            "standoff": 15
           },
           "zerolinecolor": "white",
           "zerolinewidth": 2
          }
         }
        },
        "title": {
         "text": "Stream Graph of Day-wise Voting Power for Each Proposal"
        },
        "xaxis": {
         "title": {
          "text": "Days"
         }
        },
        "yaxis": {
         "title": {
          "text": "Voting Power"
         }
        }
       }
      }
     },
     "metadata": {},
     "output_type": "display_data"
    }
   ],
   "source": [
    "data = voting_power_data[['proposal_title', 'day1', 'day2', 'day3', 'day4', 'day5', 'day6', 'day7']]\n",
    "\n",
    "# Create traces for each proposal\n",
    "traces = []\n",
    "for index, row in data.iterrows():\n",
    "    trace = go.Scatter(\n",
    "        x=['day1', 'day2', 'day3', 'day4', 'day5', 'day6', 'day7'],\n",
    "        y=row[['day1', 'day2', 'day3', 'day4', 'day5', 'day6', 'day7']],\n",
    "        mode='lines',\n",
    "        stackgroup='one',\n",
    "        name=row['proposal_title']\n",
    "    )\n",
    "    traces.append(trace)\n",
    "\n",
    "# Create layout\n",
    "layout = go.Layout(\n",
    "    title='Stream Graph of Day-wise Voting Power for Each Proposal',\n",
    "    xaxis=dict(title='Days'),\n",
    "    yaxis=dict(title='Voting Power')\n",
    ")\n",
    "\n",
    "# Create figure\n",
    "fig = go.Figure(data=traces, layout=layout)\n",
    "\n",
    "# Remove legends\n",
    "fig.update_layout(showlegend=False)\n",
    "\n",
    "# Plot interactive chart\n",
    "fig.show()\n",
    "fig.write_html(r'Graphs\\stream-power.html')"
   ]
  },
  {
   "cell_type": "markdown",
   "metadata": {},
   "source": [
    "## Correlation Between the Number of Votes/Voters and Voting Power "
   ]
  },
  {
   "cell_type": "code",
   "execution_count": 51,
   "metadata": {},
   "outputs": [],
   "source": [
    "data2 = pd.merge(votes_data, voting_power_data, on='proposal_title', how='inner')"
   ]
  },
  {
   "cell_type": "code",
   "execution_count": 52,
   "metadata": {},
   "outputs": [
    {
     "data": {
      "text/plain": [
       "Index(['proposal_title', 'day1_x', 'day2_x', 'day3_x', 'day4_x', 'day5_x',\n",
       "       'day6_x', 'day7_x', 'total_votes', 'day1_%', 'day2_%', 'day3_%',\n",
       "       'day4_%', 'day5_%', 'day6_%', 'day7_%', 'day1_y', 'day2_y', 'day3_y',\n",
       "       'day4_y', 'day5_y', 'day6_y', 'day7_y', 'total_voting_power'],\n",
       "      dtype='object')"
      ]
     },
     "execution_count": 52,
     "metadata": {},
     "output_type": "execute_result"
    }
   ],
   "source": [
    "data2.columns"
   ]
  },
  {
   "cell_type": "code",
   "execution_count": 53,
   "metadata": {},
   "outputs": [],
   "source": [
    "# Rename columns\n",
    "data2.rename(columns={\n",
    "    'day1_x': 'day1_count', \n",
    "    'day2_x': 'day2_count',\n",
    "    'day3_x': 'day3_count', \n",
    "    'day4_x': 'day4_count',\n",
    "    'day5_x': 'day5_count', \n",
    "    'day6_x': 'day6_count',\n",
    "    'day7_x': 'day7_count',\n",
    "    'day1_y': 'day1_power', \n",
    "    'day2_y': 'day2_power',\n",
    "    'day3_y': 'day3_power', \n",
    "    'day4_y': 'day4_power',\n",
    "    'day5_y': 'day5_power', \n",
    "    'day6_y': 'day6_power',\n",
    "    'day7_y': 'day7_power'}, \n",
    "    inplace=True)"
   ]
  },
  {
   "cell_type": "code",
   "execution_count": 54,
   "metadata": {},
   "outputs": [
    {
     "data": {
      "text/plain": [
       "Index(['proposal_title', 'day1_count', 'day2_count', 'day3_count',\n",
       "       'day4_count', 'day5_count', 'day6_count', 'day7_count', 'total_votes',\n",
       "       'day1_%', 'day2_%', 'day3_%', 'day4_%', 'day5_%', 'day6_%', 'day7_%',\n",
       "       'day1_power', 'day2_power', 'day3_power', 'day4_power', 'day5_power',\n",
       "       'day6_power', 'day7_power', 'total_voting_power'],\n",
       "      dtype='object')"
      ]
     },
     "execution_count": 54,
     "metadata": {},
     "output_type": "execute_result"
    }
   ],
   "source": [
    "data2.columns"
   ]
  },
  {
   "cell_type": "code",
   "execution_count": 55,
   "metadata": {},
   "outputs": [
    {
     "data": {
      "text/html": [
       "<div>\n",
       "<style scoped>\n",
       "    .dataframe tbody tr th:only-of-type {\n",
       "        vertical-align: middle;\n",
       "    }\n",
       "\n",
       "    .dataframe tbody tr th {\n",
       "        vertical-align: top;\n",
       "    }\n",
       "\n",
       "    .dataframe thead th {\n",
       "        text-align: right;\n",
       "    }\n",
       "</style>\n",
       "<table border=\"1\" class=\"dataframe\">\n",
       "  <thead>\n",
       "    <tr style=\"text-align: right;\">\n",
       "      <th></th>\n",
       "      <th>proposal_title</th>\n",
       "      <th>day1_count</th>\n",
       "      <th>day2_count</th>\n",
       "      <th>day3_count</th>\n",
       "      <th>day4_count</th>\n",
       "      <th>day5_count</th>\n",
       "      <th>day6_count</th>\n",
       "      <th>day7_count</th>\n",
       "      <th>total_votes</th>\n",
       "      <th>day1_%</th>\n",
       "      <th>...</th>\n",
       "      <th>day6_%</th>\n",
       "      <th>day7_%</th>\n",
       "      <th>day1_power</th>\n",
       "      <th>day2_power</th>\n",
       "      <th>day3_power</th>\n",
       "      <th>day4_power</th>\n",
       "      <th>day5_power</th>\n",
       "      <th>day6_power</th>\n",
       "      <th>day7_power</th>\n",
       "      <th>total_voting_power</th>\n",
       "    </tr>\n",
       "  </thead>\n",
       "  <tbody>\n",
       "    <tr>\n",
       "      <th>0</th>\n",
       "      <td>[Non-Constitutional]: Arbitrum Stable Treasury...</td>\n",
       "      <td>7836</td>\n",
       "      <td>5875</td>\n",
       "      <td>4003</td>\n",
       "      <td>2534</td>\n",
       "      <td>3591</td>\n",
       "      <td>1450</td>\n",
       "      <td>2784</td>\n",
       "      <td>28073</td>\n",
       "      <td>27.91</td>\n",
       "      <td>...</td>\n",
       "      <td>5.17</td>\n",
       "      <td>9.92</td>\n",
       "      <td>2.145505e+07</td>\n",
       "      <td>5.299348e+06</td>\n",
       "      <td>6.326225e+06</td>\n",
       "      <td>1.612161e+06</td>\n",
       "      <td>3.746901e+06</td>\n",
       "      <td>2.365775e+07</td>\n",
       "      <td>7.063472e+07</td>\n",
       "      <td>132732150.0</td>\n",
       "    </tr>\n",
       "    <tr>\n",
       "      <th>1</th>\n",
       "      <td>Procurement Framework | Security : Non-Constit...</td>\n",
       "      <td>12251</td>\n",
       "      <td>9964</td>\n",
       "      <td>7240</td>\n",
       "      <td>8350</td>\n",
       "      <td>7124</td>\n",
       "      <td>3234</td>\n",
       "      <td>2346</td>\n",
       "      <td>50509</td>\n",
       "      <td>24.26</td>\n",
       "      <td>...</td>\n",
       "      <td>6.40</td>\n",
       "      <td>4.64</td>\n",
       "      <td>3.095200e+06</td>\n",
       "      <td>3.040445e+06</td>\n",
       "      <td>2.482971e+06</td>\n",
       "      <td>7.183387e+06</td>\n",
       "      <td>4.699403e+06</td>\n",
       "      <td>5.756752e+07</td>\n",
       "      <td>7.395078e+07</td>\n",
       "      <td>152019702.1</td>\n",
       "    </tr>\n",
       "    <tr>\n",
       "      <th>2</th>\n",
       "      <td>Proposal to Backfund Successful STIP Proposals</td>\n",
       "      <td>16712</td>\n",
       "      <td>8531</td>\n",
       "      <td>5042</td>\n",
       "      <td>4857</td>\n",
       "      <td>3335</td>\n",
       "      <td>4154</td>\n",
       "      <td>2706</td>\n",
       "      <td>45337</td>\n",
       "      <td>36.86</td>\n",
       "      <td>...</td>\n",
       "      <td>9.16</td>\n",
       "      <td>5.97</td>\n",
       "      <td>5.473901e+06</td>\n",
       "      <td>6.254967e+06</td>\n",
       "      <td>1.231612e+07</td>\n",
       "      <td>1.700905e+07</td>\n",
       "      <td>1.951748e+07</td>\n",
       "      <td>9.393914e+06</td>\n",
       "      <td>1.256772e+08</td>\n",
       "      <td>195642602.5</td>\n",
       "    </tr>\n",
       "    <tr>\n",
       "      <th>3</th>\n",
       "      <td>Consolidate Security Proposals into a RFP Process</td>\n",
       "      <td>10848</td>\n",
       "      <td>8725</td>\n",
       "      <td>10083</td>\n",
       "      <td>9104</td>\n",
       "      <td>5558</td>\n",
       "      <td>3424</td>\n",
       "      <td>2274</td>\n",
       "      <td>50016</td>\n",
       "      <td>21.69</td>\n",
       "      <td>...</td>\n",
       "      <td>6.85</td>\n",
       "      <td>4.55</td>\n",
       "      <td>6.252606e+06</td>\n",
       "      <td>1.574521e+07</td>\n",
       "      <td>3.635835e+07</td>\n",
       "      <td>2.082572e+07</td>\n",
       "      <td>3.041446e+07</td>\n",
       "      <td>4.694533e+06</td>\n",
       "      <td>7.325195e+07</td>\n",
       "      <td>187542830.5</td>\n",
       "    </tr>\n",
       "    <tr>\n",
       "      <th>4</th>\n",
       "      <td>UniDex STIP Proposal - Round 1</td>\n",
       "      <td>9902</td>\n",
       "      <td>4992</td>\n",
       "      <td>5396</td>\n",
       "      <td>3432</td>\n",
       "      <td>2810</td>\n",
       "      <td>2333</td>\n",
       "      <td>3637</td>\n",
       "      <td>32502</td>\n",
       "      <td>30.47</td>\n",
       "      <td>...</td>\n",
       "      <td>7.18</td>\n",
       "      <td>11.19</td>\n",
       "      <td>6.913359e+06</td>\n",
       "      <td>1.357910e+06</td>\n",
       "      <td>2.045028e+06</td>\n",
       "      <td>2.318895e+06</td>\n",
       "      <td>2.193348e+06</td>\n",
       "      <td>2.018898e+07</td>\n",
       "      <td>8.750541e+07</td>\n",
       "      <td>122522924.7</td>\n",
       "    </tr>\n",
       "  </tbody>\n",
       "</table>\n",
       "<p>5 rows × 24 columns</p>\n",
       "</div>"
      ],
      "text/plain": [
       "                                      proposal_title  day1_count  day2_count  \\\n",
       "0  [Non-Constitutional]: Arbitrum Stable Treasury...        7836        5875   \n",
       "1  Procurement Framework | Security : Non-Constit...       12251        9964   \n",
       "2     Proposal to Backfund Successful STIP Proposals       16712        8531   \n",
       "3  Consolidate Security Proposals into a RFP Process       10848        8725   \n",
       "4                     UniDex STIP Proposal - Round 1        9902        4992   \n",
       "\n",
       "   day3_count  day4_count  day5_count  day6_count  day7_count  total_votes  \\\n",
       "0        4003        2534        3591        1450        2784        28073   \n",
       "1        7240        8350        7124        3234        2346        50509   \n",
       "2        5042        4857        3335        4154        2706        45337   \n",
       "3       10083        9104        5558        3424        2274        50016   \n",
       "4        5396        3432        2810        2333        3637        32502   \n",
       "\n",
       "   day1_%  ...  day6_%  day7_%    day1_power    day2_power    day3_power  \\\n",
       "0   27.91  ...    5.17    9.92  2.145505e+07  5.299348e+06  6.326225e+06   \n",
       "1   24.26  ...    6.40    4.64  3.095200e+06  3.040445e+06  2.482971e+06   \n",
       "2   36.86  ...    9.16    5.97  5.473901e+06  6.254967e+06  1.231612e+07   \n",
       "3   21.69  ...    6.85    4.55  6.252606e+06  1.574521e+07  3.635835e+07   \n",
       "4   30.47  ...    7.18   11.19  6.913359e+06  1.357910e+06  2.045028e+06   \n",
       "\n",
       "     day4_power    day5_power    day6_power    day7_power  total_voting_power  \n",
       "0  1.612161e+06  3.746901e+06  2.365775e+07  7.063472e+07         132732150.0  \n",
       "1  7.183387e+06  4.699403e+06  5.756752e+07  7.395078e+07         152019702.1  \n",
       "2  1.700905e+07  1.951748e+07  9.393914e+06  1.256772e+08         195642602.5  \n",
       "3  2.082572e+07  3.041446e+07  4.694533e+06  7.325195e+07         187542830.5  \n",
       "4  2.318895e+06  2.193348e+06  2.018898e+07  8.750541e+07         122522924.7  \n",
       "\n",
       "[5 rows x 24 columns]"
      ]
     },
     "execution_count": 55,
     "metadata": {},
     "output_type": "execute_result"
    }
   ],
   "source": [
    "data2.head()"
   ]
  },
  {
   "cell_type": "markdown",
   "metadata": {},
   "source": [
    "## Heatmap"
   ]
  },
  {
   "cell_type": "code",
   "execution_count": 56,
   "metadata": {},
   "outputs": [
    {
     "data": {
      "image/png": "[encoded data removed]",
      "text/plain": [
       "<Figure size 1000x800 with 2 Axes>"
      ]
     },
     "metadata": {},
     "output_type": "display_data"
    }
   ],
   "source": [
    "# Specify the proposal(s) you want to analyze\n",
    "selected_proposals = ['UniDex STIP Proposal - Round 1']\n",
    "\n",
    "# Filter the dataset for the selected proposals\n",
    "filtered_data = data2[data2['proposal_title'].isin(selected_proposals)]\n",
    "\n",
    "# Select specific columns for heatmap\n",
    "columns_for_heatmap = ['day1_count', 'day2_count', 'day3_count', 'day4_count', \n",
    "                       'day5_count', 'day6_count', 'day7_count', 'day1_power', \n",
    "                       'day2_power', 'day3_power', 'day4_power', 'day5_power', \n",
    "                       'day6_power', 'day7_power']\n",
    "\n",
    "# Create a new DataFrame containing only the selected columns\n",
    "heatmap = data2[columns_for_heatmap]\n",
    "\n",
    "# Create a heatmap using seaborn\n",
    "plt.figure(figsize=(10, 8))  # Adjust the figure size if needed\n",
    "sns.heatmap(heatmap.corr(), annot=True, cmap='coolwarm', fmt=\".2f\")\n",
    "plt.title('Heatmap')\n",
    "plt.show()"
   ]
  },
  {
   "cell_type": "code",
   "execution_count": 57,
   "metadata": {},
   "outputs": [
    {
     "data": {
      "text/plain": [
       "count    114.000000\n",
       "mean      13.743772\n",
       "std        3.435119\n",
       "min        3.760000\n",
       "25%       13.085000\n",
       "50%       14.360000\n",
       "75%       16.192500\n",
       "max       18.870000\n",
       "Name: day7_%, dtype: float64"
      ]
     },
     "execution_count": 57,
     "metadata": {},
     "output_type": "execute_result"
    }
   ],
   "source": [
    "data2['day7_%'].describe()"
   ]
  },
  {
   "cell_type": "code",
   "execution_count": 72,
   "metadata": {},
   "outputs": [
    {
     "data": {
      "application/vnd.plotly.v1+json": {
       "config": {
        "plotlyServerURL": "https://plot.ly"
       },
       "data": [
        {
         "alignmentgroup": "True",
         "box": {
          "visible": true
         },
         "hovertemplate": "x=%{x}<extra></extra>",
         "legendgroup": "",
         "marker": {
          "color": "#636efa"
         },
         "name": "",
         "offsetgroup": "",
         "orientation": "h",
         "points": "all",
         "scalegroup": "True",
         "showlegend": false,
         "type": "violin",
         "x": [
          9.92,
          4.64,
          5.97,
          4.55,
          11.19,
          10.89,
          11.18,
          11.42,
          11.6,
          11.92,
          11.96,
          11.83,
          12.24,
          12.52,
          13.57,
          13.69,
          14.15,
          13.68,
          14.55,
          13.81,
          13.93,
          12.65,
          14.32,
          14.65,
          14.03,
          13.99,
          13.76,
          13.06,
          13.97,
          13.24,
          14.02,
          13.16,
          14.61,
          14.14,
          13.9,
          14.9,
          14.45,
          14.44,
          14.38,
          14.36,
          14.65,
          14.77,
          14.72,
          14.02,
          14.08,
          14.66,
          14.14,
          14.25,
          14.79,
          14.75,
          15.01,
          16.34,
          15.52,
          14.36,
          15.1,
          17.19,
          17.18,
          15.92,
          16.27,
          15.87,
          15.24,
          16.42,
          16.39,
          16.61,
          16.36,
          14.8,
          16.02,
          16.82,
          16.64,
          16.65,
          17.67,
          17.57,
          16.74,
          16.2,
          14.64,
          14.27,
          13.46,
          14.22,
          14.38,
          14.54,
          14.25,
          13.19,
          13.67,
          14.65,
          15.25,
          13.58,
          18.22,
          16.72,
          17.21,
          18.07,
          18.77,
          18.87,
          17.23,
          17.93,
          17.66,
          16.78,
          17.37,
          16.97,
          16.83,
          16.51,
          12.66,
          12.51,
          7.5,
          3.91,
          5.96,
          5.9,
          6.47,
          12.8,
          16.17,
          7.24,
          3.78,
          3.76,
          5.73,
          8.2
         ],
         "x0": " ",
         "xaxis": "x",
         "y0": " ",
         "yaxis": "y"
        }
       ],
       "layout": {
        "annotations": [
         {
          "showarrow": false,
          "text": "Mean: 13.74",
          "x": 13.743771929824563,
          "xanchor": "left",
          "xref": "x",
          "y": 1,
          "yanchor": "top",
          "yref": "y domain"
         }
        ],
        "legend": {
         "tracegroupgap": 0
        },
        "margin": {
         "t": 60
        },
        "shapes": [
         {
          "line": {
           "color": "red",
           "dash": "dash"
          },
          "type": "line",
          "x0": 13.743771929824563,
          "x1": 13.743771929824563,
          "xref": "x",
          "y0": 0,
          "y1": 1,
          "yref": "y domain"
         }
        ],
        "template": {
         "data": {
          "bar": [
           {
            "error_x": {
             "color": "#2a3f5f"
            },
            "error_y": {
             "color": "#2a3f5f"
            },
            "marker": {
             "line": {
              "color": "#E5ECF6",
              "width": 0.5
             },
             "pattern": {
              "fillmode": "overlay",
              "size": 10,
              "solidity": 0.2
             }
            },
            "type": "bar"
           }
          ],
          "barpolar": [
           {
            "marker": {
             "line": {
              "color": "#E5ECF6",
              "width": 0.5
             },
             "pattern": {
              "fillmode": "overlay",
              "size": 10,
              "solidity": 0.2
             }
            },
            "type": "barpolar"
           }
          ],
          "carpet": [
           {
            "aaxis": {
             "endlinecolor": "#2a3f5f",
             "gridcolor": "white",
             "linecolor": "white",
             "minorgridcolor": "white",
             "startlinecolor": "#2a3f5f"
            },
            "baxis": {
             "endlinecolor": "#2a3f5f",
             "gridcolor": "white",
             "linecolor": "white",
             "minorgridcolor": "white",
             "startlinecolor": "#2a3f5f"
            },
            "type": "carpet"
           }
          ],
          "choropleth": [
           {
            "colorbar": {
             "outlinewidth": 0,
             "ticks": ""
            },
            "type": "choropleth"
           }
          ],
          "contour": [
           {
            "colorbar": {
             "outlinewidth": 0,
             "ticks": ""
            },
            "colorscale": [
             [
              0,
              "#0d0887"
             ],
             [
              0.1111111111111111,
              "#46039f"
             ],
             [
              0.2222222222222222,
              "#7201a8"
             ],
             [
              0.3333333333333333,
              "#9c179e"
             ],
             [
              0.4444444444444444,
              "#bd3786"
             ],
             [
              0.5555555555555556,
              "#d8576b"
             ],
             [
              0.6666666666666666,
              "#ed7953"
             ],
             [
              0.7777777777777778,
              "#fb9f3a"
             ],
             [
              0.8888888888888888,
              "#fdca26"
             ],
             [
              1,
              "#f0f921"
             ]
            ],
            "type": "contour"
           }
          ],
          "contourcarpet": [
           {
            "colorbar": {
             "outlinewidth": 0,
             "ticks": ""
            },
            "type": "contourcarpet"
           }
          ],
          "heatmap": [
           {
            "colorbar": {
             "outlinewidth": 0,
             "ticks": ""
            },
            "colorscale": [
             [
              0,
              "#0d0887"
             ],
             [
              0.1111111111111111,
              "#46039f"
             ],
             [
              0.2222222222222222,
              "#7201a8"
             ],
             [
              0.3333333333333333,
              "#9c179e"
             ],
             [
              0.4444444444444444,
              "#bd3786"
             ],
             [
              0.5555555555555556,
              "#d8576b"
             ],
             [
              0.6666666666666666,
              "#ed7953"
             ],
             [
              0.7777777777777778,
              "#fb9f3a"
             ],
             [
              0.8888888888888888,
              "#fdca26"
             ],
             [
              1,
              "#f0f921"
             ]
            ],
            "type": "heatmap"
           }
          ],
          "heatmapgl": [
           {
            "colorbar": {
             "outlinewidth": 0,
             "ticks": ""
            },
            "colorscale": [
             [
              0,
              "#0d0887"
             ],
             [
              0.1111111111111111,
              "#46039f"
             ],
             [
              0.2222222222222222,
              "#7201a8"
             ],
             [
              0.3333333333333333,
              "#9c179e"
             ],
             [
              0.4444444444444444,
              "#bd3786"
             ],
             [
              0.5555555555555556,
              "#d8576b"
             ],
             [
              0.6666666666666666,
              "#ed7953"
             ],
             [
              0.7777777777777778,
              "#fb9f3a"
             ],
             [
              0.8888888888888888,
              "#fdca26"
             ],
             [
              1,
              "#f0f921"
             ]
            ],
            "type": "heatmapgl"
           }
          ],
          "histogram": [
           {
            "marker": {
             "pattern": {
              "fillmode": "overlay",
              "size": 10,
              "solidity": 0.2
             }
            },
            "type": "histogram"
           }
          ],
          "histogram2d": [
           {
            "colorbar": {
             "outlinewidth": 0,
             "ticks": ""
            },
            "colorscale": [
             [
              0,
              "#0d0887"
             ],
             [
              0.1111111111111111,
              "#46039f"
             ],
             [
              0.2222222222222222,
              "#7201a8"
             ],
             [
              0.3333333333333333,
              "#9c179e"
             ],
             [
              0.4444444444444444,
              "#bd3786"
             ],
             [
              0.5555555555555556,
              "#d8576b"
             ],
             [
              0.6666666666666666,
              "#ed7953"
             ],
             [
              0.7777777777777778,
              "#fb9f3a"
             ],
             [
              0.8888888888888888,
              "#fdca26"
             ],
             [
              1,
              "#f0f921"
             ]
            ],
            "type": "histogram2d"
           }
          ],
          "histogram2dcontour": [
           {
            "colorbar": {
             "outlinewidth": 0,
             "ticks": ""
            },
            "colorscale": [
             [
              0,
              "#0d0887"
             ],
             [
              0.1111111111111111,
              "#46039f"
             ],
             [
              0.2222222222222222,
              "#7201a8"
             ],
             [
              0.3333333333333333,
              "#9c179e"
             ],
             [
              0.4444444444444444,
              "#bd3786"
             ],
             [
              0.5555555555555556,
              "#d8576b"
             ],
             [
              0.6666666666666666,
              "#ed7953"
             ],
             [
              0.7777777777777778,
              "#fb9f3a"
             ],
             [
              0.8888888888888888,
              "#fdca26"
             ],
             [
              1,
              "#f0f921"
             ]
            ],
            "type": "histogram2dcontour"
           }
          ],
          "mesh3d": [
           {
            "colorbar": {
             "outlinewidth": 0,
             "ticks": ""
            },
            "type": "mesh3d"
           }
          ],
          "parcoords": [
           {
            "line": {
             "colorbar": {
              "outlinewidth": 0,
              "ticks": ""
             }
            },
            "type": "parcoords"
           }
          ],
          "pie": [
           {
            "automargin": true,
            "type": "pie"
           }
          ],
          "scatter": [
           {
            "fillpattern": {
             "fillmode": "overlay",
             "size": 10,
             "solidity": 0.2
            },
            "type": "scatter"
           }
          ],
          "scatter3d": [
           {
            "line": {
             "colorbar": {
              "outlinewidth": 0,
              "ticks": ""
             }
            },
            "marker": {
             "colorbar": {
              "outlinewidth": 0,
              "ticks": ""
             }
            },
            "type": "scatter3d"
           }
          ],
          "scattercarpet": [
           {
            "marker": {
             "colorbar": {
              "outlinewidth": 0,
              "ticks": ""
             }
            },
            "type": "scattercarpet"
           }
          ],
          "scattergeo": [
           {
            "marker": {
             "colorbar": {
              "outlinewidth": 0,
              "ticks": ""
             }
            },
            "type": "scattergeo"
           }
          ],
          "scattergl": [
           {
            "marker": {
             "colorbar": {
              "outlinewidth": 0,
              "ticks": ""
             }
            },
            "type": "scattergl"
           }
          ],
          "scattermapbox": [
           {
            "marker": {
             "colorbar": {
              "outlinewidth": 0,
              "ticks": ""
             }
            },
            "type": "scattermapbox"
           }
          ],
          "scatterpolar": [
           {
            "marker": {
             "colorbar": {
              "outlinewidth": 0,
              "ticks": ""
             }
            },
            "type": "scatterpolar"
           }
          ],
          "scatterpolargl": [
           {
            "marker": {
             "colorbar": {
              "outlinewidth": 0,
              "ticks": ""
             }
            },
            "type": "scatterpolargl"
           }
          ],
          "scatterternary": [
           {
            "marker": {
             "colorbar": {
              "outlinewidth": 0,
              "ticks": ""
             }
            },
            "type": "scatterternary"
           }
          ],
          "surface": [
           {
            "colorbar": {
             "outlinewidth": 0,
             "ticks": ""
            },
            "colorscale": [
             [
              0,
              "#0d0887"
             ],
             [
              0.1111111111111111,
              "#46039f"
             ],
             [
              0.2222222222222222,
              "#7201a8"
             ],
             [
              0.3333333333333333,
              "#9c179e"
             ],
             [
              0.4444444444444444,
              "#bd3786"
             ],
             [
              0.5555555555555556,
              "#d8576b"
             ],
             [
              0.6666666666666666,
              "#ed7953"
             ],
             [
              0.7777777777777778,
              "#fb9f3a"
             ],
             [
              0.8888888888888888,
              "#fdca26"
             ],
             [
              1,
              "#f0f921"
             ]
            ],
            "type": "surface"
           }
          ],
          "table": [
           {
            "cells": {
             "fill": {
              "color": "#EBF0F8"
             },
             "line": {
              "color": "white"
             }
            },
            "header": {
             "fill": {
              "color": "#C8D4E3"
             },
             "line": {
              "color": "white"
             }
            },
            "type": "table"
           }
          ]
         },
         "layout": {
          "annotationdefaults": {
           "arrowcolor": "#2a3f5f",
           "arrowhead": 0,
           "arrowwidth": 1
          },
          "autotypenumbers": "strict",
          "coloraxis": {
           "colorbar": {
            "outlinewidth": 0,
            "ticks": ""
           }
          },
          "colorscale": {
           "diverging": [
            [
             0,
             "#8e0152"
            ],
            [
             0.1,
             "#c51b7d"
            ],
            [
             0.2,
             "#de77ae"
            ],
            [
             0.3,
             "#f1b6da"
            ],
            [
             0.4,
             "#fde0ef"
            ],
            [
             0.5,
             "#f7f7f7"
            ],
            [
             0.6,
             "#e6f5d0"
            ],
            [
             0.7,
             "#b8e186"
            ],
            [
             0.8,
             "#7fbc41"
            ],
            [
             0.9,
             "#4d9221"
            ],
            [
             1,
             "#276419"
            ]
           ],
           "sequential": [
            [
             0,
             "#0d0887"
            ],
            [
             0.1111111111111111,
             "#46039f"
            ],
            [
             0.2222222222222222,
             "#7201a8"
            ],
            [
             0.3333333333333333,
             "#9c179e"
            ],
            [
             0.4444444444444444,
             "#bd3786"
            ],
            [
             0.5555555555555556,
             "#d8576b"
            ],
            [
             0.6666666666666666,
             "#ed7953"
            ],
            [
             0.7777777777777778,
             "#fb9f3a"
            ],
            [
             0.8888888888888888,
             "#fdca26"
            ],
            [
             1,
             "#f0f921"
            ]
           ],
           "sequentialminus": [
            [
             0,
             "#0d0887"
            ],
            [
             0.1111111111111111,
             "#46039f"
            ],
            [
             0.2222222222222222,
             "#7201a8"
            ],
            [
             0.3333333333333333,
             "#9c179e"
            ],
            [
             0.4444444444444444,
             "#bd3786"
            ],
            [
             0.5555555555555556,
             "#d8576b"
            ],
            [
             0.6666666666666666,
             "#ed7953"
            ],
            [
             0.7777777777777778,
             "#fb9f3a"
            ],
            [
             0.8888888888888888,
             "#fdca26"
            ],
            [
             1,
             "#f0f921"
            ]
           ]
          },
          "colorway": [
           "#636efa",
           "#EF553B",
           "#00cc96",
           "#ab63fa",
           "#FFA15A",
           "#19d3f3",
           "#FF6692",
           "#B6E880",
           "#FF97FF",
           "#FECB52"
          ],
          "font": {
           "color": "#2a3f5f"
          },
          "geo": {
           "bgcolor": "white",
           "lakecolor": "white",
           "landcolor": "#E5ECF6",
           "showlakes": true,
           "showland": true,
           "subunitcolor": "white"
          },
          "hoverlabel": {
           "align": "left"
          },
          "hovermode": "closest",
          "mapbox": {
           "style": "light"
          },
          "paper_bgcolor": "white",
          "plot_bgcolor": "#E5ECF6",
          "polar": {
           "angularaxis": {
            "gridcolor": "white",
            "linecolor": "white",
            "ticks": ""
           },
           "bgcolor": "#E5ECF6",
           "radialaxis": {
            "gridcolor": "white",
            "linecolor": "white",
            "ticks": ""
           }
          },
          "scene": {
           "xaxis": {
            "backgroundcolor": "#E5ECF6",
            "gridcolor": "white",
            "gridwidth": 2,
            "linecolor": "white",
            "showbackground": true,
            "ticks": "",
            "zerolinecolor": "white"
           },
           "yaxis": {
            "backgroundcolor": "#E5ECF6",
            "gridcolor": "white",
            "gridwidth": 2,
            "linecolor": "white",
            "showbackground": true,
            "ticks": "",
            "zerolinecolor": "white"
           },
           "zaxis": {
            "backgroundcolor": "#E5ECF6",
            "gridcolor": "white",
            "gridwidth": 2,
            "linecolor": "white",
            "showbackground": true,
            "ticks": "",
            "zerolinecolor": "white"
           }
          },
          "shapedefaults": {
           "line": {
            "color": "#2a3f5f"
           }
          },
          "ternary": {
           "aaxis": {
            "gridcolor": "white",
            "linecolor": "white",
            "ticks": ""
           },
           "baxis": {
            "gridcolor": "white",
            "linecolor": "white",
            "ticks": ""
           },
           "bgcolor": "#E5ECF6",
           "caxis": {
            "gridcolor": "white",
            "linecolor": "white",
            "ticks": ""
           }
          },
          "title": {
           "x": 0.05
          },
          "xaxis": {
           "automargin": true,
           "gridcolor": "white",
           "linecolor": "white",
           "ticks": "",
           "title": {
            "standoff": 15
           },
           "zerolinecolor": "white",
           "zerolinewidth": 2
          },
          "yaxis": {
           "automargin": true,
           "gridcolor": "white",
           "linecolor": "white",
           "ticks": "",
           "title": {
            "standoff": 15
           },
           "zerolinecolor": "white",
           "zerolinewidth": 2
          }
         }
        },
        "title": {
         "text": "Distribution of Percentage of Votes on Last Day"
        },
        "violinmode": "group",
        "xaxis": {
         "anchor": "y",
         "domain": [
          0,
          1
         ],
         "title": {
          "text": "Percentage of Votes"
         }
        },
        "yaxis": {
         "anchor": "x",
         "domain": [
          0,
          1
         ]
        }
       }
      }
     },
     "metadata": {},
     "output_type": "display_data"
    }
   ],
   "source": [
    "mean_percent = data2['day7_%'].mean()\n",
    "\n",
    "# Create a horizontal violin plot\n",
    "fig = px.violin(x=data2['day7_%'], box=True, points='all', orientation='h')\n",
    "\n",
    "# Add vertical line for the mean\n",
    "fig.add_vline(x=mean_percent, line_dash='dash', line_color='red', \n",
    "              annotation_text=f'Mean: {mean_percent:.2f}', annotation_position='top right')\n",
    "\n",
    "# Add title and labels\n",
    "fig.update_layout(title='Distribution of Percentage of Votes on Last Day',\n",
    "                  xaxis_title='Percentage of Votes')\n",
    "\n",
    "# Show plot\n",
    "fig.show()\n",
    "fig.write_html(r'Graphs\\violin-day7%.html')"
   ]
  },
  {
   "cell_type": "code",
   "execution_count": 73,
   "metadata": {},
   "outputs": [
    {
     "data": {
      "text/plain": [
       "Index(['proposal_title', 'day1_count', 'day2_count', 'day3_count',\n",
       "       'day4_count', 'day5_count', 'day6_count', 'day7_count', 'total_votes',\n",
       "       'day1_%', 'day2_%', 'day3_%', 'day4_%', 'day5_%', 'day6_%', 'day7_%',\n",
       "       'day1_power', 'day2_power', 'day3_power', 'day4_power', 'day5_power',\n",
       "       'day6_power', 'day7_power', 'total_voting_power'],\n",
       "      dtype='object')"
      ]
     },
     "execution_count": 73,
     "metadata": {},
     "output_type": "execute_result"
    }
   ],
   "source": [
    "data2.columns"
   ]
  },
  {
   "cell_type": "code",
   "execution_count": 77,
   "metadata": {},
   "outputs": [],
   "source": [
    "# Calculate the percentage of voting power for each day\n",
    "for day in range(1, 8):\n",
    "    day_column = f'day{day}_power'\n",
    "    percentage_column = f'day{day}_power%'\n",
    "    data2[percentage_column] = round((data2[day_column] / data2['total_voting_power']) * 100, 2)"
   ]
  },
  {
   "cell_type": "code",
   "execution_count": 78,
   "metadata": {},
   "outputs": [
    {
     "data": {
      "text/plain": [
       "Index(['proposal_title', 'day1_count', 'day2_count', 'day3_count',\n",
       "       'day4_count', 'day5_count', 'day6_count', 'day7_count', 'total_votes',\n",
       "       'day1_%', 'day2_%', 'day3_%', 'day4_%', 'day5_%', 'day6_%', 'day7_%',\n",
       "       'day1_power', 'day2_power', 'day3_power', 'day4_power', 'day5_power',\n",
       "       'day6_power', 'day7_power', 'total_voting_power', 'day1_power%',\n",
       "       'day2_power%', 'day3_power%', 'day4_power%', 'day5_power%',\n",
       "       'day6_power%', 'day7_power%'],\n",
       "      dtype='object')"
      ]
     },
     "execution_count": 78,
     "metadata": {},
     "output_type": "execute_result"
    }
   ],
   "source": [
    "data2.columns"
   ]
  },
  {
   "cell_type": "code",
   "execution_count": 79,
   "metadata": {},
   "outputs": [
    {
     "data": {
      "text/html": [
       "<div>\n",
       "<style scoped>\n",
       "    .dataframe tbody tr th:only-of-type {\n",
       "        vertical-align: middle;\n",
       "    }\n",
       "\n",
       "    .dataframe tbody tr th {\n",
       "        vertical-align: top;\n",
       "    }\n",
       "\n",
       "    .dataframe thead th {\n",
       "        text-align: right;\n",
       "    }\n",
       "</style>\n",
       "<table border=\"1\" class=\"dataframe\">\n",
       "  <thead>\n",
       "    <tr style=\"text-align: right;\">\n",
       "      <th></th>\n",
       "      <th>proposal_title</th>\n",
       "      <th>day1_power%</th>\n",
       "      <th>day2_power%</th>\n",
       "      <th>day3_power%</th>\n",
       "      <th>day4_power%</th>\n",
       "      <th>day5_power%</th>\n",
       "      <th>day6_power%</th>\n",
       "      <th>day7_power%</th>\n",
       "      <th>total_voting_power</th>\n",
       "    </tr>\n",
       "  </thead>\n",
       "  <tbody>\n",
       "    <tr>\n",
       "      <th>0</th>\n",
       "      <td>[Non-Constitutional]: Arbitrum Stable Treasury...</td>\n",
       "      <td>16.16</td>\n",
       "      <td>3.99</td>\n",
       "      <td>4.77</td>\n",
       "      <td>1.21</td>\n",
       "      <td>2.82</td>\n",
       "      <td>17.82</td>\n",
       "      <td>53.22</td>\n",
       "      <td>1.327322e+08</td>\n",
       "    </tr>\n",
       "    <tr>\n",
       "      <th>1</th>\n",
       "      <td>Procurement Framework | Security : Non-Constit...</td>\n",
       "      <td>2.04</td>\n",
       "      <td>2.00</td>\n",
       "      <td>1.63</td>\n",
       "      <td>4.73</td>\n",
       "      <td>3.09</td>\n",
       "      <td>37.87</td>\n",
       "      <td>48.65</td>\n",
       "      <td>1.520197e+08</td>\n",
       "    </tr>\n",
       "    <tr>\n",
       "      <th>2</th>\n",
       "      <td>Proposal to Backfund Successful STIP Proposals</td>\n",
       "      <td>2.80</td>\n",
       "      <td>3.20</td>\n",
       "      <td>6.30</td>\n",
       "      <td>8.69</td>\n",
       "      <td>9.98</td>\n",
       "      <td>4.80</td>\n",
       "      <td>64.24</td>\n",
       "      <td>1.956426e+08</td>\n",
       "    </tr>\n",
       "    <tr>\n",
       "      <th>3</th>\n",
       "      <td>Consolidate Security Proposals into a RFP Process</td>\n",
       "      <td>3.33</td>\n",
       "      <td>8.40</td>\n",
       "      <td>19.39</td>\n",
       "      <td>11.10</td>\n",
       "      <td>16.22</td>\n",
       "      <td>2.50</td>\n",
       "      <td>39.06</td>\n",
       "      <td>1.875428e+08</td>\n",
       "    </tr>\n",
       "    <tr>\n",
       "      <th>4</th>\n",
       "      <td>UniDex STIP Proposal - Round 1</td>\n",
       "      <td>5.64</td>\n",
       "      <td>1.11</td>\n",
       "      <td>1.67</td>\n",
       "      <td>1.89</td>\n",
       "      <td>1.79</td>\n",
       "      <td>16.48</td>\n",
       "      <td>71.42</td>\n",
       "      <td>1.225229e+08</td>\n",
       "    </tr>\n",
       "    <tr>\n",
       "      <th>...</th>\n",
       "      <td>...</td>\n",
       "      <td>...</td>\n",
       "      <td>...</td>\n",
       "      <td>...</td>\n",
       "      <td>...</td>\n",
       "      <td>...</td>\n",
       "      <td>...</td>\n",
       "      <td>...</td>\n",
       "      <td>...</td>\n",
       "    </tr>\n",
       "    <tr>\n",
       "      <th>109</th>\n",
       "      <td>Proposal: Activate support for account abstrac...</td>\n",
       "      <td>16.82</td>\n",
       "      <td>4.47</td>\n",
       "      <td>3.12</td>\n",
       "      <td>31.51</td>\n",
       "      <td>2.60</td>\n",
       "      <td>6.08</td>\n",
       "      <td>35.41</td>\n",
       "      <td>6.070424e+07</td>\n",
       "    </tr>\n",
       "    <tr>\n",
       "      <th>110</th>\n",
       "      <td>AIP-1.2 - Foundation and DAO Governance</td>\n",
       "      <td>69.63</td>\n",
       "      <td>8.77</td>\n",
       "      <td>5.05</td>\n",
       "      <td>5.80</td>\n",
       "      <td>2.56</td>\n",
       "      <td>3.95</td>\n",
       "      <td>4.25</td>\n",
       "      <td>1.387616e+08</td>\n",
       "    </tr>\n",
       "    <tr>\n",
       "      <th>111</th>\n",
       "      <td>AIP-1.1 - Lockup, Budget, Transparency</td>\n",
       "      <td>70.02</td>\n",
       "      <td>9.34</td>\n",
       "      <td>4.61</td>\n",
       "      <td>6.06</td>\n",
       "      <td>1.74</td>\n",
       "      <td>4.05</td>\n",
       "      <td>4.18</td>\n",
       "      <td>1.396229e+08</td>\n",
       "    </tr>\n",
       "    <tr>\n",
       "      <th>112</th>\n",
       "      <td>AIP 1.05: Return 700M $ARB to the DAO Treasury...</td>\n",
       "      <td>10.18</td>\n",
       "      <td>23.32</td>\n",
       "      <td>39.05</td>\n",
       "      <td>13.24</td>\n",
       "      <td>4.67</td>\n",
       "      <td>3.97</td>\n",
       "      <td>5.56</td>\n",
       "      <td>1.408547e+08</td>\n",
       "    </tr>\n",
       "    <tr>\n",
       "      <th>113</th>\n",
       "      <td>AIP-1: Arbitrum Improvement Proposal Framework</td>\n",
       "      <td>0.00</td>\n",
       "      <td>0.00</td>\n",
       "      <td>7.52</td>\n",
       "      <td>4.10</td>\n",
       "      <td>11.30</td>\n",
       "      <td>62.55</td>\n",
       "      <td>14.53</td>\n",
       "      <td>1.308752e+08</td>\n",
       "    </tr>\n",
       "  </tbody>\n",
       "</table>\n",
       "<p>114 rows × 9 columns</p>\n",
       "</div>"
      ],
      "text/plain": [
       "                                        proposal_title  day1_power%  \\\n",
       "0    [Non-Constitutional]: Arbitrum Stable Treasury...        16.16   \n",
       "1    Procurement Framework | Security : Non-Constit...         2.04   \n",
       "2       Proposal to Backfund Successful STIP Proposals         2.80   \n",
       "3    Consolidate Security Proposals into a RFP Process         3.33   \n",
       "4                       UniDex STIP Proposal - Round 1         5.64   \n",
       "..                                                 ...          ...   \n",
       "109  Proposal: Activate support for account abstrac...        16.82   \n",
       "110            AIP-1.2 - Foundation and DAO Governance        69.63   \n",
       "111             AIP-1.1 - Lockup, Budget, Transparency        70.02   \n",
       "112  AIP 1.05: Return 700M $ARB to the DAO Treasury...        10.18   \n",
       "113     AIP-1: Arbitrum Improvement Proposal Framework         0.00   \n",
       "\n",
       "     day2_power%  day3_power%  day4_power%  day5_power%  day6_power%  \\\n",
       "0           3.99         4.77         1.21         2.82        17.82   \n",
       "1           2.00         1.63         4.73         3.09        37.87   \n",
       "2           3.20         6.30         8.69         9.98         4.80   \n",
       "3           8.40        19.39        11.10        16.22         2.50   \n",
       "4           1.11         1.67         1.89         1.79        16.48   \n",
       "..           ...          ...          ...          ...          ...   \n",
       "109         4.47         3.12        31.51         2.60         6.08   \n",
       "110         8.77         5.05         5.80         2.56         3.95   \n",
       "111         9.34         4.61         6.06         1.74         4.05   \n",
       "112        23.32        39.05        13.24         4.67         3.97   \n",
       "113         0.00         7.52         4.10        11.30        62.55   \n",
       "\n",
       "     day7_power%  total_voting_power  \n",
       "0          53.22        1.327322e+08  \n",
       "1          48.65        1.520197e+08  \n",
       "2          64.24        1.956426e+08  \n",
       "3          39.06        1.875428e+08  \n",
       "4          71.42        1.225229e+08  \n",
       "..           ...                 ...  \n",
       "109        35.41        6.070424e+07  \n",
       "110         4.25        1.387616e+08  \n",
       "111         4.18        1.396229e+08  \n",
       "112         5.56        1.408547e+08  \n",
       "113        14.53        1.308752e+08  \n",
       "\n",
       "[114 rows x 9 columns]"
      ]
     },
     "execution_count": 79,
     "metadata": {},
     "output_type": "execute_result"
    }
   ],
   "source": [
    "data2[['proposal_title', 'day1_power%','day2_power%', \n",
    "       'day3_power%', 'day4_power%', 'day5_power%',\n",
    "       'day6_power%', 'day7_power%', 'total_voting_power']]"
   ]
  },
  {
   "cell_type": "code",
   "execution_count": 80,
   "metadata": {},
   "outputs": [
    {
     "data": {
      "text/plain": [
       "count    114.000000\n",
       "mean      53.692018\n",
       "std       21.499526\n",
       "min        3.140000\n",
       "25%       38.342500\n",
       "50%       55.130000\n",
       "75%       73.760000\n",
       "max       86.590000\n",
       "Name: day7_power%, dtype: float64"
      ]
     },
     "execution_count": 80,
     "metadata": {},
     "output_type": "execute_result"
    }
   ],
   "source": [
    "data2['day7_power%'].describe()"
   ]
  },
  {
   "cell_type": "code",
   "execution_count": 81,
   "metadata": {},
   "outputs": [
    {
     "data": {
      "application/vnd.plotly.v1+json": {
       "config": {
        "plotlyServerURL": "https://plot.ly"
       },
       "data": [
        {
         "alignmentgroup": "True",
         "box": {
          "visible": true
         },
         "hovertemplate": "x=%{x}<extra></extra>",
         "legendgroup": "",
         "marker": {
          "color": "#636efa"
         },
         "name": "",
         "offsetgroup": "",
         "orientation": "h",
         "points": "all",
         "scalegroup": "True",
         "showlegend": false,
         "type": "violin",
         "x": [
          53.22,
          48.65,
          64.24,
          39.06,
          71.42,
          54.66,
          73.91,
          67.37,
          28.86,
          74.55,
          35.11,
          49,
          76.52,
          46.13,
          45.23,
          65.55,
          74.66,
          20.52,
          48.61,
          47.3,
          44.89,
          48.3,
          75.93,
          60.06,
          56.65,
          64.33,
          52.14,
          62.14,
          38.38,
          62.11,
          51.18,
          73.79,
          78.97,
          43.29,
          76.98,
          76.65,
          77.31,
          77.3,
          45.14,
          40.75,
          60.01,
          38.19,
          72.36,
          53.56,
          35.79,
          71.48,
          43.25,
          73.78,
          62.63,
          73.7,
          61.17,
          35.98,
          53.12,
          72.63,
          60.14,
          25.56,
          59.16,
          40.51,
          21.58,
          30.96,
          12.17,
          18.8,
          77.39,
          50.17,
          76.13,
          85.51,
          73.29,
          37.47,
          38.33,
          24.7,
          78.02,
          77.68,
          55.6,
          70.33,
          77.43,
          86.59,
          47.23,
          58.74,
          71.99,
          66.49,
          33.19,
          75.09,
          41.39,
          78.51,
          76.08,
          77.46,
          77.24,
          24.16,
          70.01,
          74.74,
          78.9,
          71.95,
          35.62,
          40.49,
          85.75,
          15.86,
          57.4,
          71.01,
          85.96,
          77.96,
          32.37,
          52.57,
          31.57,
          54.43,
          3.14,
          8.04,
          31.06,
          38.75,
          35.78,
          35.41,
          4.25,
          4.18,
          5.56,
          14.53
         ],
         "x0": " ",
         "xaxis": "x",
         "y0": " ",
         "yaxis": "y"
        }
       ],
       "layout": {
        "annotations": [
         {
          "showarrow": false,
          "text": "Mean: 53.69",
          "x": 53.69201754385964,
          "xanchor": "left",
          "xref": "x",
          "y": 1,
          "yanchor": "top",
          "yref": "y domain"
         }
        ],
        "legend": {
         "tracegroupgap": 0
        },
        "margin": {
         "t": 60
        },
        "shapes": [
         {
          "line": {
           "color": "red",
           "dash": "dash"
          },
          "type": "line",
          "x0": 53.69201754385964,
          "x1": 53.69201754385964,
          "xref": "x",
          "y0": 0,
          "y1": 1,
          "yref": "y domain"
         }
        ],
        "template": {
         "data": {
          "bar": [
           {
            "error_x": {
             "color": "#2a3f5f"
            },
            "error_y": {
             "color": "#2a3f5f"
            },
            "marker": {
             "line": {
              "color": "#E5ECF6",
              "width": 0.5
             },
             "pattern": {
              "fillmode": "overlay",
              "size": 10,
              "solidity": 0.2
             }
            },
            "type": "bar"
           }
          ],
          "barpolar": [
           {
            "marker": {
             "line": {
              "color": "#E5ECF6",
              "width": 0.5
             },
             "pattern": {
              "fillmode": "overlay",
              "size": 10,
              "solidity": 0.2
             }
            },
            "type": "barpolar"
           }
          ],
          "carpet": [
           {
            "aaxis": {
             "endlinecolor": "#2a3f5f",
             "gridcolor": "white",
             "linecolor": "white",
             "minorgridcolor": "white",
             "startlinecolor": "#2a3f5f"
            },
            "baxis": {
             "endlinecolor": "#2a3f5f",
             "gridcolor": "white",
             "linecolor": "white",
             "minorgridcolor": "white",
             "startlinecolor": "#2a3f5f"
            },
            "type": "carpet"
           }
          ],
          "choropleth": [
           {
            "colorbar": {
             "outlinewidth": 0,
             "ticks": ""
            },
            "type": "choropleth"
           }
          ],
          "contour": [
           {
            "colorbar": {
             "outlinewidth": 0,
             "ticks": ""
            },
            "colorscale": [
             [
              0,
              "#0d0887"
             ],
             [
              0.1111111111111111,
              "#46039f"
             ],
             [
              0.2222222222222222,
              "#7201a8"
             ],
             [
              0.3333333333333333,
              "#9c179e"
             ],
             [
              0.4444444444444444,
              "#bd3786"
             ],
             [
              0.5555555555555556,
              "#d8576b"
             ],
             [
              0.6666666666666666,
              "#ed7953"
             ],
             [
              0.7777777777777778,
              "#fb9f3a"
             ],
             [
              0.8888888888888888,
              "#fdca26"
             ],
             [
              1,
              "#f0f921"
             ]
            ],
            "type": "contour"
           }
          ],
          "contourcarpet": [
           {
            "colorbar": {
             "outlinewidth": 0,
             "ticks": ""
            },
            "type": "contourcarpet"
           }
          ],
          "heatmap": [
           {
            "colorbar": {
             "outlinewidth": 0,
             "ticks": ""
            },
            "colorscale": [
             [
              0,
              "#0d0887"
             ],
             [
              0.1111111111111111,
              "#46039f"
             ],
             [
              0.2222222222222222,
              "#7201a8"
             ],
             [
              0.3333333333333333,
              "#9c179e"
             ],
             [
              0.4444444444444444,
              "#bd3786"
             ],
             [
              0.5555555555555556,
              "#d8576b"
             ],
             [
              0.6666666666666666,
              "#ed7953"
             ],
             [
              0.7777777777777778,
              "#fb9f3a"
             ],
             [
              0.8888888888888888,
              "#fdca26"
             ],
             [
              1,
              "#f0f921"
             ]
            ],
            "type": "heatmap"
           }
          ],
          "heatmapgl": [
           {
            "colorbar": {
             "outlinewidth": 0,
             "ticks": ""
            },
            "colorscale": [
             [
              0,
              "#0d0887"
             ],
             [
              0.1111111111111111,
              "#46039f"
             ],
             [
              0.2222222222222222,
              "#7201a8"
             ],
             [
              0.3333333333333333,
              "#9c179e"
             ],
             [
              0.4444444444444444,
              "#bd3786"
             ],
             [
              0.5555555555555556,
              "#d8576b"
             ],
             [
              0.6666666666666666,
              "#ed7953"
             ],
             [
              0.7777777777777778,
              "#fb9f3a"
             ],
             [
              0.8888888888888888,
              "#fdca26"
             ],
             [
              1,
              "#f0f921"
             ]
            ],
            "type": "heatmapgl"
           }
          ],
          "histogram": [
           {
            "marker": {
             "pattern": {
              "fillmode": "overlay",
              "size": 10,
              "solidity": 0.2
             }
            },
            "type": "histogram"
           }
          ],
          "histogram2d": [
           {
            "colorbar": {
             "outlinewidth": 0,
             "ticks": ""
            },
            "colorscale": [
             [
              0,
              "#0d0887"
             ],
             [
              0.1111111111111111,
              "#46039f"
             ],
             [
              0.2222222222222222,
              "#7201a8"
             ],
             [
              0.3333333333333333,
              "#9c179e"
             ],
             [
              0.4444444444444444,
              "#bd3786"
             ],
             [
              0.5555555555555556,
              "#d8576b"
             ],
             [
              0.6666666666666666,
              "#ed7953"
             ],
             [
              0.7777777777777778,
              "#fb9f3a"
             ],
             [
              0.8888888888888888,
              "#fdca26"
             ],
             [
              1,
              "#f0f921"
             ]
            ],
            "type": "histogram2d"
           }
          ],
          "histogram2dcontour": [
           {
            "colorbar": {
             "outlinewidth": 0,
             "ticks": ""
            },
            "colorscale": [
             [
              0,
              "#0d0887"
             ],
             [
              0.1111111111111111,
              "#46039f"
             ],
             [
              0.2222222222222222,
              "#7201a8"
             ],
             [
              0.3333333333333333,
              "#9c179e"
             ],
             [
              0.4444444444444444,
              "#bd3786"
             ],
             [
              0.5555555555555556,
              "#d8576b"
             ],
             [
              0.6666666666666666,
              "#ed7953"
             ],
             [
              0.7777777777777778,
              "#fb9f3a"
             ],
             [
              0.8888888888888888,
              "#fdca26"
             ],
             [
              1,
              "#f0f921"
             ]
            ],
            "type": "histogram2dcontour"
           }
          ],
          "mesh3d": [
           {
            "colorbar": {
             "outlinewidth": 0,
             "ticks": ""
            },
            "type": "mesh3d"
           }
          ],
          "parcoords": [
           {
            "line": {
             "colorbar": {
              "outlinewidth": 0,
              "ticks": ""
             }
            },
            "type": "parcoords"
           }
          ],
          "pie": [
           {
            "automargin": true,
            "type": "pie"
           }
          ],
          "scatter": [
           {
            "fillpattern": {
             "fillmode": "overlay",
             "size": 10,
             "solidity": 0.2
            },
            "type": "scatter"
           }
          ],
          "scatter3d": [
           {
            "line": {
             "colorbar": {
              "outlinewidth": 0,
              "ticks": ""
             }
            },
            "marker": {
             "colorbar": {
              "outlinewidth": 0,
              "ticks": ""
             }
            },
            "type": "scatter3d"
           }
          ],
          "scattercarpet": [
           {
            "marker": {
             "colorbar": {
              "outlinewidth": 0,
              "ticks": ""
             }
            },
            "type": "scattercarpet"
           }
          ],
          "scattergeo": [
           {
            "marker": {
             "colorbar": {
              "outlinewidth": 0,
              "ticks": ""
             }
            },
            "type": "scattergeo"
           }
          ],
          "scattergl": [
           {
            "marker": {
             "colorbar": {
              "outlinewidth": 0,
              "ticks": ""
             }
            },
            "type": "scattergl"
           }
          ],
          "scattermapbox": [
           {
            "marker": {
             "colorbar": {
              "outlinewidth": 0,
              "ticks": ""
             }
            },
            "type": "scattermapbox"
           }
          ],
          "scatterpolar": [
           {
            "marker": {
             "colorbar": {
              "outlinewidth": 0,
              "ticks": ""
             }
            },
            "type": "scatterpolar"
           }
          ],
          "scatterpolargl": [
           {
            "marker": {
             "colorbar": {
              "outlinewidth": 0,
              "ticks": ""
             }
            },
            "type": "scatterpolargl"
           }
          ],
          "scatterternary": [
           {
            "marker": {
             "colorbar": {
              "outlinewidth": 0,
              "ticks": ""
             }
            },
            "type": "scatterternary"
           }
          ],
          "surface": [
           {
            "colorbar": {
             "outlinewidth": 0,
             "ticks": ""
            },
            "colorscale": [
             [
              0,
              "#0d0887"
             ],
             [
              0.1111111111111111,
              "#46039f"
             ],
             [
              0.2222222222222222,
              "#7201a8"
             ],
             [
              0.3333333333333333,
              "#9c179e"
             ],
             [
              0.4444444444444444,
              "#bd3786"
             ],
             [
              0.5555555555555556,
              "#d8576b"
             ],
             [
              0.6666666666666666,
              "#ed7953"
             ],
             [
              0.7777777777777778,
              "#fb9f3a"
             ],
             [
              0.8888888888888888,
              "#fdca26"
             ],
             [
              1,
              "#f0f921"
             ]
            ],
            "type": "surface"
           }
          ],
          "table": [
           {
            "cells": {
             "fill": {
              "color": "#EBF0F8"
             },
             "line": {
              "color": "white"
             }
            },
            "header": {
             "fill": {
              "color": "#C8D4E3"
             },
             "line": {
              "color": "white"
             }
            },
            "type": "table"
           }
          ]
         },
         "layout": {
          "annotationdefaults": {
           "arrowcolor": "#2a3f5f",
           "arrowhead": 0,
           "arrowwidth": 1
          },
          "autotypenumbers": "strict",
          "coloraxis": {
           "colorbar": {
            "outlinewidth": 0,
            "ticks": ""
           }
          },
          "colorscale": {
           "diverging": [
            [
             0,
             "#8e0152"
            ],
            [
             0.1,
             "#c51b7d"
            ],
            [
             0.2,
             "#de77ae"
            ],
            [
             0.3,
             "#f1b6da"
            ],
            [
             0.4,
             "#fde0ef"
            ],
            [
             0.5,
             "#f7f7f7"
            ],
            [
             0.6,
             "#e6f5d0"
            ],
            [
             0.7,
             "#b8e186"
            ],
            [
             0.8,
             "#7fbc41"
            ],
            [
             0.9,
             "#4d9221"
            ],
            [
             1,
             "#276419"
            ]
           ],
           "sequential": [
            [
             0,
             "#0d0887"
            ],
            [
             0.1111111111111111,
             "#46039f"
            ],
            [
             0.2222222222222222,
             "#7201a8"
            ],
            [
             0.3333333333333333,
             "#9c179e"
            ],
            [
             0.4444444444444444,
             "#bd3786"
            ],
            [
             0.5555555555555556,
             "#d8576b"
            ],
            [
             0.6666666666666666,
             "#ed7953"
            ],
            [
             0.7777777777777778,
             "#fb9f3a"
            ],
            [
             0.8888888888888888,
             "#fdca26"
            ],
            [
             1,
             "#f0f921"
            ]
           ],
           "sequentialminus": [
            [
             0,
             "#0d0887"
            ],
            [
             0.1111111111111111,
             "#46039f"
            ],
            [
             0.2222222222222222,
             "#7201a8"
            ],
            [
             0.3333333333333333,
             "#9c179e"
            ],
            [
             0.4444444444444444,
             "#bd3786"
            ],
            [
             0.5555555555555556,
             "#d8576b"
            ],
            [
             0.6666666666666666,
             "#ed7953"
            ],
            [
             0.7777777777777778,
             "#fb9f3a"
            ],
            [
             0.8888888888888888,
             "#fdca26"
            ],
            [
             1,
             "#f0f921"
            ]
           ]
          },
          "colorway": [
           "#636efa",
           "#EF553B",
           "#00cc96",
           "#ab63fa",
           "#FFA15A",
           "#19d3f3",
           "#FF6692",
           "#B6E880",
           "#FF97FF",
           "#FECB52"
          ],
          "font": {
           "color": "#2a3f5f"
          },
          "geo": {
           "bgcolor": "white",
           "lakecolor": "white",
           "landcolor": "#E5ECF6",
           "showlakes": true,
           "showland": true,
           "subunitcolor": "white"
          },
          "hoverlabel": {
           "align": "left"
          },
          "hovermode": "closest",
          "mapbox": {
           "style": "light"
          },
          "paper_bgcolor": "white",
          "plot_bgcolor": "#E5ECF6",
          "polar": {
           "angularaxis": {
            "gridcolor": "white",
            "linecolor": "white",
            "ticks": ""
           },
           "bgcolor": "#E5ECF6",
           "radialaxis": {
            "gridcolor": "white",
            "linecolor": "white",
            "ticks": ""
           }
          },
          "scene": {
           "xaxis": {
            "backgroundcolor": "#E5ECF6",
            "gridcolor": "white",
            "gridwidth": 2,
            "linecolor": "white",
            "showbackground": true,
            "ticks": "",
            "zerolinecolor": "white"
           },
           "yaxis": {
            "backgroundcolor": "#E5ECF6",
            "gridcolor": "white",
            "gridwidth": 2,
            "linecolor": "white",
            "showbackground": true,
            "ticks": "",
            "zerolinecolor": "white"
           },
           "zaxis": {
            "backgroundcolor": "#E5ECF6",
            "gridcolor": "white",
            "gridwidth": 2,
            "linecolor": "white",
            "showbackground": true,
            "ticks": "",
            "zerolinecolor": "white"
           }
          },
          "shapedefaults": {
           "line": {
            "color": "#2a3f5f"
           }
          },
          "ternary": {
           "aaxis": {
            "gridcolor": "white",
            "linecolor": "white",
            "ticks": ""
           },
           "baxis": {
            "gridcolor": "white",
            "linecolor": "white",
            "ticks": ""
           },
           "bgcolor": "#E5ECF6",
           "caxis": {
            "gridcolor": "white",
            "linecolor": "white",
            "ticks": ""
           }
          },
          "title": {
           "x": 0.05
          },
          "xaxis": {
           "automargin": true,
           "gridcolor": "white",
           "linecolor": "white",
           "ticks": "",
           "title": {
            "standoff": 15
           },
           "zerolinecolor": "white",
           "zerolinewidth": 2
          },
          "yaxis": {
           "automargin": true,
           "gridcolor": "white",
           "linecolor": "white",
           "ticks": "",
           "title": {
            "standoff": 15
           },
           "zerolinecolor": "white",
           "zerolinewidth": 2
          }
         }
        },
        "title": {
         "text": "Distribution of Percentage of Voting Power on Last Day"
        },
        "violinmode": "group",
        "xaxis": {
         "anchor": "y",
         "domain": [
          0,
          1
         ],
         "title": {
          "text": "Percentage of Voting Power"
         }
        },
        "yaxis": {
         "anchor": "x",
         "domain": [
          0,
          1
         ]
        }
       }
      }
     },
     "metadata": {},
     "output_type": "display_data"
    }
   ],
   "source": [
    "mean_percent = data2['day7_power%'].mean()\n",
    "\n",
    "# Create a horizontal violin plot\n",
    "fig = px.violin(x=data2['day7_power%'], box=True, points='all', orientation='h')\n",
    "\n",
    "# Add vertical line for the mean\n",
    "fig.add_vline(x=mean_percent, line_dash='dash', line_color='red', \n",
    "              annotation_text=f'Mean: {mean_percent:.2f}', annotation_position='top right')\n",
    "\n",
    "# Add title and labels\n",
    "fig.update_layout(title='Distribution of Percentage of Voting Power on Last Day',\n",
    "                  xaxis_title='Percentage of Voting Power')\n",
    "\n",
    "# Show plot\n",
    "fig.show()\n",
    "fig.write_html(r'Graphs\\violin-day7-power%.html')"
   ]
  }
 ],
 "metadata": {
  "kernelspec": {
   "display_name": "data_analysis",
   "language": "python",
   "name": "python3"
  },
  "language_info": {
   "codemirror_mode": {
    "name": "ipython",
    "version": 3
   },
   "file_extension": ".py",
   "mimetype": "text/x-python",
   "name": "python",
   "nbconvert_exporter": "python",
   "pygments_lexer": "ipython3",
   "version": "3.7.9"
  }
 },
 "nbformat": 4,
 "nbformat_minor": 2
}
